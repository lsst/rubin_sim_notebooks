{
 "cells": [
  {
   "cell_type": "markdown",
   "metadata": {},
   "source": [
    "# Generalized hourglass plots for MAF"
   ]
  },
  {
   "cell_type": "markdown",
   "metadata": {},
   "source": [
    "## Setup of the notebook"
   ]
  },
  {
   "cell_type": "markdown",
   "metadata": {},
   "source": [
    "### Imports"
   ]
  },
  {
   "cell_type": "code",
   "execution_count": 1,
   "metadata": {},
   "outputs": [],
   "source": [
    "import warnings\n",
    "import logging\n",
    "import urllib\n",
    "from os import path\n",
    "from collections import OrderedDict\n",
    "from tempfile import TemporaryDirectory\n",
    "import matplotlib.pyplot as plt\n",
    "from scipy.constants import golden\n",
    "\n",
    "from rubin_sim import maf\n",
    "import rubin_sim.maf.db\n",
    "import rubin_sim.maf.metricBundles"
   ]
  },
  {
   "cell_type": "code",
   "execution_count": 2,
   "metadata": {},
   "outputs": [],
   "source": [
    "%matplotlib inline\n",
    "# %config InlineBackend.figure_format = 'svg'\n",
    "# %load_ext lab_black\n",
    "# %load_ext pycodestyle_magic\n",
    "# %flake8_on --ignore E501,W505\n",
    "%load_ext autoreload\n",
    "%autoreload 1"
   ]
  },
  {
   "cell_type": "markdown",
   "metadata": {},
   "source": [
    "### `jupyter` magic"
   ]
  },
  {
   "cell_type": "markdown",
   "metadata": {},
   "source": [
    "### Logging"
   ]
  },
  {
   "cell_type": "markdown",
   "metadata": {},
   "source": [
    "Include logging to get a better idea of how long things take. This is more accurate than jupyter `%%time` magic, because it `%%time` does not include the time it takes for the client to render the plot, but this time is part of what is experienced by the user."
   ]
  },
  {
   "cell_type": "code",
   "execution_count": 3,
   "metadata": {},
   "outputs": [
    {
     "name": "stderr",
     "output_type": "stream",
     "text": [
      "2021-06-18 16:31:57,300 Starting\n"
     ]
    }
   ],
   "source": [
    "logging.basicConfig(format=\"%(asctime)s %(message)s\")\n",
    "logger = logging.getLogger(\"hourglass_notebook\")\n",
    "logger.setLevel(\"DEBUG\")\n",
    "logger.info(\"Starting\")"
   ]
  },
  {
   "cell_type": "markdown",
   "metadata": {},
   "source": [
    "### Plotting configuration"
   ]
  },
  {
   "cell_type": "markdown",
   "metadata": {},
   "source": [
    "The limited default resolution of matplotlib images can distort the gaps between exposures. This can be fixed either by increasing the precision of PNG image, or using a vector based format like SVG.\n",
    "Comment out whichever jupyter magic below corresponds to the method you don't want to use.\n",
    "For plots with lots of data, SVGs can cause performance issues in some browsers."
   ]
  },
  {
   "cell_type": "markdown",
   "metadata": {},
   "source": [
    "If you want to use SVGs, the line in this cell should be uncommented out:"
   ]
  },
  {
   "cell_type": "code",
   "execution_count": 4,
   "metadata": {},
   "outputs": [],
   "source": [
    "# %config InlineBackend.figure_formats = ['svg']"
   ]
  },
  {
   "cell_type": "markdown",
   "metadata": {},
   "source": [
    "If you want to use PNGs with high enough dpi to avoid pixel-level distortion, the lines in this cell can be uncommented out:"
   ]
  },
  {
   "cell_type": "code",
   "execution_count": 5,
   "metadata": {},
   "outputs": [],
   "source": [
    "# plt.rcParams['figure.dpi'] = 300\n",
    "# plt.rcParams['savefig.dpi'] = 300"
   ]
  },
  {
   "cell_type": "code",
   "execution_count": 6,
   "metadata": {},
   "outputs": [
    {
     "data": {
      "text/plain": [
       "'module://matplotlib_inline.backend_inline'"
      ]
     },
     "execution_count": 6,
     "metadata": {},
     "output_type": "execute_result"
    }
   ],
   "source": [
    "plt.rcParams[\"backend\"]"
   ]
  },
  {
   "cell_type": "markdown",
   "metadata": {},
   "source": [
    "Note that increasing the pdi in a jupyter notebook will make the images very large when displayed within the notebook."
   ]
  },
  {
   "cell_type": "markdown",
   "metadata": {},
   "source": [
    "### Suppress useless warnings"
   ]
  },
  {
   "cell_type": "code",
   "execution_count": 7,
   "metadata": {},
   "outputs": [],
   "source": [
    "warnings.filterwarnings(\n",
    "    \"ignore\",\n",
    "    append=True,\n",
    "    message=r\".*Tried to get polar motions for times after IERS data is valid.*\",\n",
    ")\n",
    "warnings.filterwarnings(\"ignore\", append=True, message=r\".*dubious year.*\")"
   ]
  },
  {
   "cell_type": "markdown",
   "metadata": {},
   "source": [
    "### Configuration"
   ]
  },
  {
   "cell_type": "code",
   "execution_count": 8,
   "metadata": {},
   "outputs": [],
   "source": [
    "data_dir = \".\""
   ]
  },
  {
   "cell_type": "markdown",
   "metadata": {},
   "source": [
    "If you have a local copy of the scheduler output you want to use, set `opsim_origin` to its path."
   ]
  },
  {
   "cell_type": "code",
   "execution_count": 9,
   "metadata": {},
   "outputs": [],
   "source": [
    "opsim_origin = \"https://lsst.ncsa.illinois.edu/sim-data/sims_featureScheduler_runs1.7/baseline/baseline_nexp2_v1.7_10yrs.db\"\n",
    "maf_output_dir = path.join(data_dir, \"maf_output\")"
   ]
  },
  {
   "cell_type": "markdown",
   "metadata": {},
   "source": [
    "## Download the data file if necessary"
   ]
  },
  {
   "cell_type": "code",
   "execution_count": 10,
   "metadata": {},
   "outputs": [
    {
     "name": "stderr",
     "output_type": "stream",
     "text": [
      "2021-06-18 16:31:57,375 Downloading https://lsst.ncsa.illinois.edu/sim-data/sims_featureScheduler_runs1.7/baseline/baseline_nexp2_v1.7_10yrs.db to ./tmp4ghyg7c4/baseline_nexp2_v1.7_10yrs.db\n",
      "2021-06-18 16:31:59,700 Download complete\n"
     ]
    },
    {
     "name": "stdout",
     "output_type": "stream",
     "text": [
      "Opsim data file downloaded to\n",
      "\t./tmp4ghyg7c4/baseline_nexp2_v1.7_10yrs.db\n",
      "which will be deleted when the notebook is restarted or closed.\n"
     ]
    }
   ],
   "source": [
    "if path.isfile(opsim_origin) or \"opsim_fname\" in locals():\n",
    "    # Check for opsim_fname in locals so that if we rerun the notebook without restarting the kernel\n",
    "    # it will not re-download the data\n",
    "    opsim_fname = opsim_origin\n",
    "else:\n",
    "    opsim_data_dir = TemporaryDirectory(dir=data_dir)\n",
    "    opsim_fname = path.join(opsim_data_dir.name, opsim_origin.split(\"/\")[-1])\n",
    "    logger.info(\"Downloading %s to %s\", opsim_origin, opsim_fname)\n",
    "    opsim_db_file = urllib.request.urlretrieve(opsim_origin, opsim_fname)\n",
    "    logger.info(\"Download complete\")\n",
    "\n",
    "    print(\n",
    "        f\"Opsim data file downloaded to\\n\\t{opsim_fname}\\nwhich will be deleted when the notebook is restarted or closed.\"\n",
    "    )"
   ]
  },
  {
   "cell_type": "markdown",
   "metadata": {},
   "source": [
    "## Get input and output database connections"
   ]
  },
  {
   "cell_type": "code",
   "execution_count": 11,
   "metadata": {},
   "outputs": [
    {
     "name": "stderr",
     "output_type": "stream",
     "text": [
      "2021-06-18 16:31:59,710 Configuring database connections\n"
     ]
    }
   ],
   "source": [
    "logger.debug(\"Configuring database connections\")\n",
    "ops_db = maf.db.OpsimDatabase(opsim_fname)\n",
    "results_db = maf.db.ResultsDb(outDir=maf_output_dir)"
   ]
  },
  {
   "cell_type": "markdown",
   "metadata": {},
   "source": [
    "## Samples"
   ]
  },
  {
   "cell_type": "markdown",
   "metadata": {},
   "source": [
    "### Median Seeing in 5 minute time intervals"
   ]
  },
  {
   "cell_type": "markdown",
   "metadata": {},
   "source": [
    "Use the `TimeIntervaleSlicer` to divide the survey into 300 second (5 minute) time segments, and calculate the median seeing in each segment.\n",
    "Make an hourglass plot of the result for October of 2023."
   ]
  },
  {
   "cell_type": "code",
   "execution_count": null,
   "metadata": {},
   "outputs": [
    {
     "name": "stdout",
     "output_type": "stream",
     "text": [
      "--Return--\n",
      "None\n",
      "> \u001b[0;32m<ipython-input-12-81ba848d3d61>\u001b[0m(1)\u001b[0;36m<module>\u001b[0;34m()\u001b[0m\n",
      "\u001b[0;32m----> 1 \u001b[0;31m\u001b[0mbreakpoint\u001b[0m\u001b[0;34m(\u001b[0m\u001b[0;34m)\u001b[0m\u001b[0;34m\u001b[0m\u001b[0;34m\u001b[0m\u001b[0m\n",
      "\u001b[0m\u001b[0;32m      2 \u001b[0;31m\u001b[0mlogger\u001b[0m\u001b[0;34m.\u001b[0m\u001b[0minfo\u001b[0m\u001b[0;34m(\u001b[0m\u001b[0;34m\"Starting hourglass\"\u001b[0m\u001b[0;34m)\u001b[0m\u001b[0;34m\u001b[0m\u001b[0;34m\u001b[0m\u001b[0m\n",
      "\u001b[0m\u001b[0;32m      3 \u001b[0;31mbundle_group = maf.metricBundles.MetricBundleGroup(\n",
      "\u001b[0m\u001b[0;32m      4 \u001b[0;31m    bundleDict=[\n",
      "\u001b[0m\u001b[0;32m      5 \u001b[0;31m        maf.metricBundles.MetricBundle(\n",
      "\u001b[0m\n"
     ]
    },
    {
     "name": "stdin",
     "output_type": "stream",
     "text": [
      "ipdb>  b map.plotters.MonthHourglassPlot._plot\n"
     ]
    },
    {
     "name": "stdout",
     "output_type": "stream",
     "text": [
      "*** The specified object 'map.plotters.MonthHourglassPlot._plot' is not a function or was not found along sys.path.\n"
     ]
    },
    {
     "name": "stdin",
     "output_type": "stream",
     "text": [
      "ipdb>  b maf.plot.MonthHouglassPlot._plot\n"
     ]
    },
    {
     "name": "stdout",
     "output_type": "stream",
     "text": [
      "*** The specified object 'maf.plot.MonthHouglassPlot._plot' is not a function or was not found along sys.path.\n"
     ]
    },
    {
     "name": "stdin",
     "output_type": "stream",
     "text": [
      "ipdb>  b maf.MonthHourglassPlot._plot\n"
     ]
    },
    {
     "name": "stdout",
     "output_type": "stream",
     "text": [
      "*** The specified object 'maf.MonthHourglassPlot._plot' is not a function or was not found along sys.path.\n"
     ]
    },
    {
     "name": "stdin",
     "output_type": "stream",
     "text": [
      "ipdb>  b map.plots.MonthHourglassPlot._plot\n"
     ]
    },
    {
     "name": "stdout",
     "output_type": "stream",
     "text": [
      "*** The specified object 'map.plots.MonthHourglassPlot._plot' is not a function or was not found along sys.path.\n"
     ]
    },
    {
     "name": "stdin",
     "output_type": "stream",
     "text": [
      "ipdb>  b maf.plots.MonthHourglassPlot._plot\n"
     ]
    },
    {
     "name": "stdout",
     "output_type": "stream",
     "text": [
      "Breakpoint 1 at /data/des91.b/data/neilsen/LSST/devel/rubin_sim/rubin_sim/maf/plots/hgPlotters.py:541\n"
     ]
    },
    {
     "name": "stdin",
     "output_type": "stream",
     "text": [
      "ipdb>  c\n"
     ]
    },
    {
     "name": "stderr",
     "output_type": "stream",
     "text": [
      "2021-06-18 16:33:39,048 Starting hourglass\n"
     ]
    },
    {
     "name": "stdout",
     "output_type": "stream",
     "text": [
      "Querying database SummaryAllProps with no constraint for columns ['observationStartMJD', 'seeingFwhmEff'].\n",
      "Found 2045493 visits\n",
      "Running:  ['opsim_Median_seeingFwhmEff_TIME']\n"
     ]
    },
    {
     "name": "stderr",
     "output_type": "stream",
     "text": [
      "/data/des91.b/data/neilsen/LSST/devel/rubin_sim/rubin_sim/maf/metricBundles/metricBundleGroup.py:457: FutureWarning: Using a non-tuple sequence for multidimensional indexing is deprecated; use `arr[tuple(seq)]` instead of `arr[seq]`. In the future this will be interpreted as an array index, `arr[np.array(seq)]`, which will result either in an error or a different result.\n",
      "  slicedata = self.simData[slice_i['idxs']]\n"
     ]
    },
    {
     "name": "stdout",
     "output_type": "stream",
     "text": [
      "Completed metric generation.\n",
      "Running reduce methods.\n",
      "Running summary statistics.\n",
      "Completed.\n",
      "Plotting figures with \"\" constraint now.\n",
      "> \u001b[0;32m/data/des91.b/data/neilsen/LSST/devel/rubin_sim/rubin_sim/maf/plots/hgPlotters.py\u001b[0m(543)\u001b[0;36m_plot\u001b[0;34m()\u001b[0m\n",
      "\u001b[1;31m1\u001b[0;32m   541 \u001b[0;31m    \u001b[0;32mdef\u001b[0m \u001b[0m_plot\u001b[0m\u001b[0;34m(\u001b[0m\u001b[0mself\u001b[0m\u001b[0;34m,\u001b[0m \u001b[0mfig\u001b[0m\u001b[0;34m,\u001b[0m \u001b[0mintervals\u001b[0m\u001b[0;34m,\u001b[0m \u001b[0mplotDict\u001b[0m\u001b[0;34m)\u001b[0m\u001b[0;34m:\u001b[0m\u001b[0;34m\u001b[0m\u001b[0;34m\u001b[0m\u001b[0m\n",
      "\u001b[0m\u001b[0;32m    542 \u001b[0;31m        \u001b[0;34m\"\"\"Make the hourglass plot for a month.\"\"\"\u001b[0m\u001b[0;34m\u001b[0m\u001b[0;34m\u001b[0m\u001b[0m\n",
      "\u001b[0m\u001b[0;32m--> 543 \u001b[0;31m        \u001b[0max\u001b[0m \u001b[0;34m=\u001b[0m \u001b[0mfig\u001b[0m\u001b[0;34m.\u001b[0m\u001b[0madd_axes\u001b[0m\u001b[0;34m(\u001b[0m\u001b[0;34m[\u001b[0m\u001b[0;36m0\u001b[0m\u001b[0;34m,\u001b[0m \u001b[0;36m0\u001b[0m\u001b[0;34m,\u001b[0m \u001b[0;36m1\u001b[0m\u001b[0;34m,\u001b[0m \u001b[0;36m1\u001b[0m\u001b[0;34m]\u001b[0m\u001b[0;34m)\u001b[0m  \u001b[0;31m# pylint: disable=invalid-name\u001b[0m\u001b[0;34m\u001b[0m\u001b[0;34m\u001b[0m\u001b[0m\n",
      "\u001b[0m\u001b[0;32m    544 \u001b[0;31m        color_mappable = self._plot_month(\n",
      "\u001b[0m\u001b[0;32m    545 \u001b[0;31m            \u001b[0mintervals\u001b[0m\u001b[0;34m,\u001b[0m \u001b[0mself\u001b[0m\u001b[0;34m.\u001b[0m\u001b[0mmonth\u001b[0m\u001b[0;34m,\u001b[0m \u001b[0mself\u001b[0m\u001b[0;34m.\u001b[0m\u001b[0myear\u001b[0m\u001b[0;34m,\u001b[0m \u001b[0max\u001b[0m\u001b[0;34m,\u001b[0m \u001b[0mplotDict\u001b[0m\u001b[0;34m\u001b[0m\u001b[0;34m\u001b[0m\u001b[0m\n",
      "\u001b[0m\n"
     ]
    },
    {
     "name": "stdin",
     "output_type": "stream",
     "text": [
      "ipdb>  p fig.__class__\n"
     ]
    },
    {
     "name": "stdout",
     "output_type": "stream",
     "text": [
      "<class 'matplotlib.figure.Figure'>\n"
     ]
    },
    {
     "name": "stdin",
     "output_type": "stream",
     "text": [
      "ipdb>  p intervals.__class__\n"
     ]
    },
    {
     "name": "stdout",
     "output_type": "stream",
     "text": [
      "<class 'pandas.core.frame.DataFrame'>\n"
     ]
    },
    {
     "name": "stdin",
     "output_type": "stream",
     "text": [
      "ipdb>  p intervals\n"
     ]
    },
    {
     "name": "stdout",
     "output_type": "stream",
     "text": [
      "                mjd  duration  value\n",
      "0      59853.000000       1.0    NaN\n",
      "1      59853.041667       1.0    NaN\n",
      "2      59853.083333       1.0    NaN\n",
      "3      59853.125000       1.0    NaN\n",
      "4      59853.166667       1.0    NaN\n",
      "...             ...       ...    ...\n",
      "87691  63506.791666       1.0    NaN\n",
      "87692  63506.833333       1.0    NaN\n",
      "87693  63506.875000       1.0    NaN\n",
      "87694  63506.916666       1.0    NaN\n",
      "87695  63506.958333       1.0    NaN\n",
      "\n",
      "[87696 rows x 3 columns]\n"
     ]
    }
   ],
   "source": [
    "breakpoint()\n",
    "logger.info(\"Starting hourglass\")\n",
    "bundle_group = maf.metricBundles.MetricBundleGroup(\n",
    "    bundleDict=[\n",
    "        maf.metricBundles.MetricBundle(\n",
    "            metric=maf.metrics.MedianMetric(\"seeingFwhmEff\"),\n",
    "            slicer=maf.slicers.TimeIntervalSlicer(interval_seconds=3600),\n",
    "            constraint=\"\",\n",
    "            plotFuncs=[maf.plots.MonthHourglassPlot(10, 2023)],\n",
    "        )\n",
    "    ],\n",
    "    dbObj=ops_db,\n",
    "    outDir=maf_output_dir,\n",
    "    resultsDb=results_db,\n",
    "    dbTable=\"SummaryAllProps\",\n",
    ")\n",
    "bundle_group.runAll()\n",
    "bundle_group.plotAll(closefigs=False)"
   ]
  },
  {
   "cell_type": "code",
   "execution_count": null,
   "metadata": {},
   "outputs": [],
   "source": [
    "import numpy as np\n",
    "np.array([]).__class__"
   ]
  },
  {
   "cell_type": "code",
   "execution_count": null,
   "metadata": {},
   "outputs": [],
   "source": [
    "logger.info(\"Finished hourglass\")"
   ]
  },
  {
   "cell_type": "markdown",
   "metadata": {},
   "source": [
    "### Hour Angle by visit"
   ]
  },
  {
   "cell_type": "markdown",
   "metadata": {},
   "source": [
    "Use the `VisitIntervaleSlicer` to divide the survey into time segments each of which covers one visit, and calculate the hour angle in each segment.\n",
    "Make an hourglass plot of the result for October of 2023."
   ]
  },
  {
   "cell_type": "markdown",
   "metadata": {},
   "source": [
    "Set the color map to be diverging, and force the color limits such that 0 (transiting) is gray, while positive and negative hour angle are red and blue."
   ]
  },
  {
   "cell_type": "code",
   "execution_count": null,
   "metadata": {},
   "outputs": [],
   "source": [
    "logger.info(\"Starting hourglass\")\n",
    "bundle_group = maf.metricBundles.MetricBundleGroup(\n",
    "    bundleDict=[\n",
    "        maf.metricBundles.MetricBundle(\n",
    "            metric=maf.metrics.MedianMetric(\"HA\"),\n",
    "            slicer=maf.slicers.VisitIntervalSlicer(),\n",
    "            constraint=\"\",\n",
    "            plotDict={\"cmap\": plt.get_cmap(\"coolwarm\"), \"color_limits\": (-4.5, 4.5)},\n",
    "            plotFuncs=[maf.plots.MonthHourglassPlot(7, 2025)],\n",
    "        )\n",
    "    ],\n",
    "    dbObj=ops_db,\n",
    "    outDir=maf_output_dir,\n",
    "    resultsDb=results_db,\n",
    "    dbTable=\"SummaryAllProps\",\n",
    ")\n",
    "bundle_group.runAll()\n",
    "bundle_group.plotAll(closefigs=False)"
   ]
  },
  {
   "cell_type": "code",
   "execution_count": null,
   "metadata": {},
   "outputs": [],
   "source": [
    "logger.info(\"Finished hourglass\")"
   ]
  },
  {
   "cell_type": "markdown",
   "metadata": {},
   "source": [
    "### Filter metric"
   ]
  },
  {
   "cell_type": "code",
   "execution_count": null,
   "metadata": {},
   "outputs": [],
   "source": [
    "# This could have been the Pass metric instead .. (just returns the values in a given set of columns)\n",
    "class FilterUseMetric(maf.metrics.BaseMetric):\n",
    "    \"\"\"Metric to classify visits by filter\"\"\"\n",
    "\n",
    "    def __init__(self, filterCol=\"filter\", **kwargs):\n",
    "        self.filterCol = filterCol\n",
    "        super().__init__(col=[filterCol], metricDtype=\"object\", **kwargs)\n",
    "\n",
    "    def run(self, dataSlice, slicePoint=None):  # pylint: disable=invalid-name\n",
    "        \"\"\"Run the metric.\n",
    "\n",
    "        Parameters\n",
    "        ----------\n",
    "        dataSlice : numpy.NDarray\n",
    "           Values passed to metric by the slicer, which the metric will use to calculate\n",
    "           metric values at each slicePoint.\n",
    "        slicePoint : Dict\n",
    "           Dictionary of slicePoint metadata passed to each metric.\n",
    "           E.g. the ra/dec of the healpix pixel or opsim fieldId.\n",
    "\n",
    "        Returns\n",
    "        -------\n",
    "        str\n",
    "            use at each slicePoint.\n",
    "        \"\"\"\n",
    "        return dataSlice[self.filterCol]"
   ]
  },
  {
   "cell_type": "code",
   "execution_count": null,
   "metadata": {},
   "outputs": [],
   "source": [
    "logger.info(\"Starting hourglass\")\n",
    "bundle_group = maf.metricBundles.MetricBundleGroup(\n",
    "    bundleDict=[\n",
    "        maf.metricBundles.MetricBundle(\n",
    "            metric=FilterUseMetric(),\n",
    "            slicer=maf.slicers.VisitIntervalSlicer(),\n",
    "            constraint=\"night < 600\",\n",
    "            plotDict={\n",
    "                \"cmap\": plt.get_cmap(\"Set1\"),\n",
    "                \"assigned_colors\": OrderedDict(\n",
    "                    [(\"u\", 1), (\"g\", 2), (\"r\", 4), (\"i\", 7), (\"z\", 0), (\"y\", 3)]\n",
    "                ),\n",
    "                \"title\": \"Filter usage for April 2023\",\n",
    "                \"legend_ncols\": 1,\n",
    "                \"legend_loc\": (1.01, 0.5),\n",
    "                \"legend_bbox_to_anchor\": (1.01, 0.0),\n",
    "                \"legend\": True,\n",
    "            },\n",
    "            plotFuncs=[maf.plots.MonthHourglassCategoricalPlot(4, 2023)],\n",
    "        )\n",
    "    ],\n",
    "    dbObj=ops_db,\n",
    "    outDir=maf_output_dir,\n",
    "    resultsDb=results_db,\n",
    "    dbTable=\"SummaryAllProps\",\n",
    ")\n",
    "bundle_group.runAll()\n",
    "bundle_group.plotAll(closefigs=False)"
   ]
  },
  {
   "cell_type": "code",
   "execution_count": null,
   "metadata": {},
   "outputs": [],
   "source": [
    "logger.info(\"Finish hourglass\")"
   ]
  },
  {
   "cell_type": "markdown",
   "metadata": {},
   "source": [
    "### Time use by sets of adjacent visits with common \"note\" values"
   ]
  },
  {
   "cell_type": "markdown",
   "metadata": {},
   "source": [
    "\"Note\" values in the database indicate how the scheduler selected visits. Divide the survey into time intervals of consecutive visits with common notes, and assign color codes according to the filters and program indicated by the note. "
   ]
  },
  {
   "cell_type": "markdown",
   "metadata": {},
   "source": [
    "#### One month"
   ]
  },
  {
   "cell_type": "code",
   "execution_count": null,
   "metadata": {},
   "outputs": [],
   "source": [
    "logger.info(\"Starting hourglass\")\n",
    "bundle_group = maf.metricBundles.MetricBundleGroup(\n",
    "    bundleDict=[\n",
    "        maf.metricBundles.MetricBundle(\n",
    "            metric=maf.metrics.UseMetric(),\n",
    "            slicer=maf.slicers.BlockIntervalSlicer(),\n",
    "            constraint=\"\",\n",
    "            plotDict={\n",
    "                \"title\": \"Time usage for October, 2023\",\n",
    "                \"legend_elements\": (\n",
    "                    \"wide with u, g, or r\",\n",
    "                    \"wide with only IR\",\n",
    "                    \"greedy\",\n",
    "                    \"ECDFS\",\n",
    "                    \"EDFS\",\n",
    "                    \"ELAISS1\",\n",
    "                    \"COSMOS\",\n",
    "                    \"COSMOS-transit\",\n",
    "                    \"XMM-LSS\",\n",
    "                    \"moon\",\n",
    "                ),\n",
    "            },\n",
    "            plotFuncs=[maf.plots.MonthHourglassUsePlot(2, 2024)],\n",
    "        )\n",
    "    ],\n",
    "    dbObj=ops_db,\n",
    "    outDir=maf_output_dir,\n",
    "    resultsDb=results_db,\n",
    "    dbTable=\"SummaryAllProps\",\n",
    ")\n",
    "bundle_group.runAll()\n",
    "bundle_group.plotAll(closefigs=False)"
   ]
  },
  {
   "cell_type": "code",
   "execution_count": null,
   "metadata": {},
   "outputs": [],
   "source": [
    "logger.info(\"Finished hourglass\")"
   ]
  },
  {
   "cell_type": "markdown",
   "metadata": {},
   "source": [
    "In this plot, the red represents scheduled \"blobs\" that include only exposures in IR (i, z, or y) filters, and the blue scheduled blobs with at least some exposures with filters covering shorter wavelengths. The orange shows times during which the \"greedy\" algorithm was used by the scheduler. Horizontal bars with other colors indicate times during which DDF fields were observed. The thick slanted yellow line shows the times of the transit of the moon, while the dotted yellow lines show moon rise and set. Slanted lines of other colors show  the transit times of each DDF field, with the same color coding as used for the bars that indicate when the DDFs are observed. The vertical axis indicates the day of the month on which the night starts, and the horizontal axis the time relative to local solar midnight (solar anti-transit). A white background indicates day time; black, full night; and different shades of gray, civil, nautical, and astronomical twilight."
   ]
  },
  {
   "cell_type": "markdown",
   "metadata": {},
   "source": [
    "If you wish to show the time relative to local civil midnight, you can pass the `solar_time=False` to the hourglass plotter:"
   ]
  },
  {
   "cell_type": "code",
   "execution_count": null,
   "metadata": {},
   "outputs": [],
   "source": [
    "logger.info(\"Starting hourglass\")\n",
    "bundle_group = maf.metricBundles.MetricBundleGroup(\n",
    "    bundleDict=[\n",
    "        maf.metricBundles.MetricBundle(\n",
    "            metric=maf.metrics.UseMetric(),\n",
    "            slicer=maf.slicers.BlockIntervalSlicer(),\n",
    "            constraint=\"\",\n",
    "            plotDict={\n",
    "                \"title\": \"Time usage for April, 2024\",\n",
    "                \"xMin\": -6.5,\n",
    "                \"xMax\": 8.5,\n",
    "                \"legend_elements\": (\n",
    "                    \"wide with u, g, or r\",\n",
    "                    \"wide with only IR\",\n",
    "                    \"greedy\",\n",
    "                    \"ECDFS\",\n",
    "                    \"EDFS\",\n",
    "                    \"COSMOS\" \"ELAISS1\",\n",
    "                    \"XMM-LSS\",\n",
    "                    \"moon\",\n",
    "                ),\n",
    "            },\n",
    "            plotFuncs=[maf.plots.MonthHourglassUsePlot(4, 2024, solar_time=False)],\n",
    "        )\n",
    "    ],\n",
    "    dbObj=ops_db,\n",
    "    outDir=maf_output_dir,\n",
    "    resultsDb=results_db,\n",
    "    dbTable=\"SummaryAllProps\",\n",
    ")\n",
    "bundle_group.runAll()\n",
    "bundle_group.plotAll(closefigs=False)"
   ]
  },
  {
   "cell_type": "markdown",
   "metadata": {},
   "source": [
    "Note the jump at the end of daylight savings time."
   ]
  },
  {
   "cell_type": "markdown",
   "metadata": {},
   "source": [
    "#### One Year"
   ]
  },
  {
   "cell_type": "code",
   "execution_count": null,
   "metadata": {},
   "outputs": [],
   "source": [
    "%%time\n",
    "logger.info(\"Starting hourglass\")\n",
    "bundle_group = maf.metricBundles.MetricBundleGroup(\n",
    "    bundleDict=[\n",
    "        maf.metricBundles.MetricBundle(\n",
    "            metric=maf.metrics.UseMetric(),\n",
    "            slicer=maf.slicers.BlockIntervalSlicer(),\n",
    "            constraint=\"\",\n",
    "            plotDict={'figsize': (15, 10), 'title': \"Time usage for 2023\",\n",
    "                      'legend_elements': ('wide with u, g, or r',\n",
    "                                          'wide with only IR',\n",
    "                                          'greedy',\n",
    "                                          'ECDFS',\n",
    "                                          'EDFS',\n",
    "                                          'COSMOS'\n",
    "                                          'ELAISS1',\n",
    "                                          'XMM-LSS',\n",
    "                                          'moon')},\n",
    "            plotFuncs=[maf.plots.YearHourglassUsePlot(2023)],\n",
    "        )\n",
    "    ],\n",
    "    dbObj=ops_db,\n",
    "    outDir=maf_output_dir,\n",
    "    resultsDb=results_db,\n",
    "    dbTable=\"SummaryAllProps\",\n",
    ")\n",
    "bundle_group.runAll()\n",
    "bundle_group.plotAll(closefigs=False)"
   ]
  },
  {
   "cell_type": "markdown",
   "metadata": {},
   "source": [
    "#### Whole survey"
   ]
  },
  {
   "cell_type": "markdown",
   "metadata": {},
   "source": [
    "Uncomment to stop the notebook execution here so it completes in reasonable time:"
   ]
  },
  {
   "cell_type": "code",
   "execution_count": null,
   "metadata": {},
   "outputs": [],
   "source": [
    "# assert False"
   ]
  },
  {
   "cell_type": "markdown",
   "metadata": {},
   "source": [
    "Making plots for all years in the survey is slow, usually taking between 15 and 20 minutes on my test node.\n",
    "This is done using separate instances of plotter objects, rather than just one, because the plot gets too compressed (or too big) otherwise."
   ]
  },
  {
   "cell_type": "code",
   "execution_count": null,
   "metadata": {},
   "outputs": [],
   "source": [
    "%%time\n",
    "logger.info(\"Starting hourglass\")\n",
    "bundle_group = maf.metricBundles.MetricBundleGroup(\n",
    "    bundleDict=[\n",
    "        maf.metricBundles.MetricBundle(\n",
    "            metric=maf.metrics.UseMetric(),\n",
    "            slicer=maf.slicers.BlockIntervalSlicer(),\n",
    "            constraint=\"\",\n",
    "            plotDict={'figsize': (15, 10),\n",
    "                      'legend_elements': ('wide with u, g, or r',\n",
    "                                          'wide with only IR',\n",
    "                                          'greedy',\n",
    "                                          'ECDFS',\n",
    "                                          'EDFS',\n",
    "                                          'COSMOS'\n",
    "                                          'ELAISS1',\n",
    "                                          'XMM-LSS',\n",
    "                                          'moon')},\n",
    "            plotFuncs=[maf.plots.YearHourglassUsePlot(y) for y in range(2022, 2033)],\n",
    "        )\n",
    "    ],\n",
    "    dbObj=ops_db,\n",
    "    outDir=maf_output_dir,\n",
    "    resultsDb=results_db,\n",
    "    dbTable=\"SummaryAllProps\",\n",
    ")\n",
    "bundle_group.runAll()\n",
    "bundle_group.plotAll(closefigs=False)"
   ]
  },
  {
   "cell_type": "code",
   "execution_count": null,
   "metadata": {},
   "outputs": [],
   "source": [
    "logger.info(\"Finished hourglass\")"
   ]
  },
  {
   "cell_type": "code",
   "execution_count": null,
   "metadata": {},
   "outputs": [],
   "source": [
    "2"
   ]
  },
  {
   "cell_type": "code",
   "execution_count": null,
   "metadata": {},
   "outputs": [],
   "source": []
  }
 ],
 "metadata": {
  "kernelspec": {
   "display_name": "Python3 (LSST MAF)",
   "language": "python",
   "name": "lsst_maf"
  },
  "language_info": {
   "codemirror_mode": {
    "name": "ipython",
    "version": 3
   },
   "file_extension": ".py",
   "mimetype": "text/x-python",
   "name": "python",
   "nbconvert_exporter": "python",
   "pygments_lexer": "ipython3",
   "version": "3.9.4"
  }
 },
 "nbformat": 4,
 "nbformat_minor": 2
}
