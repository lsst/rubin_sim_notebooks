{
 "cells": [
  {
   "cell_type": "markdown",
   "id": "c8a6c448-cf4d-44dd-b466-da363dac70ec",
   "metadata": {},
   "source": [
    "# Get human-estimated cloud cover from CTIO night reports"
   ]
  },
  {
   "cell_type": "markdown",
   "id": "74f0e7b0-3b7d-4cc3-a271-b052dc4a59dd",
   "metadata": {},
   "source": [
    "## Notebook preparation"
   ]
  },
  {
   "cell_type": "code",
   "execution_count": 1,
   "id": "7f9b420c-ef34-417f-aa83-5378b38f3ef5",
   "metadata": {},
   "outputs": [],
   "source": [
    "import urllib\n",
    "from contextlib import closing\n",
    "from astropy.time import Time\n",
    "from bs4 import BeautifulSoup\n",
    "import numpy as np\n",
    "import pandas as pd"
   ]
  },
  {
   "cell_type": "markdown",
   "id": "63e4986a-3773-47a6-82b7-2187eda72da8",
   "metadata": {},
   "source": [
    "## Cloud reports compiled from multiple telescope operators by CTIO staff\n",
    "\n",
    "CTIO staff provided data (in eighths cloud cover by quarter of night) for dates before 2014-03-30."
   ]
  },
  {
   "cell_type": "code",
   "execution_count": 2,
   "id": "c7cbad36-6f64-49f8-aaa8-8285d97a9cbb",
   "metadata": {},
   "outputs": [
    {
     "name": "stdout",
     "output_type": "stream",
     "text": [
      "sday\teday\tmonth\tyear\tq1\tq2\tq3\tq4\n",
      "1\t2\t1\t1975\t0\t0\t0\t0\n",
      "2\t3\t1\t1975\t0\t2\t3\t4\n",
      "3\t4\t1\t1975\t0\t3\t4\t0\n",
      "4\t5\t1\t1975\t0\t2\t3\t4\n",
      "5\t6\t1\t1975\t3\t2\t1\t1\n",
      "6\t7\t1\t1975\t0\t0\t0\t0\n",
      "7\t8\t1\t1975\t0\t0\t0\t0\n",
      "8\t9\t1\t1975\t0\t0\t0\t0\n",
      "9\t10\t1\t1975\t0\t0\t0\t0\n"
     ]
    }
   ],
   "source": [
    "!head clouds_1975-01-01_to_2014-03-30.txt"
   ]
  },
  {
   "cell_type": "markdown",
   "id": "0564f11c-0934-4a83-8c4a-adcff4a96cab",
   "metadata": {},
   "source": [
    "## Scrape cloud values from the Blanco night reports"
   ]
  },
  {
   "cell_type": "markdown",
   "id": "5bcf358d-ed87-4b4e-94b7-099cea6e8bdf",
   "metadata": {},
   "source": [
    "Night reports from the Blanco telescope include eighths reported cloud cover by quarter. These are not provided in any compiled way, but must by obtained by querying each nights' report and extracting the relevant field."
   ]
  },
  {
   "cell_type": "code",
   "execution_count": 3,
   "id": "e8786b0b-2108-47ea-a82a-c4c01396fbcc",
   "metadata": {},
   "outputs": [],
   "source": [
    "def get_night_clouds(time_repr):\n",
    "    try:\n",
    "        t = Time(time_repr, format='mjd')\n",
    "    except ValueError:\n",
    "        t = Time(time_repr)\n",
    "    year = t.datetime.year\n",
    "    month = t.datetime.month\n",
    "    day = t.datetime.day\n",
    "    next_day = Time(t.mjd+1, format='mjd').datetime.day\n",
    "\n",
    "    report_url = f\"http://www.ctio.noirlab.edu/noao/night-report-sky-conditions?field_nr_date_value%5Bvalue%5D%5Bdate%5D={month:02d}%2F{day:02d}%2F{year}\"\n",
    "    with closing(urllib.request.urlopen(report_url)) as f:\n",
    "        report_page = f.read()\n",
    "\n",
    "    report_soup = BeautifulSoup(report_page)\n",
    "    \n",
    "    sky = [day, next_day, month, year]\n",
    "    for quarter in range(1, 5):\n",
    "        fields = report_soup.find_all(class_=f'field-name-field-field-nr-{quarter}-sky')\n",
    "        if len(fields) < 1:\n",
    "            sky.append(9)\n",
    "            continue\n",
    "\n",
    "        assert fields[0].find_all(class_='field-label')[0].text.startswith('Sky')\n",
    "        values = fields[0].find_all(class_='field-item')\n",
    "        assert len(values) == 1\n",
    "        sky.append(int(values[0].text))\n",
    "\n",
    "    return sky"
   ]
  },
  {
   "cell_type": "code",
   "execution_count": 4,
   "id": "dc98ad5f-e813-4cea-b288-f621c9e40652",
   "metadata": {},
   "outputs": [
    {
     "name": "stdout",
     "output_type": "stream",
     "text": [
      "CPU times: user 85 µs, sys: 34 µs, total: 119 µs\n",
      "Wall time: 113 µs\n"
     ]
    }
   ],
   "source": [
    "%%time\n",
    "begin_date_iso = '2014-03-30'\n",
    "end_date_iso = '2022-09-04'\n",
    "\n",
    "scraped_clouds_fname = f'clouds_{begin_date_iso}_to_{end_date_iso}.txt'\n",
    "\n",
    "if not os.path.exists(scraped_clouds_fname):\n",
    "    first_mjd = Time(begin_date_ios).mjd.astype(int)\n",
    "    last_mjd = Time(end_date_iso).mjd.astype(int)\n",
    "    nights = []\n",
    "\n",
    "    for mjd in range(first_mjd, last_mjd+1):\n",
    "        sky = get_night_clouds(mjd)\n",
    "        nights.append(sky)\n",
    "        t = Time(mjd, format='mjd')\n",
    "        if t.datetime.day == 1:\n",
    "            print()\n",
    "            print(t.iso, end='')\n",
    "        else:\n",
    "            print('.', end='')\n",
    "    print()\n",
    "\n",
    "    nights_df = pd.DataFrame(nights, columns=['sday', 'eday', 'month', 'year', 'q1', 'q2', 'q3', 'q4'])\n",
    "    nights_df.describe()\n",
    "    nights_df.to_csv(scraped_clouds_fname, sep=\"\\t\", index=False)"
   ]
  },
  {
   "cell_type": "code",
   "execution_count": 5,
   "id": "18ce490a-0849-4772-b523-de833c9b0eb2",
   "metadata": {},
   "outputs": [
    {
     "data": {
      "text/plain": [
       "2"
      ]
     },
     "execution_count": 5,
     "metadata": {},
     "output_type": "execute_result"
    }
   ],
   "source": [
    "2"
   ]
  },
  {
   "cell_type": "code",
   "execution_count": null,
   "id": "7bf1d6c9-efe1-4af3-b6c9-027bb513cd28",
   "metadata": {},
   "outputs": [],
   "source": []
  }
 ],
 "metadata": {
  "kernelspec": {
   "display_name": "LSST",
   "language": "python",
   "name": "lsst"
  },
  "language_info": {
   "codemirror_mode": {
    "name": "ipython",
    "version": 3
   },
   "file_extension": ".py",
   "mimetype": "text/x-python",
   "name": "python",
   "nbconvert_exporter": "python",
   "pygments_lexer": "ipython3",
   "version": "3.10.4"
  }
 },
 "nbformat": 4,
 "nbformat_minor": 5
}
