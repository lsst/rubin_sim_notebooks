{
 "cells": [
  {
   "cell_type": "markdown",
   "id": "4a7023d1-c58a-4e79-b869-80273802cdad",
   "metadata": {},
   "source": [
    "There are three general cases where we want to construct a scheduler to make observations:\n",
    "\n",
    "1) We have a large area we would like to observe (in one or more bands) in an intelligent way.  In this case, we typically define a survey footprint with HEALpix maps and use one or more `BlobSurvey` objects to execute the observations. This is how we execute the main LSST survey, including things like the Wide Fast Deep area and the North Ecliptic Spur. \n",
    "2) We have a list of pointings we would like executed at a specific time. This case can be done with `ScriptedSurvey` objects. \n",
    "3) We would like to select the best choice from a list of potential pointings. This doesn't come up for the main LSST survey, but can be useful for AuxTel and commissioning studies.  "
   ]
  },
  {
   "cell_type": "code",
   "execution_count": 1,
   "id": "179a5c6a-4d51-462f-8322-3581921c1111",
   "metadata": {},
   "outputs": [],
   "source": [
    "import numpy as np\n",
    "import healpy as hp\n",
    "import matplotlib.pylab as plt\n",
    "%matplotlib inline\n",
    "import pandas as pd\n",
    "\n",
    "from rubin_scheduler.scheduler import sim_runner\n",
    "from rubin_scheduler.scheduler.model_observatory import ModelObservatory\n",
    "from rubin_scheduler.scheduler.surveys import PointingsSurvey\n",
    "from rubin_scheduler.scheduler.utils import ObservationArray\n",
    "from rubin_scheduler.scheduler.schedulers import CoreScheduler\n",
    "\n",
    "from astropy import units\n",
    "from astropy.coordinates import Angle\n",
    "\n",
    "import pickle"
   ]
  },
  {
   "cell_type": "code",
   "execution_count": 2,
   "id": "05e19719-5904-48e0-8e98-7b69c8ee29e6",
   "metadata": {},
   "outputs": [
    {
     "data": {
      "text/html": [
       "<div>\n",
       "<style scoped>\n",
       "    .dataframe tbody tr th:only-of-type {\n",
       "        vertical-align: middle;\n",
       "    }\n",
       "\n",
       "    .dataframe tbody tr th {\n",
       "        vertical-align: top;\n",
       "    }\n",
       "\n",
       "    .dataframe thead th {\n",
       "        text-align: right;\n",
       "    }\n",
       "</style>\n",
       "<table border=\"1\" class=\"dataframe\">\n",
       "  <thead>\n",
       "    <tr style=\"text-align: right;\">\n",
       "      <th></th>\n",
       "      <th>Survey</th>\n",
       "      <th>Name</th>\n",
       "      <th>RA</th>\n",
       "      <th>Dec</th>\n",
       "    </tr>\n",
       "  </thead>\n",
       "  <tbody>\n",
       "    <tr>\n",
       "      <th>0</th>\n",
       "      <td>LATISS_POLE</td>\n",
       "      <td>001</td>\n",
       "      <td>00:00:00.00</td>\n",
       "      <td>-89:53:48.23</td>\n",
       "    </tr>\n",
       "    <tr>\n",
       "      <th>1</th>\n",
       "      <td>LATISS_POLE</td>\n",
       "      <td>002</td>\n",
       "      <td>02:10:54.54</td>\n",
       "      <td>-89:53:48.23</td>\n",
       "    </tr>\n",
       "    <tr>\n",
       "      <th>2</th>\n",
       "      <td>LATISS_POLE</td>\n",
       "      <td>003</td>\n",
       "      <td>04:21:49.09</td>\n",
       "      <td>-89:53:48.23</td>\n",
       "    </tr>\n",
       "    <tr>\n",
       "      <th>3</th>\n",
       "      <td>LATISS_POLE</td>\n",
       "      <td>004</td>\n",
       "      <td>06:32:43.63</td>\n",
       "      <td>-89:53:48.23</td>\n",
       "    </tr>\n",
       "    <tr>\n",
       "      <th>4</th>\n",
       "      <td>LATISS_POLE</td>\n",
       "      <td>005</td>\n",
       "      <td>08:43:38.18</td>\n",
       "      <td>-89:53:48.23</td>\n",
       "    </tr>\n",
       "    <tr>\n",
       "      <th>...</th>\n",
       "      <td>...</td>\n",
       "      <td>...</td>\n",
       "      <td>...</td>\n",
       "      <td>...</td>\n",
       "    </tr>\n",
       "    <tr>\n",
       "      <th>794</th>\n",
       "      <td>AUXTEL_PHOTO_IMAGING</td>\n",
       "      <td>Photo1800-1_028</td>\n",
       "      <td>18:00:46.04</td>\n",
       "      <td>-24:57:20.25</td>\n",
       "    </tr>\n",
       "    <tr>\n",
       "      <th>795</th>\n",
       "      <td>AUXTEL_PHOTO_IMAGING</td>\n",
       "      <td>Photo1800-1_029</td>\n",
       "      <td>18:00:49.96</td>\n",
       "      <td>-24:57:20.25</td>\n",
       "    </tr>\n",
       "    <tr>\n",
       "      <th>796</th>\n",
       "      <td>AUXTEL_PHOTO_IMAGING</td>\n",
       "      <td>Photo1800-1_030</td>\n",
       "      <td>18:00:53.88</td>\n",
       "      <td>-24:57:20.25</td>\n",
       "    </tr>\n",
       "    <tr>\n",
       "      <th>797</th>\n",
       "      <td>AUXTEL_PHOTO_IMAGING</td>\n",
       "      <td>Photo1800-1_031</td>\n",
       "      <td>18:00:57.79</td>\n",
       "      <td>-24:57:20.25</td>\n",
       "    </tr>\n",
       "    <tr>\n",
       "      <th>798</th>\n",
       "      <td>AUXTEL_PHOTO_IMAGING</td>\n",
       "      <td>Photo1800-1_032</td>\n",
       "      <td>18:01:01.71</td>\n",
       "      <td>-24:57:20.25</td>\n",
       "    </tr>\n",
       "  </tbody>\n",
       "</table>\n",
       "<p>799 rows × 4 columns</p>\n",
       "</div>"
      ],
      "text/plain": [
       "                   Survey             Name           RA           Dec\n",
       "0             LATISS_POLE              001  00:00:00.00  -89:53:48.23\n",
       "1             LATISS_POLE              002  02:10:54.54  -89:53:48.23\n",
       "2             LATISS_POLE              003  04:21:49.09  -89:53:48.23\n",
       "3             LATISS_POLE              004  06:32:43.63  -89:53:48.23\n",
       "4             LATISS_POLE              005  08:43:38.18  -89:53:48.23\n",
       "..                    ...              ...          ...           ...\n",
       "794  AUXTEL_PHOTO_IMAGING  Photo1800-1_028  18:00:46.04  -24:57:20.25\n",
       "795  AUXTEL_PHOTO_IMAGING  Photo1800-1_029  18:00:49.96  -24:57:20.25\n",
       "796  AUXTEL_PHOTO_IMAGING  Photo1800-1_030  18:00:53.88  -24:57:20.25\n",
       "797  AUXTEL_PHOTO_IMAGING  Photo1800-1_031  18:00:57.79  -24:57:20.25\n",
       "798  AUXTEL_PHOTO_IMAGING  Photo1800-1_032  18:01:01.71  -24:57:20.25\n",
       "\n",
       "[799 rows x 4 columns]"
      ]
     },
     "execution_count": 2,
     "metadata": {},
     "output_type": "execute_result"
    }
   ],
   "source": [
    "# Read in a list of pointings we might want to observe\n",
    "tiles = pd.read_csv('auxtel_tiles.txt', delimiter=' ')\n",
    "tiles"
   ]
  },
  {
   "cell_type": "code",
   "execution_count": 3,
   "id": "208ecb37-4cbd-4190-95d9-1a10c9cc8b1d",
   "metadata": {},
   "outputs": [],
   "source": [
    "# Convert pointings to an observation array\n",
    "obs = ObservationArray(n=len(tiles))\n",
    "obs['scheduler_note'] = tiles['Survey'] + tiles['Name']\n",
    "obs['RA'] = Angle(tiles['RA'],unit=units.hourangle).rad\n",
    "obs['dec'] = Angle(tiles['Dec'],unit=units.degree).rad\n",
    "\n",
    "obs['flush_by_mjd'] = 0.\n",
    "obs['nexp'] = 1\n",
    "obs['band'] = 'r'\n",
    "obs['exptime'] = 60."
   ]
  },
  {
   "cell_type": "code",
   "execution_count": 4,
   "id": "e7c41714-df85-4417-9b68-f5688bd958e6",
   "metadata": {},
   "outputs": [],
   "source": [
    "# load the potential observations into a PointingsSurvey\n",
    "# by default, the PointingsSurvey will stick on a detailer that \n",
    "# sets each observation to the parallactic angle. For now we'll clobber \n",
    "# that so all the observations get taken with rotTelPos=0\n",
    "ps = PointingsSurvey(obs, detailers=[])\n",
    "sched = CoreScheduler([ps])\n"
   ]
  },
  {
   "cell_type": "code",
   "execution_count": 5,
   "id": "bd23e185-e4e8-4b7d-91e8-8e907291d374",
   "metadata": {},
   "outputs": [
    {
     "name": "stderr",
     "output_type": "stream",
     "text": [
      "/Users/yoachim/git_repos/rubin_scheduler/rubin_scheduler/scheduler/surveys/pointings_survey.py:270: RuntimeWarning: invalid value encountered in divide\n",
      "  result = np.floor(1.0 + self.n_obs / sum_obs)\n"
     ]
    },
    {
     "name": "stdout",
     "output_type": "stream",
     "text": [
      "progress = 33.35%"
     ]
    },
    {
     "name": "stderr",
     "output_type": "stream",
     "text": [
      "/Users/yoachim/git_repos/rubin_scheduler/rubin_scheduler/skybrightness_pre/sky_model_pre.py:352: UserWarning: Requested MJD between sunrise and sunset, returning closest maps\n",
      "  warnings.warn(\"Requested MJD between sunrise and sunset, returning closest maps\")\n"
     ]
    },
    {
     "name": "stdout",
     "output_type": "stream",
     "text": [
      "progress = 100.07%Skipped 0 observations\n",
      "Flushed 0 observations from queue for being stale\n",
      "Completed 976 observations\n",
      "ran in 0 min = 0.0 hours\n"
     ]
    }
   ],
   "source": [
    "# Try observing with the survey for 3 days\n",
    "mo = ModelObservatory(downtimes=\"ideal\")\n",
    "mo, sched, completed_obs = sim_runner(mo, sched, sim_duration=3)\n"
   ]
  },
  {
   "cell_type": "code",
   "execution_count": 6,
   "id": "7ac23ec6-1e24-4ca4-8d70-47c21da643f6",
   "metadata": {},
   "outputs": [
    {
     "data": {
      "text/plain": [
       "Text(0.5, 1.0, 'Completed observations')"
      ]
     },
     "execution_count": 6,
     "metadata": {},
     "output_type": "execute_result"
    },
    {
     "data": {
      "image/png": "[encoded data removed]",
      "text/plain": [
       "<Figure size 640x480 with 2 Axes>"
      ]
     },
     "metadata": {},
     "output_type": "display_data"
    }
   ],
   "source": [
    "# plot the observations that were taken\n",
    "fig, ax = plt.subplots()\n",
    "ack = ax.scatter(np.degrees(completed_obs['RA']), np.degrees(completed_obs['dec']),\n",
    "            c=completed_obs['mjd']-completed_obs['mjd'].min(), alpha=0.1)\n",
    "cb = plt.colorbar(ack)\n",
    "cb.set_label('Night')\n",
    "ax.set_xlabel('RA')\n",
    "ax.set_ylabel('Dec')\n",
    "ax.set_title('Completed observations')"
   ]
  },
  {
   "cell_type": "code",
   "execution_count": 7,
   "id": "76d30e46-422a-44f2-bdcd-2bdbd9261078",
   "metadata": {},
   "outputs": [
    {
     "data": {
      "text/markdown": [
       "Conditions at 0x1543ade50\n",
       "============================\n",
       "nside:  32   \n",
       "site:  LSST   \n",
       "exptime:  30.0   \n",
       "lmst:  [22.23953009]   \n",
       "clouds:  None   \n",
       "current_band:  r   \n",
       "mounted_bands:  ['g', 'r', 'i', 'z', 'y']   \n",
       "night:  3   \n",
       "wind_speed:  None   \n",
       "wind_direction:  None   \n",
       "len(scheduled_observations):  0   \n",
       "len(queue):  None   \n",
       "moonPhase:  88.10391882191729   \n",
       "bulk_cloud:  [0.25]   \n",
       "targets_of_opportunity:  None   \n",
       "cumulative_azimuth_rad:  0   \n",
       "\n",
       "Positions (radians)\n",
       "-------------------\n",
       "| name      |        alt |         az |           RA |        decl |   rot |\n",
       "|:----------|-----------:|-----------:|-------------:|------------:|------:|\n",
       "| sun       |  -0.209579 |   4.2591   |   3.82284    |  -0.266491  |   nan |\n",
       "| moon      |   0.537318 |   0.923535 |   0.30587    |   0.188455  |   nan |\n",
       "| venus     | nan        | nan        |   3.23987    |   0.0188273 |   nan |\n",
       "| mars      | nan        | nan        |   4.34907    |  -0.396791  |   nan |\n",
       "| jupiter   | nan        | nan        |   1.84012    |   0.39734   |   nan |\n",
       "| saturn    | nan        | nan        |   0.00895613 |  -0.0393505 |   nan |\n",
       "| telescope |   1.50971  |   0        | nan          | nan         |     0 |\n",
       "\n",
       "Positions (degrees)\n",
       "-------------------\n",
       "| name      |      alt |       az |         RA |      decl |   rot |\n",
       "|:----------|---------:|---------:|-----------:|----------:|------:|\n",
       "| sun       | -12.008  | 244.029  | 219.033    | -15.2688  |   nan |\n",
       "| moon      |  30.7861 |  52.9146 |  17.525    |  10.7977  |   nan |\n",
       "| venus     | nan      | nan      | 185.631    |   1.07873 |   nan |\n",
       "| mars      | nan      | nan      | 249.184    | -22.7344  |   nan |\n",
       "| jupiter   | nan      | nan      | 105.431    |  22.7659  |   nan |\n",
       "| saturn    | nan      | nan      |   0.513148 |  -2.25462 |   nan |\n",
       "| telescope |  86.5    |   0      | nan        | nan       |     0 |\n",
       "\n",
       "Events\n",
       "------\n",
       "| event           |     MJD | date                          |\n",
       "|:----------------|--------:|:------------------------------|\n",
       "| sunset          | 60983   | 2025-11-03 23:03:26.969963016 |\n",
       "| mjd             | 60983   | 2025-11-04 00:03:23.219497200 |\n",
       "| sun_n12_setting | 60983   | 2025-11-04 00:03:23.219497200 |\n",
       "| sun_n18_setting | 60983   | 2025-11-04 00:34:59.838499724 |\n",
       "| sun_n18_rising  | 60983.3 | 2025-11-04 08:17:48.730044364 |\n",
       "| moonset         | 60983.4 | 2025-11-04 08:41:17.797557413 |\n",
       "| sun_n12_rising  | 60983.4 | 2025-11-04 08:49:24.629718659 |\n",
       "| sunrise         | 60983.4 | 2025-11-04 09:49:20.262358191 |\n",
       "| moonrise        | 60983.9 | 2025-11-04 22:31:19.081606869 |\n",
       "\n",
       "Maps\n",
       "----\n",
       "| map             |   nside |       min |        max |   median |\n",
       "|:----------------|--------:|----------:|-----------:|---------:|\n",
       "| airmass         |      32 |  1.00002  | 6646.94    |  2.00417 |\n",
       "| ra              |      32 |  0        |    6.25864 |  3.12932 |\n",
       "| dec             |      32 | -1.54528  |    1.54528 |  0       |\n",
       "| slewtime        |      32 |  4.82899  |  155.955   | 94.7114  |\n",
       "| skybrightness_u |      32 | 17.6559   |   19.2689  | 18.8756  |\n",
       "| skybrightness_g |      32 | 16.769    |   19.1083  | 18.6338  |\n",
       "| skybrightness_r |      32 | 16.5842   |   19.2284  | 18.703   |\n",
       "| skybrightness_i |      32 | 16.5811   |   18.8207  | 18.3353  |\n",
       "| skybrightness_z |      32 | 16.2886   |   18.1281  | 17.6825  |\n",
       "| skybrightness_y |      32 | 15.2288   |   17.1761  | 16.7651  |\n",
       "| m5_depth_u      |      32 | 20.2691   |   22.3192  | 21.698   |\n",
       "| m5_depth_g      |      32 | 21.5173   |   23.4701  | 22.9173  |\n",
       "| m5_depth_r      |      32 | 21.5874   |   23.5491  | 23.0166  |\n",
       "| m5_depth_i      |      32 | 21.5678   |   23.3323  | 22.8188  |\n",
       "| m5_depth_z      |      32 | 21.2464   |   22.8444  | 22.3612  |\n",
       "| m5_depth_y      |      32 | 20.0578   |   21.8623  | 21.3506  |\n",
       "| fwhm_eff_u      |      32 |  0.916004 |    3.95438 |  1.32089 |\n",
       "| fwhm_eff_g      |      32 |  0.866165 |    3.73922 |  1.24902 |\n",
       "| fwhm_eff_r      |      32 |  0.820562 |    3.54235 |  1.18326 |\n",
       "| fwhm_eff_i      |      32 |  0.789084 |    3.40646 |  1.13787 |\n",
       "| fwhm_eff_z      |      32 |  0.768186 |    3.31625 |  1.10774 |\n",
       "| fwhm_eff_y      |      32 |  0.75145  |    3.244   |  1.0836  |\n"
      ],
      "text/plain": [
       "<Conditions mjd='[60983.00235208]' at 0x1543ade50>"
      ]
     },
     "execution_count": 7,
     "metadata": {},
     "output_type": "execute_result"
    }
   ],
   "source": [
    "conditions = mo.return_conditions()\n",
    "conditions"
   ]
  },
  {
   "cell_type": "code",
   "execution_count": 8,
   "id": "976ff9bb-9796-44fd-9306-d9a0f9166ddf",
   "metadata": {},
   "outputs": [
    {
     "data": {
      "text/markdown": [
       "# CoreScheduler at 0x152e4d3d0\n",
       "|              | value        |\n",
       "|:-------------|:-------------|\n",
       "| camera       | LSST         |\n",
       "| nside        | 32           |\n",
       "| survey index | [None, None] |\n",
       "| Last chosen  | None         |\n",
       "\n",
       "## Surveys\n",
       "\n",
       "### Survey list 0\n",
       "| survey                           | reward   | chosen   |\n",
       "|:---------------------------------|:---------|:---------|\n",
       "| <PointingsSurvey at 0x1548261d0> |          | False    |\n",
       "\n",
       "Conditions at 0x15413add0\n",
       "============================\n",
       "nside:  32   \n",
       "site:  LSST   \n",
       "exptime:  30.0   \n",
       "lmst:  [6.91435297]   \n",
       "clouds:  None   \n",
       "current_band:  r   \n",
       "mounted_bands:  ['g', 'r', 'i', 'z', 'y']   \n",
       "night:  1   \n",
       "wind_speed:  None   \n",
       "wind_direction:  None   \n",
       "len(scheduled_observations):  0   \n",
       "len(queue):  0   \n",
       "moonPhase:  75.09361048258049   \n",
       "bulk_cloud:  [0.]   \n",
       "targets_of_opportunity:  None   \n",
       "cumulative_azimuth_rad:  [-3.42134666]   \n",
       "\n",
       "Positions (radians)\n",
       "-------------------\n",
       "| name      |        alt |        az |         RA |        decl |   rot |\n",
       "|:----------|-----------:|----------:|-----------:|------------:|------:|\n",
       "| sun       |  -0.213046 |   2.01546 | 3.79476    | -0.257574   |   nan |\n",
       "| moon      |  -0.274952 |   4.53916 | 6.19251    | -0.00934494 |   nan |\n",
       "| venus     | nan        | nan       | 3.19811    |  0.0377516  |   nan |\n",
       "| mars      | nan        | nan       | 4.33274    | -0.394127   |   nan |\n",
       "| jupiter   | nan        | nan       | 1.83755    |  0.397537   |   nan |\n",
       "| saturn    | nan        | nan       | 0.00807382 | -0.0397146  |   nan |\n",
       "| telescope |   1.13447  |   3.49692 | 1.55857    | -0.925268   |     0 |\n",
       "\n",
       "Positions (degrees)\n",
       "-------------------\n",
       "| name      |      alt |      az |         RA |       decl |   rot |\n",
       "|:----------|---------:|--------:|-----------:|-----------:|------:|\n",
       "| sun       | -12.2066 | 115.477 | 217.424    | -14.7579   |   nan |\n",
       "| moon      | -15.7536 | 260.075 | 354.805    |  -0.535426 |   nan |\n",
       "| venus     | nan      | nan     | 183.238    |   2.16301  |   nan |\n",
       "| mars      | nan      | nan     | 248.248    | -22.5818   |   nan |\n",
       "| jupiter   | nan      | nan     | 105.284    |  22.7772   |   nan |\n",
       "| saturn    | nan      | nan     |   0.462596 |  -2.27548  |   nan |\n",
       "| telescope |  65.0003 | 200.359 |  89.2995   | -53.0139   |     0 |\n",
       "\n",
       "Events\n",
       "------\n",
       "| event           |     MJD | date                          |\n",
       "|:----------------|--------:|:------------------------------|\n",
       "| sunset          | 60981   | 2025-11-01 23:01:52.150843441 |\n",
       "| sun_n12_setting | 60981   | 2025-11-02 00:01:29.942742887 |\n",
       "| sun_n18_setting | 60981   | 2025-11-02 00:32:52.216339407 |\n",
       "| moonset         | 60981.3 | 2025-11-02 07:35:09.169676900 |\n",
       "| sun_n18_rising  | 60981.3 | 2025-11-02 08:19:55.483611528 |\n",
       "| mjd             | 60981.4 | 2025-11-02 08:50:19.131092727 |\n",
       "| sun_n12_rising  | 60981.4 | 2025-11-02 08:51:17.125990392 |\n",
       "| sunrise         | 60981.4 | 2025-11-02 09:50:54.405923190 |\n",
       "| moonrise        | 60981.8 | 2025-11-02 20:11:31.654680671 |\n",
       "\n",
       "Maps\n",
       "----\n",
       "| map             |   nside |       min |         max |   median |\n",
       "|:----------------|--------:|----------:|------------:|---------:|\n",
       "| airmass         |      32 |  1.00014  | 41345.3     |  2.00212 |\n",
       "| ra              |      32 |  0        |     6.25864 |  3.12932 |\n",
       "| dec             |      32 | -1.54528  |     1.54528 |  0       |\n",
       "| slewtime        |      32 |  4.23523  |   155.997   | 88.7153  |\n",
       "| skybrightness_u |      32 | 17.8363   |    19.9617  | 19.5879  |\n",
       "| skybrightness_g |      32 | 18.1954   |    20.2905  | 19.9064  |\n",
       "| skybrightness_r |      32 | 18.2544   |    20.2876  | 19.8924  |\n",
       "| skybrightness_i |      32 | 17.212    |    19.2461  | 18.849   |\n",
       "| skybrightness_z |      32 | 16.2851   |    18.2629  | 17.8683  |\n",
       "| skybrightness_y |      32 | 15.1657   |    17.1821  | 16.7906  |\n",
       "| m5_depth_u      |      32 | 20.5181   |    22.8332  | 22.2213  |\n",
       "| m5_depth_g      |      32 | 22.2996   |    24.2451  | 23.7275  |\n",
       "| m5_depth_r      |      32 | 22.4821   |    24.2639  | 23.7815  |\n",
       "| m5_depth_i      |      32 | 21.9661   |    23.7119  | 23.2388  |\n",
       "| m5_depth_z      |      32 | 21.3877   |    23.0689  | 22.6089  |\n",
       "| m5_depth_y      |      32 | 20.1611   |    22.0156  | 21.5143  |\n",
       "| fwhm_eff_u      |      32 |  0.916004 |     3.95438 |  1.32089 |\n",
       "| fwhm_eff_g      |      32 |  0.866165 |     3.73922 |  1.24902 |\n",
       "| fwhm_eff_r      |      32 |  0.820562 |     3.54235 |  1.18326 |\n",
       "| fwhm_eff_i      |      32 |  0.789084 |     3.40646 |  1.13787 |\n",
       "| fwhm_eff_z      |      32 |  0.768186 |     3.31625 |  1.10774 |\n",
       "| fwhm_eff_y      |      32 |  0.75145  |     3.244   |  1.0836  |\n",
       "\n",
       "\n",
       "## Queue\n",
       "Queue is empty\n"
      ],
      "text/plain": [
       "CoreScheduler(\n",
       "            surveys=[[<PointingsSurvey at 0x1548261d0>]],\n",
       "            camera=\"LSST\",\n",
       "            nside=32,\n",
       "            survey_index=[None, None],\n",
       "            log=<Logger CoreScheduler (WARNING)>\n",
       "        )"
      ]
     },
     "execution_count": 8,
     "metadata": {},
     "output_type": "execute_result"
    }
   ],
   "source": [
    "# What does the scheduler look like\n",
    "sched"
   ]
  },
  {
   "cell_type": "code",
   "execution_count": 9,
   "id": "2b34c57d-73f7-406c-868f-04c65c12e57f",
   "metadata": {},
   "outputs": [
    {
     "name": "stderr",
     "output_type": "stream",
     "text": [
      "/Users/yoachim/git_repos/rubin_scheduler/rubin_scheduler/skybrightness_pre/sky_model_pre.py:352: UserWarning: Requested MJD between sunrise and sunset, returning closest maps\n",
      "  warnings.warn(\"Requested MJD between sunrise and sunset, returning closest maps\")\n"
     ]
    },
    {
     "data": {
      "text/html": [
       "<div>\n",
       "<style scoped>\n",
       "    .dataframe tbody tr th:only-of-type {\n",
       "        vertical-align: middle;\n",
       "    }\n",
       "\n",
       "    .dataframe tbody tr th {\n",
       "        vertical-align: top;\n",
       "    }\n",
       "\n",
       "    .dataframe thead th {\n",
       "        text-align: right;\n",
       "    }\n",
       "</style>\n",
       "<table border=\"1\" class=\"dataframe\">\n",
       "  <thead>\n",
       "    <tr style=\"text-align: right;\">\n",
       "      <th></th>\n",
       "      <th>method</th>\n",
       "      <th>blank</th>\n",
       "      <th>feasible</th>\n",
       "      <th>max_reward</th>\n",
       "      <th>n_possibles</th>\n",
       "      <th>weight</th>\n",
       "      <th>max_accum_reward</th>\n",
       "      <th>accum_n</th>\n",
       "    </tr>\n",
       "  </thead>\n",
       "  <tbody>\n",
       "    <tr>\n",
       "      <th>0</th>\n",
       "      <td>visit_gap</td>\n",
       "      <td>None</td>\n",
       "      <td>True</td>\n",
       "      <td>0.000000</td>\n",
       "      <td>799</td>\n",
       "      <td>1.0</td>\n",
       "      <td>0.000000</td>\n",
       "      <td>799</td>\n",
       "    </tr>\n",
       "    <tr>\n",
       "      <th>1</th>\n",
       "      <td>balance_revisit</td>\n",
       "      <td>None</td>\n",
       "      <td>True</td>\n",
       "      <td>1.000000</td>\n",
       "      <td>799</td>\n",
       "      <td>1.0</td>\n",
       "      <td>1.000000</td>\n",
       "      <td>799</td>\n",
       "    </tr>\n",
       "    <tr>\n",
       "      <th>2</th>\n",
       "      <td>m5diff</td>\n",
       "      <td>None</td>\n",
       "      <td>True</td>\n",
       "      <td>-0.944224</td>\n",
       "      <td>235</td>\n",
       "      <td>1.0</td>\n",
       "      <td>0.055776</td>\n",
       "      <td>235</td>\n",
       "    </tr>\n",
       "    <tr>\n",
       "      <th>3</th>\n",
       "      <td>slew_time</td>\n",
       "      <td>None</td>\n",
       "      <td>True</td>\n",
       "      <td>-61.241754</td>\n",
       "      <td>320</td>\n",
       "      <td>-1.0</td>\n",
       "      <td>-61.328779</td>\n",
       "      <td>235</td>\n",
       "    </tr>\n",
       "    <tr>\n",
       "      <th>4</th>\n",
       "      <td>wind_limit</td>\n",
       "      <td>None</td>\n",
       "      <td>True</td>\n",
       "      <td>0.000000</td>\n",
       "      <td>799</td>\n",
       "      <td>0.0</td>\n",
       "      <td>-61.328779</td>\n",
       "      <td>235</td>\n",
       "    </tr>\n",
       "    <tr>\n",
       "      <th>5</th>\n",
       "      <td>ha_limit</td>\n",
       "      <td>None</td>\n",
       "      <td>True</td>\n",
       "      <td>0.000000</td>\n",
       "      <td>234</td>\n",
       "      <td>0.0</td>\n",
       "      <td>-155.351488</td>\n",
       "      <td>4</td>\n",
       "    </tr>\n",
       "    <tr>\n",
       "      <th>6</th>\n",
       "      <td>alt_limit</td>\n",
       "      <td>None</td>\n",
       "      <td>True</td>\n",
       "      <td>0.000000</td>\n",
       "      <td>369</td>\n",
       "      <td>0.0</td>\n",
       "      <td>-155.351488</td>\n",
       "      <td>4</td>\n",
       "    </tr>\n",
       "    <tr>\n",
       "      <th>7</th>\n",
       "      <td>moon_limit</td>\n",
       "      <td>None</td>\n",
       "      <td>True</td>\n",
       "      <td>0.000000</td>\n",
       "      <td>799</td>\n",
       "      <td>0.0</td>\n",
       "      <td>-155.351488</td>\n",
       "      <td>4</td>\n",
       "    </tr>\n",
       "  </tbody>\n",
       "</table>\n",
       "</div>"
      ],
      "text/plain": [
       "            method blank  feasible  max_reward  n_possibles  weight  \\\n",
       "0        visit_gap  None      True    0.000000          799     1.0   \n",
       "1  balance_revisit  None      True    1.000000          799     1.0   \n",
       "2           m5diff  None      True   -0.944224          235     1.0   \n",
       "3        slew_time  None      True  -61.241754          320    -1.0   \n",
       "4       wind_limit  None      True    0.000000          799     0.0   \n",
       "5         ha_limit  None      True    0.000000          234     0.0   \n",
       "6        alt_limit  None      True    0.000000          369     0.0   \n",
       "7       moon_limit  None      True    0.000000          799     0.0   \n",
       "\n",
       "   max_accum_reward  accum_n  \n",
       "0          0.000000      799  \n",
       "1          1.000000      799  \n",
       "2          0.055776      235  \n",
       "3        -61.328779      235  \n",
       "4        -61.328779      235  \n",
       "5       -155.351488        4  \n",
       "6       -155.351488        4  \n",
       "7       -155.351488        4  "
      ]
     },
     "execution_count": 9,
     "metadata": {},
     "output_type": "execute_result"
    }
   ],
   "source": [
    "# output a pretty table showing the current status of the survey. \n",
    "# This is a stubb in place so things should be easy to pass to schedview\n",
    "conditions = mo.return_conditions()\n",
    "sched.survey_lists[0][0].make_reward_df(conditions)"
   ]
  },
  {
   "cell_type": "code",
   "execution_count": 10,
   "id": "ceac0add-d580-4bb2-9835-7dd142cb813e",
   "metadata": {},
   "outputs": [
    {
     "data": {
      "text/plain": [
       "Text(0, 0.5, 'Dec')"
      ]
     },
     "execution_count": 10,
     "metadata": {},
     "output_type": "execute_result"
    },
    {
     "data": {
      "image/png": "[encoded data removed]",
      "text/plain": [
       "<Figure size 640x480 with 2 Axes>"
      ]
     },
     "metadata": {},
     "output_type": "display_data"
    }
   ],
   "source": [
    "# can look at the reward for each potential observations on the sky\n",
    "fig, ax = plt.subplots()\n",
    "ack = ax.scatter(np.degrees(sched.survey_lists[0][0].observations['RA']),\n",
    "            np.degrees(sched.survey_lists[0][0].observations['dec']),\n",
    "            c=sched.survey_lists[0][0].reward, alpha=0.1)\n",
    "cb = plt.colorbar(ack)\n",
    "cb.set_label('Reward')\n",
    "ax.set_xlabel('RA')\n",
    "ax.set_ylabel('Dec')"
   ]
  },
  {
   "cell_type": "code",
   "execution_count": 11,
   "id": "f07f8d5d-186a-49f6-8d33-545fd955745f",
   "metadata": {},
   "outputs": [
    {
     "data": {
      "text/plain": [
       "<Popen: returncode: None args: 'ls -lh *.pkl'>"
      ]
     },
     "execution_count": 11,
     "metadata": {},
     "output_type": "execute_result"
    }
   ],
   "source": [
    "# How big is it to dump this scheduler\n",
    "file = open('save_test.pkl', 'wb')\n",
    "pickle.dump(sched, file)\n",
    "file.close()\n",
    "from subprocess import Popen\n",
    "Popen('ls -lh *.pkl', shell=True)"
   ]
  },
  {
   "cell_type": "markdown",
   "id": "9fa64691-f545-49f2-91c2-10b8657574e4",
   "metadata": {},
   "source": [
    "Pros and cons\n",
    "\n",
    "Cons:\n",
    "\n",
    "* Not as modular as using basis function objects\n",
    "* Setting an altitude limit of observations taken by a `PointingSurvey` object is done differently than in a `BlobSurvey`. (but we have the same issue with `ScriptedSurveys` where the logic on when to execute doesn't use only basis functions.)\n",
    "\n",
    "Pros\n",
    "\n",
    "* Scalable. 1 to 1,000,000 potential pointings, no problem. No looping over many survey objects.\n",
    "* Small memory/storage footprint. 3M uncompressed, <1M compressed. Current Auxtel uncompressed is 157M\n",
    "* Easy to output debugging data frame analagous to the other surveys\n",
    "* Easier to configure since all the logic is already in the class. One-liner to make the survey class"
   ]
  },
  {
   "cell_type": "markdown",
   "id": "10ab2695-8748-47fb-b243-08a3594e312e",
   "metadata": {},
   "source": [
    "## Example removing the 5-sigma depth logic in making decisions on what to observe"
   ]
  },
  {
   "cell_type": "code",
   "execution_count": 12,
   "id": "901ad52c-8e6f-4fbb-85be-fc5990bf7ee5",
   "metadata": {},
   "outputs": [
    {
     "name": "stdout",
     "output_type": "stream",
     "text": [
      "-rw-r--r--  1 yoachim  staff   4.1M Jan  6 11:44 save_test.pkl\n"
     ]
    }
   ],
   "source": [
    "# Say we want to lift the m5 and moon limits. Just remove them from the weights dict\n",
    "weights = {\"visit_gap\": 1.0, \"balance_revisit\": 1.0,  \"slew_time\": -1.0,\n",
    "           \"wind_limit\": 0.0, \"ha_limit\": 0, \"alt_limit\": 0}\n",
    "ps = PointingsSurvey(obs, detailers=[], weights=weights)\n",
    "sched = CoreScheduler([ps])"
   ]
  },
  {
   "cell_type": "code",
   "execution_count": 13,
   "id": "e6058702-572b-4f1e-a361-5ef59370c504",
   "metadata": {},
   "outputs": [
    {
     "name": "stderr",
     "output_type": "stream",
     "text": [
      "/Users/yoachim/git_repos/rubin_scheduler/rubin_scheduler/scheduler/surveys/pointings_survey.py:270: RuntimeWarning: invalid value encountered in divide\n",
      "  result = np.floor(1.0 + self.n_obs / sum_obs)\n"
     ]
    },
    {
     "name": "stdout",
     "output_type": "stream",
     "text": [
      "progress = 33.35%"
     ]
    },
    {
     "name": "stderr",
     "output_type": "stream",
     "text": [
      "/Users/yoachim/git_repos/rubin_scheduler/rubin_scheduler/skybrightness_pre/sky_model_pre.py:352: UserWarning: Requested MJD between sunrise and sunset, returning closest maps\n",
      "  warnings.warn(\"Requested MJD between sunrise and sunset, returning closest maps\")\n"
     ]
    },
    {
     "name": "stdout",
     "output_type": "stream",
     "text": [
      "progress = 100.07%Skipped 0 observations\n",
      "Flushed 0 observations from queue for being stale\n",
      "Completed 976 observations\n",
      "ran in 0 min = 0.0 hours\n"
     ]
    }
   ],
   "source": [
    "mo = ModelObservatory(downtimes=\"ideal\")\n",
    "mo, sched, completed_obs = sim_runner(mo, sched, sim_duration=3)"
   ]
  },
  {
   "cell_type": "code",
   "execution_count": 14,
   "id": "f46f1ff3-d9af-4119-bed5-84a7904958f7",
   "metadata": {},
   "outputs": [
    {
     "data": {
      "text/html": [
       "<div>\n",
       "<style scoped>\n",
       "    .dataframe tbody tr th:only-of-type {\n",
       "        vertical-align: middle;\n",
       "    }\n",
       "\n",
       "    .dataframe tbody tr th {\n",
       "        vertical-align: top;\n",
       "    }\n",
       "\n",
       "    .dataframe thead th {\n",
       "        text-align: right;\n",
       "    }\n",
       "</style>\n",
       "<table border=\"1\" class=\"dataframe\">\n",
       "  <thead>\n",
       "    <tr style=\"text-align: right;\">\n",
       "      <th></th>\n",
       "      <th>method</th>\n",
       "      <th>blank</th>\n",
       "      <th>feasible</th>\n",
       "      <th>max_reward</th>\n",
       "      <th>n_possibles</th>\n",
       "      <th>weight</th>\n",
       "      <th>max_accum_reward</th>\n",
       "      <th>accum_n</th>\n",
       "    </tr>\n",
       "  </thead>\n",
       "  <tbody>\n",
       "    <tr>\n",
       "      <th>0</th>\n",
       "      <td>visit_gap</td>\n",
       "      <td>None</td>\n",
       "      <td>True</td>\n",
       "      <td>0.000000</td>\n",
       "      <td>799</td>\n",
       "      <td>1.0</td>\n",
       "      <td>0.000000</td>\n",
       "      <td>799</td>\n",
       "    </tr>\n",
       "    <tr>\n",
       "      <th>1</th>\n",
       "      <td>balance_revisit</td>\n",
       "      <td>None</td>\n",
       "      <td>True</td>\n",
       "      <td>1.000000</td>\n",
       "      <td>799</td>\n",
       "      <td>1.0</td>\n",
       "      <td>1.000000</td>\n",
       "      <td>799</td>\n",
       "    </tr>\n",
       "    <tr>\n",
       "      <th>2</th>\n",
       "      <td>slew_time</td>\n",
       "      <td>None</td>\n",
       "      <td>True</td>\n",
       "      <td>-61.241754</td>\n",
       "      <td>320</td>\n",
       "      <td>-1.0</td>\n",
       "      <td>-60.241754</td>\n",
       "      <td>320</td>\n",
       "    </tr>\n",
       "    <tr>\n",
       "      <th>3</th>\n",
       "      <td>wind_limit</td>\n",
       "      <td>None</td>\n",
       "      <td>True</td>\n",
       "      <td>0.000000</td>\n",
       "      <td>799</td>\n",
       "      <td>0.0</td>\n",
       "      <td>-60.241754</td>\n",
       "      <td>320</td>\n",
       "    </tr>\n",
       "    <tr>\n",
       "      <th>4</th>\n",
       "      <td>ha_limit</td>\n",
       "      <td>None</td>\n",
       "      <td>True</td>\n",
       "      <td>0.000000</td>\n",
       "      <td>234</td>\n",
       "      <td>0.0</td>\n",
       "      <td>-108.117466</td>\n",
       "      <td>89</td>\n",
       "    </tr>\n",
       "    <tr>\n",
       "      <th>5</th>\n",
       "      <td>alt_limit</td>\n",
       "      <td>None</td>\n",
       "      <td>True</td>\n",
       "      <td>0.000000</td>\n",
       "      <td>369</td>\n",
       "      <td>0.0</td>\n",
       "      <td>-108.117466</td>\n",
       "      <td>89</td>\n",
       "    </tr>\n",
       "  </tbody>\n",
       "</table>\n",
       "</div>"
      ],
      "text/plain": [
       "            method blank  feasible  max_reward  n_possibles  weight  \\\n",
       "0        visit_gap  None      True    0.000000          799     1.0   \n",
       "1  balance_revisit  None      True    1.000000          799     1.0   \n",
       "2        slew_time  None      True  -61.241754          320    -1.0   \n",
       "3       wind_limit  None      True    0.000000          799     0.0   \n",
       "4         ha_limit  None      True    0.000000          234     0.0   \n",
       "5        alt_limit  None      True    0.000000          369     0.0   \n",
       "\n",
       "   max_accum_reward  accum_n  \n",
       "0          0.000000      799  \n",
       "1          1.000000      799  \n",
       "2        -60.241754      320  \n",
       "3        -60.241754      320  \n",
       "4       -108.117466       89  \n",
       "5       -108.117466       89  "
      ]
     },
     "execution_count": 14,
     "metadata": {},
     "output_type": "execute_result"
    }
   ],
   "source": [
    "conditions = mo.return_conditions()\n",
    "sched.survey_lists[0][0].make_reward_df(conditions)"
   ]
  },
  {
   "cell_type": "markdown",
   "id": "8c25b603-11a6-41ed-9414-62eee7aa66ff",
   "metadata": {},
   "source": [
    "## Example using Sequence Boost"
   ]
  },
  {
   "cell_type": "code",
   "execution_count": 15,
   "id": "fe6cf877-d028-49f0-b7ff-63f557fd2507",
   "metadata": {},
   "outputs": [],
   "source": [
    "# Let's try out the sequence boost\n",
    "obs_boost = obs.copy()\n",
    "\n",
    "# Say we want to make sure all 4 of seq1 execute, and all 5 in seq2 execute\n",
    "sequence_boost = {'seq1': 4, 'seq2': 5}\n",
    "weights = {\"visit_gap\": 1.0, \"balance_revisit\": 1.0,  \"slew_time\": -1.0,\n",
    "           \"wind_limit\": 0.0, \"ha_limit\": 0, \"alt_limit\": 0, 'sequence_boost': 5.}\n",
    "\n",
    "# Change the note so scheduler can recognize things as belonging to the same sequence\n",
    "for i in np.arange(4):\n",
    "    match = np.where(obs['scheduler_note'] == 'AUXTEL_PHOTO_IMAGINGPhoto1600-1_00%i' % (i+1))[0]\n",
    "    obs_boost['scheduler_note'][match] = 'seq1_%i' % i\n",
    "\n",
    "# and say we always want to take 5 of this one in a sequence. Need to give each part of \n",
    "# the sequence it's own observation.\n",
    "match = np.where(obs['scheduler_note'] == 'AUXTEL_PHOTO_IMAGINGPhoto1600-1_020')[0]\n",
    "\n",
    "five_obs = ObservationArray(5)\n",
    "for key in five_obs.dtype.names:\n",
    "    five_obs[key] = obs[match][key].copy()\n",
    "for i in range(5):\n",
    "    five_obs[i][\"scheduler_note\"] = \"seq2_%i\" % i\n",
    "\n",
    "obs_boost = np.concatenate([obs_boost, five_obs])\n",
    "\n",
    "# Here we've used the sequence boost to try and make things be taken in sequences.\n",
    "# One could also imagine making a detailer that makes sure every time a pointing is selected,\n",
    "# it gets converted into the desired sequence. \n"
   ]
  },
  {
   "cell_type": "code",
   "execution_count": 16,
   "id": "83f375d6-f9ec-4f8e-9828-cf6b15a4fdcc",
   "metadata": {},
   "outputs": [
    {
     "name": "stderr",
     "output_type": "stream",
     "text": [
      "/Users/yoachim/git_repos/rubin_scheduler/rubin_scheduler/scheduler/surveys/pointings_survey.py:270: RuntimeWarning: invalid value encountered in divide\n",
      "  result = np.floor(1.0 + self.n_obs / sum_obs)\n"
     ]
    },
    {
     "name": "stdout",
     "output_type": "stream",
     "text": [
      "progress = 33.35%"
     ]
    },
    {
     "name": "stderr",
     "output_type": "stream",
     "text": [
      "/Users/yoachim/git_repos/rubin_scheduler/rubin_scheduler/skybrightness_pre/sky_model_pre.py:352: UserWarning: Requested MJD between sunrise and sunset, returning closest maps\n",
      "  warnings.warn(\"Requested MJD between sunrise and sunset, returning closest maps\")\n"
     ]
    },
    {
     "name": "stdout",
     "output_type": "stream",
     "text": [
      "progress = 100.07%Skipped 0 observations\n",
      "Flushed 0 observations from queue for being stale\n",
      "Completed 976 observations\n",
      "ran in 0 min = 0.0 hours\n"
     ]
    }
   ],
   "source": [
    "ps = PointingsSurvey(obs_boost, detailers=[], weights=weights, track_notes_ngoal=sequence_boost)\n",
    "sched = CoreScheduler([ps])\n",
    "\n",
    "mo = ModelObservatory(downtimes=\"ideal\")\n",
    "mo, sched, completed_obs = sim_runner(mo, sched, sim_duration=3)\n"
   ]
  },
  {
   "cell_type": "code",
   "execution_count": 17,
   "id": "03d1e64b-6262-4756-9f5d-91223ac77fec",
   "metadata": {},
   "outputs": [
    {
     "data": {
      "text/html": [
       "<div>\n",
       "<style scoped>\n",
       "    .dataframe tbody tr th:only-of-type {\n",
       "        vertical-align: middle;\n",
       "    }\n",
       "\n",
       "    .dataframe tbody tr th {\n",
       "        vertical-align: top;\n",
       "    }\n",
       "\n",
       "    .dataframe thead th {\n",
       "        text-align: right;\n",
       "    }\n",
       "</style>\n",
       "<table border=\"1\" class=\"dataframe\">\n",
       "  <thead>\n",
       "    <tr style=\"text-align: right;\">\n",
       "      <th></th>\n",
       "      <th>method</th>\n",
       "      <th>blank</th>\n",
       "      <th>feasible</th>\n",
       "      <th>max_reward</th>\n",
       "      <th>n_possibles</th>\n",
       "      <th>weight</th>\n",
       "      <th>max_accum_reward</th>\n",
       "      <th>accum_n</th>\n",
       "    </tr>\n",
       "  </thead>\n",
       "  <tbody>\n",
       "    <tr>\n",
       "      <th>0</th>\n",
       "      <td>visit_gap</td>\n",
       "      <td>None</td>\n",
       "      <td>True</td>\n",
       "      <td>0.000000</td>\n",
       "      <td>804</td>\n",
       "      <td>1.0</td>\n",
       "      <td>0.000000</td>\n",
       "      <td>804</td>\n",
       "    </tr>\n",
       "    <tr>\n",
       "      <th>1</th>\n",
       "      <td>balance_revisit</td>\n",
       "      <td>None</td>\n",
       "      <td>True</td>\n",
       "      <td>1.000000</td>\n",
       "      <td>804</td>\n",
       "      <td>1.0</td>\n",
       "      <td>1.000000</td>\n",
       "      <td>804</td>\n",
       "    </tr>\n",
       "    <tr>\n",
       "      <th>2</th>\n",
       "      <td>slew_time</td>\n",
       "      <td>None</td>\n",
       "      <td>True</td>\n",
       "      <td>-61.241754</td>\n",
       "      <td>320</td>\n",
       "      <td>-1.0</td>\n",
       "      <td>-60.241754</td>\n",
       "      <td>320</td>\n",
       "    </tr>\n",
       "    <tr>\n",
       "      <th>3</th>\n",
       "      <td>wind_limit</td>\n",
       "      <td>None</td>\n",
       "      <td>True</td>\n",
       "      <td>0.000000</td>\n",
       "      <td>804</td>\n",
       "      <td>0.0</td>\n",
       "      <td>-60.241754</td>\n",
       "      <td>320</td>\n",
       "    </tr>\n",
       "    <tr>\n",
       "      <th>4</th>\n",
       "      <td>ha_limit</td>\n",
       "      <td>None</td>\n",
       "      <td>True</td>\n",
       "      <td>0.000000</td>\n",
       "      <td>234</td>\n",
       "      <td>0.0</td>\n",
       "      <td>-108.117466</td>\n",
       "      <td>89</td>\n",
       "    </tr>\n",
       "    <tr>\n",
       "      <th>5</th>\n",
       "      <td>alt_limit</td>\n",
       "      <td>None</td>\n",
       "      <td>True</td>\n",
       "      <td>0.000000</td>\n",
       "      <td>369</td>\n",
       "      <td>0.0</td>\n",
       "      <td>-108.117466</td>\n",
       "      <td>89</td>\n",
       "    </tr>\n",
       "    <tr>\n",
       "      <th>6</th>\n",
       "      <td>sequence_boost</td>\n",
       "      <td>None</td>\n",
       "      <td>True</td>\n",
       "      <td>0.000000</td>\n",
       "      <td>804</td>\n",
       "      <td>5.0</td>\n",
       "      <td>-108.117466</td>\n",
       "      <td>89</td>\n",
       "    </tr>\n",
       "  </tbody>\n",
       "</table>\n",
       "</div>"
      ],
      "text/plain": [
       "            method blank  feasible  max_reward  n_possibles  weight  \\\n",
       "0        visit_gap  None      True    0.000000          804     1.0   \n",
       "1  balance_revisit  None      True    1.000000          804     1.0   \n",
       "2        slew_time  None      True  -61.241754          320    -1.0   \n",
       "3       wind_limit  None      True    0.000000          804     0.0   \n",
       "4         ha_limit  None      True    0.000000          234     0.0   \n",
       "5        alt_limit  None      True    0.000000          369     0.0   \n",
       "6   sequence_boost  None      True    0.000000          804     5.0   \n",
       "\n",
       "   max_accum_reward  accum_n  \n",
       "0          0.000000      804  \n",
       "1          1.000000      804  \n",
       "2        -60.241754      320  \n",
       "3        -60.241754      320  \n",
       "4       -108.117466       89  \n",
       "5       -108.117466       89  \n",
       "6       -108.117466       89  "
      ]
     },
     "execution_count": 17,
     "metadata": {},
     "output_type": "execute_result"
    }
   ],
   "source": [
    "conditions = mo.return_conditions()\n",
    "sched.survey_lists[0][0].make_reward_df(conditions)"
   ]
  },
  {
   "cell_type": "code",
   "execution_count": 18,
   "id": "fe642799-2bd2-4f48-b60c-4c666f5e82a6",
   "metadata": {},
   "outputs": [],
   "source": [
    "# Let's see how the sequences look.\n",
    "seq_indx = ['seq' in s for s in completed_obs[\"scheduler_note\"]]\n",
    "df = pd.DataFrame(completed_obs[seq_indx])\n"
   ]
  },
  {
   "cell_type": "code",
   "execution_count": 19,
   "id": "120ec3e3-934f-415f-ae27-cbca3c46686a",
   "metadata": {},
   "outputs": [
    {
     "name": "stderr",
     "output_type": "stream",
     "text": [
      "/Users/yoachim/git_repos/rubin_scheduler/rubin_scheduler/scheduler/surveys/pointings_survey.py:270: RuntimeWarning: invalid value encountered in divide\n",
      "  result = np.floor(1.0 + self.n_obs / sum_obs)\n"
     ]
    },
    {
     "name": "stdout",
     "output_type": "stream",
     "text": [
      "progress = 33.35%"
     ]
    },
    {
     "name": "stderr",
     "output_type": "stream",
     "text": [
      "/Users/yoachim/git_repos/rubin_scheduler/rubin_scheduler/skybrightness_pre/sky_model_pre.py:352: UserWarning: Requested MJD between sunrise and sunset, returning closest maps\n",
      "  warnings.warn(\"Requested MJD between sunrise and sunset, returning closest maps\")\n"
     ]
    },
    {
     "name": "stdout",
     "output_type": "stream",
     "text": [
      "progress = 100.07%Skipped 0 observations\n",
      "Flushed 0 observations from queue for being stale\n",
      "Completed 976 observations\n",
      "ran in 0 min = 0.0 hours\n"
     ]
    },
    {
     "data": {
      "text/html": [
       "<div>\n",
       "<style scoped>\n",
       "    .dataframe tbody tr th:only-of-type {\n",
       "        vertical-align: middle;\n",
       "    }\n",
       "\n",
       "    .dataframe tbody tr th {\n",
       "        vertical-align: top;\n",
       "    }\n",
       "\n",
       "    .dataframe thead th {\n",
       "        text-align: right;\n",
       "    }\n",
       "</style>\n",
       "<table border=\"1\" class=\"dataframe\">\n",
       "  <thead>\n",
       "    <tr style=\"text-align: right;\">\n",
       "      <th></th>\n",
       "      <th>method</th>\n",
       "      <th>blank</th>\n",
       "      <th>feasible</th>\n",
       "      <th>max_reward</th>\n",
       "      <th>n_possibles</th>\n",
       "      <th>weight</th>\n",
       "      <th>max_accum_reward</th>\n",
       "      <th>accum_n</th>\n",
       "    </tr>\n",
       "  </thead>\n",
       "  <tbody>\n",
       "    <tr>\n",
       "      <th>0</th>\n",
       "      <td>visit_gap</td>\n",
       "      <td>None</td>\n",
       "      <td>True</td>\n",
       "      <td>0.000000</td>\n",
       "      <td>799</td>\n",
       "      <td>1.0</td>\n",
       "      <td>0.000000</td>\n",
       "      <td>799</td>\n",
       "    </tr>\n",
       "    <tr>\n",
       "      <th>1</th>\n",
       "      <td>balance_revisit</td>\n",
       "      <td>None</td>\n",
       "      <td>True</td>\n",
       "      <td>1.000000</td>\n",
       "      <td>799</td>\n",
       "      <td>1.0</td>\n",
       "      <td>1.000000</td>\n",
       "      <td>799</td>\n",
       "    </tr>\n",
       "    <tr>\n",
       "      <th>2</th>\n",
       "      <td>slew_time</td>\n",
       "      <td>None</td>\n",
       "      <td>True</td>\n",
       "      <td>-61.241754</td>\n",
       "      <td>320</td>\n",
       "      <td>-1.0</td>\n",
       "      <td>-60.241754</td>\n",
       "      <td>320</td>\n",
       "    </tr>\n",
       "    <tr>\n",
       "      <th>3</th>\n",
       "      <td>wind_limit</td>\n",
       "      <td>None</td>\n",
       "      <td>True</td>\n",
       "      <td>0.000000</td>\n",
       "      <td>799</td>\n",
       "      <td>0.0</td>\n",
       "      <td>-60.241754</td>\n",
       "      <td>320</td>\n",
       "    </tr>\n",
       "    <tr>\n",
       "      <th>4</th>\n",
       "      <td>ha_limit</td>\n",
       "      <td>None</td>\n",
       "      <td>True</td>\n",
       "      <td>0.000000</td>\n",
       "      <td>234</td>\n",
       "      <td>0.0</td>\n",
       "      <td>-108.117466</td>\n",
       "      <td>89</td>\n",
       "    </tr>\n",
       "    <tr>\n",
       "      <th>5</th>\n",
       "      <td>alt_limit</td>\n",
       "      <td>None</td>\n",
       "      <td>True</td>\n",
       "      <td>0.000000</td>\n",
       "      <td>369</td>\n",
       "      <td>0.0</td>\n",
       "      <td>-108.117466</td>\n",
       "      <td>89</td>\n",
       "    </tr>\n",
       "  </tbody>\n",
       "</table>\n",
       "</div>"
      ],
      "text/plain": [
       "            method blank  feasible  max_reward  n_possibles  weight  \\\n",
       "0        visit_gap  None      True    0.000000          799     1.0   \n",
       "1  balance_revisit  None      True    1.000000          799     1.0   \n",
       "2        slew_time  None      True  -61.241754          320    -1.0   \n",
       "3       wind_limit  None      True    0.000000          799     0.0   \n",
       "4         ha_limit  None      True    0.000000          234     0.0   \n",
       "5        alt_limit  None      True    0.000000          369     0.0   \n",
       "\n",
       "   max_accum_reward  accum_n  \n",
       "0          0.000000      799  \n",
       "1          1.000000      799  \n",
       "2        -60.241754      320  \n",
       "3        -60.241754      320  \n",
       "4       -108.117466       89  \n",
       "5       -108.117466       89  "
      ]
     },
     "execution_count": 19,
     "metadata": {},
     "output_type": "execute_result"
    }
   ],
   "source": [
    "# does something different happen with no sequence boost?\n",
    "weights = {\"visit_gap\": 1.0, \"balance_revisit\": 1.0,  \"slew_time\": -1.0,\n",
    "           \"wind_limit\": 0.0, \"ha_limit\": 0, \"alt_limit\": 0.}\n",
    "ps = PointingsSurvey(obs, detailers=[], weights=weights)\n",
    "sched = CoreScheduler([ps])\n",
    "\n",
    "mo = ModelObservatory(downtimes=\"ideal\")\n",
    "mo, sched, completed_obs2 = sim_runner(mo, sched, sim_duration=3)\n",
    "\n",
    "conditions = mo.return_conditions()\n",
    "sched.survey_lists[0][0].make_reward_df(conditions)"
   ]
  },
  {
   "cell_type": "code",
   "execution_count": 20,
   "id": "f1792c05-4b61-4e5e-9aaa-802bee6aa89f",
   "metadata": {},
   "outputs": [
    {
     "name": "stdout",
     "output_type": "stream",
     "text": [
      "Did we point differently with the sequence boost on? False\n"
     ]
    }
   ],
   "source": [
    "# Took the same total number of images, but not the same positions.\n",
    "check = True\n",
    "if completed_obs[\"RA\"].size == completed_obs2[\"RA\"].size:\n",
    "    check = ~np.all(completed_obs[\"RA\"] == completed_obs2[\"RA\"])\n",
    "print(\"Did we point differently with the sequence boost on?\", check)"
   ]
  },
  {
   "cell_type": "code",
   "execution_count": null,
   "id": "6c624974-eaed-47ab-9322-6eb7374ac039",
   "metadata": {},
   "outputs": [],
   "source": []
  }
 ],
 "metadata": {
  "kernelspec": {
   "display_name": "Python 3 (ipykernel)",
   "language": "python",
   "name": "python3"
  },
  "language_info": {
   "codemirror_mode": {
    "name": "ipython",
    "version": 3
   },
   "file_extension": ".py",
   "mimetype": "text/x-python",
   "name": "python",
   "nbconvert_exporter": "python",
   "pygments_lexer": "ipython3",
   "version": "3.11.8"
  }
 },
 "nbformat": 4,
 "nbformat_minor": 5
}
