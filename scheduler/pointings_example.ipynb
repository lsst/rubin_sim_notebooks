{
 "cells": [
  {
   "cell_type": "markdown",
   "id": "4a7023d1-c58a-4e79-b869-80273802cdad",
   "metadata": {},
   "source": [
    "There are three general cases where we want to construct a scheduler to make observations:\n",
    "\n",
    "1) We have a large area we would like to observe (in one or more filters) in an intelligent way.  In this case, we typically define a survey footprint with HEALpix maps and use one or more `BlobSurvey` objects to execute the observations. This is how we execute the main LSST survey, including things like the Wide Fast Deep area and the North Ecliptic Spur. \n",
    "2) We have a list of pointings we would like executed at a specific time. This case can be done with `ScriptedSurvey` objects. \n",
    "3) We would like to select the best choice from a list of potential pointings. This doesn't come up for the main LSST survey, but can be useful for AuxTel and commissioning studies.  "
   ]
  },
  {
   "cell_type": "code",
   "execution_count": 1,
   "id": "179a5c6a-4d51-462f-8322-3581921c1111",
   "metadata": {},
   "outputs": [],
   "source": [
    "import numpy as np\n",
    "import healpy as hp\n",
    "import matplotlib.pylab as plt\n",
    "%matplotlib inline\n",
    "import pandas as pd\n",
    "\n",
    "from rubin_scheduler.scheduler import sim_runner\n",
    "from rubin_scheduler.scheduler.model_observatory import ModelObservatory\n",
    "from rubin_scheduler.scheduler.surveys import PointingsSurvey\n",
    "from rubin_scheduler.scheduler.utils import ObservationArray\n",
    "from rubin_scheduler.scheduler.schedulers import CoreScheduler\n",
    "\n",
    "from astropy import units\n",
    "from astropy.coordinates import Angle\n",
    "\n",
    "import pickle"
   ]
  },
  {
   "cell_type": "code",
   "execution_count": 2,
   "id": "05e19719-5904-48e0-8e98-7b69c8ee29e6",
   "metadata": {},
   "outputs": [
    {
     "data": {
      "text/html": [
       "<div>\n",
       "<style scoped>\n",
       "    .dataframe tbody tr th:only-of-type {\n",
       "        vertical-align: middle;\n",
       "    }\n",
       "\n",
       "    .dataframe tbody tr th {\n",
       "        vertical-align: top;\n",
       "    }\n",
       "\n",
       "    .dataframe thead th {\n",
       "        text-align: right;\n",
       "    }\n",
       "</style>\n",
       "<table border=\"1\" class=\"dataframe\">\n",
       "  <thead>\n",
       "    <tr style=\"text-align: right;\">\n",
       "      <th></th>\n",
       "      <th>Survey</th>\n",
       "      <th>Name</th>\n",
       "      <th>RA</th>\n",
       "      <th>Dec</th>\n",
       "    </tr>\n",
       "  </thead>\n",
       "  <tbody>\n",
       "    <tr>\n",
       "      <th>0</th>\n",
       "      <td>LATISS_POLE</td>\n",
       "      <td>001</td>\n",
       "      <td>00:00:00.00</td>\n",
       "      <td>-89:53:48.23</td>\n",
       "    </tr>\n",
       "    <tr>\n",
       "      <th>1</th>\n",
       "      <td>LATISS_POLE</td>\n",
       "      <td>002</td>\n",
       "      <td>02:10:54.54</td>\n",
       "      <td>-89:53:48.23</td>\n",
       "    </tr>\n",
       "    <tr>\n",
       "      <th>2</th>\n",
       "      <td>LATISS_POLE</td>\n",
       "      <td>003</td>\n",
       "      <td>04:21:49.09</td>\n",
       "      <td>-89:53:48.23</td>\n",
       "    </tr>\n",
       "    <tr>\n",
       "      <th>3</th>\n",
       "      <td>LATISS_POLE</td>\n",
       "      <td>004</td>\n",
       "      <td>06:32:43.63</td>\n",
       "      <td>-89:53:48.23</td>\n",
       "    </tr>\n",
       "    <tr>\n",
       "      <th>4</th>\n",
       "      <td>LATISS_POLE</td>\n",
       "      <td>005</td>\n",
       "      <td>08:43:38.18</td>\n",
       "      <td>-89:53:48.23</td>\n",
       "    </tr>\n",
       "    <tr>\n",
       "      <th>...</th>\n",
       "      <td>...</td>\n",
       "      <td>...</td>\n",
       "      <td>...</td>\n",
       "      <td>...</td>\n",
       "    </tr>\n",
       "    <tr>\n",
       "      <th>794</th>\n",
       "      <td>AUXTEL_PHOTO_IMAGING</td>\n",
       "      <td>Photo1800-1_028</td>\n",
       "      <td>18:00:46.04</td>\n",
       "      <td>-24:57:20.25</td>\n",
       "    </tr>\n",
       "    <tr>\n",
       "      <th>795</th>\n",
       "      <td>AUXTEL_PHOTO_IMAGING</td>\n",
       "      <td>Photo1800-1_029</td>\n",
       "      <td>18:00:49.96</td>\n",
       "      <td>-24:57:20.25</td>\n",
       "    </tr>\n",
       "    <tr>\n",
       "      <th>796</th>\n",
       "      <td>AUXTEL_PHOTO_IMAGING</td>\n",
       "      <td>Photo1800-1_030</td>\n",
       "      <td>18:00:53.88</td>\n",
       "      <td>-24:57:20.25</td>\n",
       "    </tr>\n",
       "    <tr>\n",
       "      <th>797</th>\n",
       "      <td>AUXTEL_PHOTO_IMAGING</td>\n",
       "      <td>Photo1800-1_031</td>\n",
       "      <td>18:00:57.79</td>\n",
       "      <td>-24:57:20.25</td>\n",
       "    </tr>\n",
       "    <tr>\n",
       "      <th>798</th>\n",
       "      <td>AUXTEL_PHOTO_IMAGING</td>\n",
       "      <td>Photo1800-1_032</td>\n",
       "      <td>18:01:01.71</td>\n",
       "      <td>-24:57:20.25</td>\n",
       "    </tr>\n",
       "  </tbody>\n",
       "</table>\n",
       "<p>799 rows × 4 columns</p>\n",
       "</div>"
      ],
      "text/plain": [
       "                   Survey             Name           RA           Dec\n",
       "0             LATISS_POLE              001  00:00:00.00  -89:53:48.23\n",
       "1             LATISS_POLE              002  02:10:54.54  -89:53:48.23\n",
       "2             LATISS_POLE              003  04:21:49.09  -89:53:48.23\n",
       "3             LATISS_POLE              004  06:32:43.63  -89:53:48.23\n",
       "4             LATISS_POLE              005  08:43:38.18  -89:53:48.23\n",
       "..                    ...              ...          ...           ...\n",
       "794  AUXTEL_PHOTO_IMAGING  Photo1800-1_028  18:00:46.04  -24:57:20.25\n",
       "795  AUXTEL_PHOTO_IMAGING  Photo1800-1_029  18:00:49.96  -24:57:20.25\n",
       "796  AUXTEL_PHOTO_IMAGING  Photo1800-1_030  18:00:53.88  -24:57:20.25\n",
       "797  AUXTEL_PHOTO_IMAGING  Photo1800-1_031  18:00:57.79  -24:57:20.25\n",
       "798  AUXTEL_PHOTO_IMAGING  Photo1800-1_032  18:01:01.71  -24:57:20.25\n",
       "\n",
       "[799 rows x 4 columns]"
      ]
     },
     "execution_count": 2,
     "metadata": {},
     "output_type": "execute_result"
    }
   ],
   "source": [
    "# Read in a list of pointings we might want to observe\n",
    "tiles = pd.read_csv('auxtel_tiles.txt', delimiter=' ')\n",
    "tiles"
   ]
  },
  {
   "cell_type": "code",
   "execution_count": 3,
   "id": "208ecb37-4cbd-4190-95d9-1a10c9cc8b1d",
   "metadata": {},
   "outputs": [],
   "source": [
    "# Convert pointings to an observation array\n",
    "obs = ObservationArray(n=len(tiles))\n",
    "obs['scheduler_note'] = tiles['Survey'] + tiles['Name']\n",
    "obs['RA'] = Angle(tiles['RA'],unit=units.hourangle).rad\n",
    "obs['dec'] = Angle(tiles['Dec'],unit=units.degree).rad\n",
    "\n",
    "obs['flush_by_mjd'] = 0.\n",
    "obs['nexp'] = 1\n",
    "obs['filter'] = 'r'\n",
    "obs['exptime'] = 60."
   ]
  },
  {
   "cell_type": "code",
   "execution_count": 4,
   "id": "e7c41714-df85-4417-9b68-f5688bd958e6",
   "metadata": {},
   "outputs": [],
   "source": [
    "# load the potential observations into a PointingsSurvey\n",
    "# by default, the PointingsSurvey will stick on a detailer that \n",
    "# sets each observation to the parallactic angle. For now we'll clobber \n",
    "# that so all the observations get taken with rotTelPos=0\n",
    "ps = PointingsSurvey(obs, detailers=[])\n",
    "sched = CoreScheduler([ps])\n"
   ]
  },
  {
   "cell_type": "code",
   "execution_count": 5,
   "id": "bd23e185-e4e8-4b7d-91e8-8e907291d374",
   "metadata": {},
   "outputs": [
    {
     "name": "stderr",
     "output_type": "stream",
     "text": [
      "/Users/yoachim/git_repos/rubin_scheduler/rubin_scheduler/scheduler/surveys/pointings_survey.py:268: RuntimeWarning: invalid value encountered in divide\n",
      "  result = np.floor(1.0 + self.n_obs / sum_obs)\n"
     ]
    },
    {
     "name": "stdout",
     "output_type": "stream",
     "text": [
      "progress = 65.27%"
     ]
    },
    {
     "name": "stderr",
     "output_type": "stream",
     "text": [
      "/Users/yoachim/git_repos/rubin_scheduler/rubin_scheduler/skybrightness_pre/sky_model_pre.py:352: UserWarning: Requested MJD between sunrise and sunset, returning closest maps\n",
      "  warnings.warn(\"Requested MJD between sunrise and sunset, returning closest maps\")\n"
     ]
    },
    {
     "name": "stdout",
     "output_type": "stream",
     "text": [
      "progress = 99.98%Skipped 0 observations\n",
      "Flushed 0 observations from queue for being stale\n",
      "Completed 1877 observations\n",
      "ran in 0 min = 0.0 hours\n"
     ]
    }
   ],
   "source": [
    "# Try observing with the survey for 3 days\n",
    "mo = ModelObservatory(downtimes=\"ideal\")\n",
    "mo, sched, completed_obs = sim_runner(mo, sched, sim_duration=3)\n"
   ]
  },
  {
   "cell_type": "code",
   "execution_count": 6,
   "id": "7ac23ec6-1e24-4ca4-8d70-47c21da643f6",
   "metadata": {},
   "outputs": [
    {
     "data": {
      "text/plain": [
       "Text(0.5, 1.0, 'Completed observations')"
      ]
     },
     "execution_count": 6,
     "metadata": {},
     "output_type": "execute_result"
    },
    {
     "data": {
      "image/png": "[encoded data removed]",
      "text/plain": [
       "<Figure size 640x480 with 2 Axes>"
      ]
     },
     "metadata": {},
     "output_type": "display_data"
    }
   ],
   "source": [
    "# plot the observations that were taken\n",
    "fig, ax = plt.subplots()\n",
    "ack = ax.scatter(np.degrees(completed_obs['RA']), np.degrees(completed_obs['dec']),\n",
    "            c=completed_obs['mjd']-completed_obs['mjd'].min(), alpha=0.1)\n",
    "cb = plt.colorbar(ack)\n",
    "cb.set_label('Night')\n",
    "ax.set_xlabel('RA')\n",
    "ax.set_ylabel('Dec')\n",
    "ax.set_title('Completed observations')"
   ]
  },
  {
   "cell_type": "code",
   "execution_count": 7,
   "id": "76d30e46-422a-44f2-bdcd-2bdbd9261078",
   "metadata": {},
   "outputs": [
    {
     "data": {
      "text/markdown": [
       "Conditions at 0x3041a2e90\n",
       "============================\n",
       "nside:  32   \n",
       "site:  LSST   \n",
       "exptime:  30.0   \n",
       "lmst:  [10.09478658]   \n",
       "clouds:  None   \n",
       "current_filter:  r   \n",
       "mounted_filters:  ['g', 'r', 'i', 'z', 'y']   \n",
       "night:  3   \n",
       "wind_speed:  None   \n",
       "wind_direction:  None   \n",
       "len(scheduled_observations):  0   \n",
       "len(queue):  None   \n",
       "moonPhase:  45.903710925335766   \n",
       "bulk_cloud:  [0.]   \n",
       "targets_of_opportunity:  None   \n",
       "cumulative_azimuth_rad:  [2.20400493]   \n",
       "\n",
       "Positions (radians)\n",
       "-------------------\n",
       "| name      |        alt |        az |       RA |       decl |   rot |\n",
       "|:----------|-----------:|----------:|---------:|-----------:|------:|\n",
       "| sun       |  -0.437797 | nan       | 0.715277 |  0.27698   |   nan |\n",
       "| moon      |   0.573293 |   5.87194 | 2.26262  |  0.404406  |   nan |\n",
       "| venus     | nan        | nan       | 4.32439  | -0.374159  |   nan |\n",
       "| mars      | nan        | nan       | 2.89319  |  0.138134  |   nan |\n",
       "| jupiter   | nan        | nan       | 1.54546  |  0.404308  |   nan |\n",
       "| saturn    | nan        | nan       | 6.19314  | -0.0798694 |   nan |\n",
       "| telescope |   1.08287  |   2.29125 | 3.16376  | -0.792473  |     0 |\n",
       "\n",
       "Positions (degrees)\n",
       "-------------------\n",
       "| name      |      alt |      az |       RA |      decl |   rot |\n",
       "|:----------|---------:|--------:|---------:|----------:|------:|\n",
       "| sun       | -25.0839 | nan     |  40.9823 |  15.8698  |   nan |\n",
       "| moon      |  32.8473 | 336.437 | 129.639  |  23.1708  |   nan |\n",
       "| venus     | nan      | nan     | 247.769  | -21.4378  |   nan |\n",
       "| mars      | nan      | nan     | 165.767  |   7.91451 |   nan |\n",
       "| jupiter   | nan      | nan     |  88.5482 |  23.1651  |   nan |\n",
       "| saturn    | nan      | nan     | 354.841  |  -4.57618 |   nan |\n",
       "| telescope |  62.0439 | 131.279 | 181.27   | -45.4053  |     0 |\n",
       "\n",
       "Events\n",
       "------\n",
       "| event           |     MJD | date                          |\n",
       "|:----------------|--------:|:------------------------------|\n",
       "| sunset          | 60798.9 | 2025-05-03 22:01:24.180378913 |\n",
       "| sun_n12_setting | 60799   | 2025-05-03 22:58:56.840710042 |\n",
       "| sun_n18_setting | 60799   | 2025-05-03 23:27:08.767199813 |\n",
       "| mjd             | 60799   | 2025-05-04 00:00:08.862715958 |\n",
       "| moonset         | 60799.2 | 2025-05-04 03:44:58.853677511 |\n",
       "| sun_n18_rising  | 60799.4 | 2025-05-04 09:52:40.349746044 |\n",
       "| sun_n12_rising  | 60799.4 | 2025-05-04 10:20:54.727278648 |\n",
       "| sunrise         | 60799.5 | 2025-05-04 11:18:33.493913412 |\n",
       "| moonrise        | 60799.8 | 2025-05-04 18:02:53.684754964 |\n",
       "\n",
       "Maps\n",
       "----\n",
       "| map             |   nside |       min |        max |   median |\n",
       "|:----------------|--------:|----------:|-----------:|---------:|\n",
       "| airmass         |      32 |  1.00011  | 2023.39    |  1.99986 |\n",
       "| ra              |      32 |  0        |    6.25864 |  3.12932 |\n",
       "| dec             |      32 | -1.54528  |    1.54528 |  0       |\n",
       "| slewtime        |      32 |  4.02758  |  155.97    | 87.8253  |\n",
       "| m5_depth_u      |      32 | 21.641    |   23.4351  | 22.9119  |\n",
       "| m5_depth_g      |      32 | 22.7408   |   24.5751  | 24.068   |\n",
       "| m5_depth_r      |      32 | 22.7132   |   24.4004  | 23.9248  |\n",
       "| m5_depth_i      |      32 | 22.5993   |   24.0901  | 23.6323  |\n",
       "| m5_depth_z      |      32 | 22.2565   |   23.5454  | 23.1085  |\n",
       "| m5_depth_y      |      32 | 21.2968   |   22.614   | 22.1473  |\n",
       "| skybrightness_u |      32 | 20.2512   |   21.8022  | 21.4947  |\n",
       "| skybrightness_g |      32 | 19.1271   |   21.2938  | 20.8658  |\n",
       "| skybrightness_r |      32 | 18.7849   |   20.8594  | 20.4332  |\n",
       "| skybrightness_i |      32 | 18.6028   |   20.2587  | 19.8609  |\n",
       "| skybrightness_z |      32 | 18.2143   |   19.4469  | 19.0707  |\n",
       "| skybrightness_y |      32 | 17.6182   |   18.6018  | 18.2513  |\n",
       "| fwhm_eff_u      |      32 |  0.866154 |    3.73443 |  1.24897 |\n",
       "| fwhm_eff_g      |      32 |  0.820989 |    3.5397  |  1.18384 |\n",
       "| fwhm_eff_r      |      32 |  0.779768 |    3.36198 |  1.1244  |\n",
       "| fwhm_eff_i      |      32 |  0.751378 |    3.23958 |  1.08346 |\n",
       "| fwhm_eff_z      |      32 |  0.732565 |    3.15846 |  1.05634 |\n",
       "| fwhm_eff_y      |      32 |  0.717519 |    3.09359 |  1.03464 |\n"
      ],
      "text/plain": [
       "<Conditions mjd='[60799.00010258]' at 0x3041a2e90>"
      ]
     },
     "execution_count": 7,
     "metadata": {},
     "output_type": "execute_result"
    }
   ],
   "source": [
    "conditions = mo.return_conditions()\n",
    "conditions"
   ]
  },
  {
   "cell_type": "code",
   "execution_count": 8,
   "id": "976ff9bb-9796-44fd-9306-d9a0f9166ddf",
   "metadata": {},
   "outputs": [
    {
     "data": {
      "text/markdown": [
       "# CoreScheduler at 0x1788ed6d0\n",
       "|              | value                            |\n",
       "|:-------------|:---------------------------------|\n",
       "| camera       | LSST                             |\n",
       "| nside        | 32                               |\n",
       "| survey index | [0, 0]                           |\n",
       "| Last chosen  | <PointingsSurvey at 0x1789b6e90> |\n",
       "\n",
       "## Surveys\n",
       "\n",
       "### Survey list 0\n",
       "| survey                           |   reward | chosen   |\n",
       "|:---------------------------------|---------:|:---------|\n",
       "| <PointingsSurvey at 0x1789b6e90> | -3.25957 | True     |\n",
       "\n",
       "Conditions at 0x178a015d0\n",
       "============================\n",
       "nside:  32   \n",
       "site:  LSST   \n",
       "exptime:  30.0   \n",
       "lmst:  [10.07676106]   \n",
       "clouds:  None   \n",
       "current_filter:  r   \n",
       "mounted_filters:  ['g', 'r', 'i', 'z', 'y']   \n",
       "night:  3   \n",
       "wind_speed:  None   \n",
       "wind_direction:  None   \n",
       "len(scheduled_observations):  0   \n",
       "len(queue):  0   \n",
       "moonPhase:  45.900517715105885   \n",
       "bulk_cloud:  [0.]   \n",
       "targets_of_opportunity:  None   \n",
       "cumulative_azimuth_rad:  [2.20400493]   \n",
       "\n",
       "Positions (radians)\n",
       "-------------------\n",
       "| name      |       alt |        az |       RA |       decl |   rot |\n",
       "|:----------|----------:|----------:|---------:|-----------:|------:|\n",
       "| sun       |  -0.43375 | nan       | 0.715264 |  0.276976  |   nan |\n",
       "| moon      |   0.57481 |   5.87663 | 2.26251  |  0.40447   |   nan |\n",
       "| venus     | nan       | nan       | 4.32437  | -0.374155  |   nan |\n",
       "| mars      | nan       | nan       | 2.89318  |  0.138137  |   nan |\n",
       "| jupiter   | nan       | nan       | 1.54546  |  0.404308  |   nan |\n",
       "| saturn    | nan       | nan       | 6.19314  | -0.0798696 |   nan |\n",
       "| telescope |   1.08258 |   2.28339 | 3.1614   | -0.789168  |     0 |\n",
       "\n",
       "Positions (degrees)\n",
       "-------------------\n",
       "| name      |      alt |      az |       RA |      decl |   rot |\n",
       "|:----------|---------:|--------:|---------:|----------:|------:|\n",
       "| sun       | -24.852  | nan     |  40.9816 |  15.8695  |   nan |\n",
       "| moon      |  32.9342 | 336.706 | 129.632  |  23.1744  |   nan |\n",
       "| venus     | nan      | nan     | 247.768  | -21.4375  |   nan |\n",
       "| mars      | nan      | nan     | 165.767  |   7.91464 |   nan |\n",
       "| jupiter   | nan      | nan     |  88.5481 |  23.1651  |   nan |\n",
       "| saturn    | nan      | nan     | 354.841  |  -4.57619 |   nan |\n",
       "| telescope |  62.0272 | 130.829 | 181.135  | -45.216   |     0 |\n",
       "\n",
       "Events\n",
       "------\n",
       "| event           |     MJD | date                          |\n",
       "|:----------------|--------:|:------------------------------|\n",
       "| sunset          | 60798.9 | 2025-05-03 22:01:24.180378913 |\n",
       "| sun_n12_setting | 60799   | 2025-05-03 22:58:56.840710042 |\n",
       "| sun_n18_setting | 60799   | 2025-05-03 23:27:08.767199813 |\n",
       "| mjd             | 60799   | 2025-05-03 23:59:04.148039820 |\n",
       "| moonset         | 60799.2 | 2025-05-04 03:44:58.853677511 |\n",
       "| sun_n18_rising  | 60799.4 | 2025-05-04 09:52:40.349746044 |\n",
       "| sun_n12_rising  | 60799.4 | 2025-05-04 10:20:54.727278648 |\n",
       "| sunrise         | 60799.5 | 2025-05-04 11:18:33.493913412 |\n",
       "| moonrise        | 60799.8 | 2025-05-04 18:02:53.684754964 |\n",
       "\n",
       "Maps\n",
       "----\n",
       "| map             |   nside |       min |         max |   median |\n",
       "|:----------------|--------:|----------:|------------:|---------:|\n",
       "| airmass         |      32 |  1.00006  | 21866.5     |  2.00084 |\n",
       "| ra              |      32 |  0        |     6.25864 |  3.12932 |\n",
       "| dec             |      32 | -1.54528  |     1.54528 |  0       |\n",
       "| slewtime        |      32 |  3.90365  |   155.962   | 88.1657  |\n",
       "| m5_depth_u      |      32 | 21.6466   |    23.4348  | 22.9122  |\n",
       "| m5_depth_g      |      32 | 22.7445   |    24.5747  | 24.0647  |\n",
       "| m5_depth_r      |      32 | 22.7164   |    24.4002  | 23.9238  |\n",
       "| m5_depth_i      |      32 | 22.6028   |    24.0898  | 23.6318  |\n",
       "| m5_depth_z      |      32 | 22.2604   |    23.5453  | 23.1088  |\n",
       "| m5_depth_y      |      32 | 21.3019   |    22.614   | 22.1475  |\n",
       "| skybrightness_u |      32 | 20.2563   |    21.8017  | 21.4938  |\n",
       "| skybrightness_g |      32 | 19.1335   |    21.2936  | 20.8641  |\n",
       "| skybrightness_r |      32 | 18.7893   |    20.8589  | 20.4336  |\n",
       "| skybrightness_i |      32 | 18.6063   |    20.2585  | 19.8606  |\n",
       "| skybrightness_z |      32 | 18.2161   |    19.4467  | 19.0711  |\n",
       "| skybrightness_y |      32 | 17.6207   |    18.6017  | 18.2509  |\n",
       "| fwhm_eff_u      |      32 |  0.866154 |     3.73443 |  1.24897 |\n",
       "| fwhm_eff_g      |      32 |  0.820989 |     3.5397  |  1.18384 |\n",
       "| fwhm_eff_r      |      32 |  0.779768 |     3.36198 |  1.1244  |\n",
       "| fwhm_eff_i      |      32 |  0.751378 |     3.23958 |  1.08346 |\n",
       "| fwhm_eff_z      |      32 |  0.732565 |     3.15846 |  1.05634 |\n",
       "| fwhm_eff_y      |      32 |  0.717519 |     3.09359 |  1.03464 |\n",
       "\n",
       "\n",
       "## Queue\n",
       "Queue is empty\n"
      ],
      "text/plain": [
       "CoreScheduler(\n",
       "            surveys=[[<PointingsSurvey at 0x1789b6e90>]],\n",
       "            camera=\"LSST\",\n",
       "            nside=32,\n",
       "            survey_index=[0, 0],\n",
       "            log=<Logger CoreScheduler (WARNING)>\n",
       "        )"
      ]
     },
     "execution_count": 8,
     "metadata": {},
     "output_type": "execute_result"
    }
   ],
   "source": [
    "# What does the scheduler look like\n",
    "sched"
   ]
  },
  {
   "cell_type": "code",
   "execution_count": 9,
   "id": "2b34c57d-73f7-406c-868f-04c65c12e57f",
   "metadata": {},
   "outputs": [
    {
     "data": {
      "text/html": [
       "<div>\n",
       "<style scoped>\n",
       "    .dataframe tbody tr th:only-of-type {\n",
       "        vertical-align: middle;\n",
       "    }\n",
       "\n",
       "    .dataframe tbody tr th {\n",
       "        vertical-align: top;\n",
       "    }\n",
       "\n",
       "    .dataframe thead th {\n",
       "        text-align: right;\n",
       "    }\n",
       "</style>\n",
       "<table border=\"1\" class=\"dataframe\">\n",
       "  <thead>\n",
       "    <tr style=\"text-align: right;\">\n",
       "      <th></th>\n",
       "      <th>method</th>\n",
       "      <th>blank</th>\n",
       "      <th>feasible</th>\n",
       "      <th>max_reward</th>\n",
       "      <th>n_possibles</th>\n",
       "      <th>weight</th>\n",
       "      <th>max_accum_reward</th>\n",
       "      <th>accum_n</th>\n",
       "    </tr>\n",
       "  </thead>\n",
       "  <tbody>\n",
       "    <tr>\n",
       "      <th>0</th>\n",
       "      <td>visit_gap</td>\n",
       "      <td>None</td>\n",
       "      <td>True</td>\n",
       "      <td>0.0</td>\n",
       "      <td>776</td>\n",
       "      <td>1.0</td>\n",
       "      <td>0.000000</td>\n",
       "      <td>776</td>\n",
       "    </tr>\n",
       "    <tr>\n",
       "      <th>1</th>\n",
       "      <td>balance_revisit</td>\n",
       "      <td>None</td>\n",
       "      <td>True</td>\n",
       "      <td>1.0</td>\n",
       "      <td>799</td>\n",
       "      <td>1.0</td>\n",
       "      <td>1.000000</td>\n",
       "      <td>776</td>\n",
       "    </tr>\n",
       "    <tr>\n",
       "      <th>2</th>\n",
       "      <td>m5diff</td>\n",
       "      <td>None</td>\n",
       "      <td>True</td>\n",
       "      <td>-0.138504</td>\n",
       "      <td>313</td>\n",
       "      <td>1.0</td>\n",
       "      <td>0.861496</td>\n",
       "      <td>290</td>\n",
       "    </tr>\n",
       "    <tr>\n",
       "      <th>3</th>\n",
       "      <td>slew_time</td>\n",
       "      <td>None</td>\n",
       "      <td>True</td>\n",
       "      <td>-4.099342</td>\n",
       "      <td>313</td>\n",
       "      <td>-1.0</td>\n",
       "      <td>-3.319316</td>\n",
       "      <td>290</td>\n",
       "    </tr>\n",
       "    <tr>\n",
       "      <th>4</th>\n",
       "      <td>wind_limit</td>\n",
       "      <td>None</td>\n",
       "      <td>True</td>\n",
       "      <td>0.0</td>\n",
       "      <td>799</td>\n",
       "      <td>0.0</td>\n",
       "      <td>-3.319316</td>\n",
       "      <td>290</td>\n",
       "    </tr>\n",
       "    <tr>\n",
       "      <th>5</th>\n",
       "      <td>ha_limit</td>\n",
       "      <td>None</td>\n",
       "      <td>True</td>\n",
       "      <td>0.0</td>\n",
       "      <td>132</td>\n",
       "      <td>0.0</td>\n",
       "      <td>-3.319316</td>\n",
       "      <td>109</td>\n",
       "    </tr>\n",
       "    <tr>\n",
       "      <th>6</th>\n",
       "      <td>alt_limit</td>\n",
       "      <td>None</td>\n",
       "      <td>True</td>\n",
       "      <td>0.0</td>\n",
       "      <td>313</td>\n",
       "      <td>0.0</td>\n",
       "      <td>-3.319316</td>\n",
       "      <td>109</td>\n",
       "    </tr>\n",
       "    <tr>\n",
       "      <th>7</th>\n",
       "      <td>moon_limit</td>\n",
       "      <td>None</td>\n",
       "      <td>True</td>\n",
       "      <td>0.0</td>\n",
       "      <td>735</td>\n",
       "      <td>0.0</td>\n",
       "      <td>-3.319316</td>\n",
       "      <td>45</td>\n",
       "    </tr>\n",
       "  </tbody>\n",
       "</table>\n",
       "</div>"
      ],
      "text/plain": [
       "            method blank  feasible max_reward n_possibles  weight  \\\n",
       "0        visit_gap  None      True        0.0         776     1.0   \n",
       "1  balance_revisit  None      True        1.0         799     1.0   \n",
       "2           m5diff  None      True  -0.138504         313     1.0   \n",
       "3        slew_time  None      True  -4.099342         313    -1.0   \n",
       "4       wind_limit  None      True        0.0         799     0.0   \n",
       "5         ha_limit  None      True        0.0         132     0.0   \n",
       "6        alt_limit  None      True        0.0         313     0.0   \n",
       "7       moon_limit  None      True        0.0         735     0.0   \n",
       "\n",
       "   max_accum_reward  accum_n  \n",
       "0          0.000000      776  \n",
       "1          1.000000      776  \n",
       "2          0.861496      290  \n",
       "3         -3.319316      290  \n",
       "4         -3.319316      290  \n",
       "5         -3.319316      109  \n",
       "6         -3.319316      109  \n",
       "7         -3.319316       45  "
      ]
     },
     "execution_count": 9,
     "metadata": {},
     "output_type": "execute_result"
    }
   ],
   "source": [
    "# output a pretty table showing the current status of the survey. \n",
    "# This is a stubb in place so things should be easy to pass to schedview\n",
    "conditions = mo.return_conditions()\n",
    "sched.survey_lists[0][0].make_reward_df(conditions)"
   ]
  },
  {
   "cell_type": "code",
   "execution_count": 10,
   "id": "ceac0add-d580-4bb2-9835-7dd142cb813e",
   "metadata": {},
   "outputs": [
    {
     "data": {
      "text/plain": [
       "Text(0, 0.5, 'Dec')"
      ]
     },
     "execution_count": 10,
     "metadata": {},
     "output_type": "execute_result"
    },
    {
     "data": {
      "image/png": "[encoded data removed]",
      "text/plain": [
       "<Figure size 640x480 with 2 Axes>"
      ]
     },
     "metadata": {},
     "output_type": "display_data"
    }
   ],
   "source": [
    "# can look at the reward for each potential observations on the sky\n",
    "fig, ax = plt.subplots()\n",
    "ack = ax.scatter(np.degrees(sched.survey_lists[0][0].observations['RA']),\n",
    "            np.degrees(sched.survey_lists[0][0].observations['dec']),\n",
    "            c=sched.survey_lists[0][0].reward, alpha=0.1)\n",
    "cb = plt.colorbar(ack)\n",
    "cb.set_label('Reward')\n",
    "ax.set_xlabel('RA')\n",
    "ax.set_ylabel('Dec')"
   ]
  },
  {
   "cell_type": "code",
   "execution_count": 11,
   "id": "f07f8d5d-186a-49f6-8d33-545fd955745f",
   "metadata": {},
   "outputs": [
    {
     "data": {
      "text/plain": [
       "<Popen: returncode: None args: 'ls -lh *.pkl'>"
      ]
     },
     "execution_count": 11,
     "metadata": {},
     "output_type": "execute_result"
    }
   ],
   "source": [
    "# How big is it to dump this scheduler\n",
    "file = open('save_test.pkl', 'wb')\n",
    "pickle.dump(sched, file)\n",
    "file.close()\n",
    "from subprocess import Popen\n",
    "Popen('ls -lh *.pkl', shell=True)"
   ]
  },
  {
   "cell_type": "markdown",
   "id": "9fa64691-f545-49f2-91c2-10b8657574e4",
   "metadata": {},
   "source": [
    "Pros and cons\n",
    "\n",
    "Cons:\n",
    "\n",
    "* Not as modular as using basis function objects\n",
    "* Setting an altitude limit of observations taken by a `PointingSurvey` object is done differently than in a `BlobSurvey`. (but we have the same issue with `ScriptedSurveys` where the logic on when to execute doesn't use only basis functions.)\n",
    "\n",
    "Pros\n",
    "\n",
    "* Scalable. 1 to 1,000,000 potential pointings, no problem. No looping over many survey objects.\n",
    "* Small memory/storage footprint. 3M uncompressed, <1M compressed. Current Auxtel uncompressed is 157M\n",
    "* Easy to output debugging data frame analagous to the other surveys\n",
    "* Easier to configure since all the logic is already in the class. One-liner to make the survey class"
   ]
  },
  {
   "cell_type": "markdown",
   "id": "10ab2695-8748-47fb-b243-08a3594e312e",
   "metadata": {},
   "source": [
    "## Example removing the 5-sigma depth logic in making decisions on what to observe"
   ]
  },
  {
   "cell_type": "code",
   "execution_count": 12,
   "id": "901ad52c-8e6f-4fbb-85be-fc5990bf7ee5",
   "metadata": {},
   "outputs": [
    {
     "name": "stdout",
     "output_type": "stream",
     "text": [
      "-rw-r--r--  1 yoachim  staff   4.2M Oct  8 16:58 save_test.pkl\n"
     ]
    }
   ],
   "source": [
    "# Say we want to lift the m5 and moon limits. Just remove them from the weights dict\n",
    "weights = {\"visit_gap\": 1.0, \"balance_revisit\": 1.0,  \"slew_time\": -1.0,\n",
    "           \"wind_limit\": 0.0, \"ha_limit\": 0, \"alt_limit\": 0}\n",
    "ps = PointingsSurvey(obs, detailers=[], weights=weights)\n",
    "sched = CoreScheduler([ps])"
   ]
  },
  {
   "cell_type": "code",
   "execution_count": 13,
   "id": "e6058702-572b-4f1e-a361-5ef59370c504",
   "metadata": {},
   "outputs": [
    {
     "name": "stderr",
     "output_type": "stream",
     "text": [
      "/Users/yoachim/git_repos/rubin_scheduler/rubin_scheduler/scheduler/surveys/pointings_survey.py:268: RuntimeWarning: invalid value encountered in divide\n",
      "  result = np.floor(1.0 + self.n_obs / sum_obs)\n"
     ]
    },
    {
     "name": "stdout",
     "output_type": "stream",
     "text": [
      "progress = 65.27%"
     ]
    },
    {
     "name": "stderr",
     "output_type": "stream",
     "text": [
      "/Users/yoachim/git_repos/rubin_scheduler/rubin_scheduler/skybrightness_pre/sky_model_pre.py:352: UserWarning: Requested MJD between sunrise and sunset, returning closest maps\n",
      "  warnings.warn(\"Requested MJD between sunrise and sunset, returning closest maps\")\n"
     ]
    },
    {
     "name": "stdout",
     "output_type": "stream",
     "text": [
      "progress = 99.98%Skipped 0 observations\n",
      "Flushed 0 observations from queue for being stale\n",
      "Completed 1876 observations\n",
      "ran in 0 min = 0.0 hours\n"
     ]
    }
   ],
   "source": [
    "mo = ModelObservatory(downtimes=\"ideal\")\n",
    "mo, sched, completed_obs = sim_runner(mo, sched, sim_duration=3)"
   ]
  },
  {
   "cell_type": "code",
   "execution_count": 14,
   "id": "f46f1ff3-d9af-4119-bed5-84a7904958f7",
   "metadata": {},
   "outputs": [
    {
     "data": {
      "text/html": [
       "<div>\n",
       "<style scoped>\n",
       "    .dataframe tbody tr th:only-of-type {\n",
       "        vertical-align: middle;\n",
       "    }\n",
       "\n",
       "    .dataframe tbody tr th {\n",
       "        vertical-align: top;\n",
       "    }\n",
       "\n",
       "    .dataframe thead th {\n",
       "        text-align: right;\n",
       "    }\n",
       "</style>\n",
       "<table border=\"1\" class=\"dataframe\">\n",
       "  <thead>\n",
       "    <tr style=\"text-align: right;\">\n",
       "      <th></th>\n",
       "      <th>method</th>\n",
       "      <th>blank</th>\n",
       "      <th>feasible</th>\n",
       "      <th>max_reward</th>\n",
       "      <th>n_possibles</th>\n",
       "      <th>weight</th>\n",
       "      <th>max_accum_reward</th>\n",
       "      <th>accum_n</th>\n",
       "    </tr>\n",
       "  </thead>\n",
       "  <tbody>\n",
       "    <tr>\n",
       "      <th>0</th>\n",
       "      <td>visit_gap</td>\n",
       "      <td>None</td>\n",
       "      <td>True</td>\n",
       "      <td>0.0</td>\n",
       "      <td>776</td>\n",
       "      <td>1.0</td>\n",
       "      <td>0.000000</td>\n",
       "      <td>776</td>\n",
       "    </tr>\n",
       "    <tr>\n",
       "      <th>1</th>\n",
       "      <td>balance_revisit</td>\n",
       "      <td>None</td>\n",
       "      <td>True</td>\n",
       "      <td>1.0</td>\n",
       "      <td>799</td>\n",
       "      <td>1.0</td>\n",
       "      <td>1.000000</td>\n",
       "      <td>776</td>\n",
       "    </tr>\n",
       "    <tr>\n",
       "      <th>2</th>\n",
       "      <td>slew_time</td>\n",
       "      <td>None</td>\n",
       "      <td>True</td>\n",
       "      <td>-4.191563</td>\n",
       "      <td>313</td>\n",
       "      <td>-1.0</td>\n",
       "      <td>-3.208896</td>\n",
       "      <td>290</td>\n",
       "    </tr>\n",
       "    <tr>\n",
       "      <th>3</th>\n",
       "      <td>wind_limit</td>\n",
       "      <td>None</td>\n",
       "      <td>True</td>\n",
       "      <td>0.0</td>\n",
       "      <td>799</td>\n",
       "      <td>0.0</td>\n",
       "      <td>-3.208896</td>\n",
       "      <td>290</td>\n",
       "    </tr>\n",
       "    <tr>\n",
       "      <th>4</th>\n",
       "      <td>ha_limit</td>\n",
       "      <td>None</td>\n",
       "      <td>True</td>\n",
       "      <td>0.0</td>\n",
       "      <td>132</td>\n",
       "      <td>0.0</td>\n",
       "      <td>-3.208896</td>\n",
       "      <td>109</td>\n",
       "    </tr>\n",
       "    <tr>\n",
       "      <th>5</th>\n",
       "      <td>alt_limit</td>\n",
       "      <td>None</td>\n",
       "      <td>True</td>\n",
       "      <td>0.0</td>\n",
       "      <td>313</td>\n",
       "      <td>0.0</td>\n",
       "      <td>-3.208896</td>\n",
       "      <td>109</td>\n",
       "    </tr>\n",
       "  </tbody>\n",
       "</table>\n",
       "</div>"
      ],
      "text/plain": [
       "            method blank  feasible max_reward n_possibles  weight  \\\n",
       "0        visit_gap  None      True        0.0         776     1.0   \n",
       "1  balance_revisit  None      True        1.0         799     1.0   \n",
       "2        slew_time  None      True  -4.191563         313    -1.0   \n",
       "3       wind_limit  None      True        0.0         799     0.0   \n",
       "4         ha_limit  None      True        0.0         132     0.0   \n",
       "5        alt_limit  None      True        0.0         313     0.0   \n",
       "\n",
       "   max_accum_reward  accum_n  \n",
       "0          0.000000      776  \n",
       "1          1.000000      776  \n",
       "2         -3.208896      290  \n",
       "3         -3.208896      290  \n",
       "4         -3.208896      109  \n",
       "5         -3.208896      109  "
      ]
     },
     "execution_count": 14,
     "metadata": {},
     "output_type": "execute_result"
    }
   ],
   "source": [
    "conditions = mo.return_conditions()\n",
    "sched.survey_lists[0][0].make_reward_df(conditions)"
   ]
  },
  {
   "cell_type": "markdown",
   "id": "8c25b603-11a6-41ed-9414-62eee7aa66ff",
   "metadata": {},
   "source": [
    "## Example using Sequence Boost"
   ]
  },
  {
   "cell_type": "code",
   "execution_count": 15,
   "id": "fe6cf877-d028-49f0-b7ff-63f557fd2507",
   "metadata": {},
   "outputs": [],
   "source": [
    "# Let's try out the sequence boost\n",
    "obs_boost = obs.copy()\n",
    "\n",
    "# Say we want to make sure all 4 of seq1 execute, and all 5 in seq2 execute\n",
    "sequence_boost = {'seq1': 4, 'seq2': 5}\n",
    "weights = {\"visit_gap\": 1.0, \"balance_revisit\": 1.0,  \"slew_time\": -1.0,\n",
    "           \"wind_limit\": 0.0, \"ha_limit\": 0, \"alt_limit\": 0, 'sequence_boost': 5.}\n",
    "\n",
    "# Change the note so scheduler can recognize things as belonging to the same sequence\n",
    "for i in np.arange(4):\n",
    "    match = np.where(obs['scheduler_note'] == 'AUXTEL_PHOTO_IMAGINGPhoto1600-1_00%i' % (i+1))[0]\n",
    "    obs_boost['scheduler_note'][match] = 'seq1_%i' % i\n",
    "\n",
    "# and say we always want to take 5 of this one in a sequence. Need to give each part of \n",
    "# the sequence it's own observation.\n",
    "match = np.where(obs['scheduler_note'] == 'AUXTEL_PHOTO_IMAGINGPhoto1600-1_020')[0]\n",
    "\n",
    "five_obs = ObservationArray(5)\n",
    "for key in five_obs.dtype.names:\n",
    "    five_obs[key] = obs[match][key].copy()\n",
    "for i in range(5):\n",
    "    five_obs[i][\"scheduler_note\"] = \"seq2_%i\" % i\n",
    "\n",
    "obs_boost = np.hstack([obs_boost, five_obs])\n",
    "\n",
    "# Here we've used the sequence boost to try and make things be taken in sequences.\n",
    "# One could also imagine making a detailer that makes sure every time a pointing is selected,\n",
    "# it gets converted into the desired sequence. \n"
   ]
  },
  {
   "cell_type": "code",
   "execution_count": 16,
   "id": "83f375d6-f9ec-4f8e-9828-cf6b15a4fdcc",
   "metadata": {},
   "outputs": [
    {
     "name": "stderr",
     "output_type": "stream",
     "text": [
      "/Users/yoachim/git_repos/rubin_scheduler/rubin_scheduler/scheduler/surveys/pointings_survey.py:268: RuntimeWarning: invalid value encountered in divide\n",
      "  result = np.floor(1.0 + self.n_obs / sum_obs)\n"
     ]
    },
    {
     "name": "stdout",
     "output_type": "stream",
     "text": [
      "progress = 65.27%"
     ]
    },
    {
     "name": "stderr",
     "output_type": "stream",
     "text": [
      "/Users/yoachim/git_repos/rubin_scheduler/rubin_scheduler/skybrightness_pre/sky_model_pre.py:352: UserWarning: Requested MJD between sunrise and sunset, returning closest maps\n",
      "  warnings.warn(\"Requested MJD between sunrise and sunset, returning closest maps\")\n"
     ]
    },
    {
     "name": "stdout",
     "output_type": "stream",
     "text": [
      "progress = 99.98%Skipped 0 observations\n",
      "Flushed 0 observations from queue for being stale\n",
      "Completed 1876 observations\n",
      "ran in 0 min = 0.0 hours\n"
     ]
    }
   ],
   "source": [
    "ps = PointingsSurvey(obs_boost, detailers=[], weights=weights, track_notes_ngoal=sequence_boost)\n",
    "sched = CoreScheduler([ps])\n",
    "\n",
    "mo = ModelObservatory(downtimes=\"ideal\")\n",
    "mo, sched, completed_obs = sim_runner(mo, sched, sim_duration=3)\n"
   ]
  },
  {
   "cell_type": "code",
   "execution_count": 17,
   "id": "03d1e64b-6262-4756-9f5d-91223ac77fec",
   "metadata": {},
   "outputs": [
    {
     "data": {
      "text/html": [
       "<div>\n",
       "<style scoped>\n",
       "    .dataframe tbody tr th:only-of-type {\n",
       "        vertical-align: middle;\n",
       "    }\n",
       "\n",
       "    .dataframe tbody tr th {\n",
       "        vertical-align: top;\n",
       "    }\n",
       "\n",
       "    .dataframe thead th {\n",
       "        text-align: right;\n",
       "    }\n",
       "</style>\n",
       "<table border=\"1\" class=\"dataframe\">\n",
       "  <thead>\n",
       "    <tr style=\"text-align: right;\">\n",
       "      <th></th>\n",
       "      <th>method</th>\n",
       "      <th>blank</th>\n",
       "      <th>feasible</th>\n",
       "      <th>max_reward</th>\n",
       "      <th>n_possibles</th>\n",
       "      <th>weight</th>\n",
       "      <th>max_accum_reward</th>\n",
       "      <th>accum_n</th>\n",
       "    </tr>\n",
       "  </thead>\n",
       "  <tbody>\n",
       "    <tr>\n",
       "      <th>0</th>\n",
       "      <td>visit_gap</td>\n",
       "      <td>None</td>\n",
       "      <td>True</td>\n",
       "      <td>0.000000</td>\n",
       "      <td>781</td>\n",
       "      <td>1.0</td>\n",
       "      <td>0.000000</td>\n",
       "      <td>781</td>\n",
       "    </tr>\n",
       "    <tr>\n",
       "      <th>1</th>\n",
       "      <td>balance_revisit</td>\n",
       "      <td>None</td>\n",
       "      <td>True</td>\n",
       "      <td>1.000000</td>\n",
       "      <td>804</td>\n",
       "      <td>1.0</td>\n",
       "      <td>1.000000</td>\n",
       "      <td>781</td>\n",
       "    </tr>\n",
       "    <tr>\n",
       "      <th>2</th>\n",
       "      <td>slew_time</td>\n",
       "      <td>None</td>\n",
       "      <td>True</td>\n",
       "      <td>-4.191563</td>\n",
       "      <td>313</td>\n",
       "      <td>-1.0</td>\n",
       "      <td>-3.208896</td>\n",
       "      <td>290</td>\n",
       "    </tr>\n",
       "    <tr>\n",
       "      <th>3</th>\n",
       "      <td>wind_limit</td>\n",
       "      <td>None</td>\n",
       "      <td>True</td>\n",
       "      <td>0.000000</td>\n",
       "      <td>804</td>\n",
       "      <td>0.0</td>\n",
       "      <td>-3.208896</td>\n",
       "      <td>290</td>\n",
       "    </tr>\n",
       "    <tr>\n",
       "      <th>4</th>\n",
       "      <td>ha_limit</td>\n",
       "      <td>None</td>\n",
       "      <td>True</td>\n",
       "      <td>0.000000</td>\n",
       "      <td>132</td>\n",
       "      <td>0.0</td>\n",
       "      <td>-3.208896</td>\n",
       "      <td>109</td>\n",
       "    </tr>\n",
       "    <tr>\n",
       "      <th>5</th>\n",
       "      <td>alt_limit</td>\n",
       "      <td>None</td>\n",
       "      <td>True</td>\n",
       "      <td>0.000000</td>\n",
       "      <td>313</td>\n",
       "      <td>0.0</td>\n",
       "      <td>-3.208896</td>\n",
       "      <td>109</td>\n",
       "    </tr>\n",
       "    <tr>\n",
       "      <th>6</th>\n",
       "      <td>sequence_boost</td>\n",
       "      <td>None</td>\n",
       "      <td>True</td>\n",
       "      <td>0.000000</td>\n",
       "      <td>804</td>\n",
       "      <td>5.0</td>\n",
       "      <td>-3.208896</td>\n",
       "      <td>109</td>\n",
       "    </tr>\n",
       "  </tbody>\n",
       "</table>\n",
       "</div>"
      ],
      "text/plain": [
       "            method blank  feasible  max_reward  n_possibles  weight  \\\n",
       "0        visit_gap  None      True    0.000000          781     1.0   \n",
       "1  balance_revisit  None      True    1.000000          804     1.0   \n",
       "2        slew_time  None      True   -4.191563          313    -1.0   \n",
       "3       wind_limit  None      True    0.000000          804     0.0   \n",
       "4         ha_limit  None      True    0.000000          132     0.0   \n",
       "5        alt_limit  None      True    0.000000          313     0.0   \n",
       "6   sequence_boost  None      True    0.000000          804     5.0   \n",
       "\n",
       "   max_accum_reward  accum_n  \n",
       "0          0.000000      781  \n",
       "1          1.000000      781  \n",
       "2         -3.208896      290  \n",
       "3         -3.208896      290  \n",
       "4         -3.208896      109  \n",
       "5         -3.208896      109  \n",
       "6         -3.208896      109  "
      ]
     },
     "execution_count": 17,
     "metadata": {},
     "output_type": "execute_result"
    }
   ],
   "source": [
    "conditions = mo.return_conditions()\n",
    "sched.survey_lists[0][0].make_reward_df(conditions)"
   ]
  },
  {
   "cell_type": "code",
   "execution_count": 18,
   "id": "fe642799-2bd2-4f48-b60c-4c666f5e82a6",
   "metadata": {},
   "outputs": [],
   "source": [
    "# Let's see how the sequences look.\n",
    "seq_indx = ['seq' in s for s in completed_obs[\"scheduler_note\"]]\n",
    "df = pd.DataFrame(completed_obs[seq_indx])\n"
   ]
  },
  {
   "cell_type": "code",
   "execution_count": 19,
   "id": "120ec3e3-934f-415f-ae27-cbca3c46686a",
   "metadata": {},
   "outputs": [
    {
     "name": "stderr",
     "output_type": "stream",
     "text": [
      "/Users/yoachim/git_repos/rubin_scheduler/rubin_scheduler/scheduler/surveys/pointings_survey.py:268: RuntimeWarning: invalid value encountered in divide\n",
      "  result = np.floor(1.0 + self.n_obs / sum_obs)\n"
     ]
    },
    {
     "name": "stdout",
     "output_type": "stream",
     "text": [
      "progress = 65.27%"
     ]
    },
    {
     "name": "stderr",
     "output_type": "stream",
     "text": [
      "/Users/yoachim/git_repos/rubin_scheduler/rubin_scheduler/skybrightness_pre/sky_model_pre.py:352: UserWarning: Requested MJD between sunrise and sunset, returning closest maps\n",
      "  warnings.warn(\"Requested MJD between sunrise and sunset, returning closest maps\")\n"
     ]
    },
    {
     "name": "stdout",
     "output_type": "stream",
     "text": [
      "progress = 99.98%Skipped 0 observations\n",
      "Flushed 0 observations from queue for being stale\n",
      "Completed 1876 observations\n",
      "ran in 0 min = 0.0 hours\n"
     ]
    },
    {
     "data": {
      "text/html": [
       "<div>\n",
       "<style scoped>\n",
       "    .dataframe tbody tr th:only-of-type {\n",
       "        vertical-align: middle;\n",
       "    }\n",
       "\n",
       "    .dataframe tbody tr th {\n",
       "        vertical-align: top;\n",
       "    }\n",
       "\n",
       "    .dataframe thead th {\n",
       "        text-align: right;\n",
       "    }\n",
       "</style>\n",
       "<table border=\"1\" class=\"dataframe\">\n",
       "  <thead>\n",
       "    <tr style=\"text-align: right;\">\n",
       "      <th></th>\n",
       "      <th>method</th>\n",
       "      <th>blank</th>\n",
       "      <th>feasible</th>\n",
       "      <th>max_reward</th>\n",
       "      <th>n_possibles</th>\n",
       "      <th>weight</th>\n",
       "      <th>max_accum_reward</th>\n",
       "      <th>accum_n</th>\n",
       "    </tr>\n",
       "  </thead>\n",
       "  <tbody>\n",
       "    <tr>\n",
       "      <th>0</th>\n",
       "      <td>visit_gap</td>\n",
       "      <td>None</td>\n",
       "      <td>True</td>\n",
       "      <td>0.0</td>\n",
       "      <td>776</td>\n",
       "      <td>1.0</td>\n",
       "      <td>0.000000</td>\n",
       "      <td>776</td>\n",
       "    </tr>\n",
       "    <tr>\n",
       "      <th>1</th>\n",
       "      <td>balance_revisit</td>\n",
       "      <td>None</td>\n",
       "      <td>True</td>\n",
       "      <td>1.0</td>\n",
       "      <td>799</td>\n",
       "      <td>1.0</td>\n",
       "      <td>1.000000</td>\n",
       "      <td>776</td>\n",
       "    </tr>\n",
       "    <tr>\n",
       "      <th>2</th>\n",
       "      <td>slew_time</td>\n",
       "      <td>None</td>\n",
       "      <td>True</td>\n",
       "      <td>-4.191563</td>\n",
       "      <td>313</td>\n",
       "      <td>-1.0</td>\n",
       "      <td>-3.208896</td>\n",
       "      <td>290</td>\n",
       "    </tr>\n",
       "    <tr>\n",
       "      <th>3</th>\n",
       "      <td>wind_limit</td>\n",
       "      <td>None</td>\n",
       "      <td>True</td>\n",
       "      <td>0.0</td>\n",
       "      <td>799</td>\n",
       "      <td>0.0</td>\n",
       "      <td>-3.208896</td>\n",
       "      <td>290</td>\n",
       "    </tr>\n",
       "    <tr>\n",
       "      <th>4</th>\n",
       "      <td>ha_limit</td>\n",
       "      <td>None</td>\n",
       "      <td>True</td>\n",
       "      <td>0.0</td>\n",
       "      <td>132</td>\n",
       "      <td>0.0</td>\n",
       "      <td>-3.208896</td>\n",
       "      <td>109</td>\n",
       "    </tr>\n",
       "    <tr>\n",
       "      <th>5</th>\n",
       "      <td>alt_limit</td>\n",
       "      <td>None</td>\n",
       "      <td>True</td>\n",
       "      <td>0.0</td>\n",
       "      <td>313</td>\n",
       "      <td>0.0</td>\n",
       "      <td>-3.208896</td>\n",
       "      <td>109</td>\n",
       "    </tr>\n",
       "  </tbody>\n",
       "</table>\n",
       "</div>"
      ],
      "text/plain": [
       "            method blank  feasible max_reward n_possibles  weight  \\\n",
       "0        visit_gap  None      True        0.0         776     1.0   \n",
       "1  balance_revisit  None      True        1.0         799     1.0   \n",
       "2        slew_time  None      True  -4.191563         313    -1.0   \n",
       "3       wind_limit  None      True        0.0         799     0.0   \n",
       "4         ha_limit  None      True        0.0         132     0.0   \n",
       "5        alt_limit  None      True        0.0         313     0.0   \n",
       "\n",
       "   max_accum_reward  accum_n  \n",
       "0          0.000000      776  \n",
       "1          1.000000      776  \n",
       "2         -3.208896      290  \n",
       "3         -3.208896      290  \n",
       "4         -3.208896      109  \n",
       "5         -3.208896      109  "
      ]
     },
     "execution_count": 19,
     "metadata": {},
     "output_type": "execute_result"
    }
   ],
   "source": [
    "# does something different happen with no sequence boost?\n",
    "weights = {\"visit_gap\": 1.0, \"balance_revisit\": 1.0,  \"slew_time\": -1.0,\n",
    "           \"wind_limit\": 0.0, \"ha_limit\": 0, \"alt_limit\": 0.}\n",
    "ps = PointingsSurvey(obs, detailers=[], weights=weights)\n",
    "sched = CoreScheduler([ps])\n",
    "\n",
    "mo = ModelObservatory(downtimes=\"ideal\")\n",
    "mo, sched, completed_obs2 = sim_runner(mo, sched, sim_duration=3)\n",
    "\n",
    "conditions = mo.return_conditions()\n",
    "sched.survey_lists[0][0].make_reward_df(conditions)"
   ]
  },
  {
   "cell_type": "code",
   "execution_count": 20,
   "id": "f1792c05-4b61-4e5e-9aaa-802bee6aa89f",
   "metadata": {},
   "outputs": [
    {
     "name": "stdout",
     "output_type": "stream",
     "text": [
      "Did we point differently with the sequence boost on? True\n"
     ]
    }
   ],
   "source": [
    "# Took the same total number of images, but not the same positions.\n",
    "check = True\n",
    "if completed_obs[\"RA\"].size == completed_obs2[\"RA\"].size:\n",
    "    check = ~np.all(completed_obs[\"RA\"] == completed_obs2[\"RA\"])\n",
    "print(\"Did we point differently with the sequence boost on?\", check)"
   ]
  },
  {
   "cell_type": "code",
   "execution_count": null,
   "id": "6c624974-eaed-47ab-9322-6eb7374ac039",
   "metadata": {},
   "outputs": [],
   "source": []
  }
 ],
 "metadata": {
  "kernelspec": {
   "display_name": "Python 3 (ipykernel)",
   "language": "python",
   "name": "python3"
  },
  "language_info": {
   "codemirror_mode": {
    "name": "ipython",
    "version": 3
   },
   "file_extension": ".py",
   "mimetype": "text/x-python",
   "name": "python",
   "nbconvert_exporter": "python",
   "pygments_lexer": "ipython3",
   "version": "3.11.8"
  }
 },
 "nbformat": 4,
 "nbformat_minor": 5
}
