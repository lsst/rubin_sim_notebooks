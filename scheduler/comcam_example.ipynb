{
 "cells": [
  {
   "cell_type": "code",
   "execution_count": 1,
   "id": "931671a3-7d0f-47f1-9cbc-00669c123cc4",
   "metadata": {},
   "outputs": [],
   "source": [
    "# Let's run an example where we observe with ComCam"
   ]
  },
  {
   "cell_type": "code",
   "execution_count": 2,
   "id": "8e2f70dc-2e12-49ec-abb0-8d28e86cc08b",
   "metadata": {},
   "outputs": [],
   "source": [
    "from rubin_scheduler.scheduler.model_observatory import ModelObservatory\n",
    "from rubin_scheduler.scheduler.surveys import BaseSurvey\n",
    "from rubin_scheduler.scheduler.utils import empty_observation, SkyAreaGenerator, Footprint, make_rolling_footprints\n",
    "from rubin_scheduler.scheduler.schedulers import CoreScheduler, SimpleFilterSched\n",
    "from rubin_scheduler.scheduler import sim_runner\n",
    "from rubin_scheduler.scheduler.detailers import BaseDetailer\n",
    "from rubin_scheduler.utils import _approx_ra_dec2_alt_az, _approx_altaz2pa\n",
    "import rubin_scheduler.scheduler.basis_functions as bf\n",
    "\n",
    "\n",
    "from rubin_scheduler.scheduler.surveys import BlobSurvey, GreedySurvey\n",
    "from rubin_scheduler.scheduler import sim_runner\n",
    "\n",
    "\n",
    "import numpy as np\n",
    "import healpy as hp\n",
    "import matplotlib.pylab as plt\n",
    "%matplotlib inline\n",
    "\n",
    "import pandas as pd"
   ]
  },
  {
   "cell_type": "code",
   "execution_count": 3,
   "id": "04b31836-e15c-4e92-be36-7240444c1160",
   "metadata": {},
   "outputs": [],
   "source": [
    "# load up a model observatory.\n",
    "nside=512  # Specify the HEALpix resolution we want to do everything in. Need to turn up for comcam\n",
    "mjd_start = 60218.\n",
    "mo = ModelObservatory(nside=nside, mjd_start=mjd_start)\n",
    "\n",
    "conditions = mo.return_conditions()\n"
   ]
  },
  {
   "cell_type": "code",
   "execution_count": 4,
   "id": "9f32149a-3d41-4587-b3af-215aa1cadb33",
   "metadata": {},
   "outputs": [
    {
     "ename": "AttributeError",
     "evalue": "'Conditions' object has no attribute 'sun_ra_start'",
     "output_type": "error",
     "traceback": [
      "\u001b[0;31m---------------------------------------------------------------------------\u001b[0m",
      "\u001b[0;31mAttributeError\u001b[0m                            Traceback (most recent call last)",
      "Cell \u001b[0;32mIn[4], line 9\u001b[0m\n\u001b[1;32m      6\u001b[0m simple_fp[\u001b[38;5;124m'\u001b[39m\u001b[38;5;124mr\u001b[39m\u001b[38;5;124m'\u001b[39m][indx] \u001b[38;5;241m=\u001b[39m \u001b[38;5;241m1\u001b[39m\n\u001b[1;32m      7\u001b[0m simple_fp[\u001b[38;5;124m'\u001b[39m\u001b[38;5;124mg\u001b[39m\u001b[38;5;124m'\u001b[39m][indx] \u001b[38;5;241m=\u001b[39m \u001b[38;5;241m1\u001b[39m\n\u001b[0;32m----> 9\u001b[0m fp \u001b[38;5;241m=\u001b[39m Footprint(conditions\u001b[38;5;241m.\u001b[39mmjd_start, \u001b[43mconditions\u001b[49m\u001b[38;5;241;43m.\u001b[39;49m\u001b[43msun_ra_start\u001b[49m, nside\u001b[38;5;241m=\u001b[39mnside)\n\u001b[1;32m     10\u001b[0m \u001b[38;5;28;01mfor\u001b[39;00m filtername \u001b[38;5;129;01min\u001b[39;00m simple_fp:\n\u001b[1;32m     11\u001b[0m     fp\u001b[38;5;241m.\u001b[39mset_footprint(filtername, simple_fp[filtername])\n",
      "\u001b[0;31mAttributeError\u001b[0m: 'Conditions' object has no attribute 'sun_ra_start'"
     ]
    }
   ],
   "source": [
    "# Let's start out with a simple 2-band footprint where we want 1 observations in r for every 2 observations in g\n",
    "blank_map = np.zeros(hp.nside2npix(nside)) + np.nan\n",
    "# cut down to a very narrow band\n",
    "indx = np.where((conditions.dec < np.radians(-15)) & (conditions.dec > np.radians(-20)))\n",
    "simple_fp = {'r': blank_map + 0, 'g': blank_map + 0}\n",
    "simple_fp['r'][indx] = 1\n",
    "simple_fp['g'][indx] = 1\n",
    "\n",
    "fp = Footprint(conditions.mjd_start, conditions.sun_ra_start, nside=nside)\n",
    "for filtername in simple_fp:\n",
    "    fp.set_footprint(filtername, simple_fp[filtername])"
   ]
  },
  {
   "cell_type": "code",
   "execution_count": null,
   "id": "1d6dcc6a-64dc-483d-8a7e-3a3b292780b4",
   "metadata": {
    "scrolled": true
   },
   "outputs": [],
   "source": [
    "# Let's make two survey objects, one that will observe blobs in r, one in g\n",
    "\n",
    "# set nside everywhere, and camera=\"comcam\" to both surveys and scheduler!\n",
    "# Need to set grow_blob to false to avoid a giant loop\n",
    "\n",
    "footprint_weight = 1.\n",
    "m5_weight = 0.5\n",
    "\n",
    "# Specify no detailers so there's no unwanted rotational dithers.\n",
    "detailers = []\n",
    "\n",
    "red_fp_basis = bf.FootprintBasisFunction(filtername='r', footprint=fp, nside=nside)\n",
    "m5_basis_r = bf.M5DiffBasisFunction(filtername='r', nside=nside)\n",
    "red_survey = BlobSurvey([red_fp_basis, m5_basis_r],\n",
    "                        [footprint_weight, m5_weight],\n",
    "                        filtername1='r', survey_name='r_blob', nside=nside,\n",
    "                        camera=\"comcam\", grow_blob=False, detailers=detailers, \n",
    "                        dither=False, twilight_scale=False)\n",
    "\n",
    "blue_fp_basis = bf.FootprintBasisFunction(filtername='g', footprint=fp, nside=nside)\n",
    "m5_basis_g = bf.M5DiffBasisFunction(filtername='g', nside=nside)\n",
    "blue_survey = BlobSurvey([blue_fp_basis, m5_basis_g],\n",
    "                         [footprint_weight, m5_weight],\n",
    "                         filtername1='g', survey_name='g_blob', nside=nside,\n",
    "                         camera=\"comcam\", grow_blob=False, detailers=detailers, dither=False, twilight_scale=False)\n",
    "\n",
    "scheduler = CoreScheduler([red_survey, blue_survey], nside=nside, camera=\"comcam\")\n"
   ]
  },
  {
   "cell_type": "code",
   "execution_count": null,
   "id": "b58fea88-9ee4-484b-b440-ebcf0a20102e",
   "metadata": {},
   "outputs": [],
   "source": [
    "mo = ModelObservatory(nside=nside, mjd_start=mjd_start)\n",
    "\n",
    "# run it for a week\n",
    "mo, scheduler, observations = sim_runner(mo, scheduler, sim_duration=3, verbose=True)"
   ]
  },
  {
   "cell_type": "code",
   "execution_count": null,
   "id": "4b8f1876-d629-405a-b99f-b66d28c2b32a",
   "metadata": {},
   "outputs": [],
   "source": [
    "conditions = mo.return_conditions()\n",
    "fp_bf = scheduler.survey_lists[0][0].basis_functions[0]"
   ]
  },
  {
   "cell_type": "code",
   "execution_count": null,
   "id": "75cd6069-dccf-43ab-accc-bd0d6fa6ea68",
   "metadata": {},
   "outputs": [],
   "source": [
    "# The basis function holds a dict of Feature objects that track the progress of the survey\n",
    "hp.mollview(fp_bf.survey_features['N_obs'](), title='r-band N_obs feature')\n"
   ]
  },
  {
   "cell_type": "code",
   "execution_count": null,
   "id": "c7db692e-c5c8-4c14-83b9-9eac8bad91cb",
   "metadata": {},
   "outputs": [],
   "source": [
    "hp.mollview(fp_bf(conditions), title='r-band footprint basis function')"
   ]
  },
  {
   "cell_type": "code",
   "execution_count": null,
   "id": "7f6ce0f4-b679-4d22-b54e-67a6eaf42780",
   "metadata": {},
   "outputs": [],
   "source": [
    "hp.mollview(scheduler.survey_lists[0][0].basis_functions[1](conditions), title='r-band')"
   ]
  },
  {
   "cell_type": "code",
   "execution_count": null,
   "id": "dfc0e2ab-b366-470e-b293-4ff9e1f24a5d",
   "metadata": {},
   "outputs": [],
   "source": [
    "conditions = mo.return_conditions()\n",
    "rw = scheduler.survey_lists[0][0].calc_reward_function(conditions)\n",
    "hp.mollview(rw)"
   ]
  },
  {
   "cell_type": "code",
   "execution_count": null,
   "id": "c1dcd3b0-a7e1-4328-b2ff-093b5c532aa1",
   "metadata": {},
   "outputs": [],
   "source": [
    "# And now in the g-band\n",
    "hp.mollview(scheduler.survey_lists[0][1].basis_functions[0].survey_features['N_obs'](),\n",
    "            title='g-band N_obs feature')"
   ]
  },
  {
   "cell_type": "code",
   "execution_count": null,
   "id": "be79c5df-26ab-4747-bc0a-7c8d8bc981d2",
   "metadata": {},
   "outputs": [],
   "source": [
    "conditions"
   ]
  },
  {
   "cell_type": "code",
   "execution_count": null,
   "id": "d6892f4d-1947-482e-8eb6-05bc74c371b7",
   "metadata": {},
   "outputs": [],
   "source": [
    "hp.mollview(scheduler.survey_lists[0][0].calc_reward_function(conditions))"
   ]
  },
  {
   "cell_type": "code",
   "execution_count": null,
   "id": "86b2eb25-ff93-4afd-a4b9-98f52b76b4f3",
   "metadata": {},
   "outputs": [],
   "source": [
    "plt.plot(np.degrees(observations[\"RA\"]), np.degrees(observations[\"dec\"]), 'ko', alpha=.1)\n"
   ]
  },
  {
   "cell_type": "code",
   "execution_count": null,
   "id": "eb4fa3c7-4ece-4f72-a88d-bff0146062e7",
   "metadata": {},
   "outputs": [],
   "source": []
  }
 ],
 "metadata": {
  "kernelspec": {
   "display_name": "Python 3 (ipykernel)",
   "language": "python",
   "name": "python3"
  },
  "language_info": {
   "codemirror_mode": {
    "name": "ipython",
    "version": 3
   },
   "file_extension": ".py",
   "mimetype": "text/x-python",
   "name": "python",
   "nbconvert_exporter": "python",
   "pygments_lexer": "ipython3",
   "version": "3.11.8"
  }
 },
 "nbformat": 4,
 "nbformat_minor": 5
}
