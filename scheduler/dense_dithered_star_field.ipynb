{
 "cells": [
  {
   "cell_type": "code",
   "execution_count": null,
   "id": "7df45fc8-e2aa-4d1f-86fa-c081bc933736",
   "metadata": {
    "tags": []
   },
   "outputs": [],
   "source": [
    "import numpy as np\n",
    "import pandas as pd\n",
    "\n",
    "from astropy.time import Time\n",
    "from astropy.coordinates import Angle\n",
    "from astropy import units as u\n",
    "\n",
    "import matplotlib.pylab as plt\n",
    "#%matplotlib widget"
   ]
  },
  {
   "cell_type": "code",
   "execution_count": null,
   "id": "09083590-ed1e-45f6-9f3d-706961022790",
   "metadata": {
    "tags": []
   },
   "outputs": [],
   "source": [
    "#plt.figure()\n",
    "#plt.scatter([0,1], [0,1])"
   ]
  },
  {
   "cell_type": "code",
   "execution_count": null,
   "id": "0e9151d0-affa-468b-95f1-747d463d5fe9",
   "metadata": {
    "tags": []
   },
   "outputs": [],
   "source": [
    "#import rubin_sim"
   ]
  },
  {
   "cell_type": "code",
   "execution_count": null,
   "id": "7dd3c1fb-adca-4a56-9cb9-7651238126cb",
   "metadata": {
    "tags": []
   },
   "outputs": [],
   "source": [
    "#rubin_sim"
   ]
  },
  {
   "cell_type": "code",
   "execution_count": null,
   "id": "8d23dcbe-3b3b-471b-8548-866ad8b4ffd9",
   "metadata": {
    "tags": []
   },
   "outputs": [],
   "source": [
    "from rubin_sim.scheduler.model_observatory import ModelObservatory\n",
    "from rubin_sim.scheduler.surveys import generate_dd_surveys, DeepDrillingSurvey, FieldSurvey\n",
    "from rubin_sim.scheduler.schedulers import CoreScheduler\n",
    "from rubin_sim.scheduler.utils import empty_observation\n",
    "from rubin_sim.scheduler.detailers import DitherDetailer\n",
    "from rubin_sim.scheduler.basis_functions import M5DiffBasisFunction\n",
    "from rubin_sim.utils import ddf_locations\n",
    "from rubin_sim.scheduler import sim_runner"
   ]
  },
  {
   "cell_type": "code",
   "execution_count": null,
   "id": "5e376fe3-5c91-45d4-82b5-2b29f7b8c508",
   "metadata": {
    "tags": []
   },
   "outputs": [],
   "source": [
    "# This does not work yet\n",
    "# from lsst.daf.butler import Butler"
   ]
  },
  {
   "cell_type": "markdown",
   "id": "c3938679-069f-4bee-8935-84efb2169221",
   "metadata": {
    "execution": {
     "iopub.execute_input": "2023-11-21T02:01:07.382161Z",
     "iopub.status.busy": "2023-11-21T02:01:07.381634Z",
     "iopub.status.idle": "2023-11-21T02:01:07.384109Z",
     "shell.execute_reply": "2023-11-21T02:01:07.383757Z",
     "shell.execute_reply.started": "2023-11-21T02:01:07.382147Z"
    },
    "jp-MarkdownHeadingCollapsed": true,
    "tags": []
   },
   "source": [
    "# Single Field"
   ]
  },
  {
   "cell_type": "code",
   "execution_count": null,
   "id": "8107ca46-21dd-403a-aafa-7ef0336c987b",
   "metadata": {},
   "outputs": [],
   "source": [
    "\"\"\"\n",
    "class SingleFieldSurvey(BaseSurvey):\n",
    "    \n",
    "    def __init__(\n",
    "        self,\n",
    "        basis_functions,\n",
    "        RA,\n",
    "        dec,\n",
    "        sequence=\"rgizy\",\n",
    "        nvis=[20, 10, 20, 26, 20],\n",
    "        exptime=30.0,\n",
    "        u_exptime=30.0,\n",
    "        nexp=2,\n",
    "        ignore_obs=None,\n",
    "        survey_name=\"SingleFieldSurvey\",\n",
    "        reward_value=None,\n",
    "        readtime=2.0,\n",
    "        filter_change_time=120.0,\n",
    "        nside=None,\n",
    "        flush_pad=30.0,\n",
    "        seed=42,\n",
    "        detailers=None,\n",
    "    ):\n",
    "\"\"\""
   ]
  },
  {
   "cell_type": "code",
   "execution_count": null,
   "id": "13428545-df93-4398-8401-e2ab54c94923",
   "metadata": {
    "tags": []
   },
   "outputs": [],
   "source": [
    "# We need the start date of the survey, so let's load up our model observatory and get that from the conditions\n",
    "nside = 32  # Specify the HEALpix resolution\n",
    "mo = ModelObservatory(nside=nside)"
   ]
  },
  {
   "cell_type": "code",
   "execution_count": null,
   "id": "9be68bde-29ca-4fa2-8e83-9fef116f1d92",
   "metadata": {
    "tags": []
   },
   "outputs": [],
   "source": [
    "conditions = mo.return_conditions()"
   ]
  },
  {
   "cell_type": "code",
   "execution_count": null,
   "id": "2263f9cf-75d7-483c-838f-9cf22119ec2f",
   "metadata": {},
   "outputs": [],
   "source": []
  },
  {
   "cell_type": "code",
   "execution_count": null,
   "id": "3490fec1-ce25-4030-9ea2-11f312a4be38",
   "metadata": {
    "tags": []
   },
   "outputs": [],
   "source": [
    "conditions"
   ]
  },
  {
   "cell_type": "code",
   "execution_count": null,
   "id": "676be914-41c7-4017-812e-4438bace3332",
   "metadata": {
    "tags": []
   },
   "outputs": [],
   "source": [
    "t = Time(conditions.mjd, format='mjd')\n",
    "t.to_value('iso')"
   ]
  },
  {
   "cell_type": "code",
   "execution_count": null,
   "id": "2709aa93-fee0-4a40-b900-cdfe81add160",
   "metadata": {
    "tags": []
   },
   "outputs": [],
   "source": [
    "# Will need to update the mounted filters to be ComCam specific\n",
    "conditions.mounted_filters"
   ]
  },
  {
   "cell_type": "code",
   "execution_count": null,
   "id": "6cdf9a8d-9c7b-4f90-81cc-e83512bf398f",
   "metadata": {
    "tags": []
   },
   "outputs": [],
   "source": [
    "np.degrees(conditions.sun_alt)"
   ]
  },
  {
   "cell_type": "code",
   "execution_count": null,
   "id": "f18ce8db-06b2-42e3-918e-9d293f09ec5e",
   "metadata": {
    "tags": []
   },
   "outputs": [],
   "source": [
    "Angle(conditions.lmst, u.hr).deg"
   ]
  },
  {
   "cell_type": "code",
   "execution_count": null,
   "id": "9bb4a1bf-6eeb-4151-a9ec-b541a1a7af96",
   "metadata": {
    "tags": []
   },
   "outputs": [],
   "source": [
    "help(conditions)"
   ]
  },
  {
   "cell_type": "code",
   "execution_count": null,
   "id": "021f0d79-d2df-45d1-a85f-8f39c377467e",
   "metadata": {
    "tags": []
   },
   "outputs": [],
   "source": [
    "surveys = generate_dd_surveys()"
   ]
  },
  {
   "cell_type": "code",
   "execution_count": null,
   "id": "b8235381-1840-4694-adf2-7cb7511ba212",
   "metadata": {
    "tags": []
   },
   "outputs": [],
   "source": [
    "surveys"
   ]
  },
  {
   "cell_type": "code",
   "execution_count": null,
   "id": "f21c30cf-6a8e-4a6b-93ea-6cae03c1e5f8",
   "metadata": {
    "tags": []
   },
   "outputs": [],
   "source": [
    "np.degrees(surveys[3].ra)"
   ]
  },
  {
   "cell_type": "code",
   "execution_count": null,
   "id": "a55f9b0d-d345-4066-b65b-7d3d38a850d9",
   "metadata": {
    "tags": []
   },
   "outputs": [],
   "source": [
    "dir(surveys[0].basis_functions[5])"
   ]
  },
  {
   "cell_type": "code",
   "execution_count": null,
   "id": "a2c4617a-aef1-4838-8732-d2b8bfb9a432",
   "metadata": {
    "tags": []
   },
   "outputs": [],
   "source": [
    "surveys[3].add_observation(empty_observation())"
   ]
  },
  {
   "cell_type": "code",
   "execution_count": null,
   "id": "94ba8756-bbca-4a89-83d4-79633625dbe6",
   "metadata": {
    "tags": []
   },
   "outputs": [],
   "source": [
    "surveys[3].generate_observations(conditions)"
   ]
  },
  {
   "cell_type": "code",
   "execution_count": null,
   "id": "cf63b497-fa36-4710-be89-221930479431",
   "metadata": {
    "tags": []
   },
   "outputs": [],
   "source": [
    "from rubin_sim.scheduler import features"
   ]
  },
  {
   "cell_type": "code",
   "execution_count": null,
   "id": "ba6d4c5b-ba8f-48df-9172-eee4f076bc97",
   "metadata": {
    "tags": []
   },
   "outputs": [],
   "source": [
    "features.NObsSurvey(note='hello').feature"
   ]
  },
  {
   "cell_type": "code",
   "execution_count": null,
   "id": "996c8d0b-440c-4098-bcba-951a638777d8",
   "metadata": {
    "tags": []
   },
   "outputs": [],
   "source": [
    "from rubin_sim.scheduler.basis_functions import LookAheadDdfBasisFunction"
   ]
  },
  {
   "cell_type": "code",
   "execution_count": null,
   "id": "97ddbcb6-c55e-4ee0-a272-3a95d0624835",
   "metadata": {},
   "outputs": [],
   "source": [
    "LookAheadDdfBasisFunction"
   ]
  },
  {
   "cell_type": "code",
   "execution_count": null,
   "id": "897cebab-bd72-4c0f-b72b-7811f9cdac7b",
   "metadata": {
    "tags": []
   },
   "outputs": [],
   "source": [
    "surveys[3].basis_functions[5].survey_name"
   ]
  },
  {
   "cell_type": "code",
   "execution_count": null,
   "id": "f3cce7a5-29e3-4ce3-baef-27ccb0c92f15",
   "metadata": {},
   "outputs": [],
   "source": []
  },
  {
   "cell_type": "code",
   "execution_count": null,
   "id": "3d76a422-2c31-40b3-af8d-674e9f875be7",
   "metadata": {},
   "outputs": [],
   "source": []
  },
  {
   "cell_type": "code",
   "execution_count": null,
   "id": "5923aa93-8fb0-415f-a2b9-36c8b0196e94",
   "metadata": {
    "tags": []
   },
   "outputs": [],
   "source": [
    "locations = ddf_locations()\n",
    "\n",
    "survey_name = \"DD:COSMOS\"\n",
    "RA = locations[\"COSMOS\"][0]\n",
    "dec = locations[\"COSMOS\"][1]\n",
    "ha_limits = ([0.0, 2.5], [21.5, 24.0])\n",
    "print(RA, dec)"
   ]
  },
  {
   "cell_type": "code",
   "execution_count": null,
   "id": "61aa9975-70ff-4e15-b413-17eb18d09585",
   "metadata": {
    "tags": []
   },
   "outputs": [],
   "source": [
    "# Basis functions\n",
    "bfs = []"
   ]
  },
  {
   "cell_type": "code",
   "execution_count": null,
   "id": "4de43ed0-bf39-4105-bead-23aef73b43e2",
   "metadata": {
    "tags": []
   },
   "outputs": [],
   "source": [
    "# Add in detailer\n",
    "#detailers = None\n",
    "detailers = [DitherDetailer(max_dither=0.7, per_night=False)]"
   ]
  },
  {
   "cell_type": "code",
   "execution_count": null,
   "id": "45debe4b-a3b5-4be6-bdab-e815112c1726",
   "metadata": {
    "tags": []
   },
   "outputs": [],
   "source": [
    "#nvis_master = [8, 20, 10, 20, 26, 20]\n",
    "nvis_master = [5, 5, 5, 5, 5, 5]\n",
    "exptime = 30\n",
    "u_exptime = 30\n",
    "reward_value = 100\n",
    "nexp = 2\n",
    "\n",
    "surveys = []\n",
    "\n",
    "surveys.append(\n",
    "        DeepDrillingSurvey(\n",
    "            bfs,\n",
    "            RA,\n",
    "            dec,\n",
    "            sequence=\"urgizy\",\n",
    "            nvis=nvis_master,\n",
    "            exptime=exptime,\n",
    "            u_exptime=u_exptime,\n",
    "            survey_name=survey_name,\n",
    "            reward_value=reward_value,\n",
    "            nside=nside,\n",
    "            nexp=nexp,\n",
    "            detailers=detailers,\n",
    "        )\n",
    "    )"
   ]
  },
  {
   "cell_type": "code",
   "execution_count": null,
   "id": "c0f6cde5-7ca0-49f7-aca3-63f0efecaf67",
   "metadata": {
    "tags": []
   },
   "outputs": [],
   "source": [
    "surveys[0]"
   ]
  },
  {
   "cell_type": "code",
   "execution_count": null,
   "id": "cbad163e-b694-45ca-89c9-340801df8753",
   "metadata": {},
   "outputs": [],
   "source": []
  },
  {
   "cell_type": "code",
   "execution_count": null,
   "id": "52261ebb-a2ab-4111-af4c-c88779500483",
   "metadata": {},
   "outputs": [],
   "source": []
  },
  {
   "cell_type": "code",
   "execution_count": null,
   "id": "13b37f98-f74a-46ca-b76e-1925119aabcf",
   "metadata": {
    "tags": []
   },
   "outputs": [],
   "source": [
    "scheduler = CoreScheduler(surveys, nside=nside) # camera=\"comcam\""
   ]
  },
  {
   "cell_type": "code",
   "execution_count": null,
   "id": "66e0feb7-9e50-49e2-a28a-6341adc77ae9",
   "metadata": {
    "tags": []
   },
   "outputs": [],
   "source": [
    "# kludge to avoid divide by zero error\n",
    "# scheduler.add_observation(empty_observation())"
   ]
  },
  {
   "cell_type": "raw",
   "id": "012a2ac6-dc0c-4ebd-a9e4-b4d9b84cdc8b",
   "metadata": {},
   "source": []
  },
  {
   "cell_type": "code",
   "execution_count": null,
   "id": "4748291a-f717-4970-868b-d081e16e4b6a",
   "metadata": {},
   "outputs": [],
   "source": []
  },
  {
   "cell_type": "code",
   "execution_count": null,
   "id": "d67b9bfd-4c28-483f-84d1-86a488a8563d",
   "metadata": {
    "tags": []
   },
   "outputs": [],
   "source": [
    "surveys[0].generate_observations(conditions)"
   ]
  },
  {
   "cell_type": "code",
   "execution_count": null,
   "id": "70e57d0e-79a6-41e4-b291-cfc1f2f7d88b",
   "metadata": {},
   "outputs": [],
   "source": [
    "# Below if the demo syntax\n",
    "#mo, scheduler, observations = sim_runner(mo, scheduler, survey_length=0.15, verbose=True)"
   ]
  },
  {
   "cell_type": "code",
   "execution_count": null,
   "id": "f7a365b7-0d79-4402-872a-c3c40a7b1948",
   "metadata": {
    "tags": []
   },
   "outputs": [],
   "source": [
    "# Note the deep copy used here. The function sim_runner modifies the observatory\n",
    "import copy\n",
    "new_mo, new_scheduler, observations = sim_runner(copy.deepcopy(mo), scheduler, survey_length=0.15, verbose=True)"
   ]
  },
  {
   "cell_type": "code",
   "execution_count": null,
   "id": "41d21274-000e-4655-a138-6afecaf4f70a",
   "metadata": {
    "tags": []
   },
   "outputs": [],
   "source": [
    "mo.mjd"
   ]
  },
  {
   "cell_type": "code",
   "execution_count": null,
   "id": "13e43a97-cf9c-4352-b767-1baee4a2389c",
   "metadata": {
    "tags": []
   },
   "outputs": [],
   "source": [
    "pd.DataFrame(np.hstack(observations))"
   ]
  },
  {
   "cell_type": "code",
   "execution_count": null,
   "id": "8fec20f0-fc42-4967-bf21-ec2f95c5d669",
   "metadata": {
    "tags": []
   },
   "outputs": [],
   "source": [
    "plt.figure(dpi=200)\n",
    "plt.plot(observations['mjd'], np.degrees(observations['alt']), 'ko', markersize=1)\n",
    "plt.xlabel('MJD')\n",
    "plt.ylabel('Altitude (degrees)')"
   ]
  },
  {
   "cell_type": "code",
   "execution_count": null,
   "id": "f603b4bc-4d10-493a-b34e-49a28fad9283",
   "metadata": {
    "tags": []
   },
   "outputs": [],
   "source": [
    "f2c = {'u': 'purple', 'g': 'blue', 'r': 'green',\n",
    "       'i': 'cyan', 'z': 'orange', 'y': 'red'}\n",
    "\n",
    "plt.figure(dpi=200)\n",
    "for filtername in f2c:\n",
    "    in_filt = np.where(observations['filter'] == filtername)[0]\n",
    "    if in_filt.size > 0:\n",
    "        plt.plot(observations['mjd'][in_filt], np.degrees(observations['alt'][in_filt]), \n",
    "                 'o', markersize=1, color=f2c[filtername], label=filtername)\n",
    "plt.legend()\n",
    "plt.xlabel('MJD')\n",
    "plt.ylabel('Altitude (degrees)')"
   ]
  },
  {
   "cell_type": "code",
   "execution_count": null,
   "id": "42acf60c-7c3c-4944-a8e5-90b3997e5810",
   "metadata": {
    "tags": []
   },
   "outputs": [],
   "source": [
    "plt.figure(dpi=200)\n",
    "for filtername in f2c:\n",
    "    in_filt = np.where(observations['filter'] == filtername)[0]\n",
    "    if in_filt.size > 0:\n",
    "        plt.plot(np.degrees(observations['RA'][in_filt]), np.degrees(observations['dec'][in_filt]), \n",
    "                 'o', markersize=1, color=f2c[filtername], label=filtername)\n",
    "plt.legend()\n",
    "plt.xlabel('RA (degress)')\n",
    "plt.ylabel('dec (degrees)')"
   ]
  },
  {
   "cell_type": "code",
   "execution_count": null,
   "id": "0c588e4f-5187-4a78-b287-7ef9c92b8d3a",
   "metadata": {
    "tags": []
   },
   "outputs": [],
   "source": [
    "# Load Gaia refact\n",
    "# https://github.com/LSSTScienceCollaborations/StackClub/blob/master/Validation/DC2_refcat_loader_demo.ipynb\n",
    "# https://github.com/lsst/analysis_tools/blob/main/python/lsst/analysis/tools/tasks/catalogMatch.py\n",
    "# /sdf/group/rubin/datasets/refcats/htm/v1/\n",
    "# Number of stars in focal plane coordinates\n",
    "# Number of observations in sky coordinates"
   ]
  },
  {
   "cell_type": "markdown",
   "id": "3129c236-d65a-4011-a737-c20de7f757cd",
   "metadata": {
    "jp-MarkdownHeadingCollapsed": true,
    "tags": []
   },
   "source": [
    "# Stellar Density"
   ]
  },
  {
   "cell_type": "code",
   "execution_count": null,
   "id": "8ae6ae42-0164-4208-9b4a-4aa88b3be512",
   "metadata": {
    "tags": []
   },
   "outputs": [],
   "source": [
    "# Data directory\n",
    "import os\n",
    "print(os.getenv(\"RUBIN_SIM_DATA_DIR\"))"
   ]
  },
  {
   "cell_type": "code",
   "execution_count": null,
   "id": "f7189be5-58b9-4dc3-a939-c55b40f8b7f4",
   "metadata": {
    "tags": []
   },
   "outputs": [],
   "source": [
    "m = np.load('/home/b/bechtol/rubin_sim_data/maps/StarMaps/starDensity_g_nside_64.npz')"
   ]
  },
  {
   "cell_type": "code",
   "execution_count": null,
   "id": "48d28ee3-872e-4c89-b05f-779478b4bdbe",
   "metadata": {
    "tags": []
   },
   "outputs": [],
   "source": [
    "m['starDensity'].shape"
   ]
  },
  {
   "cell_type": "code",
   "execution_count": null,
   "id": "a893804d-5d0c-42e2-b5a3-c5ce40d338eb",
   "metadata": {
    "tags": []
   },
   "outputs": [],
   "source": [
    "import healpy as hp"
   ]
  },
  {
   "cell_type": "code",
   "execution_count": null,
   "id": "f954719d-ce9a-49de-b383-69f318943ef5",
   "metadata": {
    "tags": []
   },
   "outputs": [],
   "source": [
    "hp.nside2npix(64)"
   ]
  },
  {
   "cell_type": "code",
   "execution_count": null,
   "id": "bd1e4049-4203-4ae3-9be3-69883900f6a7",
   "metadata": {
    "tags": []
   },
   "outputs": [],
   "source": [
    "m['bins']"
   ]
  },
  {
   "cell_type": "code",
   "execution_count": null,
   "id": "40f508b5-7c80-4858-8c74-4d8666fe2f5e",
   "metadata": {
    "tags": []
   },
   "outputs": [],
   "source": [
    "hp.mollview(m['starDensity'][:,20])"
   ]
  },
  {
   "cell_type": "markdown",
   "id": "31c46e1e-c4cb-4b98-a5ba-517d7e7a208e",
   "metadata": {
    "execution": {
     "iopub.execute_input": "2023-11-20T20:34:11.487902Z",
     "iopub.status.busy": "2023-11-20T20:34:11.487417Z",
     "iopub.status.idle": "2023-11-20T20:34:11.491080Z",
     "shell.execute_reply": "2023-11-20T20:34:11.490501Z",
     "shell.execute_reply.started": "2023-11-20T20:34:11.487861Z"
    }
   },
   "source": [
    "# Multiple Fields"
   ]
  },
  {
   "cell_type": "code",
   "execution_count": null,
   "id": "35bf29f1-c0b0-44fa-b21f-0212807de5ab",
   "metadata": {
    "tags": []
   },
   "outputs": [],
   "source": [
    "# We need the start date of the survey, so let's load up our model observatory and get that from the conditions\n",
    "nside = 32  # Specify the HEALpix resolution\n",
    "mo = ModelObservatory(nside=nside)\n",
    "conditions = mo.return_conditions()"
   ]
  },
  {
   "cell_type": "code",
   "execution_count": null,
   "id": "f510fa24-bae0-493d-ae33-221d3bc09bb8",
   "metadata": {
    "tags": []
   },
   "outputs": [],
   "source": [
    "ra_array = np.arange(0., 360., 30.)\n",
    "dec_array = np.tile(-20., len(ra_array))\n",
    "print(ra_array)\n",
    "print(dec_array)"
   ]
  },
  {
   "cell_type": "code",
   "execution_count": null,
   "id": "6a1e717b-fb4b-492b-90a8-9d8357771cc9",
   "metadata": {
    "tags": []
   },
   "outputs": [],
   "source": [
    "fields = {}\n",
    "for ra, dec in zip(ra_array, dec_array):\n",
    "    name = f\"{int(ra)}{int(dec)}\"\n",
    "    fields[name] = {\"RA\": ra, \"dec\": dec}\n",
    "print(fields)"
   ]
  },
  {
   "cell_type": "code",
   "execution_count": null,
   "id": "cc2044b6-ce4e-44c2-8fbf-c6ed0dbd0436",
   "metadata": {
    "tags": []
   },
   "outputs": [],
   "source": [
    "# Basis functions\n",
    "#bfs = []\n",
    "bfs = [M5DiffBasisFunction(filtername='r', nside=nside)]"
   ]
  },
  {
   "cell_type": "code",
   "execution_count": null,
   "id": "239f7839-9c65-4ccf-b03c-2848ad6c2d88",
   "metadata": {
    "tags": []
   },
   "outputs": [],
   "source": [
    "# Add in detailer\n",
    "#detailers = None\n",
    "detailers = [DitherDetailer(max_dither=0.7, per_night=False)]"
   ]
  },
  {
   "cell_type": "code",
   "execution_count": null,
   "id": "9cfc4912-664e-44d3-a61d-247f1baab2b8",
   "metadata": {
    "tags": []
   },
   "outputs": [],
   "source": [
    "#nvis_master = [8, 20, 10, 20, 26, 20]\n",
    "nvis_master = [5, 5, 5, 5, 5, 5]\n",
    "exptime = 30\n",
    "u_exptime = 30\n",
    "reward_value = 100\n",
    "nexp = 2\n",
    "\n",
    "surveys = []\n",
    "\n",
    "for survey_name in fields.keys():\n",
    "    print(survey_name)\n",
    "    #reward_value = 100 if fields[survey_name][\"RA\"] == 150. else 0\n",
    "    reward_value = 100.\n",
    "    #reward_value = np.random.random()\n",
    "    #reward_value = None\n",
    "    surveys.append(\n",
    "        #DeepDrillingSurvey(\n",
    "        FieldSurvey(\n",
    "            bfs,\n",
    "            fields[survey_name][\"RA\"],\n",
    "            fields[survey_name][\"dec\"],\n",
    "            sequence=\"urgizy\",\n",
    "            nvis=nvis_master,\n",
    "            exptime=exptime,\n",
    "            u_exptime=u_exptime,\n",
    "            survey_name=survey_name,\n",
    "            reward_value=reward_value,\n",
    "            nside=nside,\n",
    "            nexp=nexp,\n",
    "            detailers=detailers,\n",
    "        )\n",
    "    )"
   ]
  },
  {
   "cell_type": "code",
   "execution_count": null,
   "id": "6f938095-c10e-4a0f-8115-c25f785b397b",
   "metadata": {
    "tags": []
   },
   "outputs": [],
   "source": [
    "#surveys"
   ]
  },
  {
   "cell_type": "code",
   "execution_count": null,
   "id": "d3493c41-9077-4dbd-80fd-aab48f7d57ba",
   "metadata": {
    "tags": []
   },
   "outputs": [],
   "source": [
    "#surveys[5].generate_observations(conditions)"
   ]
  },
  {
   "cell_type": "code",
   "execution_count": null,
   "id": "d01c7ba9-2a93-49b9-84c2-5d75f8b43890",
   "metadata": {
    "tags": []
   },
   "outputs": [],
   "source": [
    "#surveys = [surveys[5]]"
   ]
  },
  {
   "cell_type": "code",
   "execution_count": null,
   "id": "452b0f1c-d1e7-4f7d-a657-175297a33189",
   "metadata": {
    "tags": []
   },
   "outputs": [],
   "source": [
    "#surveys"
   ]
  },
  {
   "cell_type": "code",
   "execution_count": null,
   "id": "3afa2efe-0c46-4b34-93f2-7eec53248687",
   "metadata": {
    "tags": []
   },
   "outputs": [],
   "source": [
    "scheduler = CoreScheduler(surveys, nside=nside) # camera=\"comcam\""
   ]
  },
  {
   "cell_type": "code",
   "execution_count": null,
   "id": "92fdadb9-7a0b-43f7-bd6b-3e0e0fde58a9",
   "metadata": {
    "tags": []
   },
   "outputs": [],
   "source": [
    "#for survey in scheduler.survey_lists[0]:\n",
    "#    #print(survey.generate_observations(conditions))\n",
    "#    print(survey.calc_reward_function(conditions))"
   ]
  },
  {
   "cell_type": "code",
   "execution_count": null,
   "id": "17d469ce-0d48-4ccb-b6bd-ed955d7b8e2a",
   "metadata": {
    "tags": []
   },
   "outputs": [],
   "source": [
    "#scheduler.survey_lists[0][0].generate_observations(conditions)"
   ]
  },
  {
   "cell_type": "code",
   "execution_count": null,
   "id": "2a48dc63-3cdd-4f43-aa5c-3b8cfe51c3ec",
   "metadata": {
    "tags": []
   },
   "outputs": [],
   "source": [
    "# Note the deep copy used here. The function sim_runner modifies the observatory\n",
    "import copy\n",
    "new_mo, new_scheduler, observations = sim_runner(copy.deepcopy(mo), scheduler, survey_length=1., verbose=True)"
   ]
  },
  {
   "cell_type": "code",
   "execution_count": null,
   "id": "4e4975fe-daaf-4e01-b480-a9dda35f4071",
   "metadata": {
    "tags": []
   },
   "outputs": [],
   "source": [
    "pd.DataFrame(np.hstack(observations))"
   ]
  },
  {
   "cell_type": "code",
   "execution_count": null,
   "id": "d213306e-e739-4356-b99b-26cfb552627d",
   "metadata": {
    "tags": []
   },
   "outputs": [],
   "source": [
    "f2c = {'u': 'purple', 'g': 'blue', 'r': 'green',\n",
    "       'i': 'cyan', 'z': 'orange', 'y': 'red'}\n",
    "\n",
    "plt.figure(dpi=200)\n",
    "for filtername in f2c:\n",
    "    in_filt = np.where(observations['filter'] == filtername)[0]\n",
    "    if in_filt.size > 0:\n",
    "        plt.plot(observations['mjd'][in_filt], np.degrees(observations['alt'][in_filt]), \n",
    "                 'o', markersize=1, color=f2c[filtername], label=filtername)\n",
    "plt.legend()\n",
    "plt.xlabel('MJD')\n",
    "plt.ylabel('Altitude (degrees)')"
   ]
  },
  {
   "cell_type": "code",
   "execution_count": null,
   "id": "69f51674-764f-4421-83ad-194d041d01f6",
   "metadata": {
    "tags": []
   },
   "outputs": [],
   "source": [
    "plt.figure(dpi=200)\n",
    "for filtername in f2c:\n",
    "    in_filt = np.where(observations['filter'] == filtername)[0]\n",
    "    if in_filt.size > 0:\n",
    "        plt.plot(np.degrees(observations['RA'][in_filt]), np.degrees(observations['dec'][in_filt]), \n",
    "                 'o', markersize=1, color=f2c[filtername], label=filtername)\n",
    "plt.legend()\n",
    "plt.xlabel('RA (degress)')\n",
    "plt.ylabel('dec (degrees)')"
   ]
  },
  {
   "cell_type": "code",
   "execution_count": null,
   "id": "30396b3f-955e-4e6b-b73d-6f537702f60e",
   "metadata": {
    "tags": []
   },
   "outputs": [],
   "source": [
    "plt.figure(dpi=200)\n",
    "plt.scatter(np.degrees(observations['RA']), np.degrees(observations['dec']), c=observations['mjd'])\n",
    "plt.colorbar(label='MJD')\n",
    "plt.xlabel('RA (degress)')\n",
    "plt.ylabel('dec (degrees)')"
   ]
  },
  {
   "cell_type": "code",
   "execution_count": null,
   "id": "d7a75931-5ec0-48c4-b9d5-411d5a86e3e0",
   "metadata": {},
   "outputs": [],
   "source": []
  }
 ],
 "metadata": {
  "kernelspec": {
   "display_name": "rubin-sim",
   "language": "python",
   "name": "rubin-sim"
  },
  "language_info": {
   "codemirror_mode": {
    "name": "ipython",
    "version": 3
   },
   "file_extension": ".py",
   "mimetype": "text/x-python",
   "name": "python",
   "nbconvert_exporter": "python",
   "pygments_lexer": "ipython3",
   "version": "3.11.6"
  }
 },
 "nbformat": 4,
 "nbformat_minor": 5
}
