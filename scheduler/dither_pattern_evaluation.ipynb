{
 "cells": [
  {
   "cell_type": "code",
   "execution_count": null,
   "id": "94af966f-a856-43dd-9230-2ca35bbd192a",
   "metadata": {
    "tags": []
   },
   "outputs": [],
   "source": [
    "import numpy as np"
   ]
  },
  {
   "cell_type": "code",
   "execution_count": null,
   "id": "e61e66c9-4b6e-45dd-b62b-7a1a5991c426",
   "metadata": {
    "tags": []
   },
   "outputs": [],
   "source": [
    "import lsst.daf.butler as dafButler\n",
    "from lsst.pipe.tasks.loadReferenceCatalog import LoadReferenceCatalogConfig, LoadReferenceCatalogTask\n",
    "from lsst.utils import getPackageDir\n",
    "import lsst.geom"
   ]
  },
  {
   "cell_type": "code",
   "execution_count": null,
   "id": "8fc25522-09d7-4783-89fc-01d3e0df565b",
   "metadata": {
    "tags": []
   },
   "outputs": [],
   "source": [
    "import matplotlib.pyplot as plt\n",
    "%matplotlib widget"
   ]
  },
  {
   "cell_type": "code",
   "execution_count": null,
   "id": "e98fa6a8-beda-4668-a927-3ee050e46b2b",
   "metadata": {
    "tags": []
   },
   "outputs": [],
   "source": [
    "# https://developer.lsst.io/usdf/storage.html#butler-access\n",
    "repo = '/sdf/group/rubin/repo/main_20210215/'"
   ]
  },
  {
   "cell_type": "code",
   "execution_count": null,
   "id": "34bc2382-b66b-4800-adac-fa1b30cfcd31",
   "metadata": {
    "tags": []
   },
   "outputs": [],
   "source": [
    "config= os.path.join(repo, 'butler.yaml')\n",
    "butler = dafButler.Butler(config=config)\n",
    "registry = butler.registry"
   ]
  },
  {
   "cell_type": "code",
   "execution_count": null,
   "id": "0cb6dc11-f834-4778-8fc6-9aa9c7c54ed3",
   "metadata": {
    "tags": []
   },
   "outputs": [],
   "source": [
    "collection = 'refcats'"
   ]
  },
  {
   "cell_type": "code",
   "execution_count": null,
   "id": "990109f8-5173-4d10-95c1-b03f0816b07a",
   "metadata": {
    "tags": []
   },
   "outputs": [],
   "source": [
    "registry.getCollectionSummary(collection).dataset_types.names"
   ]
  },
  {
   "cell_type": "code",
   "execution_count": null,
   "id": "c68ed3ca-885e-481e-abfd-07a6f8793646",
   "metadata": {
    "tags": []
   },
   "outputs": [],
   "source": [
    "refDataset = 'gaia_dr3'"
   ]
  },
  {
   "cell_type": "code",
   "execution_count": null,
   "id": "4bd7924d-4637-498c-8f72-194eee418a13",
   "metadata": {
    "tags": []
   },
   "outputs": [],
   "source": [
    "# We can also load the refcat with a spatial query\n",
    "config = LoadReferenceCatalogConfig()\n",
    "#config.refObjLoader.ref_dataset_name = refDataset\n",
    "\n",
    "#config.refObjLoader.load(os.path.join(getPackageDir('obs_lsst'),\n",
    "#                                      'config',\n",
    "#                                      'filterMap.py'))\n",
    "config.refObjLoader.anyFilterMapsToThis = 'phot_g_mean'\n",
    "config.doApplyColorTerms = False"
   ]
  },
  {
   "cell_type": "code",
   "execution_count": null,
   "id": "56862f73-6e7f-4f07-9cfb-40b033df9af2",
   "metadata": {
    "tags": []
   },
   "outputs": [],
   "source": [
    "dir(config.refObjLoader)"
   ]
  },
  {
   "cell_type": "code",
   "execution_count": null,
   "id": "239129a6-a957-4173-b909-7b7e646a0c93",
   "metadata": {
    "tags": []
   },
   "outputs": [],
   "source": [
    "config.refObjLoader.toDict()"
   ]
  },
  {
   "cell_type": "code",
   "execution_count": null,
   "id": "64d80267-238e-4484-88d4-b460c397dacf",
   "metadata": {
    "tags": []
   },
   "outputs": [],
   "source": [
    "# There must be a more efficient spatial query to include here\n",
    "# Perhaps https://github.com/rubin-dp0/tutorial-notebooks/blob/main/DP02_04b_Intermediate_Butler_Queries.ipynb \n",
    "# section 3.3.2 \"User-defined spatial constraints on images\"\n",
    "datasetRefs = list(registry.queryDatasets(datasetType=refDataset, collections=collection).expanded())"
   ]
  },
  {
   "cell_type": "code",
   "execution_count": null,
   "id": "c249553e-28a8-4e49-a4ab-e76065d9a469",
   "metadata": {
    "tags": []
   },
   "outputs": [],
   "source": [
    "dataIds = [_.dataId for _ in datasetRefs]"
   ]
  },
  {
   "cell_type": "code",
   "execution_count": null,
   "id": "fb650652-2068-4c1c-96f3-72315e42c356",
   "metadata": {
    "tags": []
   },
   "outputs": [],
   "source": [
    "# Get DeferredDatasetHandles for reference catalog\n",
    "refCats = [butler.getDeferred(refDataset, _, collections=['refcats']) for _ in dataIds]"
   ]
  },
  {
   "cell_type": "code",
   "execution_count": null,
   "id": "5a1a817d-68a3-4106-9eb8-6ee9c26021e7",
   "metadata": {
    "tags": []
   },
   "outputs": [],
   "source": [
    "#loaderTask = LoadReferenceCatalogTask(config=config,\n",
    "#                                      dataIds=dataIds,\n",
    "#                                      refCats=refCats)"
   ]
  },
  {
   "cell_type": "code",
   "execution_count": null,
   "id": "f7ea7d36-b6e9-4784-ba1d-2dc7ac950812",
   "metadata": {
    "tags": []
   },
   "outputs": [],
   "source": [
    "loaderTask = LoadReferenceCatalogTask(config=config, name=refDataset, dataIds=dataIds, refCats=refCats)"
   ]
  },
  {
   "cell_type": "code",
   "execution_count": null,
   "id": "c63b7bde-e95f-4f60-ab8b-d2d46ef925f8",
   "metadata": {
    "tags": []
   },
   "outputs": [],
   "source": [
    "ra, dec = 180., -1.\n",
    "center = lsst.geom.SpherePoint(ra,\n",
    "                               dec,\n",
    "                               lsst.geom.degrees)"
   ]
  },
  {
   "cell_type": "code",
   "execution_count": null,
   "id": "89f91860-a4c7-4772-9fc6-d322d918d08f",
   "metadata": {
    "tags": []
   },
   "outputs": [],
   "source": [
    "refCatSpatial = loaderTask.getSkyCircleCatalog(center,\n",
    "                                               3.5*lsst.geom.degrees,\n",
    "                                               ['i'])"
   ]
  },
  {
   "cell_type": "code",
   "execution_count": null,
   "id": "b705f242-949c-4280-8c1f-7128d975a6b3",
   "metadata": {
    "tags": []
   },
   "outputs": [],
   "source": [
    "#refCatSpatial"
   ]
  },
  {
   "cell_type": "code",
   "execution_count": null,
   "id": "d64e8d93-a2f8-4ec7-b4c9-e407af9657e2",
   "metadata": {
    "tags": []
   },
   "outputs": [],
   "source": [
    "s = 10. - refCatSpatial['refMag'].flatten()"
   ]
  },
  {
   "cell_type": "code",
   "execution_count": null,
   "id": "70487ad7-d921-4ee9-8949-1e5913b75640",
   "metadata": {
    "tags": []
   },
   "outputs": [],
   "source": [
    "np.max(s)"
   ]
  },
  {
   "cell_type": "code",
   "execution_count": null,
   "id": "528a36bd-41a7-49f8-909c-3c7ecc45d969",
   "metadata": {
    "tags": []
   },
   "outputs": [],
   "source": [
    "selected = (refCatSpatial['refMag'].flatten() < 10.)\n",
    "plt.figure()\n",
    "plt.scatter(refCatSpatial['ra'][selected], refCatSpatial['dec'][selected], s=2. * s[selected]**3, alpha=0.5, c=refCatSpatial['refMag'][selected])\n",
    "plt.xlim(plt.xlim()[::-1])\n",
    "plt.colorbar()"
   ]
  },
  {
   "cell_type": "code",
   "execution_count": null,
   "id": "c6c71b72-9112-4243-8641-3ab5bd692865",
   "metadata": {
    "tags": []
   },
   "outputs": [],
   "source": [
    "s[selected]"
   ]
  },
  {
   "cell_type": "code",
   "execution_count": null,
   "id": "cbd8f424-668a-445e-94c2-308ebc2c62fb",
   "metadata": {
    "tags": []
   },
   "outputs": [],
   "source": [
    "plt.figure()\n",
    "plt.scatter(refCatSpatial['ra'], refCatSpatial['dec'], s=1)\n",
    "plt.xlim(plt.xlim()[::-1])"
   ]
  },
  {
   "cell_type": "code",
   "execution_count": null,
   "id": "77b1d372-c9c9-419f-8f5d-df5d0a3353d8",
   "metadata": {},
   "outputs": [],
   "source": []
  },
  {
   "cell_type": "markdown",
   "id": "2ca847ba-1b7b-4de9-b30c-fa7b22b72487",
   "metadata": {},
   "source": [
    "# Transform from sky coordinates to camera coordinates"
   ]
  },
  {
   "cell_type": "code",
   "execution_count": null,
   "id": "0924c350-3506-4037-ae1f-6339a8b8ce83",
   "metadata": {
    "tags": []
   },
   "outputs": [],
   "source": [
    "from lsst.afw.cameraGeom import Camera"
   ]
  },
  {
   "cell_type": "code",
   "execution_count": null,
   "id": "6b497706-7ddc-4a70-a8c1-ee5e5918b814",
   "metadata": {
    "tags": []
   },
   "outputs": [],
   "source": [
    "#camera = butler.get('camera', instrument='LSSTCam')"
   ]
  },
  {
   "cell_type": "code",
   "execution_count": null,
   "id": "bde968ca-21f3-4131-a2ab-6768d136c7ce",
   "metadata": {
    "tags": []
   },
   "outputs": [],
   "source": [
    "help(Camera)"
   ]
  },
  {
   "cell_type": "code",
   "execution_count": null,
   "id": "40261594-5682-4af8-94cf-e3f91fe4dd83",
   "metadata": {
    "tags": []
   },
   "outputs": [],
   "source": [
    "repo = '/sdf/group/rubin/repo/dc2_20210215'\n",
    "collection = '2.2i/runs/DP0.1'"
   ]
  },
  {
   "cell_type": "code",
   "execution_count": null,
   "id": "a3045ece-59fc-42c8-b20e-769df152ef2e",
   "metadata": {
    "tags": []
   },
   "outputs": [],
   "source": [
    "butler = dafButler.Butler(repo, collections=collection)\n",
    "camera = butler.get('camera', instrument='LSSTCam-imSim')"
   ]
  },
  {
   "cell_type": "code",
   "execution_count": null,
   "id": "7698e9ac-33dc-4b88-8855-3aa2c4c95908",
   "metadata": {
    "tags": []
   },
   "outputs": [],
   "source": [
    "camera"
   ]
  },
  {
   "cell_type": "code",
   "execution_count": null,
   "id": "f57089eb-81ef-4efb-8aae-e80f944e0d88",
   "metadata": {
    "tags": []
   },
   "outputs": [],
   "source": [
    "dir(camera)"
   ]
  },
  {
   "cell_type": "code",
   "execution_count": null,
   "id": "18ca7d90-6925-425d-ac9f-4b8016924c50",
   "metadata": {
    "tags": []
   },
   "outputs": [],
   "source": [
    "for det in camera:\n",
    "    center = det.getOrientation().getFpPosition()\n",
    "    print(center)"
   ]
  },
  {
   "cell_type": "code",
   "execution_count": null,
   "id": "e545dd63-fc48-4a64-aacb-6f765291ab7b",
   "metadata": {
    "tags": []
   },
   "outputs": [],
   "source": [
    "dir(det)"
   ]
  },
  {
   "cell_type": "code",
   "execution_count": null,
   "id": "029b9214-b2c6-4962-bae2-0a32606250ba",
   "metadata": {
    "tags": []
   },
   "outputs": [],
   "source": [
    "det.getName()"
   ]
  },
  {
   "cell_type": "code",
   "execution_count": null,
   "id": "530d4360-f5a9-46db-886e-03c239f1dd76",
   "metadata": {
    "tags": []
   },
   "outputs": [],
   "source": [
    "import lsst.afw.geom as afwGeom\n",
    "import lsst.afw.cameraGeom as cameraGeom"
   ]
  },
  {
   "cell_type": "code",
   "execution_count": null,
   "id": "fa802e66-17f4-4f4a-b218-ffa82e24dbc1",
   "metadata": {
    "tags": []
   },
   "outputs": [],
   "source": [
    "# https://lsstc.slack.com/archives/C2JPMCF5X/p1569266787124100\n",
    "# https://community.lsst.org/t/constructing-a-wcs-from-camera-geometry/3039\n",
    "def getWcsFromDetector(detector, boresight, rotation=0*lsst.geom.degrees, flipX=False):\n",
    "    \"\"\"Given a detector and (boresight, rotation), return that detector's WCS\n",
    "\n",
    "    Parameters\n",
    "    ----------\n",
    "    detector : `lsst.afw.cameraGeom.Detector`\n",
    "        A detector in a camera.\n",
    "    boresight : `lsst.geom.SpherePoint`\n",
    "       The boresight of the observation.\n",
    "    rotation : `lsst.afw.geom.Angle`, optional\n",
    "        The rotation angle of the camera.\n",
    "        The rotation is \"rotskypos\", the angle of sky relative to camera\n",
    "        coordinates (from North over East).\n",
    "    flipX : `bool`, optional\n",
    "        Flip the X axis?\n",
    "\n",
    "    Returns\n",
    "    -------\n",
    "    wcs : `lsst::afw::geom::SkyWcs`\n",
    "        The calculated WCS.\n",
    "    \"\"\"\n",
    "    trans = detector.getTransform(detector.makeCameraSys(cameraGeom.PIXELS),\n",
    "                                  detector.makeCameraSys(cameraGeom.FIELD_ANGLE))\n",
    "\n",
    "    wcs = afwGeom.makeSkyWcs(trans, rotation, flipX, boresight)\n",
    "\n",
    "    return wcs"
   ]
  },
  {
   "cell_type": "code",
   "execution_count": null,
   "id": "32e591d5-9fc3-49a0-85f7-f9412e734bf2",
   "metadata": {
    "tags": []
   },
   "outputs": [],
   "source": [
    "boresight = lsst.geom.SpherePoint(180., -1., units=lsst.geom.degrees)\n",
    "rotation = 45.*lsst.geom.degrees\n",
    "flipX = False"
   ]
  },
  {
   "cell_type": "code",
   "execution_count": null,
   "id": "07961582-4f0d-4b87-998b-c8582b7ae426",
   "metadata": {
    "tags": []
   },
   "outputs": [],
   "source": [
    "trans = det.getTransform(det.makeCameraSys(cameraGeom.PIXELS), det.makeCameraSys(cameraGeom.FIELD_ANGLE))"
   ]
  },
  {
   "cell_type": "code",
   "execution_count": null,
   "id": "bc73360f-98c7-4c12-b84a-9c6427101598",
   "metadata": {
    "tags": []
   },
   "outputs": [],
   "source": [
    "wcs = afwGeom.makeSkyWcs(trans, rotation, flipX, boresight)"
   ]
  },
  {
   "cell_type": "code",
   "execution_count": null,
   "id": "03033e6a-28c8-47ec-b5ef-f9d7dab7de77",
   "metadata": {
    "tags": []
   },
   "outputs": [],
   "source": [
    "wcs"
   ]
  },
  {
   "cell_type": "code",
   "execution_count": null,
   "id": "9946550c-090b-4dc4-b7d7-71710592bea1",
   "metadata": {
    "tags": []
   },
   "outputs": [],
   "source": [
    "wcs = getWcsFromDetector(det, boresight, rotation=rotation, flipX=flipX)"
   ]
  },
  {
   "cell_type": "code",
   "execution_count": null,
   "id": "9db2839f-1646-4f58-b191-632fcf0397e8",
   "metadata": {
    "tags": []
   },
   "outputs": [],
   "source": [
    "help(wcs.skyToPixelArray)"
   ]
  },
  {
   "cell_type": "code",
   "execution_count": null,
   "id": "d28a708b-dd2d-4730-b47e-4827930cbab9",
   "metadata": {
    "tags": []
   },
   "outputs": [],
   "source": [
    "x, y = wcs.skyToPixelArray(refCatSpatial['ra'], refCatSpatial['dec'], degrees=True)"
   ]
  },
  {
   "cell_type": "code",
   "execution_count": null,
   "id": "a6ff01ad-ff7b-4440-a60d-38c49dcfac26",
   "metadata": {
    "tags": []
   },
   "outputs": [],
   "source": [
    "plt.figure()\n",
    "plt.scatter(x, y)"
   ]
  },
  {
   "cell_type": "code",
   "execution_count": null,
   "id": "d35fcdd7-6470-4707-8f61-d23bd0ad1f93",
   "metadata": {
    "tags": []
   },
   "outputs": [],
   "source": [
    "selected = det.getBBox().contains(x, y)"
   ]
  },
  {
   "cell_type": "code",
   "execution_count": null,
   "id": "64b68c0f-d60d-4f89-a1e2-a24a179f6b27",
   "metadata": {
    "tags": []
   },
   "outputs": [],
   "source": [
    "plt.figure()\n",
    "plt.scatter(x[~selected], y[~selected], s=1)\n",
    "plt.scatter(x[selected], y[selected], s=1)"
   ]
  },
  {
   "cell_type": "code",
   "execution_count": null,
   "id": "fa94a679-8066-4c0a-8078-8b891fd341ca",
   "metadata": {
    "tags": []
   },
   "outputs": [],
   "source": [
    "det.getId()"
   ]
  },
  {
   "cell_type": "code",
   "execution_count": null,
   "id": "1bc2e3f2-ac7f-4cf0-87df-3e4709bf08a9",
   "metadata": {
    "tags": []
   },
   "outputs": [],
   "source": [
    "#detId = np.empty(len(refCatSpatial)).fill(-1.)\n",
    "detId = np.zeros(len(refCatSpatial)) - 1.\n",
    "for det in camera:\n",
    "    if 'R22' not in det.getName():\n",
    "        continue\n",
    "    wcs = getWcsFromDetector(det, boresight, rotation=rotation, flipX=flipX)\n",
    "    x, y = wcs.skyToPixelArray(refCatSpatial['ra'], refCatSpatial['dec'], degrees=True)\n",
    "    selected = det.getBBox().contains(x, y)\n",
    "    detId[selected] = det.getId()\n",
    "    print(det.getId(), det.getName(), np.sum(selected))"
   ]
  },
  {
   "cell_type": "code",
   "execution_count": null,
   "id": "a0156df3-ef8b-476b-b2ec-92c2ef1c9254",
   "metadata": {
    "tags": []
   },
   "outputs": [],
   "source": [
    "def getDetectorId(refCatSpatial, camera, boresight, rotation, flipX):\n",
    "    detId = np.zeros(len(refCatSpatial)) - 1.\n",
    "    for det in camera:\n",
    "        \n",
    "        # Emulate ComCam by considering only the central raft\n",
    "        if 'R22' not in det.getName():\n",
    "            continue\n",
    "            \n",
    "        wcs = getWcsFromDetector(det, boresight, rotation=rotation, flipX=flipX)\n",
    "        x, y = wcs.skyToPixelArray(refCatSpatial['ra'], refCatSpatial['dec'], degrees=True)\n",
    "        \n",
    "        # Detector\n",
    "        selected = det.getBBox().contains(x, y)\n",
    "        detId[selected] = det.getId()\n",
    "        #print(det.getId(), det.getName(), np.sum(selected))\n",
    "        \n",
    "        # Focal Plane Coordinates\n",
    "        #xy_fp = det.transform([lsst.geom.Point2D(x, y) for x, y in zip(x, y)], cameraGeom.PIXELS, cameraGeom.FOCAL_PLANE)\n",
    "        #x_fp, y_fp = zip(*[[_.x, _.y] for _ in xy_fp])\n",
    "\n",
    "    #return detId, np.array(x_fp), np.array(y_fp)\n",
    "    #return detId, x_fp, y_fp\n",
    "    return detId"
   ]
  },
  {
   "cell_type": "code",
   "execution_count": null,
   "id": "e3907b55-6aad-4092-a786-8a41d0e9f1a3",
   "metadata": {
    "tags": []
   },
   "outputs": [],
   "source": [
    "def getFpCoordinates(refCatSpatial, camera, boresight, rotation, flipX):\n",
    "    det = camera.get('R22_S11')\n",
    "    wcs = getWcsFromDetector(det, boresight, rotation=rotation, flipX=flipX)\n",
    "    x, y = wcs.skyToPixelArray(refCatSpatial['ra'], refCatSpatial['dec'], degrees=True)\n",
    "    xy_fp = det.transform([lsst.geom.Point2D(x, y) for x, y in zip(x, y)], cameraGeom.PIXELS, cameraGeom.FOCAL_PLANE)\n",
    "    x_fp, y_fp = zip(*[[_.x, _.y] for _ in xy_fp])\n",
    "    return np.array(x_fp), np.array(y_fp)"
   ]
  },
  {
   "cell_type": "code",
   "execution_count": null,
   "id": "16f05108-517e-4de1-ab26-bccb47f60279",
   "metadata": {},
   "outputs": [],
   "source": []
  },
  {
   "cell_type": "code",
   "execution_count": null,
   "id": "80651659-15b6-41bb-8bd1-9089638789f3",
   "metadata": {
    "tags": []
   },
   "outputs": [],
   "source": [
    "detId = getDetectorId(refCatSpatial, camera, boresight, rotation, flipX)\n",
    "#detId, x_fp, y_fp = getDetectorId(refCatSpatial, camera, boresight, rotation, flipX)"
   ]
  },
  {
   "cell_type": "code",
   "execution_count": null,
   "id": "57ee2dfc-959e-4d9b-ba3a-d445843c745b",
   "metadata": {
    "tags": []
   },
   "outputs": [],
   "source": [
    "x_fp, y_fp = getFpCoordinates(refCatSpatial, camera, boresight, rotation, flipX)"
   ]
  },
  {
   "cell_type": "code",
   "execution_count": null,
   "id": "9e3e48c3-35e8-4295-94f4-6de730ede824",
   "metadata": {
    "tags": []
   },
   "outputs": [],
   "source": [
    "np.unique(detId)"
   ]
  },
  {
   "cell_type": "code",
   "execution_count": null,
   "id": "d473233a-6094-46b8-b8c0-2751bf67d04e",
   "metadata": {
    "tags": []
   },
   "outputs": [],
   "source": [
    "selected = (detId >= 0)\n",
    "\n",
    "plt.figure()\n",
    "plt.scatter(refCatSpatial['ra'][selected], refCatSpatial['dec'][selected], c=detId[selected], s=1)\n",
    "plt.colorbar()"
   ]
  },
  {
   "cell_type": "code",
   "execution_count": null,
   "id": "81b278de-a7ba-4b48-a46a-0744646991e8",
   "metadata": {
    "tags": []
   },
   "outputs": [],
   "source": [
    "plt.figure()\n",
    "plt.scatter(x_fp[selected], y_fp[selected], c=detId[selected], s=1)\n",
    "plt.colorbar()"
   ]
  },
  {
   "cell_type": "code",
   "execution_count": null,
   "id": "5aa928dd-0f00-4808-83ae-8ab550bc6bbe",
   "metadata": {
    "tags": []
   },
   "outputs": [],
   "source": [
    "detId = np.zeros(len(refCatSpatial)) - 1\n",
    "print(detId.shape)\n",
    "print(detId)"
   ]
  },
  {
   "cell_type": "code",
   "execution_count": null,
   "id": "64c13621-cff7-448d-bb16-f7820f92d504",
   "metadata": {
    "tags": []
   },
   "outputs": [],
   "source": [
    "detId = np.empty(len(refCatSpatial))\n",
    "print(detId.shape)\n",
    "print(detId)"
   ]
  },
  {
   "cell_type": "markdown",
   "id": "45811179-5cdf-4128-94f1-4d029f718e84",
   "metadata": {},
   "source": [
    "# Set of dithers"
   ]
  },
  {
   "cell_type": "code",
   "execution_count": null,
   "id": "3138126c-5d43-44b7-80a7-7cdde3f6104b",
   "metadata": {
    "tags": []
   },
   "outputs": [],
   "source": [
    "n = 20\n",
    "ra_boresight_array = 180. + np.random.uniform(-0.2, 0.2, size=n)\n",
    "dec_boresight_array = -1. + np.random.uniform(-0.2, 0.2, size=n)\n",
    "rotation_array = np.random.uniform(-180., 180., size=n)"
   ]
  },
  {
   "cell_type": "code",
   "execution_count": null,
   "id": "ad8b3781-b0d4-46d2-b419-484344f2d972",
   "metadata": {
    "tags": []
   },
   "outputs": [],
   "source": [
    "plt.figure()\n",
    "plt.scatter(ra_boresight_array, dec_boresight_array, c=rotation_array)\n",
    "plt.colorbar(label='Rotation (deg)')\n",
    "plt.xlim(plt.xlim()[::-1])\n",
    "plt.xlabel('RA (deg)')\n",
    "plt.ylabel('Dec (deg)')\n",
    "plt.suptitle('Telescope Boresight Pointings and Camera Rotation Angles')"
   ]
  },
  {
   "cell_type": "code",
   "execution_count": null,
   "id": "c82ecdb4-1a3b-434d-bb9c-cf834798f9a6",
   "metadata": {
    "tags": []
   },
   "outputs": [],
   "source": [
    "detId_array = []\n",
    "x_fp_array = []\n",
    "y_fp_array = []\n",
    "for visit_index in range(0, n):\n",
    "    print(visit_index)\n",
    "    boresight_visit = lsst.geom.SpherePoint(ra_boresight_array[visit_index], dec_boresight_array[visit_index], units=lsst.geom.degrees)\n",
    "    rotation_visit = rotation_array[visit_index]*lsst.geom.degrees\n",
    "    detId = getDetectorId(refCatSpatial, camera, boresight_visit, rotation_visit, flipX)\n",
    "    detId_array.append(detId)\n",
    "    x_fp, y_fp = getFpCoordinates(refCatSpatial, camera, boresight_visit, rotation_visit, flipX)\n",
    "    x_fp_array.append(x_fp)\n",
    "    y_fp_array.append(y_fp)"
   ]
  },
  {
   "cell_type": "code",
   "execution_count": null,
   "id": "20ca313b-711a-4646-98c0-d615293d1a88",
   "metadata": {
    "tags": []
   },
   "outputs": [],
   "source": [
    "detId_array = np.array(detId_array)\n",
    "x_fp_array = np.array(x_fp_array)\n",
    "y_fp_array = np.array(y_fp_array)"
   ]
  },
  {
   "cell_type": "code",
   "execution_count": null,
   "id": "bd9a3489-7538-4e63-a981-e0db4947c816",
   "metadata": {
    "tags": []
   },
   "outputs": [],
   "source": [
    "detId_array.shape"
   ]
  },
  {
   "cell_type": "code",
   "execution_count": null,
   "id": "5b8f1a81-1a0d-443d-8ffc-5dbb4111de29",
   "metadata": {
    "tags": []
   },
   "outputs": [],
   "source": [
    "counts = np.sum(detId_array >= 0, axis=0)"
   ]
  },
  {
   "cell_type": "code",
   "execution_count": null,
   "id": "4e2ccf17-85bc-49f4-97a7-b22a0110890a",
   "metadata": {
    "tags": []
   },
   "outputs": [],
   "source": [
    "selected = (counts > 0)\n",
    "plt.figure()\n",
    "plt.scatter(refCatSpatial['ra'][selected], refCatSpatial['dec'][selected], c=counts[selected], s=1)\n",
    "plt.colorbar(label='Number of Measurements')\n",
    "plt.xlim(plt.xlim()[::-1])\n",
    "plt.xlabel('RA (deg)')\n",
    "plt.ylabel('Dec (deg)')"
   ]
  },
  {
   "cell_type": "code",
   "execution_count": null,
   "id": "1b358b6a-07e8-4787-8754-49b96f06c943",
   "metadata": {
    "tags": []
   },
   "outputs": [],
   "source": [
    "plt.figure()\n",
    "plt.plot(np.sort(counts[selected])[::-1])\n",
    "plt.xlabel('Number of Reference Stars')\n",
    "plt.ylabel('Number of Measurements')"
   ]
  },
  {
   "cell_type": "code",
   "execution_count": null,
   "id": "7f90c98c-ab39-4cff-abf7-95c3b466d1d7",
   "metadata": {
    "tags": []
   },
   "outputs": [],
   "source": [
    "# Number of unique detectors that each star appeared on"
   ]
  },
  {
   "cell_type": "code",
   "execution_count": null,
   "id": "c524bd7c-aeab-45d0-9f47-7e4798dfefdd",
   "metadata": {
    "tags": []
   },
   "outputs": [],
   "source": [
    "unique_det = np.array([len(np.unique(_[_ >= 0])) for _ in detId_array.T])"
   ]
  },
  {
   "cell_type": "code",
   "execution_count": null,
   "id": "2a3e5d15-fac3-4239-a55b-a967edbd00eb",
   "metadata": {
    "tags": []
   },
   "outputs": [],
   "source": [
    "selected = (counts >= 1)\n",
    "plt.figure()\n",
    "plt.scatter(refCatSpatial['ra'][selected], refCatSpatial['dec'][selected], c=unique_det[selected], s=1)\n",
    "plt.colorbar(label='Number of Unique Detectors')\n",
    "plt.xlim(plt.xlim()[::-1])\n",
    "plt.xlabel('RA (deg)')\n",
    "plt.ylabel('Dec (deg)')"
   ]
  },
  {
   "cell_type": "code",
   "execution_count": null,
   "id": "a569b49f-cc4e-43bf-8122-50f811950dc9",
   "metadata": {
    "tags": []
   },
   "outputs": [],
   "source": [
    "plt.figure()\n",
    "plt.plot(np.sort(unique_det[selected])[::-1])\n",
    "plt.xlabel('Number of Reference Stars')\n",
    "plt.ylabel('Number of Unique Detectors')"
   ]
  },
  {
   "cell_type": "code",
   "execution_count": null,
   "id": "56a80cc3-730c-4785-94b9-3da04cde9430",
   "metadata": {
    "tags": []
   },
   "outputs": [],
   "source": [
    "# Number of repeated visits in focal plane coordinates\n",
    "# Need to define some minimum number of measurements per star"
   ]
  },
  {
   "cell_type": "code",
   "execution_count": null,
   "id": "9ee2b98b-c07e-4945-ac74-4c5a7e045c6a",
   "metadata": {
    "tags": []
   },
   "outputs": [],
   "source": [
    "counts_array = np.tile(counts, detId_array.shape[0]).reshape(detId_array.shape)\n",
    "unique_det_array = np.tile(unique_det, detId_array.shape[0]).reshape(detId_array.shape)"
   ]
  },
  {
   "cell_type": "code",
   "execution_count": null,
   "id": "1bb1d835-fcdf-47d6-8a72-8ddea773a95a",
   "metadata": {
    "tags": []
   },
   "outputs": [],
   "source": [
    "plt.figure()\n",
    "plt.scatter(x_fp_array[detId_array >= 0], y_fp_array[detId_array >= 0], c=unique_det_array[detId_array >= 0], s=1)\n",
    "plt.colorbar(label='Number of Unique Detectors')\n",
    "plt.xlabel('Focal Plane x (mm)')\n",
    "plt.ylabel('Focal Plane y (mm)')"
   ]
  },
  {
   "cell_type": "code",
   "execution_count": null,
   "id": "5fbdcf0e-d39a-473a-9b1d-079c6b0ee8c4",
   "metadata": {
    "tags": []
   },
   "outputs": [],
   "source": [
    "plt.figure()\n",
    "plt.scatter(x_fp_array[detId_array >= 0], y_fp_array[detId_array >= 0], c=counts_array[detId_array >= 0], s=1)\n",
    "plt.colorbar(label='Number of Measurements')\n",
    "plt.xlabel('Focal Plane x (mm)')\n",
    "plt.ylabel('Focal Plane y (mm)')"
   ]
  },
  {
   "cell_type": "code",
   "execution_count": null,
   "id": "8a858301-f0bd-41c4-9d09-66562899f4ba",
   "metadata": {},
   "outputs": [],
   "source": []
  },
  {
   "cell_type": "code",
   "execution_count": null,
   "id": "417d8e98-9aa5-47b9-a827-a8a989a6fd58",
   "metadata": {},
   "outputs": [],
   "source": []
  },
  {
   "cell_type": "code",
   "execution_count": null,
   "id": "585c358b-65ad-4c1f-a973-caa5420aeb75",
   "metadata": {
    "tags": []
   },
   "outputs": [],
   "source": [
    "plt.figure()\n",
    "plt.scatter(x_fp_array[0][detId_array[0] >= 0], y_fp_array[0][detId_array[0] >= 0], s=1)"
   ]
  },
  {
   "cell_type": "code",
   "execution_count": null,
   "id": "c0e49cc5-438b-4a13-b054-25374f93bbc1",
   "metadata": {
    "tags": []
   },
   "outputs": [],
   "source": [
    "#(x_fp_array.T)[counts >= 3].T"
   ]
  },
  {
   "cell_type": "code",
   "execution_count": null,
   "id": "20fbe1b9-7412-423d-a585-fcb399363913",
   "metadata": {
    "tags": []
   },
   "outputs": [],
   "source": [
    "detId_array.flatten()"
   ]
  },
  {
   "cell_type": "code",
   "execution_count": null,
   "id": "0e6b3464-7b5c-48e4-b122-60db0d0422c9",
   "metadata": {
    "tags": []
   },
   "outputs": [],
   "source": [
    "x_fp_array.flatten()[(detId_array >= 0).flatten()].shape"
   ]
  },
  {
   "cell_type": "code",
   "execution_count": null,
   "id": "88a406cf-69e6-4f03-a4c7-a86056676a64",
   "metadata": {
    "tags": []
   },
   "outputs": [],
   "source": [
    "plt.figure()\n",
    "plt.scatter(x_fp_array.flatten()[(detId_array >= 0).flatten()], y_fp_array.flatten()[(detId_array >= 0).flatten()], s=1)"
   ]
  },
  {
   "cell_type": "code",
   "execution_count": null,
   "id": "7c5b81dc-92eb-4f41-8317-cab61cc0bba3",
   "metadata": {
    "tags": []
   },
   "outputs": [],
   "source": [
    "selection_counts = (counts >= 1)\n",
    "selection_detected = (detId_array.T[selection_counts] >= 0)\n",
    "x_fp_selected = x_fp_array.T[selection_counts][selection_detected]\n",
    "y_fp_selected = y_fp_array.T[selection_counts][selection_detected]"
   ]
  },
  {
   "cell_type": "code",
   "execution_count": null,
   "id": "a9ccc77f-b7d5-4460-9afb-c66759cfeedc",
   "metadata": {
    "tags": []
   },
   "outputs": [],
   "source": [
    "plt.figure()\n",
    "plt.scatter(x_fp_selected, y_fp_selected, s=1)"
   ]
  },
  {
   "cell_type": "code",
   "execution_count": null,
   "id": "a1bb4b19-0068-4ce8-b6f0-b2ecc7fcca94",
   "metadata": {
    "tags": []
   },
   "outputs": [],
   "source": [
    "plt.figure()\n",
    "plt.hexbin(x_fp_selected, y_fp_selected)"
   ]
  },
  {
   "cell_type": "code",
   "execution_count": null,
   "id": "bdfe0717-ae6a-46ee-ae30-a8cfe03cf039",
   "metadata": {
    "tags": []
   },
   "outputs": [],
   "source": []
  },
  {
   "cell_type": "code",
   "execution_count": null,
   "id": "bcc697a5-1bc3-45c5-a6a0-8fb2b6406676",
   "metadata": {
    "tags": []
   },
   "outputs": [],
   "source": []
  },
  {
   "cell_type": "code",
   "execution_count": null,
   "id": "c7b422aa-ad6f-4e8f-bdfc-7befcae4444d",
   "metadata": {},
   "outputs": [],
   "source": []
  },
  {
   "cell_type": "code",
   "execution_count": null,
   "id": "bd15e7a0-f0f2-471c-8e1b-3a96473ed5aa",
   "metadata": {},
   "outputs": [],
   "source": []
  },
  {
   "cell_type": "code",
   "execution_count": null,
   "id": "a1c80400-2942-4e9c-a9db-9975727f8668",
   "metadata": {},
   "outputs": [],
   "source": []
  },
  {
   "cell_type": "code",
   "execution_count": null,
   "id": "24f37cf8-7c9b-4b18-a8a9-de6de18185b5",
   "metadata": {
    "tags": []
   },
   "outputs": [],
   "source": [
    "dir(det)"
   ]
  },
  {
   "cell_type": "code",
   "execution_count": null,
   "id": "2449a2c8-65c0-41cf-a83b-575124cfb356",
   "metadata": {
    "tags": []
   },
   "outputs": [],
   "source": [
    "det.getCenter(cameraGeom.PIXELS)"
   ]
  },
  {
   "cell_type": "code",
   "execution_count": null,
   "id": "c5f3de3e-2334-43ac-87b6-e167fed5e273",
   "metadata": {
    "tags": []
   },
   "outputs": [],
   "source": [
    "camera.get('R22_S11').getCenter(cameraGeom.PIXELS)"
   ]
  },
  {
   "cell_type": "code",
   "execution_count": null,
   "id": "849d7b77-d377-4add-abfe-ba965ed76df0",
   "metadata": {
    "tags": []
   },
   "outputs": [],
   "source": [
    "# lsst.geom.Point2D(0., 0.)\n",
    "det.getOrientation().getFpPosition()"
   ]
  },
  {
   "cell_type": "code",
   "execution_count": null,
   "id": "2cfe314c-6539-4033-b439-c621c29794c3",
   "metadata": {
    "tags": []
   },
   "outputs": [],
   "source": [
    "det.getOrientation().getReferencePoint()"
   ]
  },
  {
   "cell_type": "code",
   "execution_count": null,
   "id": "ed4cfcd7-38b7-422b-97f4-9da37c41f073",
   "metadata": {
    "tags": []
   },
   "outputs": [],
   "source": [
    "dir(det)"
   ]
  },
  {
   "cell_type": "code",
   "execution_count": null,
   "id": "f0f54bbf-8187-4a2b-8738-66d57b6555cd",
   "metadata": {
    "tags": []
   },
   "outputs": [],
   "source": [
    "help(det.getOrientation().makePixelFpTransform)"
   ]
  },
  {
   "cell_type": "code",
   "execution_count": null,
   "id": "793bd7ea-6491-4f83-98da-37d05bcc2630",
   "metadata": {
    "tags": []
   },
   "outputs": [],
   "source": [
    "xy_fp = det.transform([lsst.geom.Point2D(x, y) for x, y in zip(x, y)], cameraGeom.PIXELS, cameraGeom.FOCAL_PLANE)"
   ]
  },
  {
   "cell_type": "code",
   "execution_count": null,
   "id": "f1bc81e5-ca0f-43cc-a1b5-6cfa1060d246",
   "metadata": {
    "tags": []
   },
   "outputs": [],
   "source": [
    "x_fp, y_fp = zip(*[[_.x, _.y] for _ in xy_fp])"
   ]
  },
  {
   "cell_type": "code",
   "execution_count": null,
   "id": "98f32bef-f65c-480f-952d-8b6aec7990c3",
   "metadata": {
    "tags": []
   },
   "outputs": [],
   "source": [
    "plt.figure()\n",
    "plt.scatter(x_fp, y_fp, s=1)"
   ]
  },
  {
   "cell_type": "code",
   "execution_count": null,
   "id": "9c0d4da0-3bc9-44e7-aa32-052a8152eb0c",
   "metadata": {
    "tags": []
   },
   "outputs": [],
   "source": [
    "det.getCenter(cameraGeom.FOCAL_PLANE)"
   ]
  },
  {
   "cell_type": "code",
   "execution_count": null,
   "id": "37da4039-2861-4b08-9a2e-797296f3e7c5",
   "metadata": {
    "tags": []
   },
   "outputs": [],
   "source": [
    "center = det.getCenter(cameraGeom.PIXELS)\n",
    "x_center, y_center = center.x, center.y"
   ]
  },
  {
   "cell_type": "code",
   "execution_count": null,
   "id": "423caf95-baf0-4d16-a401-e14e1dd671c2",
   "metadata": {
    "tags": []
   },
   "outputs": [],
   "source": [
    "from lsst.obs.lsst.cameraTransforms import LsstCameraTransforms\n",
    "transform = LsstCameraTransforms(camera)"
   ]
  },
  {
   "cell_type": "code",
   "execution_count": null,
   "id": "48a44ff8-1f94-4ccc-8f11-722adec81bb6",
   "metadata": {
    "tags": []
   },
   "outputs": [],
   "source": [
    "help(transform.ccdPixelToFocalMm)"
   ]
  },
  {
   "cell_type": "code",
   "execution_count": null,
   "id": "d9e70595-ad31-4717-98cd-81e305687fec",
   "metadata": {
    "tags": []
   },
   "outputs": [],
   "source": [
    "transform.ccdPixelToFocalMm([0., 0.], [0., 0.], det.getName())"
   ]
  },
  {
   "cell_type": "code",
   "execution_count": null,
   "id": "b4bbef2d-ef23-4079-8435-c9d1b01d9aec",
   "metadata": {
    "tags": []
   },
   "outputs": [],
   "source": []
  },
  {
   "cell_type": "code",
   "execution_count": null,
   "id": "9f83dd83-4990-4eed-b682-e59b2f5aee66",
   "metadata": {
    "tags": []
   },
   "outputs": [],
   "source": [
    "xy_fp = det.transform([lsst.geom.Point2D(x, y) for x, y in zip(x, y)], cameraGeom.PIXELS, cameraGeom.FOCAL_PLANE)\n",
    "x_fp, y_fp = zip(*[[_.x, _.y] for _ in xy_fp])"
   ]
  },
  {
   "cell_type": "code",
   "execution_count": null,
   "id": "4b346c7a-dcd4-4c5a-993f-beeff960c775",
   "metadata": {
    "tags": []
   },
   "outputs": [],
   "source": []
  },
  {
   "cell_type": "code",
   "execution_count": null,
   "id": "add8dd0b-2a24-482b-9676-1c6be6519cd9",
   "metadata": {
    "tags": []
   },
   "outputs": [],
   "source": [
    "dir(camera)"
   ]
  },
  {
   "cell_type": "code",
   "execution_count": null,
   "id": "27d5fe2f-3f3b-4bb0-a9a3-1c388a9ffcf3",
   "metadata": {
    "tags": []
   },
   "outputs": [],
   "source": [
    "def getWcsFromCamera(camera, boresight, rotation=0*lsst.geom.degrees, flipX=False):\n",
    "    \"\"\"Given a detector and (boresight, rotation), return that detector's WCS\n",
    "\n",
    "    Parameters\n",
    "    ----------\n",
    "    detector : `lsst.afw.cameraGeom.Detector`\n",
    "        A detector in a camera.\n",
    "    boresight : `lsst.geom.SpherePoint`\n",
    "       The boresight of the observation.\n",
    "    rotation : `lsst.afw.geom.Angle`, optional\n",
    "        The rotation angle of the camera.\n",
    "        The rotation is \"rotskypos\", the angle of sky relative to camera\n",
    "        coordinates (from North over East).\n",
    "    flipX : `bool`, optional\n",
    "        Flip the X axis?\n",
    "\n",
    "    Returns\n",
    "    -------\n",
    "    wcs : `lsst::afw::geom::SkyWcs`\n",
    "        The calculated WCS.\n",
    "    \"\"\"\n",
    "    trans = camera.getTransform(cameraGeom.PIXELS, cameraGeom.FIELD_ANGLE)\n",
    "\n",
    "    wcs = afwGeom.makeSkyWcs(trans, rotation, flipX, boresight)\n",
    "\n",
    "    return wcs"
   ]
  },
  {
   "cell_type": "code",
   "execution_count": null,
   "id": "206c0765-a237-48ad-9f74-3ed6a4cca8e6",
   "metadata": {
    "tags": []
   },
   "outputs": [],
   "source": [
    "wcs_camera = getWcsFromCamera(camera, boresight, rotation=rotation, flipX=flipX)"
   ]
  },
  {
   "cell_type": "code",
   "execution_count": null,
   "id": "b5b054e5-723f-4df3-989a-a5a7b3059480",
   "metadata": {
    "tags": []
   },
   "outputs": [],
   "source": [
    "help(camera.getTransform)"
   ]
  },
  {
   "cell_type": "code",
   "execution_count": null,
   "id": "23a7878f-c4b2-4ea9-b1df-b3a1f8c32217",
   "metadata": {},
   "outputs": [],
   "source": []
  }
 ],
 "metadata": {
  "kernelspec": {
   "display_name": "LSST",
   "language": "python",
   "name": "lsst"
  },
  "language_info": {
   "codemirror_mode": {
    "name": "ipython",
    "version": 3
   },
   "file_extension": ".py",
   "mimetype": "text/x-python",
   "name": "python",
   "nbconvert_exporter": "python",
   "pygments_lexer": "ipython3",
   "version": "3.11.4"
  }
 },
 "nbformat": 4,
 "nbformat_minor": 5
}
