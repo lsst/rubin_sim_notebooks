{
 "cells": [
  {
   "cell_type": "code",
   "execution_count": 1,
   "id": "a8d995d6",
   "metadata": {},
   "outputs": [],
   "source": [
    "from rubin_scheduler.scheduler.model_observatory import ModelObservatory\n",
    "from rubin_scheduler.scheduler.surveys import BaseSurvey, ScriptedSurvey\n",
    "from rubin_scheduler.scheduler.utils import empty_observation, scheduled_observation\n",
    "from rubin_scheduler.scheduler.schedulers import CoreScheduler, SimpleFilterSched\n",
    "from rubin_scheduler.scheduler import sim_runner\n",
    "\n",
    "import numpy as np\n",
    "import healpy as hp\n",
    "import matplotlib.pylab as plt\n",
    "%matplotlib inline\n",
    "\n",
    "import pandas as pd"
   ]
  },
  {
   "cell_type": "code",
   "execution_count": 14,
   "id": "ea496bb8",
   "metadata": {},
   "outputs": [],
   "source": [
    "# load up a model observatory.\n",
    "nside=32  # Specify the HEALpix resolution we want to do everything in.\n",
    "mjd_start = 60218\n",
    "mo = ModelObservatory(nside=nside, mjd_start=mjd_start, downtimes=\"ideal\")"
   ]
  },
  {
   "cell_type": "code",
   "execution_count": 15,
   "id": "b49577d8",
   "metadata": {},
   "outputs": [],
   "source": [
    "conditions = mo.return_conditions()"
   ]
  },
  {
   "cell_type": "code",
   "execution_count": null,
   "id": "afedd0d8",
   "metadata": {},
   "outputs": [],
   "source": []
  },
  {
   "cell_type": "code",
   "execution_count": 16,
   "id": "fb79de7d",
   "metadata": {},
   "outputs": [
    {
     "name": "stdout",
     "output_type": "stream",
     "text": [
      "Help on function scheduled_observation in module rubin_scheduler.scheduler.utils.utils:\n",
      "\n",
      "scheduled_observation(n=1)\n",
      "    Make an array to hold pre-scheduling observations\n",
      "    \n",
      "    Returns\n",
      "    -------\n",
      "    result : np.array\n",
      "    \n",
      "    \n",
      "    Note\n",
      "    ----\n",
      "    mjd_tol : `float`\n",
      "        The tolerance on how early an observation can execute (days).\n",
      "        Observation will be considered valid to attempt\n",
      "        when mjd-mjd_tol < current MJD < flush_by_mjd (and other\n",
      "        conditions below pass)\n",
      "    dist_tol : `float`\n",
      "        The angular distance an observation can be away from the\n",
      "        specified RA,Dec and still count as completing the observation\n",
      "        (radians).\n",
      "    alt_min : `float`\n",
      "        The minimum altitude to consider executing the observation\n",
      "        (radians).\n",
      "    alt_max : `float`\n",
      "        The maximuim altitude to try observing (radians).\n",
      "    HA_max : `float`\n",
      "        Hour angle limit. Constraint is such that for hour angle\n",
      "        running from 0 to 24 hours, the target RA,Dec must be greather\n",
      "        than HA_max and less than HA_min. Set HA_max to 0 for no\n",
      "        limit. (hours)\n",
      "    HA_min : `float`\n",
      "        Hour angle limit. Constraint is such that for hour angle\n",
      "        running from 0 to 24 hours, the target RA,Dec must be greather\n",
      "        than HA_max and less than HA_min. Set HA_min to 24 for\n",
      "        no limit. (hours)\n",
      "    sun_alt_max : `float`\n",
      "        The sun must be below sun_alt_max to execute. (radians)\n",
      "    moon_min_distance : `float`\n",
      "        The minimum distance to demand the moon should be away (radians)\n",
      "    observed : `bool`\n",
      "        If set to True, scheduler will probably consider this a\n",
      "        completed observation and never attempt it.\n",
      "\n"
     ]
    }
   ],
   "source": [
    "# Let's look at how scheduled observations work\n",
    "help(scheduled_observation)"
   ]
  },
  {
   "cell_type": "code",
   "execution_count": 17,
   "id": "3e14024f",
   "metadata": {},
   "outputs": [],
   "source": [
    "# Let's make a few scheduled observations manually, then load them into a scripted survey object\n",
    "\n",
    "# Array of 10 observations to schedule\n",
    "obs = scheduled_observation(10)\n",
    "# Set these to point exactly at the south pole\n",
    "obs['RA'] = 0\n",
    "obs['dec'] = np.radians(-90.)\n",
    "# Set them to be every 30 minutes, starting 2 hours from current mjd\n",
    "obs['mjd'] = conditions.mjd + np.arange(10)*0.5/24 + 2./24.\n",
    "obs['exptime'] = 30\n",
    "obs['nexp'] = 2\n",
    "obs['filter'] = 'i'\n",
    "obs['scheduler_note'] = 'scripted'\n",
    "obs['flush_by_mjd'] = conditions.mjd + 10\n",
    "\n",
    "# This is a little tichy. Need to set these, \n",
    "# Otherwise they will not pass if-statements\n",
    "# How early an observation can be attempted\n",
    "obs['mjd_tol'] = 10./3600/24.  # Seconds to days\n",
    "# distance away from the desired RA,Dec to consider an observation as counting\n",
    "obs['dist_tol'] = np.radians(3.) \n",
    "obs['alt_min'] = 0\n",
    "obs['alt_max'] = np.radians(85.)\n",
    "# This is effectively no hour angle limit. XXX--need to document better\n",
    "obs['HA_max'] = 0. # Hours\n",
    "obs['HA_min'] = 24.\n",
    "\n",
    "# You can make this array of scheduled observations any way you like! Can be one observations, or lots over years."
   ]
  },
  {
   "cell_type": "code",
   "execution_count": 18,
   "id": "f642df5c",
   "metadata": {},
   "outputs": [
    {
     "name": "stdout",
     "output_type": "stream",
     "text": [
      "Our 10 scheduled observations\n",
      "   ID   RA       dec           mjd  flush_by_mjd  exptime filter  rotSkyPos  \\\n",
      "0   0  0.0 -1.570796  60218.083333       60228.0     30.0      i        0.0   \n",
      "1   0  0.0 -1.570796  60218.104167       60228.0     30.0      i        0.0   \n",
      "2   0  0.0 -1.570796  60218.125000       60228.0     30.0      i        0.0   \n",
      "3   0  0.0 -1.570796  60218.145833       60228.0     30.0      i        0.0   \n",
      "4   0  0.0 -1.570796  60218.166667       60228.0     30.0      i        0.0   \n",
      "5   0  0.0 -1.570796  60218.187500       60228.0     30.0      i        0.0   \n",
      "6   0  0.0 -1.570796  60218.208333       60228.0     30.0      i        0.0   \n",
      "7   0  0.0 -1.570796  60218.229167       60228.0     30.0      i        0.0   \n",
      "8   0  0.0 -1.570796  60218.250000       60228.0     30.0      i        0.0   \n",
      "9   0  0.0 -1.570796  60218.270833       60228.0     30.0      i        0.0   \n",
      "\n",
      "   rotTelPos  rotTelPos_backup  ...   mjd_tol  dist_tol alt_min  alt_max  \\\n",
      "0        0.0               0.0  ...  0.000116   0.05236     0.0  1.48353   \n",
      "1        0.0               0.0  ...  0.000116   0.05236     0.0  1.48353   \n",
      "2        0.0               0.0  ...  0.000116   0.05236     0.0  1.48353   \n",
      "3        0.0               0.0  ...  0.000116   0.05236     0.0  1.48353   \n",
      "4        0.0               0.0  ...  0.000116   0.05236     0.0  1.48353   \n",
      "5        0.0               0.0  ...  0.000116   0.05236     0.0  1.48353   \n",
      "6        0.0               0.0  ...  0.000116   0.05236     0.0  1.48353   \n",
      "7        0.0               0.0  ...  0.000116   0.05236     0.0  1.48353   \n",
      "8        0.0               0.0  ...  0.000116   0.05236     0.0  1.48353   \n",
      "9        0.0               0.0  ...  0.000116   0.05236     0.0  1.48353   \n",
      "\n",
      "  HA_max HA_min sun_alt_max  moon_min_distance  observed  scripted_id  \n",
      "0    0.0   24.0         0.0                0.0     False            0  \n",
      "1    0.0   24.0         0.0                0.0     False            0  \n",
      "2    0.0   24.0         0.0                0.0     False            0  \n",
      "3    0.0   24.0         0.0                0.0     False            0  \n",
      "4    0.0   24.0         0.0                0.0     False            0  \n",
      "5    0.0   24.0         0.0                0.0     False            0  \n",
      "6    0.0   24.0         0.0                0.0     False            0  \n",
      "7    0.0   24.0         0.0                0.0     False            0  \n",
      "8    0.0   24.0         0.0                0.0     False            0  \n",
      "9    0.0   24.0         0.0                0.0     False            0  \n",
      "\n",
      "[10 rows x 27 columns]\n"
     ]
    }
   ],
   "source": [
    "print('Our 10 scheduled observations')\n",
    "print(pd.DataFrame(obs))"
   ]
  },
  {
   "cell_type": "code",
   "execution_count": 19,
   "id": "42a46f68",
   "metadata": {},
   "outputs": [],
   "source": [
    "# Instantiate a scripted survey object\n",
    "ss = ScriptedSurvey([])\n",
    "# Load our scheduled observations into it\n",
    "ss.set_script(obs)"
   ]
  },
  {
   "cell_type": "code",
   "execution_count": 20,
   "id": "a14b3441",
   "metadata": {},
   "outputs": [],
   "source": [
    "# Our friend the SCP survey from previous notebook\n",
    "class ScpSurvey(BaseSurvey):\n",
    "    \"\"\"A South Celestial Pole survey\"\"\"\n",
    "    def generate_observations_rough(self, conditions):\n",
    "        obs = empty_observation()\n",
    "        obs['RA'] = 0.\n",
    "        obs['dec'] = np.radians(-87.)\n",
    "        obs['exptime'] = 30.\n",
    "        obs['nexp'] = 2\n",
    "        obs['filter'] = 'r'\n",
    "        # If it's been 12 hours or more, don't try to execute the observation anymore\n",
    "        obs['flush_by_mjd'] = conditions.mjd + 0.5\n",
    "        obs['note'] = 'scp'  # Always good to set the note to which survey generated the observation\n",
    "        result = [obs] * 3\n",
    "        return result"
   ]
  },
  {
   "cell_type": "code",
   "execution_count": 21,
   "id": "bcf21718",
   "metadata": {},
   "outputs": [],
   "source": [
    "scp = ScpSurvey([])"
   ]
  },
  {
   "cell_type": "code",
   "execution_count": 22,
   "id": "c92c4637",
   "metadata": {},
   "outputs": [],
   "source": [
    "# Now, we can run both surveys at the same time. \n",
    "# We're sending these as a list-of-lists. If nothing in the first list can provide an observation, the\n",
    "# scheduler moves onto the next list. This structure helps with computational efficiency--we only compute \n",
    "# the scp reward function when we might actually need it. The list-of-list of survey objects\n",
    "# functions as a decision-tree. If nothing in the first list can provide observation(s), it moves on to \n",
    "# the surveys in the next list.\n",
    "scheduler = CoreScheduler([[ss], [scp]], nside=nside)\n",
    "\n",
    "# It's up to the user to make sure you have a robust and flexible survey object at the end of your list-of-lists that \n",
    "# can execute at any time under any conditions.\n"
   ]
  },
  {
   "cell_type": "code",
   "execution_count": 23,
   "id": "780ba2ec",
   "metadata": {},
   "outputs": [
    {
     "name": "stdout",
     "output_type": "stream",
     "text": [
      "progress = 98.37%Skipped 0 observations\n",
      "Flushed 0 observations from queue for being stale\n",
      "Completed 895 observations\n",
      "ran in 0 min = 0.0 hours\n"
     ]
    }
   ],
   "source": [
    "# Run for a day\n",
    "mo, scheduler, observations = sim_runner(mo, scheduler, survey_length=1.0,\n",
    "                                         verbose=True)"
   ]
  },
  {
   "cell_type": "code",
   "execution_count": 24,
   "id": "e3691689",
   "metadata": {},
   "outputs": [
    {
     "data": {
      "text/plain": [
       "array(['', 'scripted'], dtype='<U40')"
      ]
     },
     "execution_count": 24,
     "metadata": {},
     "output_type": "execute_result"
    }
   ],
   "source": [
    "# Wow, note now we have 895 observations. Down from 959 before. That's what 10 filter changes in a night will do.\n",
    "np.unique(observations['scheduler_note'])"
   ]
  },
  {
   "cell_type": "code",
   "execution_count": 25,
   "id": "18ca1171",
   "metadata": {},
   "outputs": [
    {
     "data": {
      "text/plain": [
       "Text(0, 0.5, 'Altitude (degrees)')"
      ]
     },
     "execution_count": 25,
     "metadata": {},
     "output_type": "execute_result"
    },
    {
     "data": {
      "image/png": "[encoded data removed]",
      "text/plain": [
       "<Figure size 640x480 with 1 Axes>"
      ]
     },
     "metadata": {},
     "output_type": "display_data"
    }
   ],
   "source": [
    "# let's plot and color-code by filter\n",
    "f2c = {'u': 'purple', 'g': 'blue', 'r': 'green',\n",
    "       'i': 'cyan', 'z': 'orange', 'y': 'red'}\n",
    "\n",
    "for filtername in f2c:\n",
    "    in_filt = np.where(observations['filter'] == filtername)[0]\n",
    "    if in_filt.size > 0:\n",
    "        plt.plot(observations['mjd'][in_filt], np.degrees(observations['alt'][in_filt]), 'o',\n",
    "                 color=f2c[filtername], label=filtername)\n",
    "plt.legend()\n",
    "plt.xlabel('MJD')\n",
    "plt.ylabel('Altitude (degrees)')\n"
   ]
  },
  {
   "cell_type": "code",
   "execution_count": null,
   "id": "51a2651d",
   "metadata": {},
   "outputs": [],
   "source": []
  },
  {
   "cell_type": "markdown",
   "id": "de7c9d71",
   "metadata": {},
   "source": [
    "Keep in mind, that `mjd_tol` is a tricky parameter. If you make it very large, your observation might execute earlier than you like. Set it small, and your background survey might take too much time and block it out. Here, our simple SCP survey only generates 3 observations at a time, but other survey objects (like DDFs and contiguous blobs) tend to be longer.\n",
    "\n",
    "Note on `Survey` objects. 1-10s of survey objects are fine. The baseline simulation currently uses 17 survey objects. But the code is *not* designed to scale up to thousands of survey objects. If you are tempted to generate a decision-tree with thousands of survey objects, there's probably a better way to do it."
   ]
  },
  {
   "cell_type": "code",
   "execution_count": null,
   "id": "d4e01aa7",
   "metadata": {},
   "outputs": [],
   "source": []
  },
  {
   "cell_type": "code",
   "execution_count": 26,
   "id": "b8f8490f",
   "metadata": {},
   "outputs": [
    {
     "name": "stdout",
     "output_type": "stream",
     "text": [
      "progress = 83.53%Skipped 0 observations\n",
      "Flushed 0 observations from queue for being stale\n",
      "Completed 225 observations\n",
      "ran in 0 min = 0.0 hours\n"
     ]
    }
   ],
   "source": [
    "# Let's run it again but stop 0.1 days in:\n",
    "scp = ScpSurvey([])\n",
    "ss = ScriptedSurvey([])\n",
    "# Need to reset the obs so it doesn't think they have been observed\n",
    "obs['observed'] = False\n",
    "ss.set_script(obs)\n",
    "scheduler = CoreScheduler([[ss], [scp]], nside=nside)\n",
    "mo = mo = ModelObservatory(nside=nside, mjd_start=mjd_start, downtimes=\"ideal\")\n",
    "\n",
    "mo, scheduler, observations = sim_runner(mo, scheduler,survey_length=0.1,\n",
    "                                                 verbose=True)"
   ]
  },
  {
   "cell_type": "code",
   "execution_count": 27,
   "id": "157aabe5",
   "metadata": {},
   "outputs": [
    {
     "data": {
      "text/plain": [
       "array([60218.10416667, 60218.125     , 60218.14583333, 60218.16666667,\n",
       "       60218.1875    , 60218.20833333, 60218.22916667, 60218.25      ,\n",
       "       60218.27083333])"
      ]
     },
     "execution_count": 27,
     "metadata": {},
     "output_type": "execute_result"
    }
   ],
   "source": [
    "# When the conditions object goes into the scheduler object, the CoreScheduler checks ALL the\n",
    "# survey objects to see if they have any scheduled observations and adds their MJDs to the \n",
    "# conditions.scheduled_observations attribute. This make it easier for low tier survey \n",
    "# objects to check how much time they have to\n",
    "# work with and respect the time-slots of upcoming scheduled observations. This is currently the\n",
    "# only communication that goes on between survey objects.\n",
    "conditions = mo.return_conditions()\n",
    "scheduler.update_conditions(conditions)\n",
    "scheduler.conditions.scheduled_observations"
   ]
  },
  {
   "cell_type": "code",
   "execution_count": null,
   "id": "4a1315f4",
   "metadata": {},
   "outputs": [],
   "source": []
  },
  {
   "cell_type": "code",
   "execution_count": null,
   "id": "f4b13d70",
   "metadata": {},
   "outputs": [],
   "source": []
  },
  {
   "cell_type": "code",
   "execution_count": null,
   "id": "2f2f508e",
   "metadata": {},
   "outputs": [],
   "source": []
  }
 ],
 "metadata": {
  "kernelspec": {
   "display_name": "Python 3 (ipykernel)",
   "language": "python",
   "name": "python3"
  },
  "language_info": {
   "codemirror_mode": {
    "name": "ipython",
    "version": 3
   },
   "file_extension": ".py",
   "mimetype": "text/x-python",
   "name": "python",
   "nbconvert_exporter": "python",
   "pygments_lexer": "ipython3",
   "version": "3.11.8"
  }
 },
 "nbformat": 4,
 "nbformat_minor": 5
}
