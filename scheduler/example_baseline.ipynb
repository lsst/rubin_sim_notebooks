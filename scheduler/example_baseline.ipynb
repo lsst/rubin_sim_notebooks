{
 "cells": [
  {
   "cell_type": "markdown",
   "id": "6cf64d9c",
   "metadata": {},
   "source": [
    "We have a baseline-like example scheduler in `rubin_sim`. Let's load that up and see what it looks like"
   ]
  },
  {
   "cell_type": "code",
   "execution_count": 2,
   "id": "4dd3b79d",
   "metadata": {},
   "outputs": [],
   "source": [
    "import numpy as np\n",
    "import healpy as hp\n",
    "import matplotlib.pylab as plt\n",
    "%matplotlib inline\n",
    "import pandas as pd\n",
    "\n",
    "from rubin_scheduler.scheduler import sim_runner\n",
    "from rubin_scheduler.scheduler.model_observatory import ModelObservatory\n",
    "from rubin_scheduler.scheduler.example import example_scheduler\n"
   ]
  },
  {
   "cell_type": "code",
   "execution_count": 3,
   "id": "4b17602f",
   "metadata": {},
   "outputs": [
    {
     "name": "stdout",
     "output_type": "stream",
     "text": [
      "Optimizing ELAISS1\n",
      "Optimizing XMM_LSS\n",
      "Optimizing ECDFS\n",
      "Optimizing COSMOS\n",
      "Optimizing EDFS_a\n"
     ]
    },
    {
     "data": {
      "text/markdown": [
       "CoreScheduler(\n",
       "            surveys=[[<ScriptedSurvey survey_name='' at 0x2b19c7e50>, <ScriptedSurvey survey_name='' at 0x16e133710>], [<LongGapSurvey survey_name='Long Gap (Blob survey g_r + )' at 0x17d214490>, <LongGapSurvey survey_name='Long Gap (Blob survey r_i + )' at 0x17d5f4050>, <LongGapSurvey survey_name='Long Gap (Blob survey i_z + )' at 0x16c507650>], [<BlobSurvey survey_name='Blob survey u_g' at 0x16c4f7450>, <BlobSurvey survey_name='Blob survey u_r' at 0x17d5dd610>, <BlobSurvey survey_name='Blob survey g_r' at 0x17d6123d0>, <BlobSurvey survey_name='Blob survey r_i' at 0x2b1954910>, <BlobSurvey survey_name='Blob survey i_z' at 0x17eb61490>, <BlobSurvey survey_name='Blob survey z_y' at 0x2af7a0cd0>, <BlobSurvey survey_name='Blob survey y_y' at 0x2b19888d0>], [<BlobSurvey survey_name='Blob survey r_i' at 0x2b1998b10>, <BlobSurvey survey_name='Blob survey i_z' at 0x17d5fb390>, <BlobSurvey survey_name='Blob survey z_y' at 0x17ea6c650>, <BlobSurvey survey_name='Blob survey y_y' at 0x17ebc9490>], [<BlobSurvey survey_name='Blob survey r_r' at 0x2af7ac850>, <BlobSurvey survey_name='Blob survey i_i' at 0x2b1998390>, <BlobSurvey survey_name='Blob survey z_z' at 0x17d5f8a50>], [<GreedySurvey survey_name='greedy' at 0x16d29f390>, <GreedySurvey survey_name='greedy' at 0x17ea03610>, <GreedySurvey survey_name='greedy' at 0x17ea53b90>, <GreedySurvey survey_name='greedy' at 0x17eb60350>]],\n",
       "            camera=\"LSST\",\n",
       "            nside=32,\n",
       "            rotator_limits=array([1.48352986, 4.79965544]),\n",
       "            survey_index=[None, None],\n",
       "            log=<Logger CoreScheduler (WARNING)>\n",
       "        )"
      ],
      "text/plain": [
       "CoreScheduler(\n",
       "            surveys=[[<ScriptedSurvey survey_name='' at 0x2b19c7e50>, <ScriptedSurvey survey_name='' at 0x16e133710>], [<LongGapSurvey survey_name='Long Gap (Blob survey g_r + )' at 0x17d214490>, <LongGapSurvey survey_name='Long Gap (Blob survey r_i + )' at 0x17d5f4050>, <LongGapSurvey survey_name='Long Gap (Blob survey i_z + )' at 0x16c507650>], [<BlobSurvey survey_name='Blob survey u_g' at 0x16c4f7450>, <BlobSurvey survey_name='Blob survey u_r' at 0x17d5dd610>, <BlobSurvey survey_name='Blob survey g_r' at 0x17d6123d0>, <BlobSurvey survey_name='Blob survey r_i' at 0x2b1954910>, <BlobSurvey survey_name='Blob survey i_z' at 0x17eb61490>, <BlobSurvey survey_name='Blob survey z_y' at 0x2af7a0cd0>, <BlobSurvey survey_name='Blob survey y_y' at 0x2b19888d0>], [<BlobSurvey survey_name='Blob survey r_i' at 0x2b1998b10>, <BlobSurvey survey_name='Blob survey i_z' at 0x17d5fb390>, <BlobSurvey survey_name='Blob survey z_y' at 0x17ea6c650>, <BlobSurvey survey_name='Blob survey y_y' at 0x17ebc9490>], [<BlobSurvey survey_name='Blob survey r_r' at 0x2af7ac850>, <BlobSurvey survey_name='Blob survey i_i' at 0x2b1998390>, <BlobSurvey survey_name='Blob survey z_z' at 0x17d5f8a50>], [<GreedySurvey survey_name='greedy' at 0x16d29f390>, <GreedySurvey survey_name='greedy' at 0x17ea03610>, <GreedySurvey survey_name='greedy' at 0x17ea53b90>, <GreedySurvey survey_name='greedy' at 0x17eb60350>]],\n",
       "            camera=\"LSST\",\n",
       "            nside=32,\n",
       "            rotator_limits=array([1.48352986, 4.79965544]),\n",
       "            survey_index=[None, None],\n",
       "            log=<Logger CoreScheduler (WARNING)>\n",
       "        )"
      ]
     },
     "execution_count": 3,
     "metadata": {},
     "output_type": "execute_result"
    }
   ],
   "source": [
    "mjd_start=60676.0\n",
    "scheduler = example_scheduler(mjd_start=mjd_start)\n",
    "scheduler"
   ]
  },
  {
   "cell_type": "markdown",
   "id": "f29c3e6b",
   "metadata": {},
   "source": [
    "There we can see the heirarchy of survey objects in the core scheduler. We have \n",
    "\n",
    "* 5 DDF surveys\n",
    "* 3 LongGap surveys\n",
    "* 7 blob surveys\n",
    "* 4 blob surveys\n",
    "* 3 blob surveys\n",
    "* 1 greedy survey\n"
   ]
  },
  {
   "cell_type": "code",
   "execution_count": 4,
   "id": "e0a1f5b1",
   "metadata": {},
   "outputs": [
    {
     "name": "stderr",
     "output_type": "stream",
     "text": [
      "WARNING: IERSDegradedAccuracyWarning: (some) times are outside of range covered by IERS table, accuracy is degraded. [astropy.utils.iers.iers]\n",
      "WARNING: Tried to get polar motions for times after IERS data is valid. Defaulting to polar motion from the 50-yr mean for those. This may affect precision at the arcsec level. Please check your astropy.utils.iers.conf.iers_auto_url and point it to a newer version if necessary. [astropy.coordinates.builtin_frames.utils]\n",
      "/Users/yoachim/git_repos/rubin_scheduler/rubin_scheduler/skybrightness_pre/sky_model_pre.py:280: UserWarning: Requested MJD between sunrise and sunset, returning closest maps\n",
      "  warnings.warn(\"Requested MJD between sunrise and sunset, returning closest maps\")\n",
      "/Users/yoachim/git_repos/rubin_scheduler/rubin_scheduler/scheduler/utils/utils.py:70: RuntimeWarning: invalid value encountered in cast\n",
      "  self.value = np.round(inval * scale).astype(int)\n"
     ]
    },
    {
     "name": "stdout",
     "output_type": "stream",
     "text": [
      "progress = 100.00%Skipped 0 observations\n",
      "Flushed 324 observations from queue for being stale\n",
      "Completed 5754 observations\n",
      "ran in 1 min = 0.0 hours\n"
     ]
    }
   ],
   "source": [
    "# let's try running it for a few days\n",
    "\n",
    "mo = ModelObservatory(mjd_start=mjd_start)\n",
    "mo, scheduler, observations = sim_runner(mo, scheduler, survey_length=10.0, verbose=True)"
   ]
  },
  {
   "cell_type": "code",
   "execution_count": 5,
   "id": "eefff16b",
   "metadata": {},
   "outputs": [
    {
     "data": {
      "text/plain": [
       "array(['blob_long, gr, a', 'blob_long, gr, b', 'greedy', 'long',\n",
       "       'pair_15, iz, a', 'pair_15, iz, b', 'pair_15, ri, a',\n",
       "       'pair_15, ri, b', 'pair_15, yy, a', 'pair_15, yy, b',\n",
       "       'pair_15, zy, a', 'pair_15, zy, b', 'pair_33, gr, a',\n",
       "       'pair_33, gr, b', 'pair_33, ug, a', 'pair_33, ug, b',\n",
       "       'twilight_near_sun, 0', 'twilight_near_sun, 1',\n",
       "       'twilight_near_sun, 2', 'twilight_near_sun, 3'], dtype='<U40')"
      ]
     },
     "execution_count": 5,
     "metadata": {},
     "output_type": "execute_result"
    }
   ],
   "source": [
    "# Let's see what kind of observations executed\n",
    "np.unique(observations['note'])"
   ]
  },
  {
   "cell_type": "code",
   "execution_count": null,
   "id": "58dd837d",
   "metadata": {},
   "outputs": [],
   "source": []
  }
 ],
 "metadata": {
  "kernelspec": {
   "display_name": "Python 3 (ipykernel)",
   "language": "python",
   "name": "python3"
  },
  "language_info": {
   "codemirror_mode": {
    "name": "ipython",
    "version": 3
   },
   "file_extension": ".py",
   "mimetype": "text/x-python",
   "name": "python",
   "nbconvert_exporter": "python",
   "pygments_lexer": "ipython3",
   "version": "3.11.6"
  }
 },
 "nbformat": 4,
 "nbformat_minor": 5
}
