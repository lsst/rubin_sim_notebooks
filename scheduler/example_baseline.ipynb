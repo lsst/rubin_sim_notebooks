{
 "cells": [
  {
   "cell_type": "markdown",
   "id": "6cf64d9c",
   "metadata": {},
   "source": [
    "We have a baseline-like example scheduler in `rubin_sim`. Let's load that up and see what it looks like"
   ]
  },
  {
   "cell_type": "code",
   "execution_count": 1,
   "id": "4dd3b79d",
   "metadata": {},
   "outputs": [],
   "source": [
    "import numpy as np\n",
    "import healpy as hp\n",
    "import matplotlib.pylab as plt\n",
    "%matplotlib inline\n",
    "import pandas as pd\n",
    "\n",
    "from rubin_scheduler.scheduler import sim_runner\n",
    "from rubin_scheduler.scheduler.model_observatory import ModelObservatory\n",
    "from rubin_scheduler.scheduler.example import example_scheduler\n"
   ]
  },
  {
   "cell_type": "code",
   "execution_count": 2,
   "id": "4b17602f",
   "metadata": {},
   "outputs": [
    {
     "name": "stdout",
     "output_type": "stream",
     "text": [
      "Optimizing ELAISS1\n",
      "Optimizing XMM_LSS\n",
      "Optimizing ECDFS\n",
      "Optimizing COSMOS\n",
      "Optimizing EDFS_a\n"
     ]
    },
    {
     "data": {
      "text/markdown": [
       "# CoreScheduler at 0x30126b4d0\n",
       "|                | value                                   |\n",
       "|:---------------|:----------------------------------------|\n",
       "| camera         | LSST                                    |\n",
       "| nside          | 32                                      |\n",
       "| rotator limits | [1.4835298641951802, 4.799655442984406] |\n",
       "| survey index   | [None, None]                            |\n",
       "| Last chosen    | None                                    |\n",
       "\n",
       "## Surveys\n",
       "\n",
       "### Survey list 0\n",
       "| survey                                         | reward   | chosen   |\n",
       "|:-----------------------------------------------|:---------|:---------|\n",
       "| <ScriptedSurvey survey_name='' at 0x17b0bd050> |          | False    |\n",
       "| <ScriptedSurvey survey_name='' at 0x17b0bd210> |          | False    |\n",
       "\n",
       "### Survey list 1\n",
       "| survey                                                                                   | reward   | chosen   |\n",
       "|:-----------------------------------------------------------------------------------------|:---------|:---------|\n",
       "| <LongGapSurvey survey_name='Long Gap (Long Gap blob_long, gr + Triplet)' at 0x3012fc190> |          | False    |\n",
       "| <LongGapSurvey survey_name='Long Gap (Long Gap blob_long, ri + Triplet)' at 0x301310290> |          | False    |\n",
       "| <LongGapSurvey survey_name='Long Gap (Long Gap blob_long, iz + Triplet)' at 0x301390910> |          | False    |\n",
       "\n",
       "### Survey list 2\n",
       "| survey                                                | reward   | chosen   |\n",
       "|:------------------------------------------------------|:---------|:---------|\n",
       "| <BlobSurvey survey_name='pair_33, ug' at 0x17b21aad0> |          | False    |\n",
       "| <BlobSurvey survey_name='pair_33, ur' at 0x3070b68d0> |          | False    |\n",
       "| <BlobSurvey survey_name='pair_33, gr' at 0x17b20e690> |          | False    |\n",
       "| <BlobSurvey survey_name='pair_33, ri' at 0x3013f84d0> |          | False    |\n",
       "| <BlobSurvey survey_name='pair_33, iz' at 0x34c257c90> |          | False    |\n",
       "| <BlobSurvey survey_name='pair_33, zy' at 0x334df0550> |          | False    |\n",
       "| <BlobSurvey survey_name='pair_33, yy' at 0x334df8510> |          | False    |\n",
       "\n",
       "### Survey list 3\n",
       "| survey                                                | reward   | chosen   |\n",
       "|:------------------------------------------------------|:---------|:---------|\n",
       "| <BlobSurvey survey_name='pair_15, ri' at 0x349c4ead0> |          | False    |\n",
       "| <BlobSurvey survey_name='pair_15, iz' at 0x307783910> |          | False    |\n",
       "| <BlobSurvey survey_name='pair_15, zy' at 0x17b20bd50> |          | False    |\n",
       "| <BlobSurvey survey_name='pair_15, yy' at 0x3013fbe50> |          | False    |\n",
       "\n",
       "### Survey list 4\n",
       "| survey                                                      | reward   | chosen   |\n",
       "|:------------------------------------------------------------|:---------|:---------|\n",
       "| <BlobSurvey survey_name='twilight_near_sun' at 0x34c0dc3d0> |          | False    |\n",
       "| <BlobSurvey survey_name='twilight_near_sun' at 0x301299d10> |          | False    |\n",
       "| <BlobSurvey survey_name='twilight_near_sun' at 0x337374250> |          | False    |\n",
       "\n",
       "### Survey list 5\n",
       "| survey                                             | reward   | chosen   |\n",
       "|:---------------------------------------------------|:---------|:---------|\n",
       "| <GreedySurvey survey_name='greedy' at 0x17b0c7d90> |          | False    |\n",
       "| <GreedySurvey survey_name='greedy' at 0x17b0be290> |          | False    |\n",
       "| <GreedySurvey survey_name='greedy' at 0x13fe3d210> |          | False    |\n",
       "| <GreedySurvey survey_name='greedy' at 0x30123b850> |          | False    |\n",
       "\n",
       "No conditions set\n",
       "\n",
       "## Queue\n",
       "Queue is empty\n"
      ],
      "text/plain": [
       "CoreScheduler(\n",
       "            surveys=[[<ScriptedSurvey survey_name='' at 0x17b0bd050>, <ScriptedSurvey survey_name='' at 0x17b0bd210>], [<LongGapSurvey survey_name='Long Gap (Long Gap blob_long, gr + Triplet)' at 0x3012fc190>, <LongGapSurvey survey_name='Long Gap (Long Gap blob_long, ri + Triplet)' at 0x301310290>, <LongGapSurvey survey_name='Long Gap (Long Gap blob_long, iz + Triplet)' at 0x301390910>], [<BlobSurvey survey_name='pair_33, ug' at 0x17b21aad0>, <BlobSurvey survey_name='pair_33, ur' at 0x3070b68d0>, <BlobSurvey survey_name='pair_33, gr' at 0x17b20e690>, <BlobSurvey survey_name='pair_33, ri' at 0x3013f84d0>, <BlobSurvey survey_name='pair_33, iz' at 0x34c257c90>, <BlobSurvey survey_name='pair_33, zy' at 0x334df0550>, <BlobSurvey survey_name='pair_33, yy' at 0x334df8510>], [<BlobSurvey survey_name='pair_15, ri' at 0x349c4ead0>, <BlobSurvey survey_name='pair_15, iz' at 0x307783910>, <BlobSurvey survey_name='pair_15, zy' at 0x17b20bd50>, <BlobSurvey survey_name='pair_15, yy' at 0x3013fbe50>], [<BlobSurvey survey_name='twilight_near_sun' at 0x34c0dc3d0>, <BlobSurvey survey_name='twilight_near_sun' at 0x301299d10>, <BlobSurvey survey_name='twilight_near_sun' at 0x337374250>], [<GreedySurvey survey_name='greedy' at 0x17b0c7d90>, <GreedySurvey survey_name='greedy' at 0x17b0be290>, <GreedySurvey survey_name='greedy' at 0x13fe3d210>, <GreedySurvey survey_name='greedy' at 0x30123b850>]],\n",
       "            camera=\"LSST\",\n",
       "            nside=32,\n",
       "            rotator_limits=array([1.48352986, 4.79965544]),\n",
       "            survey_index=[None, None],\n",
       "            log=<Logger CoreScheduler (WARNING)>\n",
       "        )"
      ]
     },
     "execution_count": 2,
     "metadata": {},
     "output_type": "execute_result"
    }
   ],
   "source": [
    "mjd_start=60676.0\n",
    "scheduler = example_scheduler(mjd_start=mjd_start)\n",
    "scheduler"
   ]
  },
  {
   "cell_type": "markdown",
   "id": "f29c3e6b",
   "metadata": {},
   "source": [
    "There we can see the heirarchy of survey objects in the core scheduler. We have \n",
    "\n",
    "* 2 scripted suverys (DDFs)\n",
    "* 3 LongGap surveys\n",
    "* 7 blob surveys (33 min pairs)\n",
    "* 4 blob surveys (15 min pairs)\n",
    "* 3 blob surveys (twilight near sun)\n",
    "* 4 greedy survey\n"
   ]
  },
  {
   "cell_type": "code",
   "execution_count": 3,
   "id": "e0a1f5b1",
   "metadata": {},
   "outputs": [
    {
     "name": "stderr",
     "output_type": "stream",
     "text": [
      "WARNING: Tried to get polar motions for times after IERS data is valid. Defaulting to polar motion from the 50-yr mean for those. This may affect precision at the arcsec level. Please check your astropy.utils.iers.conf.iers_auto_url and point it to a newer version if necessary. [astropy.coordinates.builtin_frames.utils]\n",
      "WARNING: (some) times are outside of range covered by IERS table. Cannot convert with full accuracy. To allow conversion with degraded accuracy set astropy.utils.iers.conf.iers_degraded_accuracy to \"warn\" or \"silent\". For more information about setting this configuration parameter or controlling its value globally, see the Astropy configuration system documentation https://docs.astropy.org/en/stable/config/index.html. Assuming UT1-UTC=0 for coordinate transformations. [astropy.coordinates.builtin_frames.utils]\n",
      "/Users/yoachim/git_repos/rubin_scheduler/rubin_scheduler/skybrightness_pre/sky_model_pre.py:352: UserWarning: Requested MJD between sunrise and sunset, returning closest maps\n",
      "  warnings.warn(\"Requested MJD between sunrise and sunset, returning closest maps\")\n",
      "/Users/yoachim/git_repos/rubin_scheduler/rubin_scheduler/scheduler/surveys/surveys.py:410: RuntimeWarning: All-NaN slice encountered\n",
      "  max_indices = np.where(self.reward == np.nanmax(self.reward))[0]\n"
     ]
    },
    {
     "name": "stdout",
     "output_type": "stream",
     "text": [
      "progress = 0.42%"
     ]
    },
    {
     "name": "stderr",
     "output_type": "stream",
     "text": [
      "/Users/yoachim/git_repos/rubin_scheduler/rubin_scheduler/scheduler/features/features.py:467: UserWarning: Time must flow forwards to track the feature in NObservationsCurrentSeason.Not updating season_map.\n",
      "  warnings.warn(\n"
     ]
    },
    {
     "name": "stdout",
     "output_type": "stream",
     "text": [
      "progress = 10.42%"
     ]
    },
    {
     "name": "stderr",
     "output_type": "stream",
     "text": [
      "/Users/yoachim/git_repos/rubin_scheduler/rubin_scheduler/utils/healpy_utils.py:335: RuntimeWarning: All-NaN slice encountered\n",
      "  indx = np.where(in_map[current_neighbors] == np.nanmax(in_map[current_neighbors]))[0]\n",
      "/Users/yoachim/git_repos/rubin_scheduler/rubin_scheduler/utils/healpy_utils.py:338: UserWarning: Can not connect to any more pixels.\n",
      "  warnings.warn(\"Can not connect to any more pixels.\")\n"
     ]
    },
    {
     "name": "stdout",
     "output_type": "stream",
     "text": [
      "progress = 100.00%Skipped 0 observations\n",
      "Flushed 0 observations from queue for being stale\n",
      "Completed 3528 observations\n",
      "ran in 0 min = 0.0 hours\n"
     ]
    }
   ],
   "source": [
    "# let's try running it for a few days\n",
    "\n",
    "mo = ModelObservatory(mjd_start=mjd_start)\n",
    "mo, scheduler, observations = sim_runner(mo, scheduler, sim_duration=10.0, verbose=True)"
   ]
  },
  {
   "cell_type": "code",
   "execution_count": 4,
   "id": "eefff16b",
   "metadata": {},
   "outputs": [
    {
     "data": {
      "text/plain": [
       "ObservationArray(['blob_long, gr, a', 'blob_long, gr, b', 'greedy',\n",
       "                  'long', 'pair_15, iz, a', 'pair_15, iz, b',\n",
       "                  'pair_15, ri, a', 'pair_15, ri, b', 'pair_15, yy, a',\n",
       "                  'pair_15, yy, b', 'pair_15, zy, a', 'pair_15, zy, b',\n",
       "                  'pair_33, gr, a', 'pair_33, gr, b', 'pair_33, ug, a',\n",
       "                  'pair_33, ug, b', 'twilight_near_sun, 0',\n",
       "                  'twilight_near_sun, 1', 'twilight_near_sun, 2',\n",
       "                  'twilight_near_sun, 3'], dtype='<U40')"
      ]
     },
     "execution_count": 4,
     "metadata": {},
     "output_type": "execute_result"
    }
   ],
   "source": [
    "# Let's see what kind of observations executed\n",
    "np.unique(observations['scheduler_note'])"
   ]
  },
  {
   "cell_type": "code",
   "execution_count": null,
   "id": "58dd837d",
   "metadata": {},
   "outputs": [],
   "source": []
  }
 ],
 "metadata": {
  "kernelspec": {
   "display_name": "Python 3 (ipykernel)",
   "language": "python",
   "name": "python3"
  },
  "language_info": {
   "codemirror_mode": {
    "name": "ipython",
    "version": 3
   },
   "file_extension": ".py",
   "mimetype": "text/x-python",
   "name": "python",
   "nbconvert_exporter": "python",
   "pygments_lexer": "ipython3",
   "version": "3.11.8"
  }
 },
 "nbformat": 4,
 "nbformat_minor": 5
}
