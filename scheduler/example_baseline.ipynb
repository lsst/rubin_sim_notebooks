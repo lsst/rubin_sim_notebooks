{
 "cells": [
  {
   "cell_type": "markdown",
   "id": "6cf64d9c",
   "metadata": {},
   "source": [
    "We have a baseline-like example scheduler in `rubin_sim`. Let's load that up and see what it looks like"
   ]
  },
  {
   "cell_type": "code",
   "execution_count": 1,
   "id": "4dd3b79d",
   "metadata": {},
   "outputs": [],
   "source": [
    "import numpy as np\n",
    "import healpy as hp\n",
    "import matplotlib.pylab as plt\n",
    "%matplotlib inline\n",
    "import pandas as pd\n",
    "\n",
    "from rubin_scheduler.scheduler import sim_runner\n",
    "from rubin_scheduler.scheduler.model_observatory import ModelObservatory\n",
    "from rubin_scheduler.scheduler.example import example_scheduler\n"
   ]
  },
  {
   "cell_type": "code",
   "execution_count": 2,
   "id": "4b17602f",
   "metadata": {},
   "outputs": [
    {
     "name": "stderr",
     "output_type": "stream",
     "text": [
      "/Users/yoachim/git_repos/rubin_scheduler/rubin_scheduler/scheduler/surveys/base_survey.py:545: FutureWarning: setting dither to bool deprecated, swapping to dither='night'\n",
      "  warnings.warn(\"setting dither to bool deprecated, swapping to dither='night'\", FutureWarning)\n"
     ]
    },
    {
     "name": "stdout",
     "output_type": "stream",
     "text": [
      "Optimizing ELAISS1\n",
      "Optimizing XMM_LSS\n",
      "Optimizing ECDFS\n",
      "Optimizing COSMOS\n",
      "Optimizing EDFS_a\n"
     ]
    },
    {
     "name": "stderr",
     "output_type": "stream",
     "text": [
      "/Users/yoachim/git_repos/rubin_scheduler/rubin_scheduler/scheduler/surveys/roman_surveys.py:42: UserWarning: Generating Roman survey place holder. Should probably not be in production.\n",
      "  warnings.warn(\"Generating Roman survey place holder. Should probably not be in production.\")\n",
      "/Users/yoachim/git_repos/rubin_scheduler/rubin_scheduler/scheduler/surveys/roman_surveys.py:95: UserWarning: Generating Roman survey place holder. Should probably not be in production.\n",
      "  warnings.warn(\"Generating Roman survey place holder. Should probably not be in production.\")\n",
      "/Users/yoachim/anaconda3/envs/rubin12/lib/python3.12/site-packages/erfa/core.py:133: ErfaWarning: ERFA function \"utctai\" yielded 463 of \"dubious year (Note 3)\"\n",
      "  warn(f'ERFA function \"{func_name}\" yielded {wmsg}', ErfaWarning)\n",
      "/Users/yoachim/anaconda3/envs/rubin12/lib/python3.12/site-packages/erfa/core.py:133: ErfaWarning: ERFA function \"taiutc\" yielded 463 of \"dubious year (Note 4)\"\n",
      "  warn(f'ERFA function \"{func_name}\" yielded {wmsg}', ErfaWarning)\n",
      "/Users/yoachim/anaconda3/envs/rubin12/lib/python3.12/site-packages/erfa/core.py:133: ErfaWarning: ERFA function \"utctai\" yielded 162 of \"dubious year (Note 3)\"\n",
      "  warn(f'ERFA function \"{func_name}\" yielded {wmsg}', ErfaWarning)\n",
      "/Users/yoachim/anaconda3/envs/rubin12/lib/python3.12/site-packages/erfa/core.py:133: ErfaWarning: ERFA function \"taiutc\" yielded 162 of \"dubious year (Note 4)\"\n",
      "  warn(f'ERFA function \"{func_name}\" yielded {wmsg}', ErfaWarning)\n"
     ]
    },
    {
     "data": {
      "text/markdown": [
       "CoreScheduler(\n",
       "            surveys=[[<ToOScriptedSurvey survey_name='ToO, GW_case_A' at 0x15bd5a360>, <ToOScriptedSurvey survey_name='ToO, GW_case_B_C' at 0x15b54a750>, <ToOScriptedSurvey survey_name='ToO, GW_case_D_E' at 0x15b0ab740>, <ToOScriptedSurvey survey_name='ToO, BBH' at 0x15fb222d0>, <ToOScriptedSurvey survey_name='ToO, LensedBNS_A' at 0x15fce1940>, <ToOScriptedSurvey survey_name='ToO, LensedBNS_B' at 0x15fbafb30>, <ToOScriptedSurvey survey_name='ToO, neutrino' at 0x15fbafce0>, <ToOScriptedSurvey survey_name='ToO, neutrino_u' at 0x15fc59940>, <ToOScriptedSurvey survey_name='ToO, SSO_night' at 0x15b596360>, <ToOScriptedSurvey survey_name='ToO, SSO_twi' at 0x15b597ef0>], [<DeepDrillingSurvey survey_name='DD: RGES_onseason', RA=4.689839326448923, dec=-0.505709150765357 at 0x15bd58bf0>, <DeepDrillingSurvey survey_name='DD: RGES_offseason', RA=4.689839326448923, dec=-0.505709150765357 at 0x15bd5b8c0>], [<ScriptedSurvey survey_name='' at 0x159cdd580>, <ScriptedSurvey survey_name='' at 0x14dd178f0>], [<LongGapSurvey survey_name='Long Gap (Long Gap blob_long, gr + Triplet)' at 0x15b573ef0>, <LongGapSurvey survey_name='Long Gap (Long Gap blob_long, ri + Triplet)' at 0x159d90a10>, <LongGapSurvey survey_name='Long Gap (Long Gap blob_long, iz + Triplet)' at 0x158e4ab70>], [<BlobSurvey survey_name='pair_33, ug' at 0x15bdad610>, <BlobSurvey survey_name='pair_33, ur' at 0x15fb81400>, <BlobSurvey survey_name='pair_33, gr' at 0x15bd70830>, <BlobSurvey survey_name='pair_33, ri' at 0x15bd70800>, <BlobSurvey survey_name='pair_33, iz' at 0x15fbafe30>, <BlobSurvey survey_name='pair_33, zy' at 0x15fccf980>, <BlobSurvey survey_name='pair_33, yy' at 0x15fc20ef0>], [<BlobSurvey survey_name='pair_15, ri' at 0x15bdaf170>, <BlobSurvey survey_name='pair_15, iz' at 0x15fbb4230>, <BlobSurvey survey_name='pair_15, zy' at 0x15fb58140>, <BlobSurvey survey_name='pair_15, yy' at 0x15fb81700>], [<BlobSurvey survey_name='twilight_near_sun' at 0x15b573b00>, <BlobSurvey survey_name='twilight_near_sun' at 0x15b86f020>, <BlobSurvey survey_name='twilight_near_sun' at 0x15fccf020>], [<GreedySurvey survey_name='greedy' at 0x15bdad8b0>, <GreedySurvey survey_name='greedy' at 0x15fb82d80>, <GreedySurvey survey_name='greedy' at 0x15bd70bc0>, <GreedySurvey survey_name='greedy' at 0x15bd5b2c0>]],\n",
       "            camera=\"LSST\",\n",
       "            nside=32,\n",
       "            survey_index=[None, None],\n",
       "            log=<Logger CoreScheduler (WARNING)>\n",
       "        )"
      ],
      "text/plain": [
       "CoreScheduler(\n",
       "            surveys=[[<ToOScriptedSurvey survey_name='ToO, GW_case_A' at 0x15bd5a360>, <ToOScriptedSurvey survey_name='ToO, GW_case_B_C' at 0x15b54a750>, <ToOScriptedSurvey survey_name='ToO, GW_case_D_E' at 0x15b0ab740>, <ToOScriptedSurvey survey_name='ToO, BBH' at 0x15fb222d0>, <ToOScriptedSurvey survey_name='ToO, LensedBNS_A' at 0x15fce1940>, <ToOScriptedSurvey survey_name='ToO, LensedBNS_B' at 0x15fbafb30>, <ToOScriptedSurvey survey_name='ToO, neutrino' at 0x15fbafce0>, <ToOScriptedSurvey survey_name='ToO, neutrino_u' at 0x15fc59940>, <ToOScriptedSurvey survey_name='ToO, SSO_night' at 0x15b596360>, <ToOScriptedSurvey survey_name='ToO, SSO_twi' at 0x15b597ef0>], [<DeepDrillingSurvey survey_name='DD: RGES_onseason', RA=4.689839326448923, dec=-0.505709150765357 at 0x15bd58bf0>, <DeepDrillingSurvey survey_name='DD: RGES_offseason', RA=4.689839326448923, dec=-0.505709150765357 at 0x15bd5b8c0>], [<ScriptedSurvey survey_name='' at 0x159cdd580>, <ScriptedSurvey survey_name='' at 0x14dd178f0>], [<LongGapSurvey survey_name='Long Gap (Long Gap blob_long, gr + Triplet)' at 0x15b573ef0>, <LongGapSurvey survey_name='Long Gap (Long Gap blob_long, ri + Triplet)' at 0x159d90a10>, <LongGapSurvey survey_name='Long Gap (Long Gap blob_long, iz + Triplet)' at 0x158e4ab70>], [<BlobSurvey survey_name='pair_33, ug' at 0x15bdad610>, <BlobSurvey survey_name='pair_33, ur' at 0x15fb81400>, <BlobSurvey survey_name='pair_33, gr' at 0x15bd70830>, <BlobSurvey survey_name='pair_33, ri' at 0x15bd70800>, <BlobSurvey survey_name='pair_33, iz' at 0x15fbafe30>, <BlobSurvey survey_name='pair_33, zy' at 0x15fccf980>, <BlobSurvey survey_name='pair_33, yy' at 0x15fc20ef0>], [<BlobSurvey survey_name='pair_15, ri' at 0x15bdaf170>, <BlobSurvey survey_name='pair_15, iz' at 0x15fbb4230>, <BlobSurvey survey_name='pair_15, zy' at 0x15fb58140>, <BlobSurvey survey_name='pair_15, yy' at 0x15fb81700>], [<BlobSurvey survey_name='twilight_near_sun' at 0x15b573b00>, <BlobSurvey survey_name='twilight_near_sun' at 0x15b86f020>, <BlobSurvey survey_name='twilight_near_sun' at 0x15fccf020>], [<GreedySurvey survey_name='greedy' at 0x15bdad8b0>, <GreedySurvey survey_name='greedy' at 0x15fb82d80>, <GreedySurvey survey_name='greedy' at 0x15bd70bc0>, <GreedySurvey survey_name='greedy' at 0x15bd5b2c0>]],\n",
       "            camera=\"LSST\",\n",
       "            nside=32,\n",
       "            survey_index=[None, None],\n",
       "            log=<Logger CoreScheduler (WARNING)>\n",
       "        )"
      ]
     },
     "execution_count": 2,
     "metadata": {},
     "output_type": "execute_result"
    }
   ],
   "source": [
    "mjd_start=60676.0\n",
    "scheduler = example_scheduler(mjd_start=mjd_start)\n",
    "scheduler"
   ]
  },
  {
   "cell_type": "markdown",
   "id": "f29c3e6b",
   "metadata": {},
   "source": [
    "There we can see the heirarchy of survey objects in the core scheduler. We have \n",
    "\n",
    "* 2 scripted suverys (DDFs)\n",
    "* 3 LongGap surveys\n",
    "* 7 blob surveys (33 min pairs)\n",
    "* 4 blob surveys (15 min pairs)\n",
    "* 3 blob surveys (twilight near sun)\n",
    "* 4 greedy survey\n"
   ]
  },
  {
   "cell_type": "code",
   "execution_count": 3,
   "id": "e0a1f5b1",
   "metadata": {},
   "outputs": [
    {
     "name": "stderr",
     "output_type": "stream",
     "text": [
      "/Users/yoachim/git_repos/rubin_scheduler/rubin_scheduler/skybrightness_pre/sky_model_pre.py:359: UserWarning: Requested MJD between sunrise and sunset, returning closest maps\n",
      "  warnings.warn(\"Requested MJD between sunrise and sunset, returning closest maps\")\n",
      "/Users/yoachim/git_repos/rubin_scheduler/rubin_scheduler/utils/healpy_utils.py:339: RuntimeWarning: All-NaN slice encountered\n",
      "  indx = np.where(in_map[current_neighbors] == np.nanmax(in_map[current_neighbors]))[0]\n",
      "/Users/yoachim/git_repos/rubin_scheduler/rubin_scheduler/utils/healpy_utils.py:342: UserWarning: Can not connect to any more pixels.\n",
      "  warnings.warn(\"Can not connect to any more pixels.\")\n",
      "/Users/yoachim/git_repos/rubin_scheduler/rubin_scheduler/scheduler/utils/utils.py:179: UserWarning: IntRounded being used with a potentially too-small scale factor.\n",
      "  warnings.warn(\"IntRounded being used with a potentially too-small scale factor.\")\n"
     ]
    },
    {
     "name": "stdout",
     "output_type": "stream",
     "text": [
      "progress = 0.42%"
     ]
    },
    {
     "name": "stderr",
     "output_type": "stream",
     "text": [
      "/Users/yoachim/git_repos/rubin_scheduler/rubin_scheduler/scheduler/features/features.py:494: UserWarning: Time must flow forwards to track the feature in NObservationsCurrentSeason.Not updating season_map.\n",
      "  warnings.warn(\n"
     ]
    },
    {
     "name": "stdout",
     "output_type": "stream",
     "text": [
      "Skipped 0 observations\n",
      "Flushed 0 observations from queue for being stale\n",
      "Completed 4632 observations\n",
      "ran in 0 min = 0.0 hours\n"
     ]
    }
   ],
   "source": [
    "# let's try running it for a few days\n",
    "\n",
    "mo = ModelObservatory(mjd_start=mjd_start)\n",
    "mo, scheduler, observations = sim_runner(mo, scheduler, sim_duration=10.0, verbose=True)"
   ]
  },
  {
   "cell_type": "code",
   "execution_count": 4,
   "id": "eefff16b",
   "metadata": {},
   "outputs": [
    {
     "data": {
      "text/plain": [
       "array(['blob_long, gr, a', 'blob_long, gr, b', 'blob_long, iz, a',\n",
       "       'blob_long, iz, b', 'greedy', 'long, 1', 'long, 10', 'long, 100',\n",
       "       'long, 101', 'long, 102', 'long, 11', 'long, 12', 'long, 13',\n",
       "       'long, 14', 'long, 15', 'long, 16', 'long, 17', 'long, 18',\n",
       "       'long, 19', 'long, 2', 'long, 20', 'long, 21', 'long, 22',\n",
       "       'long, 23', 'long, 24', 'long, 25', 'long, 26', 'long, 27',\n",
       "       'long, 28', 'long, 29', 'long, 3', 'long, 30', 'long, 31',\n",
       "       'long, 32', 'long, 33', 'long, 34', 'long, 35', 'long, 36',\n",
       "       'long, 37', 'long, 38', 'long, 39', 'long, 4', 'long, 40',\n",
       "       'long, 41', 'long, 42', 'long, 43', 'long, 44', 'long, 45',\n",
       "       'long, 46', 'long, 47', 'long, 48', 'long, 49', 'long, 5',\n",
       "       'long, 50', 'long, 51', 'long, 52', 'long, 53', 'long, 54',\n",
       "       'long, 55', 'long, 56', 'long, 57', 'long, 58', 'long, 59',\n",
       "       'long, 6', 'long, 7', 'long, 70', 'long, 71', 'long, 72',\n",
       "       'long, 73', 'long, 74', 'long, 75', 'long, 76', 'long, 77',\n",
       "       'long, 78', 'long, 79', 'long, 8', 'long, 80', 'long, 81',\n",
       "       'long, 82', 'long, 83', 'long, 84', 'long, 85', 'long, 86',\n",
       "       'long, 87', 'long, 9', 'long, 97', 'long, 98', 'long, 99',\n",
       "       'pair_15, iz, a', 'pair_15, iz, b', 'pair_15, ri, a',\n",
       "       'pair_15, ri, b', 'pair_15, yy, a', 'pair_15, yy, b',\n",
       "       'pair_15, zy, a', 'pair_15, zy, b', 'pair_33, gr, a',\n",
       "       'pair_33, gr, b', 'pair_33, ug, a', 'pair_33, ug, b',\n",
       "       'twilight_near_sun, 0', 'twilight_near_sun, 1',\n",
       "       'twilight_near_sun, 2', 'twilight_near_sun, 3'], dtype='<U40')"
      ]
     },
     "execution_count": 4,
     "metadata": {},
     "output_type": "execute_result"
    }
   ],
   "source": [
    "# Let's see what kind of observations executed\n",
    "np.unique(observations['scheduler_note'])"
   ]
  },
  {
   "cell_type": "code",
   "execution_count": null,
   "id": "58dd837d",
   "metadata": {},
   "outputs": [],
   "source": []
  }
 ],
 "metadata": {
  "kernelspec": {
   "display_name": "Python 3 (ipykernel)",
   "language": "python",
   "name": "python3"
  },
  "language_info": {
   "codemirror_mode": {
    "name": "ipython",
    "version": 3
   },
   "file_extension": ".py",
   "mimetype": "text/x-python",
   "name": "python",
   "nbconvert_exporter": "python",
   "pygments_lexer": "ipython3",
   "version": "3.12.9"
  }
 },
 "nbformat": 4,
 "nbformat_minor": 5
}
