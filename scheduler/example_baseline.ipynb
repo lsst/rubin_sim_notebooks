{
 "cells": [
  {
   "cell_type": "markdown",
   "id": "6cf64d9c",
   "metadata": {},
   "source": [
    "We have a baseline-like example scheduler in `rubin_sim`. Let's load that up and see what it looks like"
   ]
  },
  {
   "cell_type": "code",
   "execution_count": 1,
   "id": "4dd3b79d",
   "metadata": {},
   "outputs": [],
   "source": [
    "import numpy as np\n",
    "import healpy as hp\n",
    "import matplotlib.pylab as plt\n",
    "%matplotlib inline\n",
    "import pandas as pd\n",
    "\n",
    "from rubin_sim.scheduler import sim_runner\n",
    "from rubin_sim.scheduler.model_observatory import ModelObservatory\n",
    "from rubin_sim.scheduler.example import example_scheduler\n"
   ]
  },
  {
   "cell_type": "code",
   "execution_count": 2,
   "id": "4b17602f",
   "metadata": {},
   "outputs": [
    {
     "data": {
      "text/markdown": [
       "CoreScheduler(\n",
       "            surveys=[[<DeepDrillingSurvey survey_name='DD:ELAISS1', RA=0.16493361431346412, dec=-0.767944870877505 at 0x155d39f90>, <DeepDrillingSurvey survey_name='DD:XMM-LSS', RA=0.6232279812485444, dec=-0.08290313946973066 at 0x1682fecd0>, <DeepDrillingSurvey survey_name='DD:ECDFS', RA=0.9272061651219876, dec=-0.4904375198104066 at 0x156dc7710>, <DeepDrillingSurvey survey_name='DD:COSMOS', RA=2.6197392072434886, dec=0.038082114651154055 at 0x156d448d0>, <DeepDrillingSurvey survey_name='DD:EDFS', RA=[1.02799893 1.1100294 ], dec=[-0.86070912 -0.83077672] at 0x168274910>], [<LongGapSurvey at 0x155d38590>, <LongGapSurvey at 0x156d37a90>, <LongGapSurvey at 0x1681fb950>], [<BlobSurvey survey_name='' at 0x156dc6bd0>, <BlobSurvey survey_name='' at 0x156da9150>, <BlobSurvey survey_name='' at 0x156dc2390>, <BlobSurvey survey_name='' at 0x168201ad0>, <BlobSurvey survey_name='' at 0x168248d90>, <BlobSurvey survey_name='' at 0x1682b6a10>, <BlobSurvey survey_name='' at 0x16824a210>], [<BlobSurvey survey_name='' at 0x156da8050>, <BlobSurvey survey_name='' at 0x156dec7d0>, <BlobSurvey survey_name='' at 0x16823f9d0>, <BlobSurvey survey_name='' at 0x168221750>], [<BlobSurvey survey_name='' at 0x156d58950>, <BlobSurvey survey_name='' at 0x168240cd0>, <BlobSurvey survey_name='' at 0x168200c10>], [<GreedySurvey survey_name='greedy' at 0x146630450>, <GreedySurvey survey_name='greedy' at 0x156d46ed0>, <GreedySurvey survey_name='greedy' at 0x156d4ffd0>, <GreedySurvey survey_name='greedy' at 0x156de1ed0>]],\n",
       "            camera=\"LSST\",\n",
       "            nside=32,\n",
       "            rotator_limits=array([1.48352986, 4.79965544]),\n",
       "            survey_index=[None, None],\n",
       "            log=<Logger CoreScheduler (WARNING)>\n",
       "        )"
      ],
      "text/plain": [
       "CoreScheduler(\n",
       "            surveys=[[<DeepDrillingSurvey survey_name='DD:ELAISS1', RA=0.16493361431346412, dec=-0.767944870877505 at 0x155d39f90>, <DeepDrillingSurvey survey_name='DD:XMM-LSS', RA=0.6232279812485444, dec=-0.08290313946973066 at 0x1682fecd0>, <DeepDrillingSurvey survey_name='DD:ECDFS', RA=0.9272061651219876, dec=-0.4904375198104066 at 0x156dc7710>, <DeepDrillingSurvey survey_name='DD:COSMOS', RA=2.6197392072434886, dec=0.038082114651154055 at 0x156d448d0>, <DeepDrillingSurvey survey_name='DD:EDFS', RA=[1.02799893 1.1100294 ], dec=[-0.86070912 -0.83077672] at 0x168274910>], [<LongGapSurvey at 0x155d38590>, <LongGapSurvey at 0x156d37a90>, <LongGapSurvey at 0x1681fb950>], [<BlobSurvey survey_name='' at 0x156dc6bd0>, <BlobSurvey survey_name='' at 0x156da9150>, <BlobSurvey survey_name='' at 0x156dc2390>, <BlobSurvey survey_name='' at 0x168201ad0>, <BlobSurvey survey_name='' at 0x168248d90>, <BlobSurvey survey_name='' at 0x1682b6a10>, <BlobSurvey survey_name='' at 0x16824a210>], [<BlobSurvey survey_name='' at 0x156da8050>, <BlobSurvey survey_name='' at 0x156dec7d0>, <BlobSurvey survey_name='' at 0x16823f9d0>, <BlobSurvey survey_name='' at 0x168221750>], [<BlobSurvey survey_name='' at 0x156d58950>, <BlobSurvey survey_name='' at 0x168240cd0>, <BlobSurvey survey_name='' at 0x168200c10>], [<GreedySurvey survey_name='greedy' at 0x146630450>, <GreedySurvey survey_name='greedy' at 0x156d46ed0>, <GreedySurvey survey_name='greedy' at 0x156d4ffd0>, <GreedySurvey survey_name='greedy' at 0x156de1ed0>]],\n",
       "            camera=\"LSST\",\n",
       "            nside=32,\n",
       "            rotator_limits=array([1.48352986, 4.79965544]),\n",
       "            survey_index=[None, None],\n",
       "            log=<Logger CoreScheduler (WARNING)>\n",
       "        )"
      ]
     },
     "execution_count": 2,
     "metadata": {},
     "output_type": "execute_result"
    }
   ],
   "source": [
    "mjd_start=60676.0\n",
    "scheduler = example_scheduler(mjd_start=mjd_start)\n",
    "scheduler"
   ]
  },
  {
   "cell_type": "markdown",
   "id": "f29c3e6b",
   "metadata": {},
   "source": [
    "There we can see the heirarchy of survey objects in the core scheduler. We have \n",
    "\n",
    "* 5 DDF surveys\n",
    "* 3 LongGap surveys\n",
    "* 7 blob surveys\n",
    "* 4 blob surveys\n",
    "* 3 blob surveys\n",
    "* 1 greedy survey\n"
   ]
  },
  {
   "cell_type": "code",
   "execution_count": 3,
   "id": "e0a1f5b1",
   "metadata": {},
   "outputs": [
    {
     "name": "stderr",
     "output_type": "stream",
     "text": [
      "/Users/yoachim/git_repos/rubin_sim/rubin_sim/skybrightness_pre/sky_model_pre.py:272: UserWarning: Requested MJD between sunrise and sunset, returning closest maps\n",
      "  warnings.warn(\n",
      "/Users/yoachim/git_repos/rubin_sim/rubin_sim/scheduler/utils/utils.py:75: RuntimeWarning: invalid value encountered in cast\n",
      "  self.value = np.round(inval * scale).astype(int)\n"
     ]
    },
    {
     "name": "stdout",
     "output_type": "stream",
     "text": [
      "progress = 40.42%"
     ]
    },
    {
     "name": "stderr",
     "output_type": "stream",
     "text": [
      "/Users/yoachim/git_repos/rubin_sim/rubin_sim/utils/healpy_utils.py:331: RuntimeWarning: All-NaN slice encountered\n",
      "  in_map[current_neighbors] == np.nanmax(in_map[current_neighbors])\n",
      "/Users/yoachim/git_repos/rubin_sim/rubin_sim/utils/healpy_utils.py:335: UserWarning: Can not connect to any more pixels.\n",
      "  warnings.warn(\"Can not connect to any more pixels.\")\n"
     ]
    },
    {
     "name": "stdout",
     "output_type": "stream",
     "text": [
      "progress = 100.00%Skipped 0 observations\n",
      "Flushed 357 observations from queue for being stale\n",
      "Completed 6631 observations\n",
      "ran in 0 min = 0.0 hours\n",
      "Writing results to  None\n"
     ]
    }
   ],
   "source": [
    "# let's try running it for a few days\n",
    "\n",
    "mo = ModelObservatory(mjd_start=mjd_start)\n",
    "mo, scheduler, observations = sim_runner(mo, scheduler, survey_length=10.0, verbose=True)"
   ]
  },
  {
   "cell_type": "code",
   "execution_count": 5,
   "id": "eefff16b",
   "metadata": {},
   "outputs": [
    {
     "data": {
      "text/plain": [
       "array(['DD:COSMOS', 'DD:ECDFS', 'DD:EDFS, a', 'DD:EDFS, b', 'blob, iz, a',\n",
       "       'blob, iz, b', 'blob, ri, a', 'blob, ri, b', 'blob, yy, a',\n",
       "       'blob, yy, b', 'blob, zy, a', 'blob, zy, b', 'blob_long, iz, a',\n",
       "       'blob_long, iz, b', 'blob_twi, iz, a', 'blob_twi, iz, b',\n",
       "       'blob_twi, yy, a', 'blob_twi, yy, b', 'blob_twi, zy, a',\n",
       "       'blob_twi, zy, b', 'greedy', 'long', 'twilight_neo'], dtype='<U40')"
      ]
     },
     "execution_count": 5,
     "metadata": {},
     "output_type": "execute_result"
    }
   ],
   "source": [
    "# Let's see what kind of observations executed\n",
    "np.unique(observations['note'])"
   ]
  },
  {
   "cell_type": "code",
   "execution_count": null,
   "id": "58dd837d",
   "metadata": {},
   "outputs": [],
   "source": []
  }
 ],
 "metadata": {
  "kernelspec": {
   "display_name": "Python 3 (ipykernel)",
   "language": "python",
   "name": "python3"
  },
  "language_info": {
   "codemirror_mode": {
    "name": "ipython",
    "version": 3
   },
   "file_extension": ".py",
   "mimetype": "text/x-python",
   "name": "python",
   "nbconvert_exporter": "python",
   "pygments_lexer": "ipython3",
   "version": "3.11.0"
  }
 },
 "nbformat": 4,
 "nbformat_minor": 5
}
