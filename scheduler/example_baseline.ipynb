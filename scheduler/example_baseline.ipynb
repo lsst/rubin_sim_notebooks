{
 "cells": [
  {
   "cell_type": "markdown",
   "id": "6cf64d9c",
   "metadata": {},
   "source": [
    "We have a baseline-like example scheduler in `rubin_sim`. Let's load that up and see what it looks like"
   ]
  },
  {
   "cell_type": "code",
   "execution_count": 1,
   "id": "4dd3b79d",
   "metadata": {},
   "outputs": [],
   "source": [
    "import numpy as np\n",
    "import healpy as hp\n",
    "import matplotlib.pylab as plt\n",
    "%matplotlib inline\n",
    "import pandas as pd\n",
    "\n",
    "from rubin_sim.scheduler import sim_runner\n",
    "from rubin_sim.scheduler.model_observatory import ModelObservatory\n",
    "from rubin_sim.scheduler.example import example_scheduler\n"
   ]
  },
  {
   "cell_type": "code",
   "execution_count": 2,
   "id": "4b17602f",
   "metadata": {},
   "outputs": [
    {
     "name": "stdout",
     "output_type": "stream",
     "text": [
      "Optimizing ELAISS1\n",
      "Optimizing XMM_LSS\n",
      "Optimizing ECDFS\n",
      "Optimizing COSMOS\n",
      "Optimizing EDFS_a\n"
     ]
    },
    {
     "data": {
      "text/markdown": [
       "CoreScheduler(\n",
       "            surveys=[[<ScriptedSurvey survey_name='' at 0x17fcff550>, <ScriptedSurvey survey_name='' at 0x15e968f90>], [<LongGapSurvey at 0x15a635290>, <LongGapSurvey at 0x15e886c50>, <LongGapSurvey at 0x15ea8fbd0>], [<BlobSurvey survey_name='' at 0x16a666390>, <BlobSurvey survey_name='' at 0x15eb12cd0>, <BlobSurvey survey_name='' at 0x15f753290>, <BlobSurvey survey_name='' at 0x15f757610>, <BlobSurvey survey_name='' at 0x15f6205d0>, <BlobSurvey survey_name='' at 0x15f7f7450>, <BlobSurvey survey_name='' at 0x17fd0c450>], [<BlobSurvey survey_name='' at 0x15f77ced0>, <BlobSurvey survey_name='' at 0x15f752c50>, <BlobSurvey survey_name='' at 0x15f7f6f50>, <BlobSurvey survey_name='' at 0x15f77e890>], [<BlobSurvey survey_name='' at 0x15de24890>, <BlobSurvey survey_name='' at 0x17fd0f450>, <BlobSurvey survey_name='' at 0x15f7f5ed0>], [<GreedySurvey survey_name='greedy' at 0x15de24750>, <GreedySurvey survey_name='greedy' at 0x17fcd9cd0>, <GreedySurvey survey_name='greedy' at 0x15f621510>, <GreedySurvey survey_name='greedy' at 0x15e96c290>]],\n",
       "            camera=\"LSST\",\n",
       "            nside=32,\n",
       "            rotator_limits=array([1.48352986, 4.79965544]),\n",
       "            survey_index=[None, None],\n",
       "            log=<Logger CoreScheduler (WARNING)>\n",
       "        )"
      ],
      "text/plain": [
       "CoreScheduler(\n",
       "            surveys=[[<ScriptedSurvey survey_name='' at 0x17fcff550>, <ScriptedSurvey survey_name='' at 0x15e968f90>], [<LongGapSurvey at 0x15a635290>, <LongGapSurvey at 0x15e886c50>, <LongGapSurvey at 0x15ea8fbd0>], [<BlobSurvey survey_name='' at 0x16a666390>, <BlobSurvey survey_name='' at 0x15eb12cd0>, <BlobSurvey survey_name='' at 0x15f753290>, <BlobSurvey survey_name='' at 0x15f757610>, <BlobSurvey survey_name='' at 0x15f6205d0>, <BlobSurvey survey_name='' at 0x15f7f7450>, <BlobSurvey survey_name='' at 0x17fd0c450>], [<BlobSurvey survey_name='' at 0x15f77ced0>, <BlobSurvey survey_name='' at 0x15f752c50>, <BlobSurvey survey_name='' at 0x15f7f6f50>, <BlobSurvey survey_name='' at 0x15f77e890>], [<BlobSurvey survey_name='' at 0x15de24890>, <BlobSurvey survey_name='' at 0x17fd0f450>, <BlobSurvey survey_name='' at 0x15f7f5ed0>], [<GreedySurvey survey_name='greedy' at 0x15de24750>, <GreedySurvey survey_name='greedy' at 0x17fcd9cd0>, <GreedySurvey survey_name='greedy' at 0x15f621510>, <GreedySurvey survey_name='greedy' at 0x15e96c290>]],\n",
       "            camera=\"LSST\",\n",
       "            nside=32,\n",
       "            rotator_limits=array([1.48352986, 4.79965544]),\n",
       "            survey_index=[None, None],\n",
       "            log=<Logger CoreScheduler (WARNING)>\n",
       "        )"
      ]
     },
     "execution_count": 2,
     "metadata": {},
     "output_type": "execute_result"
    }
   ],
   "source": [
    "mjd_start=60676.0\n",
    "scheduler = example_scheduler(mjd_start=mjd_start)\n",
    "scheduler"
   ]
  },
  {
   "cell_type": "markdown",
   "id": "f29c3e6b",
   "metadata": {},
   "source": [
    "There we can see the heirarchy of survey objects in the core scheduler. We have \n",
    "\n",
    "* 5 DDF surveys\n",
    "* 3 LongGap surveys\n",
    "* 7 blob surveys\n",
    "* 4 blob surveys\n",
    "* 3 blob surveys\n",
    "* 1 greedy survey\n"
   ]
  },
  {
   "cell_type": "code",
   "execution_count": 3,
   "id": "e0a1f5b1",
   "metadata": {},
   "outputs": [
    {
     "name": "stderr",
     "output_type": "stream",
     "text": [
      "/Users/yoachim/git_repos/rubin_sim/rubin_sim/skybrightness_pre/sky_model_pre.py:272: UserWarning: Requested MJD between sunrise and sunset, returning closest maps\n",
      "  warnings.warn(\n",
      "/Users/yoachim/git_repos/rubin_sim/rubin_sim/scheduler/utils/utils.py:75: RuntimeWarning: invalid value encountered in cast\n",
      "  self.value = np.round(inval * scale).astype(int)\n"
     ]
    },
    {
     "name": "stdout",
     "output_type": "stream",
     "text": [
      "progress = 100.00%Skipped 0 observations\n",
      "Flushed 766 observations from queue for being stale\n",
      "Completed 6592 observations\n",
      "ran in 0 min = 0.0 hours\n",
      "Writing results to  None\n"
     ]
    }
   ],
   "source": [
    "# let's try running it for a few days\n",
    "\n",
    "mo = ModelObservatory(mjd_start=mjd_start)\n",
    "mo, scheduler, observations = sim_runner(mo, scheduler, survey_length=10.0, verbose=True)"
   ]
  },
  {
   "cell_type": "code",
   "execution_count": 4,
   "id": "eefff16b",
   "metadata": {},
   "outputs": [
    {
     "data": {
      "text/plain": [
       "array(['DD:COSMOS', 'DD:ECDFS', 'DD:EDFS_a', 'DD:EDFS_b', 'DD:ELAISS1',\n",
       "       'DD:XMM_LSS', 'blob, iz, a', 'blob, iz, b', 'blob, ri, a',\n",
       "       'blob, ri, b', 'blob, yy, a', 'blob, yy, b', 'blob, zy, a',\n",
       "       'blob, zy, b', 'blob_long, iz, a', 'blob_long, iz, b',\n",
       "       'blob_twi, iz, a', 'blob_twi, iz, b', 'blob_twi, ri, a',\n",
       "       'blob_twi, ri, b', 'blob_twi, yy, a', 'blob_twi, yy, b',\n",
       "       'blob_twi, zy, a', 'blob_twi, zy, b', 'greedy', 'long',\n",
       "       'twilight_neo'], dtype='<U40')"
      ]
     },
     "execution_count": 4,
     "metadata": {},
     "output_type": "execute_result"
    }
   ],
   "source": [
    "# Let's see what kind of observations executed\n",
    "np.unique(observations['note'])"
   ]
  },
  {
   "cell_type": "code",
   "execution_count": null,
   "id": "58dd837d",
   "metadata": {},
   "outputs": [],
   "source": []
  }
 ],
 "metadata": {
  "kernelspec": {
   "display_name": "Python 3 (ipykernel)",
   "language": "python",
   "name": "python3"
  },
  "language_info": {
   "codemirror_mode": {
    "name": "ipython",
    "version": 3
   },
   "file_extension": ".py",
   "mimetype": "text/x-python",
   "name": "python",
   "nbconvert_exporter": "python",
   "pygments_lexer": "ipython3",
   "version": "3.11.0"
  }
 },
 "nbformat": 4,
 "nbformat_minor": 5
}
