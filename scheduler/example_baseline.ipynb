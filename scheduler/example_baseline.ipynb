{
 "cells": [
  {
   "cell_type": "markdown",
   "id": "6cf64d9c",
   "metadata": {},
   "source": [
    "We have a baseline-like example scheduler in `rubin_sim`. Let's load that up and see what it looks like"
   ]
  },
  {
   "cell_type": "code",
   "execution_count": 1,
   "id": "4dd3b79d",
   "metadata": {},
   "outputs": [],
   "source": [
    "import numpy as np\n",
    "import healpy as hp\n",
    "import matplotlib.pylab as plt\n",
    "%matplotlib inline\n",
    "import pandas as pd\n",
    "\n",
    "from rubin_sim.scheduler import sim_runner\n",
    "from rubin_sim.scheduler.model_observatory import ModelObservatory\n",
    "from rubin_sim.scheduler.example import example_scheduler\n"
   ]
  },
  {
   "cell_type": "code",
   "execution_count": 2,
   "id": "4b17602f",
   "metadata": {},
   "outputs": [
    {
     "name": "stdout",
     "output_type": "stream",
     "text": [
      "Optimizing ELAISS1\n",
      "Optimizing XMM_LSS\n",
      "Optimizing ECDFS\n",
      "Optimizing COSMOS\n",
      "Optimizing EDFS_a\n"
     ]
    },
    {
     "data": {
      "text/markdown": [
       "CoreScheduler(\n",
       "            surveys=[[<ScriptedSurvey survey_name='' at 0x2c2d71fd0>, <ScriptedSurvey survey_name='' at 0x2a7d88d10>], [<LongGapSurvey survey_name='Long Gap (Blob survey g_r + )' at 0x2a302e810>, <LongGapSurvey survey_name='Long Gap (Blob survey r_i + )' at 0x2a7d30750>, <LongGapSurvey survey_name='Long Gap (Blob survey i_z + )' at 0x2a7d3d710>], [<BlobSurvey survey_name='Blob survey u_g' at 0x2c2ddc1d0>, <BlobSurvey survey_name='Blob survey u_r' at 0x2b55c1d90>, <BlobSurvey survey_name='Blob survey g_r' at 0x2ae150650>, <BlobSurvey survey_name='Blob survey r_i' at 0x2b55d1bd0>, <BlobSurvey survey_name='Blob survey i_z' at 0x2ae1d7c50>, <BlobSurvey survey_name='Blob survey z_y' at 0x2a7d34c90>, <BlobSurvey survey_name='Blob survey y_y' at 0x2a7d29790>], [<BlobSurvey survey_name='Blob survey r_i' at 0x2a7d2c1d0>, <BlobSurvey survey_name='Blob survey i_z' at 0x2a7d8c0d0>, <BlobSurvey survey_name='Blob survey z_y' at 0x2c2d48450>, <BlobSurvey survey_name='Blob survey y_y' at 0x2b6abe250>], [<BlobSurvey survey_name='Blob survey r_r' at 0x2a7c939d0>, <BlobSurvey survey_name='Blob survey i_i' at 0x2c2d4c110>, <BlobSurvey survey_name='Blob survey z_z' at 0x2ae1501d0>], [<GreedySurvey survey_name='greedy' at 0x2a302f050>, <GreedySurvey survey_name='greedy' at 0x2ae1104d0>, <GreedySurvey survey_name='greedy' at 0x2a7d24d10>, <GreedySurvey survey_name='greedy' at 0x2ae17d1d0>]],\n",
       "            camera=\"LSST\",\n",
       "            nside=32,\n",
       "            rotator_limits=array([1.48352986, 4.79965544]),\n",
       "            survey_index=[None, None],\n",
       "            log=<Logger CoreScheduler (WARNING)>\n",
       "        )"
      ],
      "text/plain": [
       "CoreScheduler(\n",
       "            surveys=[[<ScriptedSurvey survey_name='' at 0x2c2d71fd0>, <ScriptedSurvey survey_name='' at 0x2a7d88d10>], [<LongGapSurvey survey_name='Long Gap (Blob survey g_r + )' at 0x2a302e810>, <LongGapSurvey survey_name='Long Gap (Blob survey r_i + )' at 0x2a7d30750>, <LongGapSurvey survey_name='Long Gap (Blob survey i_z + )' at 0x2a7d3d710>], [<BlobSurvey survey_name='Blob survey u_g' at 0x2c2ddc1d0>, <BlobSurvey survey_name='Blob survey u_r' at 0x2b55c1d90>, <BlobSurvey survey_name='Blob survey g_r' at 0x2ae150650>, <BlobSurvey survey_name='Blob survey r_i' at 0x2b55d1bd0>, <BlobSurvey survey_name='Blob survey i_z' at 0x2ae1d7c50>, <BlobSurvey survey_name='Blob survey z_y' at 0x2a7d34c90>, <BlobSurvey survey_name='Blob survey y_y' at 0x2a7d29790>], [<BlobSurvey survey_name='Blob survey r_i' at 0x2a7d2c1d0>, <BlobSurvey survey_name='Blob survey i_z' at 0x2a7d8c0d0>, <BlobSurvey survey_name='Blob survey z_y' at 0x2c2d48450>, <BlobSurvey survey_name='Blob survey y_y' at 0x2b6abe250>], [<BlobSurvey survey_name='Blob survey r_r' at 0x2a7c939d0>, <BlobSurvey survey_name='Blob survey i_i' at 0x2c2d4c110>, <BlobSurvey survey_name='Blob survey z_z' at 0x2ae1501d0>], [<GreedySurvey survey_name='greedy' at 0x2a302f050>, <GreedySurvey survey_name='greedy' at 0x2ae1104d0>, <GreedySurvey survey_name='greedy' at 0x2a7d24d10>, <GreedySurvey survey_name='greedy' at 0x2ae17d1d0>]],\n",
       "            camera=\"LSST\",\n",
       "            nside=32,\n",
       "            rotator_limits=array([1.48352986, 4.79965544]),\n",
       "            survey_index=[None, None],\n",
       "            log=<Logger CoreScheduler (WARNING)>\n",
       "        )"
      ]
     },
     "execution_count": 2,
     "metadata": {},
     "output_type": "execute_result"
    }
   ],
   "source": [
    "mjd_start=60676.0\n",
    "scheduler = example_scheduler(mjd_start=mjd_start)\n",
    "scheduler"
   ]
  },
  {
   "cell_type": "markdown",
   "id": "f29c3e6b",
   "metadata": {},
   "source": [
    "There we can see the heirarchy of survey objects in the core scheduler. We have \n",
    "\n",
    "* 5 DDF surveys\n",
    "* 3 LongGap surveys\n",
    "* 7 blob surveys\n",
    "* 4 blob surveys\n",
    "* 3 blob surveys\n",
    "* 1 greedy survey\n"
   ]
  },
  {
   "cell_type": "code",
   "execution_count": 3,
   "id": "e0a1f5b1",
   "metadata": {},
   "outputs": [
    {
     "name": "stderr",
     "output_type": "stream",
     "text": [
      "/Users/yoachim/git_repos/rubin_sim/rubin_sim/skybrightness_pre/sky_model_pre.py:272: UserWarning: Requested MJD between sunrise and sunset, returning closest maps\n",
      "  warnings.warn(\n",
      "/Users/yoachim/git_repos/rubin_sim/rubin_sim/scheduler/utils/utils.py:73: RuntimeWarning: invalid value encountered in cast\n",
      "  self.value = np.round(inval * scale).astype(int)\n"
     ]
    },
    {
     "name": "stdout",
     "output_type": "stream",
     "text": [
      "progress = 20.42%"
     ]
    },
    {
     "name": "stderr",
     "output_type": "stream",
     "text": [
      "/Users/yoachim/git_repos/rubin_sim/rubin_sim/utils/healpy_utils.py:331: RuntimeWarning: All-NaN slice encountered\n",
      "  in_map[current_neighbors] == np.nanmax(in_map[current_neighbors])\n",
      "/Users/yoachim/git_repos/rubin_sim/rubin_sim/utils/healpy_utils.py:335: UserWarning: Can not connect to any more pixels.\n",
      "  warnings.warn(\"Can not connect to any more pixels.\")\n"
     ]
    },
    {
     "name": "stdout",
     "output_type": "stream",
     "text": [
      "progress = 100.00%Skipped 0 observations\n",
      "Flushed 325 observations from queue for being stale\n",
      "Completed 5748 observations\n",
      "ran in 0 min = 0.0 hours\n"
     ]
    }
   ],
   "source": [
    "# let's try running it for a few days\n",
    "\n",
    "mo = ModelObservatory(mjd_start=mjd_start)\n",
    "mo, scheduler, observations = sim_runner(mo, scheduler, survey_length=10.0, verbose=True)"
   ]
  },
  {
   "cell_type": "code",
   "execution_count": 4,
   "id": "eefff16b",
   "metadata": {},
   "outputs": [
    {
     "data": {
      "text/plain": [
       "array(['DD:COSMOS', 'DD:ECDFS', 'DD:EDFS_a', 'DD:EDFS_b', 'DD:ELAISS1',\n",
       "       'DD:XMM_LSS', 'blob, iz, a', 'blob, iz, b', 'blob, ri, a',\n",
       "       'blob, ri, b', 'blob, yy, a', 'blob, yy, b', 'blob, zy, a',\n",
       "       'blob, zy, b', 'blob_long, iz, a', 'blob_long, iz, b',\n",
       "       'blob_twi, iz, a', 'blob_twi, iz, b', 'blob_twi, ri, a',\n",
       "       'blob_twi, ri, b', 'blob_twi, yy, a', 'blob_twi, yy, b',\n",
       "       'blob_twi, zy, a', 'blob_twi, zy, b', 'greedy', 'long',\n",
       "       'twilight_neo, 0', 'twilight_neo, 1', 'twilight_neo, 2',\n",
       "       'twilight_neo, 3'], dtype='<U40')"
      ]
     },
     "execution_count": 4,
     "metadata": {},
     "output_type": "execute_result"
    }
   ],
   "source": [
    "# Let's see what kind of observations executed\n",
    "np.unique(observations['note'])"
   ]
  },
  {
   "cell_type": "code",
   "execution_count": null,
   "id": "58dd837d",
   "metadata": {},
   "outputs": [],
   "source": []
  }
 ],
 "metadata": {
  "kernelspec": {
   "display_name": "Python 3 (ipykernel)",
   "language": "python",
   "name": "python3"
  },
  "language_info": {
   "codemirror_mode": {
    "name": "ipython",
    "version": 3
   },
   "file_extension": ".py",
   "mimetype": "text/x-python",
   "name": "python",
   "nbconvert_exporter": "python",
   "pygments_lexer": "ipython3",
   "version": "3.11.3"
  }
 },
 "nbformat": 4,
 "nbformat_minor": 5
}
