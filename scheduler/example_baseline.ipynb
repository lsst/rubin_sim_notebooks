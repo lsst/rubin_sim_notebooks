{
 "cells": [
  {
   "cell_type": "markdown",
   "id": "6cf64d9c",
   "metadata": {},
   "source": [
    "We have a baseline-like example scheduler in `rubin_sim`. Let's load that up and see what it looks like"
   ]
  },
  {
   "cell_type": "code",
   "execution_count": 1,
   "id": "4dd3b79d",
   "metadata": {},
   "outputs": [],
   "source": [
    "import numpy as np\n",
    "import healpy as hp\n",
    "import matplotlib.pylab as plt\n",
    "%matplotlib inline\n",
    "import pandas as pd\n",
    "\n",
    "from rubin_sim.scheduler import sim_runner\n",
    "from rubin_sim.scheduler.model_observatory import ModelObservatory\n",
    "from rubin_sim.scheduler.example import example_scheduler\n"
   ]
  },
  {
   "cell_type": "code",
   "execution_count": 2,
   "id": "4b17602f",
   "metadata": {},
   "outputs": [
    {
     "name": "stdout",
     "output_type": "stream",
     "text": [
      "Optimizing ELAISS1\n",
      "Optimizing XMM_LSS\n",
      "Optimizing ECDFS\n",
      "Optimizing COSMOS\n",
      "Optimizing EDFS_a\n"
     ]
    },
    {
     "data": {
      "text/markdown": [
       "CoreScheduler(\n",
       "            surveys=[[<ScriptedSurvey survey_name='' at 0x295f333d0>, <ScriptedSurvey survey_name='' at 0x295f2cb50>], [<LongGapSurvey survey_name='Long Gap (Blob survey g_r + )' at 0x179a835d0>, <LongGapSurvey survey_name='Long Gap (Blob survey r_i + )' at 0x179a38450>, <LongGapSurvey survey_name='Long Gap (Blob survey i_z + )' at 0x179ab1cd0>], [<BlobSurvey survey_name='Blob survey u_g' at 0x17f5304d0>, <BlobSurvey survey_name='Blob survey u_r' at 0x17a9f42d0>, <BlobSurvey survey_name='Blob survey g_r' at 0x179fb8650>, <BlobSurvey survey_name='Blob survey r_i' at 0x179a35090>, <BlobSurvey survey_name='Blob survey i_z' at 0x179f03950>, <BlobSurvey survey_name='Blob survey z_y' at 0x179fbc410>, <BlobSurvey survey_name='Blob survey y_y' at 0x179f378d0>], [<BlobSurvey survey_name='Blob survey r_i' at 0x179ffbf10>, <BlobSurvey survey_name='Blob survey i_z' at 0x179a7ca90>, <BlobSurvey survey_name='Blob survey z_y' at 0x179a1bc50>, <BlobSurvey survey_name='Blob survey y_y' at 0x179fc70d0>], [<BlobSurvey survey_name='Blob survey r_r' at 0x179fc7910>, <BlobSurvey survey_name='Blob survey i_i' at 0x179b15950>, <BlobSurvey survey_name='Blob survey z_z' at 0x295ef8610>], [<GreedySurvey survey_name='greedy' at 0x179ad7890>, <GreedySurvey survey_name='greedy' at 0x179fd8250>, <GreedySurvey survey_name='greedy' at 0x179a6fd10>, <GreedySurvey survey_name='greedy' at 0x179ac4450>]],\n",
       "            camera=\"LSST\",\n",
       "            nside=32,\n",
       "            rotator_limits=array([1.48352986, 4.79965544]),\n",
       "            survey_index=[None, None],\n",
       "            log=<Logger CoreScheduler (WARNING)>\n",
       "        )"
      ],
      "text/plain": [
       "CoreScheduler(\n",
       "            surveys=[[<ScriptedSurvey survey_name='' at 0x295f333d0>, <ScriptedSurvey survey_name='' at 0x295f2cb50>], [<LongGapSurvey survey_name='Long Gap (Blob survey g_r + )' at 0x179a835d0>, <LongGapSurvey survey_name='Long Gap (Blob survey r_i + )' at 0x179a38450>, <LongGapSurvey survey_name='Long Gap (Blob survey i_z + )' at 0x179ab1cd0>], [<BlobSurvey survey_name='Blob survey u_g' at 0x17f5304d0>, <BlobSurvey survey_name='Blob survey u_r' at 0x17a9f42d0>, <BlobSurvey survey_name='Blob survey g_r' at 0x179fb8650>, <BlobSurvey survey_name='Blob survey r_i' at 0x179a35090>, <BlobSurvey survey_name='Blob survey i_z' at 0x179f03950>, <BlobSurvey survey_name='Blob survey z_y' at 0x179fbc410>, <BlobSurvey survey_name='Blob survey y_y' at 0x179f378d0>], [<BlobSurvey survey_name='Blob survey r_i' at 0x179ffbf10>, <BlobSurvey survey_name='Blob survey i_z' at 0x179a7ca90>, <BlobSurvey survey_name='Blob survey z_y' at 0x179a1bc50>, <BlobSurvey survey_name='Blob survey y_y' at 0x179fc70d0>], [<BlobSurvey survey_name='Blob survey r_r' at 0x179fc7910>, <BlobSurvey survey_name='Blob survey i_i' at 0x179b15950>, <BlobSurvey survey_name='Blob survey z_z' at 0x295ef8610>], [<GreedySurvey survey_name='greedy' at 0x179ad7890>, <GreedySurvey survey_name='greedy' at 0x179fd8250>, <GreedySurvey survey_name='greedy' at 0x179a6fd10>, <GreedySurvey survey_name='greedy' at 0x179ac4450>]],\n",
       "            camera=\"LSST\",\n",
       "            nside=32,\n",
       "            rotator_limits=array([1.48352986, 4.79965544]),\n",
       "            survey_index=[None, None],\n",
       "            log=<Logger CoreScheduler (WARNING)>\n",
       "        )"
      ]
     },
     "execution_count": 2,
     "metadata": {},
     "output_type": "execute_result"
    }
   ],
   "source": [
    "mjd_start=60676.0\n",
    "scheduler = example_scheduler(mjd_start=mjd_start)\n",
    "scheduler"
   ]
  },
  {
   "cell_type": "markdown",
   "id": "f29c3e6b",
   "metadata": {},
   "source": [
    "There we can see the heirarchy of survey objects in the core scheduler. We have \n",
    "\n",
    "* 5 DDF surveys\n",
    "* 3 LongGap surveys\n",
    "* 7 blob surveys\n",
    "* 4 blob surveys\n",
    "* 3 blob surveys\n",
    "* 1 greedy survey\n"
   ]
  },
  {
   "cell_type": "code",
   "execution_count": null,
   "id": "e0a1f5b1",
   "metadata": {},
   "outputs": [
    {
     "name": "stderr",
     "output_type": "stream",
     "text": [
      "/Users/yoachim/git_repos/rubin_sim/rubin_sim/skybrightness_pre/sky_model_pre.py:272: UserWarning: Requested MJD between sunrise and sunset, returning closest maps\n",
      "  warnings.warn(\n"
     ]
    },
    {
     "name": "stdout",
     "output_type": "stream",
     "text": [
      "> \u001b[0;32m/Users/yoachim/git_repos/rubin_sim/rubin_sim/scheduler/model_observatory/kinem_model.py\u001b[0m(462)\u001b[0;36mslew_times\u001b[0;34m()\u001b[0m\n",
      "\u001b[0;32m    460 \u001b[0;31m        \u001b[0;31m# And delta_az is signed properly.\u001b[0m\u001b[0;34m\u001b[0m\u001b[0;34m\u001b[0m\u001b[0m\n",
      "\u001b[0m\u001b[0;32m    461 \u001b[0;31m        \u001b[0;32mimport\u001b[0m \u001b[0mpdb\u001b[0m \u001b[0;34m;\u001b[0m \u001b[0mpdb\u001b[0m\u001b[0;34m.\u001b[0m\u001b[0mset_trace\u001b[0m\u001b[0;34m(\u001b[0m\u001b[0;34m)\u001b[0m\u001b[0;34m\u001b[0m\u001b[0;34m\u001b[0m\u001b[0m\n",
      "\u001b[0m\u001b[0;32m--> 462 \u001b[0;31m        \u001b[0mstacked_az\u001b[0m \u001b[0;34m=\u001b[0m \u001b[0mnp\u001b[0m\u001b[0;34m.\u001b[0m\u001b[0mvstack\u001b[0m\u001b[0;34m(\u001b[0m\u001b[0;34m[\u001b[0m\u001b[0mdelta_az_short\u001b[0m\u001b[0;34m,\u001b[0m \u001b[0mdelta_az_long\u001b[0m\u001b[0;34m]\u001b[0m\u001b[0;34m)\u001b[0m\u001b[0;34m\u001b[0m\u001b[0;34m\u001b[0m\u001b[0m\n",
      "\u001b[0m\u001b[0;32m    463 \u001b[0;31m        \u001b[0mindx\u001b[0m \u001b[0;34m=\u001b[0m \u001b[0mnp\u001b[0m\u001b[0;34m.\u001b[0m\u001b[0margmin\u001b[0m\u001b[0;34m(\u001b[0m\u001b[0mnp\u001b[0m\u001b[0;34m.\u001b[0m\u001b[0mabs\u001b[0m\u001b[0;34m(\u001b[0m\u001b[0mstacked_az\u001b[0m\u001b[0;34m)\u001b[0m\u001b[0;34m,\u001b[0m \u001b[0maxis\u001b[0m\u001b[0;34m=\u001b[0m\u001b[0;36m0\u001b[0m\u001b[0;34m)\u001b[0m\u001b[0;34m\u001b[0m\u001b[0;34m\u001b[0m\u001b[0m\n",
      "\u001b[0m\u001b[0;32m    464 \u001b[0;31m        delta_aztel = np.take_along_axis(\n",
      "\u001b[0m\n",
      "ipdb> check = np.minimum(delta_az_short, delta_az_long)\n",
      "ipdb> check\n",
      "array([-7.93870789e-02, -4.12296179e-02, -2.93118589e-03, ...,\n",
      "       -3.17110356e+00, -3.14078585e+00, -3.11205741e+00])\n",
      "ipdb> stacked_az = np.vstack([delta_az_short, delta_az_long])\n",
      "ipdb> indx = np.argmin(np.abs(stacked_az), axis=0)\n",
      "ipdb> delta_aztel = np.take_along_axis(stacked_az, np.expand_dims(indx, axis=0), axis=0).squeeze(axis=0)\n",
      "ipdb> delta_aztel\n",
      "array([-7.93870789e-02, -4.12296179e-02, -2.93118589e-03, ...,\n",
      "        3.11208174e+00, -3.14078585e+00, -3.11205741e+00])\n",
      "ipdb> delta_aztel == check\n",
      "array([ True,  True,  True, ..., False,  True,  True])\n"
     ]
    }
   ],
   "source": [
    "# let's try running it for a few days\n",
    "\n",
    "mo = ModelObservatory(mjd_start=mjd_start)\n",
    "mo, scheduler, observations = sim_runner(mo, scheduler, survey_length=10.0, verbose=True)"
   ]
  },
  {
   "cell_type": "code",
   "execution_count": 4,
   "id": "eefff16b",
   "metadata": {},
   "outputs": [
    {
     "data": {
      "text/plain": [
       "array(['DD:COSMOS', 'DD:ECDFS', 'DD:EDFS_a', 'DD:EDFS_b', 'DD:ELAISS1',\n",
       "       'DD:XMM_LSS', 'blob, iz, a', 'blob, iz, b', 'blob, ri, a',\n",
       "       'blob, ri, b', 'blob, yy, a', 'blob, yy, b', 'blob, zy, a',\n",
       "       'blob, zy, b', 'blob_long, iz, a', 'blob_long, iz, b',\n",
       "       'blob_twi, iz, a', 'blob_twi, iz, b', 'blob_twi, ri, a',\n",
       "       'blob_twi, ri, b', 'blob_twi, yy, a', 'blob_twi, yy, b',\n",
       "       'blob_twi, zy, a', 'blob_twi, zy, b', 'greedy', 'long',\n",
       "       'twilight_neo'], dtype='<U40')"
      ]
     },
     "execution_count": 4,
     "metadata": {},
     "output_type": "execute_result"
    }
   ],
   "source": [
    "# Let's see what kind of observations executed\n",
    "np.unique(observations['note'])"
   ]
  },
  {
   "cell_type": "code",
   "execution_count": null,
   "id": "58dd837d",
   "metadata": {},
   "outputs": [],
   "source": []
  }
 ],
 "metadata": {
  "kernelspec": {
   "display_name": "Python 3 (ipykernel)",
   "language": "python",
   "name": "python3"
  },
  "language_info": {
   "codemirror_mode": {
    "name": "ipython",
    "version": 3
   },
   "file_extension": ".py",
   "mimetype": "text/x-python",
   "name": "python",
   "nbconvert_exporter": "python",
   "pygments_lexer": "ipython3",
   "version": "3.11.0"
  }
 },
 "nbformat": 4,
 "nbformat_minor": 5
}
