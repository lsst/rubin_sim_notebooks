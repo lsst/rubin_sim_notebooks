{
 "cells": [
  {
   "cell_type": "markdown",
   "id": "e95673c1-a0df-435b-9717-b9cfbaa80fcb",
   "metadata": {},
   "source": [
    "<img align=\"left\" src = https://project.lsst.org/sites/default/files/Rubin-O-Logo_0.png width=250 style=\"padding: 10px\"> \n",
    "<b>Preparing to use the MAF tutorials</b> <br>\n",
    "Contact author: Eric Neilsen<br>\n",
    "Questions welcome at <a href=\"https://community.lsst.org/c/sci/survey-strategy\">community.lsst.org/c/sci/survey-strategy</a> and the <a href=\"https://lsstc.slack.com/archives/C2LTWTP5J\">#sims_operations</a> slack channel.<br>\n",
    "Find additional MAF documentation and resources at <a href=\"https://rubin-sim.lsst.io\">rubin-sim.lsst.io</a>. <br>"
   ]
  },
  {
   "cell_type": "markdown",
   "id": "e172a73c-a496-461d-ae91-080dbb9bb692",
   "metadata": {},
   "source": [
    "## Background\n",
    "\n",
    "These MAF tutorials comprise a collection of jupyter notebooks, interactive documents for interacting with (in this case) a python interpreter through a web browser.\n",
    "They assume some familiarity both with jupyter notebooks and the python programming language. The `jupyter` project has [extensive documentation](https://jupyter.org/documentation), and there are numerous tutorial videos available, including a [very short one](https://www.youtube.com/watch?v=A5YyoCKxEOU) from the `jupyter` project itself, and a [more extensive talk](https://www.youtube.com/watch?v=RFabWieskak) from SciPy 2019."
   ]
  },
  {
   "cell_type": "markdown",
   "id": "54d0daa0-2e4a-416b-aa57-18b5c819fc2b",
   "metadata": {},
   "source": [
    "## Accessing MAF"
   ]
  },
  {
   "cell_type": "markdown",
   "id": "02b5ce4e-7a70-4632-8622-72c5db5e022b",
   "metadata": {},
   "source": [
    "Some users, particularly those familiar with running `jupyter` locally and setting up python environments, may wish to install `rubin_sim` in a local python environment and run their own instance of `jupyter`. Instructions for doing such can be found in the README of the `rubin_sim` [github product](https://github.com/lsst/rubin_sim). With the option of installing rubin_sim via conda, this is a relatively straightforward option. "
   ]
  },
  {
   "cell_type": "markdown",
   "id": "4a776302-8333-457a-b71d-ffe72b6192b0",
   "metadata": {},
   "source": [
    "Other options are to use the installation of rubin_sim (and thus also MAF) at [**NOIRLab's DataLab**](https://datalab.noirlab.edu/), or at [**LINCC hub**](https://lsst.dirac.dev/). \n",
    "\n",
    "For instructions on obtaining an account at DataLab, please see the [sign up link](https://datalab.noirlab.edu/help/register.php?qa=register). To use rubin_sim at DataLab, please choose the `LSST-2021.10.13 Py3` kernel after clicking \"Launch a jupyter notebook\" from the main page. \n",
    "\n",
    "For more information on LINCC, please see the [LINCC documentation](https://docs.lsst.dirac.dev/en/latest/). Once you have a LINCC account, you can [log in](https://lsst.dirac.dev) and can start a jupyter notebook. Please note that LINCC maintains a variety of rubin_sim versions and you can choose different kernels with different versions (such as `Rubin Sim (v1.0.0)`) from the drop-down \"Kernel\" menu.\n",
    "\n",
    "After opening a jupyter notebook in either location, you can copy the contents of this cell into your notebook and execute it to check out your own copy of the github product with the notebooks:"
   ]
  },
  {
   "cell_type": "code",
   "execution_count": 1,
   "id": "2c35be3b-c1ee-43a4-8acc-c1d28b12b118",
   "metadata": {},
   "outputs": [
    {
     "name": "stderr",
     "output_type": "stream",
     "text": [
      "Cloning into 'rubin_sim_notebooks'...\n"
     ]
    }
   ],
   "source": [
    "%%bash\n",
    "\n",
    "# Make a copy of the notebooks for you to modify\n",
    "\n",
    "mkdir ~/notebooks; # or wherever you want it.\n",
    "cd ~/notebooks ;\n",
    "git clone https://github.com/lsst/rubin_sim_notebooks"
   ]
  },
  {
   "cell_type": "markdown",
   "id": "b88de81b-cce4-4a67-a216-05d2a0b0fa7a",
   "metadata": {},
   "source": [
    "You should now be able to use the folder navigator on the left panel of the jupyter notebook to navigate to the directory with the tutorial notebooks, `notebooks/rubin_sim_notebooks/maf/tutorial`.\n",
    "\n",
    "Begin with `01_Introduction_to_MAF.ipynb`."
   ]
  },
  {
   "cell_type": "markdown",
   "id": "4fc3b3fe-e76a-4c21-aafb-8e46141af47c",
   "metadata": {},
   "source": [
    "**Acknowledgements:** These tutorial notebooks have benefited from previous work in MAF tutorials, including not only the [tutorial notebooks in sims_MAF-contrib](https://github.com/LSST-nonproject/sims_maf_contrib/tree/master/tutorials) but also those by  Weixiang Yu, Gordon Richards, and Will Clarkson in their [LSST_OpSim](https://github.com/RichardsGroup/LSST_OpSim) repository, inspired the material to be included here. Stylistic elements of these notebooks were guided by the DP0.1 notebooks developed by Melissa Graham and the Rubin Observatory Community Engagement Team."
   ]
  },
  {
   "cell_type": "code",
   "execution_count": null,
   "id": "be81d262",
   "metadata": {},
   "outputs": [],
   "source": []
  }
 ],
 "metadata": {
  "kernelspec": {
   "display_name": "Python 3 (ipykernel)",
   "language": "python",
   "name": "python3"
  },
  "language_info": {
   "codemirror_mode": {
    "name": "ipython",
    "version": 3
   },
   "file_extension": ".py",
   "mimetype": "text/x-python",
   "name": "python",
   "nbconvert_exporter": "python",
   "pygments_lexer": "ipython3",
   "version": "3.9.13"
  }
 },
 "nbformat": 4,
 "nbformat_minor": 5
}
