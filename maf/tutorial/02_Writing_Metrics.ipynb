{
 "cells": [
  {
   "cell_type": "markdown",
   "metadata": {},
   "source": [
    "<img align=\"left\" src = https://project.lsst.org/sites/default/files/Rubin-O-Logo_0.png width=250 style=\"padding: 10px\"> \n",
    "<b>Writing metrics</b> <br>\n",
    "Contact author: Eric Neilsen. <br>\n",
    "Questions welcome at <a href=\"https://community.lsst.org/c/sci/survey-strategy\">community.lsst.org/c/sci/survey-strategy</a> and the <a href=\"https://lsstc.slack.com/archives/C2LTWTP5J\">#sims_operations</a> slack channel.<br>\n",
    "Find additional MAF documentation and resources at <a href=\"https://rubin-sim.lsst.io\">rubin-sim.lsst.io</a>. <br>"
   ]
  },
  {
   "cell_type": "markdown",
   "metadata": {},
   "source": [
    "This notebook gives instructions on how to write `MAF` metrics, the most common code development task for science groups."
   ]
  },
  {
   "cell_type": "markdown",
   "metadata": {},
   "source": [
    "## 1. Notebook preparation"
   ]
  },
  {
   "cell_type": "markdown",
   "metadata": {},
   "source": [
    "### 1.1 Developer aids\n",
    "\n",
    "The following is a development style aid; only uncomment if developing the notebook:"
   ]
  },
  {
   "cell_type": "code",
   "execution_count": 1,
   "metadata": {},
   "outputs": [],
   "source": [
    "# %load_ext lab_black\n",
    "# %load_ext pycodestyle_magic\n",
    "# %flake8_on --ignore E501,W505"
   ]
  },
  {
   "cell_type": "markdown",
   "metadata": {},
   "source": [
    "### 1.2 Import the required python modules"
   ]
  },
  {
   "cell_type": "code",
   "execution_count": 2,
   "metadata": {},
   "outputs": [],
   "source": [
    "from rubin_sim import maf\n",
    "import rubin_sim.data as rs_data"
   ]
  },
  {
   "cell_type": "markdown",
   "metadata": {},
   "source": [
    "### 1.3 Get example data to work with"
   ]
  },
  {
   "cell_type": "markdown",
   "metadata": {},
   "source": [
    "To test a metric, we will need to use a sample database. Let's use the sample baseline database installed as part of the `rubin_sim` installation process:"
   ]
  },
  {
   "cell_type": "code",
   "execution_count": 3,
   "metadata": {},
   "outputs": [
    {
     "data": {
      "text/plain": [
       "'/Users/lynnej/rubin_sim_data/sim_baseline/baseline_v2.1_10yrs.db'"
      ]
     },
     "execution_count": 3,
     "metadata": {},
     "output_type": "execute_result"
    }
   ],
   "source": [
    "opsim_db_fname = rs_data.get_baseline()\n",
    "opsim_db_fname"
   ]
  },
  {
   "cell_type": "markdown",
   "metadata": {},
   "source": [
    "We will also need an output directory. If you have one you want to use, set it here:"
   ]
  },
  {
   "cell_type": "code",
   "execution_count": 4,
   "metadata": {},
   "outputs": [],
   "source": [
    "# output_dir = '.'"
   ]
  },
  {
   "cell_type": "markdown",
   "metadata": {},
   "source": [
    "Otherwise, create a temporary directory that will automatically be cleaned up when this notebook shuts down:"
   ]
  },
  {
   "cell_type": "code",
   "execution_count": 5,
   "metadata": {},
   "outputs": [
    {
     "data": {
      "text/plain": [
       "'/Users/lynnej/lsst_repos/rubin_sim_notebooks/maf/tutorial/writing_metrics_kqcwav1f'"
      ]
     },
     "execution_count": 5,
     "metadata": {},
     "output_type": "execute_result"
    }
   ],
   "source": [
    "if \"output_dir\" not in locals():\n",
    "    from tempfile import TemporaryDirectory\n",
    "    import os\n",
    "\n",
    "    output_dir_itself = TemporaryDirectory(prefix=\"writing_metrics_\", dir=os.getcwd())\n",
    "    output_dir = output_dir_itself.name\n",
    "\n",
    "output_dir"
   ]
  },
  {
   "cell_type": "markdown",
   "metadata": {},
   "source": [
    "## 2. Understanding how metrics are called"
   ]
  },
  {
   "cell_type": "markdown",
   "metadata": {},
   "source": [
    "To understand how to write metrics, it helps to first know a little bit about slicers.\n",
    "\n",
    "`MAF` slicers categorize visits in the `opsim` database into groups called \"slices.\" Slices have a \"many to many\" relationship with visits: a given slice may contain zero or more visits, and a given visit may fall into zero, one, or many slices. For example, the `HealpixSlicer` slices the sky according to [healpixels](https://healpix.jpl.nasa.gov/). Because the sky in any given healpixel can be covered any number of times (including zero), the slice corresponding to a healpixel may contain zero, one, or many visits. A given visit may cover sky in multiple healpixels, and so may be present in multiple slices.\n",
    "\n",
    "Slicers themselves are python iterators that return tuples with indexes into the array of visits, and slice points (parameters for the slice):"
   ]
  },
  {
   "cell_type": "markdown",
   "metadata": {},
   "source": [
    "MAF metric objects must all include (among other things): \n",
    "- a `col_name_array` member, a `numpy.array` of strings with the names of database columns and any stackers that the metric requires. The `__init__` method of the `rubin_sim.maf.metrics.BaseMetric` includes a `col` named argument which is normally used to set the `col_name_array`. When there is only one element in `col_name_array`, the `colname` member is set with that column name.\n",
    "- a `run` method that takes two arguments:\n",
    "  - `data_slice`, a `numpy.recarray` with one record per visit in a slice, and elements corresponding to (at least) all columns listed in `colNameArray`; and\n",
    "  - `slice_point`, a python object (usually a dictionary) defining the parameters of a slice.\n",
    "  and returns an object that represents the value of the metric for that slice point.\n",
    "\n",
    "When MAF metrics are computed by calling the `run_all` method of an instance of `rubin_sim.maf.metricBundles.MetricBundleGroup`, the `MetricBundleGroup`:\n",
    "1. queries the database for any columns required (as specified by the `col_name_array` member of the metric object),\n",
    "2. computes values for any stackers listen in the metric's `col_name_array` member, and\n",
    "3. iterates over each slice, calling the metric's `run` method for every slice, and filling the `metric_value` member of the `MetricBundle` with the values returned by `run`.\n",
    "\n",
    "(This is an over-simplification: the `MetricBundleGroup`'s `run_all` method has various optimizations and other complications that are not important here.)"
   ]
  },
  {
   "cell_type": "markdown",
   "metadata": {},
   "source": [
    "## 3. Exploring existing metrics"
   ]
  },
  {
   "cell_type": "markdown",
   "metadata": {},
   "source": [
    "MAF already contains a variety of metrics: before writing a new metric, it is worthwhile to check whether an existing one will do the job. A list of existing metrics with links to documentation can be found [here](https://rubin-sim.lsst.io/rs_maf/metric_list.html). A plain list of metrics that can also be listed in a notebook with `maf.BaseMetric.help()`, and online documentation for them printed using the `doc=True` option:\n",
    "\n",
    "```\n",
    "https://rubin-sim.lsst.io/rs_maf/metric_list.html```"
   ]
  },
  {
   "cell_type": "markdown",
   "metadata": {},
   "source": [
    "If an existing metric does something close to what you want, you can find the source code for guidance thus:"
   ]
  },
  {
   "cell_type": "code",
   "execution_count": 6,
   "metadata": {},
   "outputs": [],
   "source": [
    "%pinfo maf.SumMetric"
   ]
  },
  {
   "cell_type": "markdown",
   "metadata": {},
   "source": [
    "or dump the whole source code into a jupyter notebook:"
   ]
  },
  {
   "cell_type": "code",
   "execution_count": 7,
   "metadata": {},
   "outputs": [],
   "source": [
    "%psource maf.SumMetric"
   ]
  },
  {
   "cell_type": "markdown",
   "metadata": {},
   "source": [
    "## 4. An exploratory metric"
   ]
  },
  {
   "cell_type": "markdown",
   "metadata": {},
   "source": [
    "To get a feel for how metrics works, lets create a \"dummy\" metric that prints information on what arguments it was passed."
   ]
  },
  {
   "cell_type": "code",
   "execution_count": 8,
   "metadata": {},
   "outputs": [],
   "source": [
    "import numpy as np\n",
    "\n",
    "\n",
    "class Test1Metric(maf.BaseMetric):\n",
    "    def __init__(self):\n",
    "        # Set the columns we want from the database\n",
    "        super().__init__(col=[\"fieldRA\", \"fieldDec\", \"HA\"], metric_name=\"test1\")\n",
    "\n",
    "    def run(self, data_slice, slice_point=None):\n",
    "        print(\"--- run ----\")\n",
    "        print(\n",
    "            f\"data_slice is a {type(data_slice)} of dtype {data_slice.dtype} with a shape of {data_slice.shape}\"\n",
    "        )\n",
    "        print(f\"slice_point is a {type(slice_point)} with value: {slice_point}\")\n",
    "\n",
    "        # Calculate the metric value here, using any values\n",
    "        # you like from the dataSlice and slicePoint arguments.\n",
    "        metric_value_for_this_slice = np.random.rand()\n",
    "        return metric_value_for_this_slice"
   ]
  },
  {
   "cell_type": "markdown",
   "metadata": {},
   "source": [
    "To apply our metric, we need to create a slicer with which to slice the data. Let's use the `maf.OneDSlicer`, which slices the data into bins according to some value. In this case, we divide the visits into large bins by airmass:"
   ]
  },
  {
   "cell_type": "code",
   "execution_count": 9,
   "metadata": {},
   "outputs": [],
   "source": [
    "slicer = maf.OneDSlicer(slice_col_name=\"airmass\", bin_min=1.0, bin_max=2.5, binsize=0.5)"
   ]
  },
  {
   "cell_type": "markdown",
   "metadata": {},
   "source": [
    "Now, instantiate our metric, combine it with our slicer into a `maf.MetricBundle`, and compute the metrics in that bundle with a `maf.MetricBundleGroup`:"
   ]
  },
  {
   "cell_type": "code",
   "execution_count": 10,
   "metadata": {},
   "outputs": [
    {
     "name": "stdout",
     "output_type": "stream",
     "text": [
      "--- run ----\n",
      "data_slice is a <class 'numpy.ndarray'> of dtype [('fieldDec', '<f8'), ('airmass', '<f8'), ('fieldRA', '<f8'), ('observationStartLST', '<f8'), ('HA', '<f8')] with a shape of (1891305,)\n",
      "slice_point is a <class 'dict'> with value: {'sid': 0, 'binLeft': 1.0}\n",
      "--- run ----\n",
      "data_slice is a <class 'numpy.ndarray'> of dtype [('fieldDec', '<f8'), ('airmass', '<f8'), ('fieldRA', '<f8'), ('observationStartLST', '<f8'), ('HA', '<f8')] with a shape of (166402,)\n",
      "slice_point is a <class 'dict'> with value: {'sid': 1, 'binLeft': 1.5}\n",
      "--- run ----\n",
      "data_slice is a <class 'numpy.ndarray'> of dtype [('fieldDec', '<f8'), ('airmass', '<f8'), ('fieldRA', '<f8'), ('observationStartLST', '<f8'), ('HA', '<f8')] with a shape of (24042,)\n",
      "slice_point is a <class 'dict'> with value: {'sid': 2, 'binLeft': 2.0}\n"
     ]
    }
   ],
   "source": [
    "metric = Test1Metric()\n",
    "bundle = maf.MetricBundle(metric, slicer, \"\", run_name=\"sample_run\")\n",
    "bgroup = maf.MetricBundleGroup([bundle], opsim_db_fname, out_dir=output_dir)\n",
    "bgroup.run_all()"
   ]
  },
  {
   "cell_type": "markdown",
   "metadata": {},
   "source": [
    "Note that the `dataSlice` `recarray` contained not only the fields we asked for, but two others as well: `airmass` and `observationStartLST`. These are present because the values were needed by the slicer, and by the stacker used to compute the `HA`."
   ]
  },
  {
   "cell_type": "markdown",
   "metadata": {},
   "source": [
    "We can look at the values calculated (or in this dummy example, randomly generated) with the `bundle` object:"
   ]
  },
  {
   "cell_type": "code",
   "execution_count": 11,
   "metadata": {},
   "outputs": [
    {
     "data": {
      "text/plain": [
       "masked_array(data=[0.4789505656368318, 0.9923711340681519,\n",
       "                   0.9022558787551346],\n",
       "             mask=[False, False, False],\n",
       "       fill_value=0.0)"
      ]
     },
     "execution_count": 11,
     "metadata": {},
     "output_type": "execute_result"
    }
   ],
   "source": [
    "bundle.metric_values"
   ]
  },
  {
   "cell_type": "markdown",
   "metadata": {},
   "source": [
    "In this example, the `run` method had access to the `slice_point` dictionary which included the `binLeft` field showing which bin the slice was. The metric could, therefore, have used it in its calculations. However, doing such would limit the slicers on which the metric could be run to only those slicers with a `binLeft` element in the `slice_point`."
   ]
  },
  {
   "cell_type": "markdown",
   "metadata": {},
   "source": [
    "## 5. A Workbook for developing metrics"
   ]
  },
  {
   "cell_type": "markdown",
   "metadata": {},
   "source": [
    "Development of metrics usually involves repeated execution of successive modifications of metric code. The [New Metric Workbook](../science/New%20Metric%20Workbook.ipynb) provides a template for development of metrics debugged through repeated execution within a jupyter notebook."
   ]
  },
  {
   "cell_type": "markdown",
   "metadata": {},
   "source": [
    "## 6. Applying a metric to the whole set of visits"
   ]
  },
  {
   "cell_type": "markdown",
   "metadata": {},
   "source": [
    "Even if we do not want to slice the data, but instead want our `run` method to be passed the entire set of visits, we still need to supply a slicer to satisfy the MAF machinery. The `rubin_sim.maf.slicers.UniSlicer` slicer fills this role, creating one slice with all visits."
   ]
  },
  {
   "cell_type": "code",
   "execution_count": 12,
   "metadata": {},
   "outputs": [
    {
     "name": "stdout",
     "output_type": "stream",
     "text": [
      "--- run ----\n",
      "data_slice is a <class 'numpy.ndarray'> of dtype [('fieldDec', '<f8'), ('fieldRA', '<f8'), ('observationStartLST', '<f8'), ('HA', '<f8')] with a shape of (2081749,)\n",
      "slice_point is a <class 'dict'> with value: {'sid': 0}\n"
     ]
    }
   ],
   "source": [
    "slicer = maf.UniSlicer()\n",
    "bundle = maf.MetricBundle(metric, slicer, \"\", run_name=\"unslicer_sample_run\")\n",
    "bgroup = maf.MetricBundleGroup([bundle], opsim_db_fname, out_dir=output_dir)\n",
    "bgroup.run_all()"
   ]
  },
  {
   "cell_type": "markdown",
   "metadata": {},
   "source": [
    "This time, `airmass` was not required to run the slicer, and it was not one of the fields listed in the `colNameArray` member of our metric, so it was not included in the `dataSlice` `recarray` passed to our metric."
   ]
  },
  {
   "cell_type": "markdown",
   "metadata": {},
   "source": [
    "## 7. General metrics"
   ]
  },
  {
   "cell_type": "markdown",
   "metadata": {},
   "source": [
    "Some metrics are general in their applicability. For example, `maf.MedianMetric` can be applied to any numeric column, and does not use the contents of `slicePoint`s. In this case and those like it, the \"work\" of the `metric` object can mostly be handled by methods inhereted from `rubin_sim.maf.metrics.BaseMetric`.\n",
    "\n",
    "Consider the definition of `maf.MedianMetric`:"
   ]
  },
  {
   "cell_type": "code",
   "execution_count": 13,
   "metadata": {},
   "outputs": [],
   "source": [
    "%psource maf.MedianMetric"
   ]
  },
  {
   "cell_type": "markdown",
   "metadata": {},
   "source": [
    "How MAF know what column to get the median of? How does `self.colname` get set? \n",
    "\n",
    "The `maf.BaseMetric`'s `__init__` method has a `col` argument, and if it is set to a single string rather than a list of strings, the `colname` member takes the value of the one column name. So, the `maf.MedianMetric` must be initialized with the column name, and the `__init__` method of its parent class takes care of assigning the necessary members:"
   ]
  },
  {
   "cell_type": "code",
   "execution_count": 14,
   "metadata": {},
   "outputs": [],
   "source": [
    "slicer = maf.OneDSlicer(slice_col_name=\"airmass\", bin_min=1.0, bin_max=2.5, binsize=0.5)\n",
    "metric = maf.MedianMetric(col=\"moonAlt\")\n",
    "bundle = maf.MetricBundle(metric, slicer, \"\")\n",
    "bgroup = maf.MetricBundleGroup([bundle], opsim_db_fname, out_dir=output_dir)\n",
    "bgroup.run_all()"
   ]
  },
  {
   "cell_type": "markdown",
   "metadata": {},
   "source": [
    "Now we can look at the median moon altitudes for each of our large airmass bins:"
   ]
  },
  {
   "cell_type": "code",
   "execution_count": 15,
   "metadata": {},
   "outputs": [
    {
     "data": {
      "text/plain": [
       "masked_array(data=[-2.4567327556316445, 8.903655783021529,\n",
       "                   13.225341484438875],\n",
       "             mask=[False, False, False],\n",
       "       fill_value=0.0)"
      ]
     },
     "execution_count": 15,
     "metadata": {},
     "output_type": "execute_result"
    }
   ],
   "source": [
    "bundle.metric_values"
   ]
  },
  {
   "cell_type": "markdown",
   "metadata": {},
   "source": [
    "We can also get the slice points used:"
   ]
  },
  {
   "cell_type": "code",
   "execution_count": 16,
   "metadata": {},
   "outputs": [
    {
     "data": {
      "text/plain": [
       "{'sid': array([0, 1, 2]), 'bins': array([1. , 1.5, 2. , 2.5])}"
      ]
     },
     "execution_count": 16,
     "metadata": {},
     "output_type": "execute_result"
    }
   ],
   "source": [
    "bundle.slicer.slice_points"
   ]
  },
  {
   "cell_type": "markdown",
   "metadata": {},
   "source": [
    "## 8. Metric values"
   ]
  },
  {
   "cell_type": "markdown",
   "metadata": {},
   "source": [
    "A metric's `run` method is called once on each slice generated by the slicer. Although it is usually a numeric value like an `int` or a `float`, it can potentially be any python object.\n",
    "\n",
    "For example:"
   ]
  },
  {
   "cell_type": "code",
   "execution_count": 17,
   "metadata": {},
   "outputs": [],
   "source": [
    "class MyBespokeMoon:\n",
    "    def __init__(self, alt, az):\n",
    "        self.alt = alt\n",
    "        self.az = az\n",
    "\n",
    "    def __repr__(self):\n",
    "        return f\"Moon alt: {self.alt}, az: {self.az}\"\n",
    "\n",
    "\n",
    "class MyWierdMetric(maf.BaseMetric):\n",
    "    def __init__(self):\n",
    "        super().__init__(\n",
    "            col=[\"moonAlt\", \"moonAz\"], metric_name=\"wierdness\", metric_dtype=\"object\"\n",
    "        )\n",
    "\n",
    "    def run(self, data_slice, slice_point=None):\n",
    "        if len(data_slice) is None:\n",
    "            this_slice_value = None\n",
    "        else:\n",
    "            this_slice_value = MyBespokeMoon(data_slice[0].moonAlt, data_slice[0].moonAz)\n",
    "        return this_slice_value"
   ]
  },
  {
   "cell_type": "markdown",
   "metadata": {},
   "source": [
    "When we run this metric, we will get an array of our bespoke object back:"
   ]
  },
  {
   "cell_type": "code",
   "execution_count": 18,
   "metadata": {},
   "outputs": [
    {
     "data": {
      "text/plain": [
       "masked_array(data=[Moon alt: 27.748651376649068, az: 278.08965481184003,\n",
       "                   Moon alt: -42.895141726013975, az: 250.96870326706176,\n",
       "                   Moon alt: -48.83854078199618, az: 244.99750274540682],\n",
       "             mask=[False, False, False],\n",
       "       fill_value=0,\n",
       "            dtype=object)"
      ]
     },
     "execution_count": 18,
     "metadata": {},
     "output_type": "execute_result"
    }
   ],
   "source": [
    "slicer = maf.OneDSlicer(slice_col_name=\"airmass\", bin_min=1.0, bin_max=2.5, binsize=0.5)\n",
    "metric = MyWierdMetric()\n",
    "bundle = maf.MetricBundle(metric, slicer, \"\")\n",
    "bgroup = maf.MetricBundleGroup([bundle], opsim_db_fname, out_dir=output_dir)\n",
    "bgroup.run_all()\n",
    "bundle.metric_values"
   ]
  },
  {
   "cell_type": "markdown",
   "metadata": {},
   "source": [
    "Note that the `metric_dtype` argument to the `maf.BaseMetric` initializer declared that the return type is an object."
   ]
  },
  {
   "cell_type": "markdown",
   "metadata": {},
   "source": [
    "Returning objects that are not of type `int` or `float` has a serious drawback: the visualization tools in MAF can generally only work with numbers:"
   ]
  },
  {
   "cell_type": "code",
   "execution_count": 19,
   "metadata": {},
   "outputs": [
    {
     "name": "stderr",
     "output_type": "stream",
     "text": [
      "/Users/lynnej/lsst_repos/rubin_sim/rubin_sim/maf/plots/plot_handler.py:587: UserWarning: Cannot plot object metric values with this plotter.\n",
      "  warnings.warn(\n"
     ]
    }
   ],
   "source": [
    "bgroup.plot_all(closefigs=False)"
   ]
  },
  {
   "cell_type": "markdown",
   "metadata": {},
   "source": [
    "## 9. Turning complex metrics into scalars with \"reduce\" functions"
   ]
  },
  {
   "cell_type": "markdown",
   "metadata": {},
   "source": [
    "If you have a metric which creates some arbitrary object (as `MyWierdMetric` above), but one or more interesting scalars can be derived from it, then it can be convenient to creat `reduce` functions to provide access to these scalars:"
   ]
  },
  {
   "cell_type": "code",
   "execution_count": 20,
   "metadata": {},
   "outputs": [],
   "source": [
    "class MyWierdMetric2(maf.BaseMetric):\n",
    "    def __init__(self):\n",
    "        super().__init__(\n",
    "            col=[\"moonAlt\", \"moonAz\"], metric_name=\"wierdness2\", metric_dtype=\"object\"\n",
    "        )\n",
    "\n",
    "    def run(self, data_slice, slice_point=None):\n",
    "        if len(data_slice) is None:\n",
    "            this_slice_value = None\n",
    "        else:\n",
    "            this_slice_value = MyBespokeMoon(data_slice[0].moonAlt, data_slice[0].moonAz)\n",
    "        return this_slice_value\n",
    "    \n",
    "    def reduceAlt(self, metric_value):\n",
    "        return metric_value.alt\n",
    "    \n",
    "    def reduceAz(self, metric_value):\n",
    "        return metric_value.az"
   ]
  },
  {
   "cell_type": "code",
   "execution_count": 21,
   "metadata": {},
   "outputs": [
    {
     "name": "stderr",
     "output_type": "stream",
     "text": [
      "/Users/lynnej/lsst_repos/rubin_sim/rubin_sim/maf/plots/plot_handler.py:587: UserWarning: Cannot plot object metric values with this plotter.\n",
      "  warnings.warn(\n"
     ]
    },
    {
     "data": {
      "image/png": "[encoded data removed]",
      "text/plain": [
       "<Figure size 640x480 with 1 Axes>"
      ]
     },
     "metadata": {},
     "output_type": "display_data"
    },
    {
     "data": {
      "image/png": "[encoded data removed]",
      "text/plain": [
       "<Figure size 640x480 with 1 Axes>"
      ]
     },
     "metadata": {},
     "output_type": "display_data"
    }
   ],
   "source": [
    "slicer = maf.OneDSlicer(slice_col_name=\"airmass\", bin_min=1.0, bin_max=2.5, binsize=0.1)\n",
    "metric = MyWierdMetric2()\n",
    "bundle = maf.MetricBundle(metric, slicer, \"\")\n",
    "bgroup = maf.MetricBundleGroup([bundle], opsim_db_fname, out_dir=output_dir)\n",
    "bgroup.run_all()\n",
    "bgroup.plot_all(closefigs=False)"
   ]
  },
  {
   "cell_type": "markdown",
   "metadata": {},
   "source": [
    "With the addition of reduce methods (those beginning in `reduce`) that transform our custom object into scalars, plots that use scalars now appear. \n",
    "\n",
    "Full metric bundles corresponding to these new \"reduced metrics\" are present in the metric bundle group, and this provides access values themselves."
   ]
  },
  {
   "cell_type": "code",
   "execution_count": 22,
   "metadata": {},
   "outputs": [
    {
     "data": {
      "text/plain": [
       "dict_keys(['run_name_wierdness2_ONED', 'wierdness2_Alt', 'wierdness2_Az'])"
      ]
     },
     "execution_count": 22,
     "metadata": {},
     "output_type": "execute_result"
    }
   ],
   "source": [
    "bgroup.bundle_dict.keys()"
   ]
  },
  {
   "cell_type": "code",
   "execution_count": 23,
   "metadata": {},
   "outputs": [
    {
     "ename": "KeyError",
     "evalue": "'wierdness2_reduceAlt'",
     "output_type": "error",
     "traceback": [
      "\u001b[0;31m---------------------------------------------------------------------------\u001b[0m",
      "\u001b[0;31mKeyError\u001b[0m                                  Traceback (most recent call last)",
      "Cell \u001b[0;32mIn [23], line 1\u001b[0m\n\u001b[0;32m----> 1\u001b[0m \u001b[43mbgroup\u001b[49m\u001b[38;5;241;43m.\u001b[39;49m\u001b[43mbundle_dict\u001b[49m\u001b[43m[\u001b[49m\u001b[38;5;124;43m'\u001b[39;49m\u001b[38;5;124;43mwierdness2_reduceAlt\u001b[39;49m\u001b[38;5;124;43m'\u001b[39;49m\u001b[43m]\u001b[49m\u001b[38;5;241m.\u001b[39mmetric_values\n",
      "\u001b[0;31mKeyError\u001b[0m: 'wierdness2_reduceAlt'"
     ]
    }
   ],
   "source": [
    "bgroup.bundle_dict['wierdness2_reduceAlt'].metric_values"
   ]
  },
  {
   "cell_type": "markdown",
   "metadata": {},
   "source": [
    "## 10. Metrics for use with spatial slicers"
   ]
  },
  {
   "cell_type": "markdown",
   "metadata": {},
   "source": [
    "If the metric can get all the data it needs from the columns that can be passed in as part of the `dataSlice`, nothing special is required to use them to make a map on the sky.\n",
    "\n",
    "Some metrics require data on the coordinates of the slice point, and only make sense when appied to a slicer than slices based on position in the sky.\n",
    "MAF's `rubin_sim.maf.metrics.HealpixSlicer` is an example of such a slicer.\n",
    "The `HealpixSlicer` creates `slicePoint`s with keys that provide coordinate information on the slice:\n",
    "- `sid`, the `healpix` id\n",
    "- `ra`, the RA in radians\n",
    "- `dec`, the declination in radians\n",
    "- `nside`, the nside of the healpix pixelization\n",
    "\n",
    "When combined with values that can be passed in with the `dataSlice`, these values should provide the data needed to, for example, determine which part of the focal plane falls in the slice, or the area covered by the slice."
   ]
  },
  {
   "cell_type": "markdown",
   "metadata": {},
   "source": [
    "The `maf.ExgalM5` metric is one example of a metric that requires such coordinate information for from the slicers it can be used with:"
   ]
  },
  {
   "cell_type": "code",
   "execution_count": null,
   "metadata": {},
   "outputs": [],
   "source": [
    "%psource maf.ExgalM5"
   ]
  },
  {
   "cell_type": "markdown",
   "metadata": {},
   "source": [
    "This metric demonstrates an additional feature of MAF metrics: the use of maps.\n",
    "In this case, calculation of the metric requires a dust map, and this is specified in the call to the initializer of the parent class (`super().__init__...`).\n",
    "When the metric is evaluated, the dictionary supplied in the `slicePoint` argument to `run` includes not only those generated by the slicer, but also `ebv`, the extinction from the dust map.\n",
    "\n",
    "There are other MAF `map`s available as well, each of which supplements the `slicePoint` dictionary with different values:"
   ]
  },
  {
   "cell_type": "code",
   "execution_count": null,
   "metadata": {},
   "outputs": [],
   "source": [
    "maf.BaseMap.help(doc=True)"
   ]
  },
  {
   "cell_type": "markdown",
   "metadata": {},
   "source": [
    "## 11. What columns and stackers can I use?"
   ]
  },
  {
   "cell_type": "markdown",
   "metadata": {},
   "source": [
    "You can get a list of columns available in an `opsim` output database by looking at the sqlite database output itself, or looking up the relevant documentation on the `rubin_sim` documentation pages (https://rubin-sim.lsst.io/rs_scheduler/output_schema.html)."
   ]
  },
  {
   "cell_type": "markdown",
   "metadata": {},
   "source": [
    "This code will print a list of available stackers, and what columns they supply:"
   ]
  },
  {
   "cell_type": "code",
   "execution_count": null,
   "metadata": {},
   "outputs": [],
   "source": [
    "import pprint\n",
    "\n",
    "pprint.pprint({k: v.cols_added for k, v in maf.BaseStacker.registry.items()})"
   ]
  },
  {
   "cell_type": "markdown",
   "metadata": {},
   "source": [
    "**Acknowledgements:** These tutorial notebooks have benefited from previous work in MAF tutorials, including not only the [tutorial notebooks in sims_MAF-contrib](https://github.com/LSST-nonproject/sims_maf_contrib/tree/master/tutorials) but also those by  Weixiang Yu, Gordon Richards, and Will Clarkson in their [LSST_OpSim](https://github.com/RichardsGroup/LSST_OpSim) repository, inspired the material to be included here. Stylistic elements of these notebooks were guided by the DP0.1 notebooks developed by Melissa Graham and the Rubin Observatory Community Engagement Team."
   ]
  },
  {
   "cell_type": "code",
   "execution_count": null,
   "metadata": {},
   "outputs": [],
   "source": []
  }
 ],
 "metadata": {
  "kernelspec": {
   "display_name": "Python 3 (ipykernel)",
   "language": "python",
   "name": "python3"
  },
  "language_info": {
   "codemirror_mode": {
    "name": "ipython",
    "version": 3
   },
   "file_extension": ".py",
   "mimetype": "text/x-python",
   "name": "python",
   "nbconvert_exporter": "python",
   "pygments_lexer": "ipython3",
   "version": "3.9.13"
  }
 },
 "nbformat": 4,
 "nbformat_minor": 4
}
