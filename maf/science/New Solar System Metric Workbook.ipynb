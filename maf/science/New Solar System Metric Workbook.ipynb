{
 "cells": [
  {
   "cell_type": "markdown",
   "id": "2815363e",
   "metadata": {},
   "source": [
    "## A test space for a new *solar system object* metric ##\n",
    "\n",
    "Solar system metrics are slightly different from standard metrics, in that they are intended to evaluate the observations of a given object instead of the exposures on the sky. \n",
    "\n",
    "The first step in evaluating solar system metrics is to create the expected observations of a given population; this is done using the `rubin_sim.movingObjects` module. A high-level command to do this is: \n",
    "```makeLSSTobs``` (from `rubin_sim/bin/movingObjects`)\n",
    "and its associated flags/kwargs.\n",
    "A typical invocation using the reasonable defaults would look like:\n",
    "```\n",
    "makeLSSTobs --opsimDb OPSIMDB --orbitFile ORBITFILE --outDir OUTDIR\n",
    "```\n",
    "\n",
    "With these observations in-hand, development of your metric can commence. It is reasonable to only create observations for a few orbits for preliminary testing.\n"
   ]
  },
  {
   "cell_type": "code",
   "execution_count": 1,
   "id": "9aabc3a2",
   "metadata": {},
   "outputs": [],
   "source": [
    "# Some modules you're likely to want .. add whatever is needed.\n",
    "import os\n",
    "import numpy as np\n",
    "import pandas as pd\n",
    "import matplotlib.pyplot as plt\n",
    "%matplotlib inline   \n",
    "# %matplotlib notebook"
   ]
  },
  {
   "cell_type": "code",
   "execution_count": 2,
   "id": "2e94e416",
   "metadata": {},
   "outputs": [],
   "source": [
    "# Import MAF\n",
    "import rubin_sim.maf as maf"
   ]
  },
  {
   "cell_type": "markdown",
   "id": "686c323d",
   "metadata": {},
   "source": [
    "You need to connect to the opsim output, so let's do that first. <br>\n",
    "It's easy to use the current baseline simulation included with $RUBIN_SIM_DATA_DIR, so let's start with that."
   ]
  },
  {
   "cell_type": "code",
   "execution_count": 3,
   "id": "a5560945",
   "metadata": {},
   "outputs": [
    {
     "name": "stdout",
     "output_type": "stream",
     "text": [
      "/Users/lynnej/rubin_sim_data/sim_baseline/baseline_nexp2_v1.7_10yrs.db\n",
      "baseline_nexp2_v1.7_10yrs\n"
     ]
    }
   ],
   "source": [
    "from rubin_sim.data import get_baseline\n",
    "\n",
    "opsim_fname = get_baseline()\n",
    "print(opsim_fname)\n",
    "\n",
    "runName = os.path.split(opsim_fname)[-1].replace('.db', '')\n",
    "print(runName)"
   ]
  },
  {
   "cell_type": "code",
   "execution_count": 4,
   "id": "e399aa55",
   "metadata": {},
   "outputs": [],
   "source": [
    "# Connect to the database so we can use it with MAF.\n",
    "opsim_db = maf.OpsimDatabase(opsim_fname)"
   ]
  },
  {
   "cell_type": "markdown",
   "id": "cf5d4730",
   "metadata": {},
   "source": [
    "And let's set up a slicer that will give us the observations that overlap a single point on the sky."
   ]
  },
  {
   "cell_type": "code",
   "execution_count": 5,
   "id": "3415fe97",
   "metadata": {},
   "outputs": [],
   "source": [
    "# Specify ra / dec of the point we want to work with on the sky - in degrees. \n",
    "# (these can be lists, if you want to work on multiple, limited points on the sky)\n",
    "test_ra = 0.0\n",
    "test_dec = -20.0\n",
    "test_slicer = maf.UserPointsSlicer(test_ra, test_dec)"
   ]
  },
  {
   "cell_type": "markdown",
   "id": "063ea6b8",
   "metadata": {},
   "source": [
    "Now set up to work with our Metric. Remember that the Metric will work on a single DataSlice at a time -- so \n",
    "*all* of (and *only*) the observation information it receives will be the visits relevant to this test_ra/test_dec location."
   ]
  },
  {
   "cell_type": "code",
   "execution_count": 16,
   "id": "d182c51b",
   "metadata": {},
   "outputs": [
    {
     "name": "stderr",
     "output_type": "stream",
     "text": [
      "/Users/lynnej/lsst_repos/rubin_sim/rubin_sim/maf/metrics/baseMetric.py:36: UserWarning: Redefining metric __main__.MyMetricInProgress! (there are >1 metrics with the same name)\n",
      "  warnings.warn('Redefining metric %s! (there are >1 metrics with the same name)' % (metricname))\n"
     ]
    }
   ],
   "source": [
    "class MyMetricInProgress(maf.BaseMetric):\n",
    "    \"\"\"Documentation please. Numpy style docstrings. \n",
    "    \n",
    "    This example metric just finds the time of first observation of a particular part of the sky.\n",
    "    \n",
    "    Parameters\n",
    "    ----------\n",
    "    specificColumns : `str`, opt\n",
    "        It's nice to be flexible about what the relevant columns are called, so specify them here.\n",
    "        seeingCol = FWHMeff, etc. \n",
    "    kwargs : `float`, ? \n",
    "        Probably there are other things you need to set?\n",
    "    \"\"\"\n",
    "    def __init__(self, mjdCol='observationStartMJD', **kwargs):\n",
    "        self.mjdCol = mjdCol\n",
    "        cols = [self.mjdCol, ] # Add any columns that your metric needs to run -- mjdCol is just an example\n",
    "        super().__init__(col=cols, units='#', **kwargs)\n",
    "        \n",
    "    def run(self, dataSlice, slicePoint=None):\n",
    "        # This is where you write what your metric does. \n",
    "        # dataSlice == the numpy recarray containing the pointing information, \n",
    "        # with the columns that you said you needed in 'cols'\n",
    "        # slicePoint == the information about where you're evaluating this on the sky -- ra/dec,\n",
    "        # and if you specified that you need a dustmap or stellar density map, etc., those values will also \n",
    "        # be defined here\n",
    "        \n",
    "        # here's a super simple example .. replace with your own code to calculate your metric values\n",
    "        tMin = dataSlice[self.mjdCol].min()\n",
    "        return tMin\n",
    "    \n",
    "# When you re-run this cell, you may get a warning that the metric name already exists - that's ok! "
   ]
  },
  {
   "cell_type": "markdown",
   "id": "e0e45fb8",
   "metadata": {},
   "source": [
    "The typical way to use this metric with a slicer within MAF would be as follows: "
   ]
  },
  {
   "cell_type": "code",
   "execution_count": 7,
   "id": "ae9db759",
   "metadata": {},
   "outputs": [],
   "source": [
    "# Set up the metric\n",
    "mymetric = MyMetricInProgress()"
   ]
  },
  {
   "cell_type": "code",
   "execution_count": 8,
   "id": "e062b1bd",
   "metadata": {},
   "outputs": [],
   "source": [
    "# Define a sqlconstraint, if we need to just use a (large) subset of the opsim visits\n",
    "sqlconstraint = None   # no constraint, make all visits available\n",
    "\n",
    "# Examples of other potentially useful sqlconstraints:\n",
    "# sqlconstraint = 'filter = \"r\"'  # just select the visits in a particular filter\n",
    "# sqlconstraint = 'note not like \"%DD%\"'  # don't choose any of the DD field visits\n",
    "# sqlconstraint = 'night < 365'  # only use visits in the first year of the survey"
   ]
  },
  {
   "cell_type": "code",
   "execution_count": 9,
   "id": "8ef04ac8",
   "metadata": {},
   "outputs": [],
   "source": [
    "# We already defined the slicer - combine the metric, slicer and sqlconstraint in a MetricBundle:\n",
    "bundle = maf.MetricBundle(mymetric, test_slicer, sqlconstraint, runName=runName)"
   ]
  },
  {
   "cell_type": "code",
   "execution_count": 10,
   "id": "9ab39116",
   "metadata": {},
   "outputs": [
    {
     "name": "stdout",
     "output_type": "stream",
     "text": [
      "Querying database SummaryAllProps with no constraint for columns ['rotSkyPos', 'observationStartMJD', 'fieldRA', 'fieldDec'].\n",
      "Found 2045493 visits\n",
      "Running:  ['test_metric']\n",
      "Completed metric generation.\n",
      "Running reduce methods.\n",
      "Running summary statistics.\n",
      "Completed.\n"
     ]
    }
   ],
   "source": [
    "# Pass the bundle (along with any other bundles to be run on this opsim) to a MetricBundleGroup in order to\n",
    "# calculate the metric bundle values.\n",
    "g = maf.MetricBundleGroup({'test_metric': bundle}, opsim_db, outDir='test', resultsDb=None)\n",
    "# And calculate the metric\n",
    "g.runAll()"
   ]
  },
  {
   "cell_type": "markdown",
   "id": "876045a6",
   "metadata": {},
   "source": [
    "And then you can look at the `bundle.metricValues` to see what your metric calculated and how well things worked."
   ]
  },
  {
   "cell_type": "code",
   "execution_count": 11,
   "id": "205c3016",
   "metadata": {},
   "outputs": [
    {
     "data": {
      "text/plain": [
       "masked_array(data=[59857.144187715814],\n",
       "             mask=[False],\n",
       "       fill_value=-666.0)"
      ]
     },
     "execution_count": 11,
     "metadata": {},
     "output_type": "execute_result"
    }
   ],
   "source": [
    "bundle.metricValues"
   ]
  },
  {
   "cell_type": "markdown",
   "id": "bbca557a",
   "metadata": {},
   "source": [
    "BUT, when you're testing a new metric, you might run this many times over .. and querying the database each time is not necessary, if you are re-using the same columns from the database. If you're re-using exactly the same data (same columns, same sqlconstraint), you can skip the query like this:"
   ]
  },
  {
   "cell_type": "code",
   "execution_count": 12,
   "id": "39e3dce5",
   "metadata": {},
   "outputs": [
    {
     "data": {
      "text/plain": [
       "array([(188.75064607, 59853.98564424, 298.33025759,  0.73493423),\n",
       "       (194.09142482, 59853.98609138, 295.86447427, -1.05483733)],\n",
       "      dtype=(numpy.record, [('rotSkyPos', '<f8'), ('observationStartMJD', '<f8'), ('fieldRA', '<f8'), ('fieldDec', '<f8')]))"
      ]
     },
     "execution_count": 12,
     "metadata": {},
     "output_type": "execute_result"
    }
   ],
   "source": [
    "# g.simData is the simulation visit data that the previous MetricBundleGroup queried from the database\n",
    "g.simData[0:2]"
   ]
  },
  {
   "cell_type": "code",
   "execution_count": 17,
   "id": "8c65dfc0",
   "metadata": {},
   "outputs": [],
   "source": [
    "# redefine your metric and rerun the cell where it was defined (above) - \n",
    "#  I'll swap the minimum time to the maximum, for this example, just so you can see the result changed \n",
    "# and then set up a new metric object:\n",
    "mymetric = MyMetricInProgress()  # version X\n",
    "# and set up a new MetricBundle object \n",
    "bundle = maf.MetricBundle(mymetric, test_slicer, sqlconstraint, runName=runName)\n",
    "\n",
    "# Then set up a NEW and DIFFERENTLY NAMED MetricBundleGroup\n",
    "g2 = maf.MetricBundleGroup({'test_metric': bundle}, opsim_db, outDir='test', resultsDb=None)"
   ]
  },
  {
   "cell_type": "code",
   "execution_count": 18,
   "id": "c1a1b511",
   "metadata": {},
   "outputs": [
    {
     "name": "stdout",
     "output_type": "stream",
     "text": [
      "Running:  ['test_metric']\n",
      "Completed metric generation.\n",
      "Running reduce methods.\n",
      "Running summary statistics.\n",
      "Completed.\n"
     ]
    }
   ],
   "source": [
    "# But then run it like this: \n",
    "g2.runCurrent(simData=g.simData, constraint=sqlconstraint)"
   ]
  },
  {
   "cell_type": "code",
   "execution_count": 19,
   "id": "3466afcb",
   "metadata": {},
   "outputs": [
    {
     "data": {
      "text/plain": [
       "masked_array(data=[63504.08757648483],\n",
       "             mask=[False],\n",
       "       fill_value=-666.0)"
      ]
     },
     "execution_count": 19,
     "metadata": {},
     "output_type": "execute_result"
    }
   ],
   "source": [
    "# See new bundle metric values\n",
    "bundle.metricValues"
   ]
  },
  {
   "cell_type": "code",
   "execution_count": null,
   "id": "185d6e8c",
   "metadata": {},
   "outputs": [],
   "source": []
  }
 ],
 "metadata": {
  "kernelspec": {
   "display_name": "Python 3 (ipykernel)",
   "language": "python",
   "name": "python3"
  },
  "language_info": {
   "codemirror_mode": {
    "name": "ipython",
    "version": 3
   },
   "file_extension": ".py",
   "mimetype": "text/x-python",
   "name": "python",
   "nbconvert_exporter": "python",
   "pygments_lexer": "ipython3",
   "version": "3.9.7"
  }
 },
 "nbformat": 4,
 "nbformat_minor": 5
}
