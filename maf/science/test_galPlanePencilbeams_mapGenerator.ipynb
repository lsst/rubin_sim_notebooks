{
 "cells": [
  {
   "cell_type": "code",
   "execution_count": 2,
   "id": "b9069bd4",
   "metadata": {},
   "outputs": [],
   "source": [
    "from rubin_sim.scheduler.utils import Sky_area_generator\n",
    "import healpy as hp\n",
    "import numpy as np\n",
    "from rubin_sim.data import get_data_dir\n",
    "from astropy.coordinates import SkyCoord, ICRS, Galactic\n",
    "from astropy import units as u"
   ]
  },
  {
   "cell_type": "code",
   "execution_count": 45,
   "id": "9a3d3f0d",
   "metadata": {},
   "outputs": [],
   "source": [
    "class gal_plane_pencilbeams_generator(Sky_area_generator):\n",
    "\n",
    "    def add_gal_plane_pencilbeams(self, filter_ratios, radius=6.0,\n",
    "                            label='gal_plane_pencilbeams',\n",
    "                            field_selection=1):\n",
    "\n",
    "        temp_map = np.zeros(hp.nside2npix(self.nside))\n",
    "\n",
    "        # Load list of field centers of pencilbeam fields across the Galactic Plane.\n",
    "        # Option 1 corresponds to 20 smaller fields\n",
    "        # Option 2 corresponds to 4 larger fields\n",
    "        pencilbeams_list = self.load_pencilbeam_fields(field_selection)\n",
    "\n",
    "        # Generate the map regions from the pencilbeam pointings, using\n",
    "        # the field radii given in degrees:\n",
    "        for field in pencilbeams_list:\n",
    "            pointing = SkyCoord(field['l_center'], field['b_center'], frame=Galactic, unit=(u.deg, u.deg))\n",
    "            pointing = pointing.transform_to(ICRS)\n",
    "            temp_map += self._set_circular_region(pointing.ra.deg, pointing.dec.deg, field['radius'])\n",
    "            \n",
    "        # Ensure designated pixels are not overriden:\n",
    "        indx = np.where((temp_map > 0) & (self.pix_labels == \"\"))\n",
    "        self.pix_labels[indx] = label\n",
    "        for filtername in filter_ratios.keys():\n",
    "            self.healmaps[filtername][indx] = filter_ratios[filtername]\n",
    "\n",
    "    def load_pencilbeam_fields(self,field_selection):\n",
    "        if field_selection == 1:\n",
    "            pencilbeams_list = [\n",
    "                {'name': 1, 'l_center': 280.0, 'b_center': 0.0, 'radius': 1.75},\n",
    "                {'name': 2, 'l_center': 287.280701754386, 'b_center': 0.0, 'radius': 1.75},\n",
    "                {'name': 3, 'l_center': 295.39473684210526, 'b_center':  -0.4166666666666661, 'radius': 1.75},\n",
    "                {'name': 4, 'l_center': 306.42543859649123, 'b_center':  -0.4166666666666661, 'radius': 1.75},\n",
    "                {'name': 5, 'l_center': 306.2061403508772, 'b_center':  -0.4166666666666661, 'radius': 1.75},\n",
    "                {'name': 6, 'l_center': 320.1535087719298, 'b_center':  -0.4166666666666661, 'radius': 1.75},\n",
    "                {'name': 7, 'l_center': 324.51754385964915, 'b_center':  -0.4166666666666661, 'radius': 1.75},\n",
    "                {'name': 8, 'l_center': 341.38157894736844, 'b_center':  -0.4166666666666661, 'radius': 1.75},\n",
    "                {'name': 9, 'l_center': 351.57894736842104, 'b_center':  -2.5, 'radius': 1.75},\n",
    "                {'name': 10, 'l_center': 0.10964912280701888, 'b_center':  -2.083333333333333, 'radius': 1.75},\n",
    "                {'name': 11, 'l_center': 0.3070175438596484, 'b_center':  -2.083333333333333, 'radius': 1.75},\n",
    "                {'name': 12, 'l_center': 8.421052631578945, 'b_center':  -3.333333333333333, 'radius': 1.75},\n",
    "                {'name': 13, 'l_center': 17.36842105263159, 'b_center':  -0.4166666666666661, 'radius': 1.75},\n",
    "                {'name': 14, 'l_center': 26.31578947368422, 'b_center':  -2.9166666666666665, 'radius': 1.75},\n",
    "                {'name': 15, 'l_center': 44.01315789473685, 'b_center':  -0.4166666666666661, 'radius': 1.75},\n",
    "                {'name': 16, 'l_center': 44.21052631578948, 'b_center':  -0.4166666666666661, 'radius': 1.75},\n",
    "                {'name': 17, 'l_center': 54.40789473684211, 'b_center':  0.0, 'radius': 1.75},\n",
    "                {'name': 18, 'l_center': 66.27192982456141, 'b_center':  -0.4166666666666661, 'radius': 1.75},\n",
    "                {'name': 19, 'l_center': 71.8859649122807, 'b_center':  0.0, 'radius': 1.75},\n",
    "                {'name': 20, 'l_center': 80.0, 'b_center':  -5.0, 'radius': 1.75} ]\n",
    "\n",
    "        else:\n",
    "            pencilbeams_list = [\n",
    "                {'name': 1, 'l_center': 306.56, 'b_center': -1.46, 'radius': 3.91},\n",
    "                {'name': 2, 'l_center': 331.09, 'b_center': -2.42, 'radius': 3.91},\n",
    "                {'name': 3, 'l_center': 18.51, 'b_center': -2.09, 'radius': 3.91},\n",
    "                {'name': 4, 'l_center': 26.60, 'b_center': -2.15, 'radius': 3.91} ]\n",
    "\n",
    "        return pencilbeams_list\n",
    "\n",
    "    def return_maps(\n",
    "        self,\n",
    "        magellenic_clouds_ratios={\"u\": 0.32,\"g\": 0.4,\"r\": 1.0,\"i\": 1.0,\"z\": 0.9,\"y\": 0.9,},\n",
    "        scp_ratios={\"u\": 0.1, \"g\": 0.1, \"r\": 0.1, \"i\": 0.1, \"z\": 0.1, \"y\": 0.1},\n",
    "        nes_ratios={\"g\": 0.28, \"r\": 0.4, \"i\": 0.4, \"z\": 0.28},\n",
    "        dusty_plane_ratios={\"u\": 0.1,\"g\": 0.28, \"r\": 0.28,\"i\": 0.28,\"z\": 0.28,\"y\": 0.1,},\n",
    "        low_dust_ratios={\"u\": 0.32, \"g\": 0.4, \"r\": 1.0, \"i\": 1.0, \"z\": 0.9, \"y\": 0.9},\n",
    "        bulge_ratios={\"u\": 0.18, \"g\": 1.0, \"r\": 1.05, \"i\": 1.05, \"z\": 1.0, \"y\": 0.23},\n",
    "        virgo_ratios={\"u\": 0.32, \"g\": 0.4, \"r\": 1.0, \"i\": 1.0, \"z\": 0.9, \"y\": 0.9},\n",
    "\n",
    "        pencilbeam_ratios = {\"u\": 0.18, \"g\": 1.0, \"r\": 1.05, \"i\": 1.05, \"z\": 1.0, \"y\": 0.23},\n",
    "        ):\n",
    "\n",
    "        # Array to hold the labels for each pixel\n",
    "        self.pix_labels = np.zeros(hp.nside2npix(self.nside), dtype=\"U20\")\n",
    "        self.healmaps = np.zeros(\n",
    "            hp.nside2npix(self.nside),\n",
    "            dtype=list(zip([\"u\", \"g\", \"r\", \"i\", \"z\", \"y\"], [float] * 7)),\n",
    "        )\n",
    "\n",
    "        # Note, order here matters. Once a HEALpix is set and labled, subsequent add_ methods\n",
    "        # will not override that pixel.\n",
    "        self.add_gal_plane_pencilbeams(pencilbeam_ratios)\n",
    "\n",
    "        self.add_magellanic_clouds(magellenic_clouds_ratios)\n",
    "        self.add_lowdust_wfd(low_dust_ratios)\n",
    "        self.add_virgo_cluster(virgo_ratios)\n",
    "        self.add_bulge(bulge_ratios)\n",
    "        self.add_nes(nes_ratios)\n",
    "        self.add_dusty_plane(dusty_plane_ratios)\n",
    "        self.add_scp(scp_ratios)\n",
    "\n",
    "        return self.healmaps, self.pix_labels\n"
   ]
  },
  {
   "cell_type": "code",
   "execution_count": 46,
   "id": "6cbdf646",
   "metadata": {},
   "outputs": [
    {
     "data": {
      "image/png": "[encoded data removed]",
      "text/plain": [
       "<Figure size 612x388.8 with 2 Axes>"
      ]
     },
     "metadata": {
      "needs_background": "light"
     },
     "output_type": "display_data"
    }
   ],
   "source": [
    "sag = gal_plane_pencilbeams_generator()\n",
    "sky_maps, labels = sag.return_maps()\n",
    "hp.mollview(sky_maps['r'], title='updated')"
   ]
  },
  {
   "cell_type": "code",
   "execution_count": 15,
   "id": "3acfdf30",
   "metadata": {},
   "outputs": [],
   "source": []
  },
  {
   "cell_type": "code",
   "execution_count": 26,
   "id": "a6207e12",
   "metadata": {},
   "outputs": [],
   "source": []
  },
  {
   "cell_type": "code",
   "execution_count": 30,
   "id": "df92b8e3",
   "metadata": {},
   "outputs": [
    {
     "data": {
      "text/latex": [
       "$10^\\circ00{}^\\prime00.84936891{}^{\\prime\\prime}$"
      ],
      "text/plain": [
       "<Angle 10.00023594 deg>"
      ]
     },
     "execution_count": 30,
     "metadata": {},
     "output_type": "execute_result"
    }
   ],
   "source": []
  },
  {
   "cell_type": "code",
   "execution_count": null,
   "id": "b1b00ab3",
   "metadata": {},
   "outputs": [],
   "source": []
  }
 ],
 "metadata": {
  "kernelspec": {
   "display_name": "Python 3 (ipykernel)",
   "language": "python",
   "name": "python3"
  },
  "language_info": {
   "codemirror_mode": {
    "name": "ipython",
    "version": 3
   },
   "file_extension": ".py",
   "mimetype": "text/x-python",
   "name": "python",
   "nbconvert_exporter": "python",
   "pygments_lexer": "ipython3",
   "version": "3.9.7"
  }
 },
 "nbformat": 4,
 "nbformat_minor": 5
}
