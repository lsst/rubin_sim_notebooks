{
 "cells": [
  {
   "cell_type": "markdown",
   "id": "df6e8bc5",
   "metadata": {},
   "source": [
    "# Test Code for the Overlap with the RGES Footprint"
   ]
  },
  {
   "cell_type": "markdown",
   "id": "8c27fc6e",
   "metadata": {},
   "source": [
    "Code adapted from an example by Lynne Jones"
   ]
  },
  {
   "cell_type": "code",
   "execution_count": 1,
   "id": "39c082d0",
   "metadata": {},
   "outputs": [],
   "source": [
    "import os\n",
    "import numpy as np\n",
    "import pandas as pd\n",
    "import matplotlib.pyplot as plt\n",
    "%matplotlib inline\n",
    "import rubin_sim.maf as maf"
   ]
  },
  {
   "cell_type": "markdown",
   "id": "f0cc4ce3",
   "metadata": {},
   "source": [
    "Load the baseline v2.0 as a test case OpSim:"
   ]
  },
  {
   "cell_type": "code",
   "execution_count": 2,
   "id": "b928dc29",
   "metadata": {},
   "outputs": [
    {
     "name": "stdout",
     "output_type": "stream",
     "text": [
      "/Users/rstreet1/rubin_sim_data/sim_baseline/baseline_v2.0_10yrs.db\n",
      "baseline_v2.0_10yrs\n"
     ]
    }
   ],
   "source": [
    "from rubin_sim.data import get_baseline\n",
    "\n",
    "opsim_fname = get_baseline()\n",
    "print(opsim_fname)\n",
    "\n",
    "runName = os.path.split(opsim_fname)[-1].replace('.db', '')\n",
    "print(runName)\n",
    "opsim_db = maf.OpsimDatabase(opsim_fname)"
   ]
  },
  {
   "cell_type": "markdown",
   "id": "fc4c48d5",
   "metadata": {},
   "source": [
    "Taking an example sky location within the Galactic Bulge:"
   ]
  },
  {
   "cell_type": "code",
   "execution_count": 3,
   "id": "5df2fba0",
   "metadata": {},
   "outputs": [],
   "source": [
    "test_ra = (17.0 + 57.0/60.0 + 34.0/3600.0)*15.0\n",
    "test_dec = (29.0 + 13.0/60.0 + 15.0/3600.0)*-1.0\n",
    "test_slicer = maf.UserPointsSlicer(test_ra, test_dec)"
   ]
  },
  {
   "cell_type": "code",
   "execution_count": 4,
   "id": "d6ffbd83",
   "metadata": {},
   "outputs": [],
   "source": [
    "import numpy as np\n",
    "import healpy as hp\n",
    "from astropy import units as u\n",
    "from astropy_healpix import HEALPix\n",
    "from astropy.coordinates import Galactic, TETE, SkyCoord\n",
    "\n",
    "class overlapRGESFootprintMetric(maf.BaseMetric):\n",
    "    \"\"\"Metric to evaluate the survey footprint overlap survey region for the Roman Galactic Exoplanet Survey\n",
    "\n",
    "    Derived from the SpacialOverlapMetric by Michael Lund and revised and updated by Rachel Street\n",
    "    \n",
    "    Parameters\n",
    "    ----------\n",
    "    fieldRA : float, RA in degrees of a given pointing\n",
    "    fieldDec : float, Dec in degrees of a given pointing\n",
    "    filter : str, filter bandpass used for a given observation\n",
    "    \"\"\"\n",
    "    \n",
    "    def __init__(self, cols=['fieldRA','fieldDec','filter','fiveSigmaDepth'],\n",
    "                       metricName='overlapRGESFootprintMetric',\n",
    "                       **kwargs):\n",
    "        \"\"\"Kwargs must contain:\n",
    "        filters  list Filterset over which to compute the metric\n",
    "        \"\"\"\n",
    "\n",
    "        self.ra_col = 'fieldRA'\n",
    "        self.dec_col = 'fieldDec'\n",
    "        self.filterCol = 'filter'\n",
    "        self.m5Col = 'fiveSigmaDepth'\n",
    "        self.filters = ['u','g', 'r', 'i', 'z', 'y']\n",
    "        self.magLimit = 22.0\n",
    "        cwd = os.getcwd()\n",
    "        self.create_map()\n",
    "        self.load_RGES_footprint()\n",
    "        \n",
    "        super().__init__(col=cols, metricName=metricName)\n",
    "\n",
    "    def create_map(self):\n",
    "        self.NSIDE = 64\n",
    "        self.ahp = HEALPix(nside=self.NSIDE, order='ring', frame=TETE())\n",
    "        \n",
    "    def load_RGES_footprint(self):\n",
    "        \n",
    "        # Location of the RGES survey field in Galactic Coordinates.  \n",
    "        # This is defined as a single pointing, since the survey\n",
    "        # region will be ~2sq deg and fully encompassed within a single Rubin pointing\n",
    "        l_center = 2.216\n",
    "        b_center = -3.14\n",
    "        l_width = 3.5\n",
    "        b_height = 3.5\n",
    "        n_points = 50\n",
    "                \n",
    "        # Represent coordinate pointings within this region as a meshgrid\n",
    "        halfwidth_l = l_width / 2.0\n",
    "        halfheight_b = b_height / 2.0\n",
    "\n",
    "        l_min = max( (l_center-halfwidth_l), 0 )\n",
    "        l_max = min( (l_center+halfwidth_l), 360.0 )\n",
    "        b_min = max( (b_center-halfheight_b), -90.0 )\n",
    "        b_max = min( (b_center+halfheight_b), 90.0 )\n",
    "\n",
    "        l = np.linspace(l_min, l_max, n_points) * u.deg\n",
    "        b = np.linspace(b_min, b_max, n_points) * u.deg\n",
    "\n",
    "        LL,BB = np.meshgrid(l, b)\n",
    "        \n",
    "        coords = SkyCoord(LL, BB, frame=Galactic())\n",
    "\n",
    "        # Calculate the corresponding HEALpixels\n",
    "        pixels = self.ahp.skycoord_to_healpix(coords)\n",
    "        self.RGES_pixels = np.unique(pixels.flatten())\n",
    "\n",
    "    def run(self, dataSlice, slicePoint=None):\n",
    "\n",
    "        # Only count observations with adequate S/N\n",
    "        match = np.where(dataSlice[self.m5Col] >= self.magLimit)[0]\n",
    "\n",
    "        # Extract the RA,Dec coordinates of the fields surveyed by matching observations the dataSlice\n",
    "        # and calculate which HEALpixels these correspond to\n",
    "        coords_icrs = SkyCoord(dataSlice[self.ra_col][match], dataSlice[self.dec_col][match], frame='icrs', unit=(u.deg, u.deg))\n",
    "        coords_gal = coords_icrs.transform_to(Galactic()) \n",
    "\n",
    "        surveyed_pixels = self.ahp.skycoord_to_healpix(coords_gal)\n",
    "        surveyed_pixels = np.unique(surveyed_pixels.flatten())\n",
    "        \n",
    "        # Calculate the fraction of the RGES survey pixels included in the surveyed pixels\n",
    "        overlapping_pixels = set(self.RGES_pixels).intersection(set(surveyed_pixels))\n",
    "        \n",
    "        metric_value = float(len(overlapping_pixels)) / float(len(self.RGES_pixels))\n",
    "        \n",
    "        return metric_value"
   ]
  },
  {
   "cell_type": "code",
   "execution_count": 5,
   "id": "bde11d39",
   "metadata": {},
   "outputs": [
    {
     "name": "stdout",
     "output_type": "stream",
     "text": [
      "Querying database None with no constraint for columns ['rotSkyPos', 'fieldDec', 'fieldRA', 'fiveSigmaDepth', 'filter'].\n",
      "Found 2086980 visits\n",
      "Running:  ['test_metric']\n",
      "Completed metric generation.\n",
      "Running reduce methods.\n",
      "Running summary statistics.\n",
      "Completed.\n"
     ]
    }
   ],
   "source": [
    "mymetric = overlapRGESFootprintMetric()\n",
    "sqlconstraint = None\n",
    "bundle = maf.MetricBundle(mymetric, test_slicer, sqlconstraint, runName=runName)\n",
    "g = maf.MetricBundleGroup({'test_metric': bundle}, opsim_db, outDir='test', resultsDb=None)\n",
    "g.runAll()"
   ]
  },
  {
   "cell_type": "code",
   "execution_count": 6,
   "id": "f7c73e90",
   "metadata": {},
   "outputs": [
    {
     "data": {
      "text/plain": [
       "masked_array(data=[0.625],\n",
       "             mask=[False],\n",
       "       fill_value=-666.0)"
      ]
     },
     "execution_count": 6,
     "metadata": {},
     "output_type": "execute_result"
    }
   ],
   "source": [
    "bundle.metricValues"
   ]
  },
  {
   "cell_type": "code",
   "execution_count": null,
   "id": "25c2071c",
   "metadata": {},
   "outputs": [],
   "source": []
  }
 ],
 "metadata": {
  "kernelspec": {
   "display_name": "Python 3 (ipykernel)",
   "language": "python",
   "name": "python3"
  },
  "language_info": {
   "codemirror_mode": {
    "name": "ipython",
    "version": 3
   },
   "file_extension": ".py",
   "mimetype": "text/x-python",
   "name": "python",
   "nbconvert_exporter": "python",
   "pygments_lexer": "ipython3",
   "version": "3.9.7"
  }
 },
 "nbformat": 4,
 "nbformat_minor": 5
}
