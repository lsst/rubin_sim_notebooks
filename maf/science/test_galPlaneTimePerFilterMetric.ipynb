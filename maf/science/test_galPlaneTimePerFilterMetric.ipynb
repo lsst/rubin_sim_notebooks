{
 "cells": [
  {
   "cell_type": "markdown",
   "id": "c5bf767b",
   "metadata": {},
   "source": [
    "# Test Code for the Galactic Plane Filter Metric"
   ]
  },
  {
   "cell_type": "markdown",
   "id": "4b40e411",
   "metadata": {},
   "source": [
    "Code adapted from an example by Lynne Jones"
   ]
  },
  {
   "cell_type": "code",
   "execution_count": 1,
   "id": "c3edb260",
   "metadata": {},
   "outputs": [],
   "source": [
    "import os\n",
    "import numpy as np\n",
    "import pandas as pd\n",
    "import matplotlib.pyplot as plt\n",
    "%matplotlib inline\n",
    "import rubin_sim.maf as maf\n",
    "from rubin_sim.data import get_data_dir\n",
    "from datetime import datetime\n",
    "import healpy as hp\n",
    "from astropy.io import fits"
   ]
  },
  {
   "cell_type": "markdown",
   "id": "f12d65d9",
   "metadata": {},
   "source": [
    "Load the baseline v2.0 as a test case OpSim:"
   ]
  },
  {
   "cell_type": "code",
   "execution_count": 2,
   "id": "6b83ef7d",
   "metadata": {},
   "outputs": [
    {
     "name": "stdout",
     "output_type": "stream",
     "text": [
      "/Users/rstreet1/rubin_sim_data/sim_baseline/baseline_v2.0_10yrs.db\n",
      "baseline_v2.0_10yrs\n"
     ]
    }
   ],
   "source": [
    "from rubin_sim.data import get_baseline\n",
    "\n",
    "opsim_fname = get_baseline()\n",
    "print(opsim_fname)\n",
    "\n",
    "runName = os.path.split(opsim_fname)[-1].replace('.db', '')\n",
    "print(runName)\n",
    "opsim_db = maf.OpsimDatabase(opsim_fname)"
   ]
  },
  {
   "cell_type": "markdown",
   "id": "1e5976e0",
   "metadata": {},
   "source": [
    "Taking an example sky location within the Galactic Bulge:"
   ]
  },
  {
   "cell_type": "code",
   "execution_count": 3,
   "id": "40043a62",
   "metadata": {},
   "outputs": [],
   "source": [
    "test_ra = (17.0 + 57.0/60.0 + 34.0/3600.0)*15.0\n",
    "test_dec = (29.0 + 13.0/60.0 + 15.0/3600.0)*-1.0\n",
    "test_slicer = maf.UserPointsSlicer(test_ra, test_dec)"
   ]
  },
  {
   "cell_type": "code",
   "execution_count": 4,
   "id": "bfea33b9",
   "metadata": {},
   "outputs": [],
   "source": [
    "class galPlaneTimePerFilter(maf.BaseMetric):\n",
    "    \"\"\"Metric to evaluate for each HEALpix, the fraction of exposure time spent in each filter as\n",
    "     a fraction of the total exposure time dedicated to that HEALpix (fExpT).  The metric sums this over\n",
    "     all HEALpix in the Galactic Plane/Magellanic Clouds region of interest and all filters and\n",
    "     presents the result as a fraction of the value expected from the optimal survey strategy.\n",
    "\n",
    "    Parameters\n",
    "    ----------\n",
    "    fieldRA : float, RA in degrees of a given pointing\n",
    "    fieldDec : float, Dec in degrees of a given pointing\n",
    "    filter : str, filter bandpass used for a given observation\n",
    "    observationStartMJD : float, MJD timestamp of the start of a given observation\n",
    "    visitExposureTime : float, exposure time in seconds\n",
    "    \"\"\"\n",
    "\n",
    "    def __init__(\n",
    "        self,\n",
    "        cols=[\n",
    "            \"fieldRA\",\n",
    "            \"fieldDec\",\n",
    "            \"filter\",\n",
    "            \"observationStartMJD\",\n",
    "            \"visitExposureTime\",\n",
    "            \"fiveSigmaDepth\",\n",
    "        ],\n",
    "        metricName=\"galPlaneTimePerFilter\",\n",
    "        **kwargs\n",
    "    ):\n",
    "        \"\"\"Kwargs must contain:\n",
    "        science_map   string  Name of the priority footprint map to use from\n",
    "                                the column headers contained in the\n",
    "                                priority_GalPlane_footprint_map_data tables\n",
    "        \"\"\"\n",
    "\n",
    "        self.ra_col = \"fieldRA\"\n",
    "        self.dec_col = \"fieldDec\"\n",
    "        self.filterCol = \"filter\"\n",
    "        self.m5Col = \"fiveSigmaDepth\"\n",
    "        self.mjdCol = \"observationStartMJD\"\n",
    "        self.exptCol = \"visitExposureTime\"\n",
    "        self.filters = [\"u\", \"g\", \"r\", \"i\", \"z\", \"y\"]\n",
    "        self.science_map = kwargs['science_map']\n",
    "        self.magCuts = {\n",
    "            \"u\": 22.7,\n",
    "            \"g\": 24.1,\n",
    "            \"r\": 23.7,\n",
    "            \"i\": 23.1,\n",
    "            \"z\": 22.2,\n",
    "            \"y\": 21.4,\n",
    "        }\n",
    "        cwd = os.getcwd()\n",
    "        self.MAP_DIR = get_data_dir()\n",
    "        self.MAP_FILE_ROOT_NAME = \"priority_GalPlane_footprint_map_data\"\n",
    "        self.load_maps()\n",
    "        self.calc_idealfExpT()\n",
    "\n",
    "        super().__init__(col=cols, metricName=metricName, metricDtype=\"object\")\n",
    "\n",
    "    def load_maps(self):\n",
    "        self.NSIDE = 64\n",
    "        self.NPIX = hp.nside2npix(self.NSIDE)\n",
    "        self.map_data = {}\n",
    "        for f in self.filters:\n",
    "            file_path = os.path.join(\n",
    "                self.MAP_DIR,\n",
    "                \"maf\",\n",
    "                self.MAP_FILE_ROOT_NAME + \"_\" + str(f) + \".fits\",\n",
    "                )\n",
    "            with fits.open(file_path) as hdul:\n",
    "                self.map_data[f] = hdul[1].data\n",
    "\n",
    "        file_path = os.path.join(\n",
    "            self.MAP_DIR,\n",
    "            \"maf\",\n",
    "            self.MAP_FILE_ROOT_NAME + \"_sum.fits\",\n",
    "            )\n",
    "        with fits.open(file_path) as hdul:\n",
    "            self.map_data['sum'] = hdul[1].data\n",
    "\n",
    "    def calc_idealfExpT(self):\n",
    "        \"\"\"Method to calculate the optimal value of the fExpT metric for each\n",
    "        HEALpixel in the sky.  This calculation is made for each filter\n",
    "        and for the selected science map.\"\"\"\n",
    "\n",
    "        self.ideal_fExpT = {}\n",
    "\n",
    "        for f in self.filters:\n",
    "            self.ideal_fExpT[f] = self.map_data[f][self.science_map]/self.map_data['sum'][self.science_map]\n",
    "\n",
    "    def run(self, dataSlice, slicePoint):\n",
    "\n",
    "        # Pre-calculating data that will be used later\n",
    "        total_expt = dataSlice[self.exptCol].sum()\n",
    "\n",
    "        metric_data = {}\n",
    "        for f in self.filters:\n",
    "            metric_data[f] = {}\n",
    "\n",
    "        for i, f in enumerate(self.filters):\n",
    "            # Select observations within the OpSim for the current filter\n",
    "            # which match the S/N requirement, and extract the exposure times\n",
    "            # for those observations\n",
    "            idx1 = np.where(dataSlice[self.filterCol] == f)[0]\n",
    "            idx2 = np.where(dataSlice[self.m5Col] >= self.magCuts[f])[0]\n",
    "            match = list(set(idx1).intersection(set(idx2)))\n",
    "\n",
    "            # Now calculate the actual fraction of exposure time spent\n",
    "            # in this filter for the current slicePoint, relative to the total\n",
    "            # exposure time spent on this slicePoint.\n",
    "            # Note that this includes dithered observations.\n",
    "            # If no exposures are expected in this filter, this returns 1\n",
    "            # on the principle that 100% of the expected observations are\n",
    "            # provided, and additional data in other filters is usually welcome\n",
    "            fexpt = dataSlice[self.exptCol][match].sum() / total_expt\n",
    "\n",
    "            # This value is normalized against the ideal fExpT predicted for this\n",
    "            # slicePoint based on the priority map data.\n",
    "            # If no exposures are expected in this filter for this location,\n",
    "            # this metric returns zero.\n",
    "            if self.ideal_fExpT[f][slicePoint['sid']] > 0:\n",
    "                metric_data[f] = fexpt / self.ideal_fExpT[f][slicePoint['sid']]\n",
    "            else:\n",
    "                metric_data[f] = 0.0\n",
    "\n",
    "        return metric_data\n"
   ]
  },
  {
   "cell_type": "code",
   "execution_count": 5,
   "id": "fcc0c03d",
   "metadata": {},
   "outputs": [],
   "source": [
    "mymetric = galPlaneTimePerFilter(science_map='combined_map')\n",
    "sqlconstraint = None\n",
    "bundle = maf.MetricBundle(mymetric, test_slicer, sqlconstraint, runName=runName)\n",
    "g = maf.MetricBundleGroup({'test_metric': bundle}, opsim_db, outDir='test', resultsDb=None)"
   ]
  },
  {
   "cell_type": "markdown",
   "id": "0505c909",
   "metadata": {},
   "source": [
    "Calculate the metric:"
   ]
  },
  {
   "cell_type": "code",
   "execution_count": 6,
   "id": "a4f60ab8",
   "metadata": {},
   "outputs": [
    {
     "name": "stdout",
     "output_type": "stream",
     "text": [
      "Querying table None with no constraint for columns ['fieldRA', 'rotSkyPos', 'fieldDec', 'visitExposureTime', 'fiveSigmaDepth', 'observationStartMJD', 'filter'].\n",
      "Found 2086980 visits\n",
      "Running:  ['test_metric']\n",
      "Completed metric generation.\n",
      "Running reduce methods.\n",
      "Running summary statistics.\n",
      "Completed.\n"
     ]
    }
   ],
   "source": [
    "g.runAll()"
   ]
  },
  {
   "cell_type": "code",
   "execution_count": 7,
   "id": "6988e2a1",
   "metadata": {},
   "outputs": [
    {
     "data": {
      "text/plain": [
       "masked_array(data=[{'u': 0.34687610841061245, 'g': 0.7903243587615514, 'r': 0.8849285350420973, 'i': 0.6604901384734495, 'z': 1.0131790473670388, 'y': 0.37742170836998656}],\n",
       "             mask=[False],\n",
       "       fill_value=-666,\n",
       "            dtype=object)"
      ]
     },
     "execution_count": 7,
     "metadata": {},
     "output_type": "execute_result"
    }
   ],
   "source": [
    "bundle.metricValues"
   ]
  },
  {
   "cell_type": "code",
   "execution_count": null,
   "id": "f7f267b6",
   "metadata": {},
   "outputs": [],
   "source": []
  }
 ],
 "metadata": {
  "kernelspec": {
   "display_name": "Python 3 (ipykernel)",
   "language": "python",
   "name": "python3"
  },
  "language_info": {
   "codemirror_mode": {
    "name": "ipython",
    "version": 3
   },
   "file_extension": ".py",
   "mimetype": "text/x-python",
   "name": "python",
   "nbconvert_exporter": "python",
   "pygments_lexer": "ipython3",
   "version": "3.9.7"
  }
 },
 "nbformat": 4,
 "nbformat_minor": 5
}
