{
 "cells": [
  {
   "cell_type": "markdown",
   "id": "c5bf767b",
   "metadata": {},
   "source": [
    "# Test Code for the Galactic Plane Filter Metric"
   ]
  },
  {
   "cell_type": "markdown",
   "id": "4b40e411",
   "metadata": {},
   "source": [
    "Code adapted from an example by Lynne Jones"
   ]
  },
  {
   "cell_type": "code",
   "execution_count": 1,
   "id": "c3edb260",
   "metadata": {},
   "outputs": [],
   "source": [
    "import os\n",
    "import numpy as np\n",
    "import pandas as pd\n",
    "import matplotlib.pyplot as plt\n",
    "%matplotlib inline\n",
    "import rubin_sim.maf as maf"
   ]
  },
  {
   "cell_type": "markdown",
   "id": "f12d65d9",
   "metadata": {},
   "source": [
    "Load the baseline v2.0 as a test case OpSim:"
   ]
  },
  {
   "cell_type": "code",
   "execution_count": 2,
   "id": "6b83ef7d",
   "metadata": {},
   "outputs": [
    {
     "name": "stdout",
     "output_type": "stream",
     "text": [
      "/Users/rstreet1/rubin_sim_data/sim_baseline/baseline_v2.0_10yrs.db\n",
      "baseline_v2.0_10yrs\n"
     ]
    }
   ],
   "source": [
    "from rubin_sim.data import get_baseline\n",
    "\n",
    "opsim_fname = get_baseline()\n",
    "print(opsim_fname)\n",
    "\n",
    "runName = os.path.split(opsim_fname)[-1].replace('.db', '')\n",
    "print(runName)\n",
    "opsim_db = maf.OpsimDatabase(opsim_fname)"
   ]
  },
  {
   "cell_type": "markdown",
   "id": "1e5976e0",
   "metadata": {},
   "source": [
    "Taking an example sky location within the Galactic Bulge:"
   ]
  },
  {
   "cell_type": "code",
   "execution_count": 3,
   "id": "40043a62",
   "metadata": {},
   "outputs": [],
   "source": [
    "test_ra = (17.0 + 57.0/60.0 + 34.0/3600.0)*15.0\n",
    "test_dec = (29.0 + 13.0/60.0 + 15.0/3600.0)*-1.0\n",
    "test_slicer = maf.UserPointsSlicer(test_ra, test_dec)"
   ]
  },
  {
   "cell_type": "code",
   "execution_count": 73,
   "id": "85cd6bfd",
   "metadata": {},
   "outputs": [],
   "source": [
    "import numpy as np\n",
    "import healpy as hp\n",
    "import rubin_sim.maf as maf\n",
    "from astropy import units as u\n",
    "from astropy_healpix import HEALPix\n",
    "from astropy.coordinates import Galactic, TETE, SkyCoord\n",
    "\n",
    "class galPlaneTimePerFilter(maf.BaseMetric):\n",
    "    \"\"\"Metric to evaluate for each HEALpix, the fraction of exposure time spent in each filter as\n",
    "     a fraction of the total exposure time dedicated to that HEALpix.  The metric sums this over\n",
    "     all HEALpix in the Galactic Plane/Magellanic Clouds region of interest and all filters and\n",
    "     presents the result as a fraction of the value expected from the optimal survey strategy.\n",
    "\n",
    "    Parameters\n",
    "    ----------\n",
    "    fieldRA : float, RA in degrees of a given pointing\n",
    "    fieldDec : float, Dec in degrees of a given pointing\n",
    "    filter : str, filter bandpass used for a given observation\n",
    "    observationStartMJD : float, MJD timestamp of the start of a given observation\n",
    "    visitExposureTime : float, exposure time in seconds\n",
    "    \"\"\"\n",
    "    def __init__(self, cols=['fieldRA','fieldDec','filter',\n",
    "                             'observationStartMJD','visitExposureTime','fiveSigmaDepth'],\n",
    "                       metricName='galPlaneTimePerFilter',\n",
    "                       **kwargs):\n",
    "        \"\"\"Kwargs must contain:\n",
    "        filters  list Filterset over which to compute the metric\n",
    "        \"\"\"\n",
    "\n",
    "        self.ra_col = 'fieldRA'\n",
    "        self.dec_col = 'fieldDec'\n",
    "        self.filterCol = 'filter'\n",
    "        self.m5Col = 'fiveSigmaDepth'\n",
    "        self.mjdCol = 'observationStartMJD'\n",
    "        self.exptCol = 'visitExposureTime'\n",
    "        self.filters = ['u','g', 'r', 'i', 'z', 'y']\n",
    "        self.magCuts = {'u': 22.7, 'g': 24.1, 'r': 23.7, 'i': 23.1, 'z': 22.2, 'y': 21.4}\n",
    "        cwd = os.getcwd()\n",
    "        self.MAP_DIR = os.path.join(cwd,'../../data/galPlane_priority_maps')\n",
    "        self.MAP_FILE_ROOT_NAME = 'GalPlane_priority_map'\n",
    "        self.load_maps()\n",
    "        self.calc_coaddmap()\n",
    "\n",
    "        super().__init__(col=cols, metricName=metricName)\n",
    "\n",
    "    def load_maps(self):\n",
    "        self.NSIDE = 64\n",
    "        self.NPIX = hp.nside2npix(self.NSIDE)\n",
    "        for f in self.filters:\n",
    "            setattr(self, 'map_'+str(f), hp.read_map(os.path.join(self.MAP_DIR,self.MAP_FILE_ROOT_NAME+'_'+str(f)+'.fits')))\n",
    "\n",
    "    def calc_coaddmap(self):\n",
    "        \"\"\"For each HEALpix in the sky, sum the value of the priority weighting\n",
    "        per filter.  This gives us the normalization factor to calculate the\n",
    "        fractional proportional of exposure time\"\"\"\n",
    "        \n",
    "        coadded_map = np.zeros(self.map_i.shape)\n",
    "        for i,f in enumerate(self.filters):\n",
    "            coadded_map += getattr(self, 'map_'+f)\n",
    "        \n",
    "        self.coadded_map = coadded_map\n",
    "        \n",
    "    def calc_idealfExpT(self, filter_name, pixels):\n",
    "        \"\"\"Method to calculate the optimal value of the fExpT metric, in the event\n",
    "        that a survey strategy perfectly overlaps the desired Galactic Plane footprint\n",
    "        and the exposure time spent in the different filters at the desired relative\n",
    "        proportions.  Calculation is made over all the pixels in a given dataSlice, \n",
    "        so that the metric can be accurately normalized later.\"\"\"\n",
    "        \n",
    "        fexpt_per_pixel = np.zeros(len(pixels))\n",
    "        fmap = getattr(self, 'map_'+filter_name)\n",
    "        fexpt_per_pixel = fmap[pixels] / self.coadded_map[pixels]\n",
    "\n",
    "        invalid = np.isnan(fexpt_per_pixel)\n",
    "        fexpt_per_pixel[invalid] = 0.0\n",
    "\n",
    "        # The value of the fExpT metric in ideal circumstance is the sum of all values:\n",
    "        idealfExpT = fexpt_per_pixel.sum()\n",
    "        \n",
    "        return idealfExpT\n",
    "\n",
    "    def run(self, dataSlice, slicePoint=None):\n",
    "\n",
    "        # Identify those pixels that overlap the desired Galactic Plane survey region:\n",
    "        # Returns list of pixel indices?\n",
    "        #GP_overlap_pixels = np.where(self.map_i[pixels] > 0, 1, 0)\n",
    "    \n",
    "        # DOES A DATASLICE CONTAIN JUST A SUBSET OF PIXELS?\n",
    "        total_expt_per_pixel = dataSlice[self.exptCol].sum()\n",
    "\n",
    "        # Calculate the exposure time per filter per pixel as the fraction of the total\n",
    "        # exposure time per pixel\n",
    "        fexpt_per_filter = np.zeros(len(self.filters))\n",
    "        for i,f in enumerate(self.filters):\n",
    "            idx1 = np.where(dataSlice[self.filterCol] == f)[0]\n",
    "            idx2 = np.where(dataSlice[self.m5Col] >= self.magCuts[f])[0]\n",
    "            match = list(set(idx1).intersection(set(idx2)))\n",
    "\n",
    "            coords_icrs = SkyCoord(dataSlice[self.ra_col][match], dataSlice[self.dec_col][match], frame='icrs', unit=(u.deg, u.deg))\n",
    "            coords_gal = coords_icrs.transform_to(Galactic()) \n",
    "            ahp = HEALPix(nside=self.NSIDE, order='ring', frame=TETE())\n",
    "            pixels = ahp.skycoord_to_healpix(coords_gal)\n",
    "            \n",
    "            idealfExpT = self.calc_idealfExpT(f,pixels)\n",
    "            \n",
    "            fexpt = dataSlice[self.exptCol][match].sum()/total_expt_per_pixel\n",
    "            fexpt_per_filter[i] = fexpt / idealfExpT\n",
    "        \n",
    "        # Sum the fraction of exposure time over all pixels within the desired\n",
    "        # survey region and filters:\n",
    "        metric_value = fexpt_per_filter.sum()\n",
    "\n",
    "        return metric_value\n"
   ]
  },
  {
   "cell_type": "code",
   "execution_count": 74,
   "id": "fcc0c03d",
   "metadata": {},
   "outputs": [],
   "source": [
    "mymetric = galPlaneTimePerFilter()"
   ]
  },
  {
   "cell_type": "markdown",
   "id": "639bf798",
   "metadata": {},
   "source": [
    "Constraints, if any:"
   ]
  },
  {
   "cell_type": "code",
   "execution_count": 75,
   "id": "81262905",
   "metadata": {},
   "outputs": [],
   "source": [
    "sqlconstraint = None"
   ]
  },
  {
   "cell_type": "markdown",
   "id": "feeb6bd6",
   "metadata": {},
   "source": [
    "Construct the metric bundle from the metric, the slicer and the constraints, and add it to a bundle group:"
   ]
  },
  {
   "cell_type": "code",
   "execution_count": 76,
   "id": "fac53b8e",
   "metadata": {},
   "outputs": [],
   "source": [
    "bundle = maf.MetricBundle(mymetric, test_slicer, sqlconstraint, runName=runName)\n",
    "g = maf.MetricBundleGroup({'test_metric': bundle}, opsim_db, outDir='test', resultsDb=None)"
   ]
  },
  {
   "cell_type": "markdown",
   "id": "0505c909",
   "metadata": {},
   "source": [
    "Calculate the metric:"
   ]
  },
  {
   "cell_type": "code",
   "execution_count": 77,
   "id": "a4f60ab8",
   "metadata": {},
   "outputs": [
    {
     "name": "stdout",
     "output_type": "stream",
     "text": [
      "Querying database observations with no constraint for columns ['observationStartMJD', 'fiveSigmaDepth', 'fieldDec', 'filter', 'rotSkyPos', 'fieldRA', 'visitExposureTime'].\n",
      "Found 2086980 visits\n",
      "Running:  ['test_metric']\n",
      "IDEAL exposure ratio per pixel, filter u :  [0.08284672 0.08284672 0.08284672 0.08284672 0.08284672 0.08284672\n",
      " 0.08284672 0.08284672 0.03648649 0.08284672 0.08284672 0.08284672\n",
      " 0.08284672 0.08284672 0.08284672 0.08284672 0.08284672 0.08284672\n",
      " 0.08284672 0.08284672 0.08284672 0.08284672 0.08284672 0.08284672\n",
      " 0.08284672 0.08284672 0.08284672 0.08284672 0.08284672 0.08284672\n",
      " 0.08284672 0.08284672]\n",
      "IDEAL exposure ratio sum, filter u :  2.604734661668968\n",
      "IDEAL exposure ratio per pixel, filter g :  [0.20492701 0.20492701 0.20492701 0.20492701 0.20492701 0.20492701\n",
      " 0.20492701 0.20492701 0.20492701 0.20492701 0.20492701 0.20492701\n",
      " 0.20492701 0.20492701 0.20492701 0.20492701 0.20492701 0.20492701\n",
      " 0.20492701 0.20492701 0.20492701 0.20492701 0.21824324 0.20492701\n",
      " 0.20492701 0.20492701 0.20492701 0.20492701 0.20492701 0.20492701\n",
      " 0.20492701 0.20492701 0.20492701 0.20492701 0.20492701 0.20492701\n",
      " 0.20492701 0.20492701 0.20492701 0.20492701 0.20492701 0.20492701\n",
      " 0.20492701 0.20492701 0.20492701 0.20492701 0.20492701 0.20492701\n",
      " 0.20492701 0.20492701 0.20492701 0.20492701 0.20492701 0.21824324\n",
      " 0.20492701 0.20492701 0.20492701 0.20492701 0.20492701 0.20492701\n",
      " 0.20492701 0.20492701 0.20492701 0.20492701 0.20492701 0.20492701\n",
      " 0.20492701 0.20492701 0.20492701 0.20492701 0.20492701 0.20492701\n",
      " 0.20492701 0.20492701 0.20492701 0.20492701 0.20492701 0.20492701\n",
      " 0.20492701 0.20492701 0.20492701 0.20492701 0.20492701 0.20492701\n",
      " 0.20492701 0.20492701 0.20492701 0.20492701 0.20492701 0.20492701\n",
      " 0.20492701 0.20492701 0.20492701 0.20492701 0.20492701 0.20492701\n",
      " 0.20492701 0.20492701 0.20492701 0.20492701 0.20492701 0.20492701\n",
      " 0.20492701 0.20492701 0.20492701 0.20492701 0.20492701 0.20492701\n",
      " 0.20492701 0.20492701 0.20492701 0.20492701 0.20492701 0.20492701\n",
      " 0.20492701 0.20492701 0.20492701 0.20492701 0.20492701 0.20492701\n",
      " 0.20492701 0.20492701 0.20492701]\n",
      "IDEAL exposure ratio sum, filter g :  25.232654369698167\n",
      "IDEAL exposure ratio per pixel, filter r :  [0.21222628 0.21222628 0.21222628 0.21222628 0.21222628 0.21222628\n",
      " 0.21222628 0.24527027 0.21222628 0.21222628 0.21222628 0.21222628\n",
      " 0.21222628 0.21222628 0.21222628 0.21222628 0.21222628 0.21222628\n",
      " 0.21222628 0.21222628 0.21222628 0.21222628 0.21222628 0.21222628\n",
      " 0.21222628 0.21222628 0.24527027 0.21222628 0.21222628 0.21222628\n",
      " 0.21222628 0.21222628 0.21222628 0.21222628 0.21222628 0.21222628\n",
      " 0.21222628 0.21222628 0.21222628 0.21222628 0.24527027 0.21222628\n",
      " 0.21222628 0.21222628 0.21222628 0.21222628 0.21222628 0.21222628\n",
      " 0.21222628 0.21222628 0.21222628 0.21222628 0.21222628 0.21222628\n",
      " 0.21222628 0.21222628 0.21222628 0.21222628 0.21222628 0.21222628\n",
      " 0.21222628 0.21222628 0.21222628 0.21222628 0.21222628 0.21222628\n",
      " 0.21222628 0.21222628 0.24527027 0.21222628 0.21222628 0.21222628\n",
      " 0.21222628 0.21222628 0.21222628 0.21222628 0.21222628 0.21222628\n",
      " 0.21222628 0.21222628 0.21222628 0.21222628 0.21222628 0.21222628\n",
      " 0.21222628 0.21222628 0.21222628 0.21222628 0.21222628 0.21222628\n",
      " 0.21222628 0.21222628 0.21222628 0.21222628 0.21222628 0.21222628\n",
      " 0.21222628 0.21222628 0.21222628 0.21222628 0.21222628 0.21222628\n",
      " 0.21222628 0.21222628 0.21222628 0.21222628 0.21222628 0.21222628\n",
      " 0.21222628 0.21222628 0.21222628 0.21222628 0.21222628 0.21222628\n",
      " 0.21222628 0.21222628 0.21222628 0.21222628 0.21222628 0.21222628\n",
      " 0.21222628 0.21222628 0.21222628 0.21222628 0.21222628 0.21222628\n",
      " 0.21222628 0.21222628 0.21222628 0.21222628 0.21222628 0.21222628\n",
      " 0.21222628 0.21222628 0.21222628 0.21222628 0.21222628 0.21222628]\n",
      "IDEAL exposure ratio sum, filter r :  29.41940224896429\n",
      "IDEAL exposure ratio per pixel, filter i :  [0.21222628 0.21222628 0.21222628 0.21222628 0.21222628 0.21222628\n",
      " 0.21222628 0.21222628 0.21222628 0.21222628 0.21222628 0.21222628\n",
      " 0.21222628 0.21222628 0.21222628 0.24527027 0.21222628 0.21222628\n",
      " 0.21222628 0.21222628 0.21222628 0.21222628 0.21222628 0.21222628\n",
      " 0.21222628 0.21222628 0.21222628 0.21222628 0.21222628 0.21222628\n",
      " 0.24527027 0.21222628 0.24527027 0.21222628 0.21222628 0.24527027\n",
      " 0.21222628 0.24527027 0.21222628 0.21222628 0.21222628 0.21222628\n",
      " 0.21222628 0.21222628 0.24527027 0.21222628 0.21222628 0.21222628\n",
      " 0.21222628 0.21222628 0.21222628 0.21222628 0.21222628 0.21222628\n",
      " 0.21222628 0.21222628 0.21222628 0.21222628 0.21222628 0.21222628\n",
      " 0.21222628 0.21222628 0.21222628 0.21222628 0.21222628 0.21222628\n",
      " 0.21222628 0.21222628 0.21222628 0.21222628 0.21222628 0.21222628\n",
      " 0.21222628 0.21222628 0.21222628 0.21222628 0.21222628 0.21222628\n",
      " 0.21222628 0.21222628 0.21222628 0.21222628 0.21222628 0.21222628\n",
      " 0.21222628 0.21222628 0.21222628 0.21222628 0.21222628 0.21222628\n",
      " 0.21222628 0.21222628 0.21222628 0.21222628 0.21222628 0.21222628\n",
      " 0.21222628 0.21222628 0.21222628 0.21222628 0.21222628 0.21222628\n",
      " 0.21222628]\n",
      "IDEAL exposure ratio sum, filter i :  22.05757052673111\n",
      "IDEAL exposure ratio per pixel, filter z :  [0.20492701 0.20492701 0.20492701 0.20492701 0.20492701 0.20492701\n",
      " 0.20492701 0.20492701 0.20492701 0.20492701 0.20492701 0.20492701\n",
      " 0.20492701 0.21824324 0.20492701 0.20492701 0.20492701 0.20492701\n",
      " 0.20492701 0.20492701 0.20492701 0.20492701 0.20492701 0.20492701\n",
      " 0.20492701 0.20492701 0.20492701 0.20492701 0.20492701 0.20492701\n",
      " 0.20492701 0.20492701 0.20492701 0.20492701 0.20492701 0.20492701\n",
      " 0.20492701 0.20492701 0.20492701 0.20492701 0.20492701 0.20492701\n",
      " 0.20492701 0.21824324 0.21824324 0.20492701 0.20492701 0.20492701\n",
      " 0.20492701 0.21824324 0.20492701 0.20492701 0.20492701 0.20492701\n",
      " 0.20492701 0.20492701 0.20492701 0.21824324 0.20492701 0.20492701\n",
      " 0.21824324 0.20492701 0.20492701 0.21824324 0.21824324 0.20492701\n",
      " 0.20492701 0.20492701 0.20492701 0.20492701 0.20492701 0.20492701\n",
      " 0.20492701 0.20492701 0.20492701 0.20492701 0.20492701 0.20492701\n",
      " 0.20492701 0.20492701 0.20492701 0.20492701 0.20492701 0.20492701\n",
      " 0.20492701 0.20492701 0.20492701 0.20492701 0.20492701 0.20492701\n",
      " 0.20492701 0.20492701 0.20492701 0.20492701 0.20492701 0.20492701\n",
      " 0.20492701 0.20492701 0.20492701 0.20492701 0.20492701 0.20492701\n",
      " 0.20492701 0.20492701 0.20492701 0.20492701 0.20492701 0.20492701\n",
      " 0.20492701 0.20492701 0.20492701 0.20492701 0.20492701 0.20492701\n",
      " 0.20492701 0.20492701 0.20492701 0.20492701 0.20492701 0.20492701\n",
      " 0.20492701 0.20492701 0.20492701 0.20492701 0.20492701 0.20492701\n",
      " 0.20492701 0.20492701 0.20492701 0.20492701 0.20492701 0.20492701\n",
      " 0.20492701 0.20492701 0.20492701 0.20492701 0.20492701 0.20492701\n",
      " 0.20492701 0.20492701 0.20492701 0.20492701 0.20492701 0.20492701\n",
      " 0.20492701 0.20492701 0.20492701 0.20492701 0.20492701 0.20492701\n",
      " 0.20492701 0.20492701 0.20492701 0.20492701 0.20492701 0.20492701\n",
      " 0.20492701 0.20492701]\n",
      "IDEAL exposure ratio sum, filter z :  32.484997040836454\n",
      "IDEAL exposure ratio per pixel, filter y :  [0.08284672 0.08284672 0.08284672 0.08284672 0.08284672 0.08284672\n",
      " 0.08284672 0.08284672 0.08284672 0.08284672 0.08284672 0.08284672\n",
      " 0.08284672 0.08284672 0.03648649 0.08284672 0.08284672 0.08284672\n",
      " 0.08284672 0.08284672 0.08284672 0.08284672 0.08284672 0.08284672\n",
      " 0.08284672 0.08284672 0.08284672 0.08284672 0.08284672 0.08284672\n",
      " 0.08284672 0.08284672 0.08284672 0.08284672 0.08284672 0.08284672\n",
      " 0.08284672 0.08284672 0.08284672 0.08284672 0.08284672 0.08284672]\n",
      "IDEAL exposure ratio sum, filter y :  3.433201814953639\n",
      "Ratio of exposure time per filter relative to ideal:  [0.01485528 0.00589436 0.00567205 0.00564643 0.00588124 0.0147926 ]\n",
      "Metric summed over all filters:  0.052741957418333804\n",
      "Completed metric generation.\n",
      "Running reduce methods.\n",
      "Running summary statistics.\n",
      "Completed.\n"
     ]
    }
   ],
   "source": [
    "g.runAll()"
   ]
  },
  {
   "cell_type": "code",
   "execution_count": 79,
   "id": "6988e2a1",
   "metadata": {},
   "outputs": [
    {
     "data": {
      "text/plain": [
       "masked_array(data=[0.052741957418333804],\n",
       "             mask=[False],\n",
       "       fill_value=-666.0)"
      ]
     },
     "execution_count": 79,
     "metadata": {},
     "output_type": "execute_result"
    }
   ],
   "source": [
    "bundle.metricValues"
   ]
  },
  {
   "cell_type": "code",
   "execution_count": null,
   "id": "cf1f13d7",
   "metadata": {},
   "outputs": [],
   "source": []
  }
 ],
 "metadata": {
  "kernelspec": {
   "display_name": "Python 3 (ipykernel)",
   "language": "python",
   "name": "python3"
  },
  "language_info": {
   "codemirror_mode": {
    "name": "ipython",
    "version": 3
   },
   "file_extension": ".py",
   "mimetype": "text/x-python",
   "name": "python",
   "nbconvert_exporter": "python",
   "pygments_lexer": "ipython3",
   "version": "3.9.7"
  }
 },
 "nbformat": 4,
 "nbformat_minor": 5
}
