{
 "cells": [
  {
   "cell_type": "markdown",
   "id": "2815363e",
   "metadata": {},
   "source": [
    "## Dwarf galaxy discovery metric ##"
   ]
  },
  {
   "cell_type": "code",
   "execution_count": 1,
   "id": "9aabc3a2",
   "metadata": {},
   "outputs": [],
   "source": [
    "import os\n",
    "import numpy as np\n",
    "import healpy as hp\n",
    "from astropy.coordinates import SkyCoord\n",
    "from astropy.io import fits, ascii\n",
    "import astropy.units as u\n",
    "import matplotlib.pyplot as plt\n",
    "%matplotlib inline"
   ]
  },
  {
   "cell_type": "code",
   "execution_count": 2,
   "id": "2e94e416",
   "metadata": {},
   "outputs": [],
   "source": [
    "# Import MAF\n",
    "import rubin_sim.maf as maf\n",
    "from rubin_sim.data import get_baseline\n",
    "\n",
    "# Directly import the LVDwarfsMetrics module:\n",
    "import sys\n",
    "import importlib.util\n",
    "\n",
    "spec_lv = importlib.util.spec_from_file_location('LVDwarfsMetrics', '/dlusers/jcarlin/repos/forks/rubin_sim/rubin_sim/maf/mafContrib/LVDwarfs/__init__.py')\n",
    "LVmetrics = importlib.util.module_from_spec(spec_lv)\n",
    "sys.modules['LVDwarfsMetrics'] = LVmetrics\n",
    "spec_lv.loader.exec_module(LVmetrics)\n"
   ]
  },
  {
   "cell_type": "markdown",
   "id": "8a2c3934-917f-482b-bf1c-4a1a9b33392d",
   "metadata": {},
   "source": [
    "### Methodology for Local Volume galaxies' dwarf satellites:\n",
    "We use the latest tables from the [Local Volume Galaxies Database](http://www.sao.ru/lv/lvgdb/]) (based on Karachentsev et al. 2013), limiting our selection to Dec < 35 deg. We calculate the stellar mass of all galaxies using their total K−band luminosities, assuming mass-to-light of 1.0 in K. We then limit the sample to galaxies with $M_{star} > 10^7 M_{Sun}$ (removing the faintest systems, which will not be expected to have significant dwarf satellite populations; e.g., Dooley et al. 2017b,a); this leaves a total of 302 galaxies between 1.3 < D < 9 Mpc (of which 139 are within 6 Mpc).\n",
    "\n",
    "The metric is evaluated at the positions of known galaxies by defining a custom `UserPointSlicer` object with the positions and distances to galaxies from the catalog described above. The function that creates this slicer is called `generateKnownLVDwarfSlicer`. (Note, however, that the metric can be calculated with a healpix map and a fixed distance limit; see below for more on this method.)\n",
    "\n",
    "To estimate the detectability of dwarf satellites, we begin by considering the unresolved background galaxies and foreground Milky Way stars that contaminate a CMD selection of candidate RGB stars. For each of the galaxies in our sample, we extract the expected number of galaxies per square arcmin using the **GalaxyCountsMetric**, and the expected stellar density from the **StarDensityMetric**. We apply a scaling factor (`cmd_frac`=0.1 by default) to account for the sub-region of the CMD inhabited by our tracers (RGB stars) relative to the full-CMD area spanned by the simulations, and an additional scaling factor to account for unresolved galaxy contamination (`stargal_contamination`=0.4 by default) in a stellar sample selection at the faint end. Then, with an estimated number of contaminants, we calculate the number of stars required to be detected to reach a given Poisson-limited signal-to-noise (S/N > 10 by default). For the region around each Local Volume galaxy, we use a function called `makeFakeLF` which reads in a [PARSEC](http://stev.oapd.inaf.it/cgi-bin/cmd) luminosity function for an old (10 Gyr), metal-poor (\\[M/H\\] = −1.5) population and generates fake dwarf galaxies using a simulated luminosity function (in g and i bands). We generate dwarfs with known luminosities, continuing to fainter luminosities until we reach the S/N threshold. Our final figure of merit (FoM) is the number of Local Volume galaxies for which the faintest detectable dwarf satellite galaxy is fainter than our chosen dwarf luminosity threshold ($M_V = −7$)."
   ]
  },
  {
   "cell_type": "code",
   "execution_count": 3,
   "id": "a5560945",
   "metadata": {},
   "outputs": [
    {
     "name": "stdout",
     "output_type": "stream",
     "text": [
      "/sims_maf/rubin_sim_data/sim_baseline/baseline_v2.0_10yrs.db\n",
      "baseline_v2.0_10yrs\n"
     ]
    }
   ],
   "source": [
    "opsim_fname = get_baseline()\n",
    "print(opsim_fname)\n",
    "\n",
    "runName = os.path.split(opsim_fname)[-1].replace('.db', '')\n",
    "print(runName)"
   ]
  },
  {
   "cell_type": "code",
   "execution_count": 4,
   "id": "e399aa55",
   "metadata": {},
   "outputs": [],
   "source": [
    "# Connect to the database so we can use it with MAF.\n",
    "opsim_db = maf.OpsimDatabase(opsim_fname)"
   ]
  },
  {
   "cell_type": "markdown",
   "id": "e0e45fb8",
   "metadata": {},
   "source": [
    "## Set up and run metric 1: number of host galaxies meeting required depth"
   ]
  },
  {
   "cell_type": "code",
   "execution_count": 5,
   "id": "2c1da010-6d83-4746-adba-f4468ae004cd",
   "metadata": {},
   "outputs": [],
   "source": [
    "# Create a slicer based on known galaxies within 9 Mpc, with stellar mass > 10^7 M_Sun:\n",
    "\n",
    "# lv_slicer = maf.mafContrib.generateKnownLVDwarfSlicer()\n",
    "lv_slicer = LVmetrics.generateKnownLVDwarfSlicer()"
   ]
  },
  {
   "cell_type": "code",
   "execution_count": 6,
   "id": "ae9db759",
   "metadata": {},
   "outputs": [],
   "source": [
    "# Set up the metric\n",
    "# mymetric = maf.mafContrib.LVDwarfsMetric() # for the discrete LV galaxies\n",
    "# mymetric = maf.mafContrib.LVDwarfsMetric(distlim=0.05*u.Mpc) # for a distance limit, healpix map\n",
    "\n",
    "mymetric = LVmetrics.LVDwarfsMetric() # for the discrete LV galaxies"
   ]
  },
  {
   "cell_type": "code",
   "execution_count": 7,
   "id": "e062b1bd",
   "metadata": {},
   "outputs": [],
   "source": [
    "# Define a sqlconstraint, if we need to just use a (large) subset of the opsim visits\n",
    "# sqlconstraint = 'filter = \"r\"'\n",
    "sqlconstraint = '(filter = \"r\" OR filter = \"i\" OR filter = \"g\")'\n",
    "# sqlconstraint = None   # no constraint, make all visits available"
   ]
  },
  {
   "cell_type": "code",
   "execution_count": 8,
   "id": "8ef04ac8",
   "metadata": {},
   "outputs": [],
   "source": [
    "# We already defined the slicer - combine the metric, slicer and sqlconstraint in a MetricBundle:\n",
    "bundle = maf.MetricBundle(mymetric, lv_slicer, sqlconstraint, runName=runName)"
   ]
  },
  {
   "cell_type": "code",
   "execution_count": 9,
   "id": "727fb067-995f-4c13-aec7-9dbf70365f44",
   "metadata": {
    "tags": []
   },
   "outputs": [
    {
     "name": "stdout",
     "output_type": "stream",
     "text": [
      "Querying database observations with constraint (filter = \"r\" OR filter = \"i\" OR filter = \"g\") for columns ['fieldDec', 'rotSkyPos', 'fiveSigmaDepth', 'fieldRA', 'filter']\n",
      "Found 1156352 visits\n",
      "Running:  ['LVDwarfs_metric']\n"
     ]
    },
    {
     "name": "stderr",
     "output_type": "stream",
     "text": [
      "/dlusers/jcarlin/repos/forks/rubin_sim/rubin_sim/maf/mafContrib/LVDwarfs/LVDwarfsMetrics.py:113: RuntimeWarning: divide by zero encountered in log10\n",
      "  mtot = magref-2.5*np.log10(totlum)\n",
      "/dlusers/jcarlin/repos/forks/rubin_sim/rubin_sim/maf/mafContrib/LVDwarfs/LVDwarfsMetrics.py:329: RuntimeWarning: invalid value encountered in double_scalars\n",
      "  mv = mg_lim - 0.371 * (mg_lim - mi_lim) - 0.068\n",
      "/data0/sw/lsst_stack-2021.10.13/rubin_sim/rubin_sim/maf/metrics/simpleMetrics.py:42: RuntimeWarning: divide by zero encountered in log10\n",
      "  return 1.25 * np.log10(np.sum(10.**(.8*dataSlice[self.colname])))\n"
     ]
    },
    {
     "name": "stdout",
     "output_type": "stream",
     "text": [
      "Completed metric generation.\n",
      "Running reduce methods.\n",
      "Running summary statistics.\n",
      "Completed.\n"
     ]
    }
   ],
   "source": [
    "# Pass the bundle (along with any other bundles to be run on this opsim) to a MetricBundleGroup in order to\n",
    "# calculate the metric bundle values.\n",
    "g = maf.MetricBundleGroup({'LVDwarfs_metric': bundle}, opsim_db, outDir='test', resultsDb=None)\n",
    "# And calculate the metric\n",
    "g.runAll()"
   ]
  },
  {
   "cell_type": "markdown",
   "id": "876045a6",
   "metadata": {},
   "source": [
    "### Calculate the metric\n",
    "\n",
    "The Local Volume dwarf satellites metric is simply the number of hosts to which we meet a given dwarf detection threshold. We choose a threshold of $M_V < -5.5$ (which corresponds to stellar mass of about $2\\times10^4 M_{\\rm Sun}$), and report the total number (out of 302 input galaxies) that reach this threshold."
   ]
  },
  {
   "cell_type": "code",
   "execution_count": 10,
   "id": "a5029c89-f6e2-4b4e-a08e-bb9d71f06335",
   "metadata": {},
   "outputs": [
    {
     "name": "stdout",
     "output_type": "stream",
     "text": [
      "Number (out of 302) of galaxies surveyed to the requested depth:  205\n"
     ]
    }
   ],
   "source": [
    "mv_threshold = -5.5\n",
    "ok_mv = (bundle.metricValues.data > mv_threshold) & (bundle.metricValues.mask == False)\n",
    "print('Number (out of 302) of galaxies surveyed to the requested depth: ', np.sum(ok_mv))"
   ]
  },
  {
   "cell_type": "code",
   "execution_count": 11,
   "id": "bea608a9-fdd0-4ada-a894-442ec5df0cd9",
   "metadata": {},
   "outputs": [
    {
     "data": {
      "image/png": "[encoded data removed]",
      "text/plain": [
       "<Figure size 648x504 with 1 Axes>"
      ]
     },
     "metadata": {},
     "output_type": "display_data"
    }
   ],
   "source": [
    "params = {\n",
    "   'axes.labelsize': 32,\n",
    "   'font.size': 24,\n",
    "   'legend.fontsize': 20,\n",
    "#   'xtick.labelsize': 16,\n",
    "   'xtick.major.width': 3,\n",
    "   'xtick.minor.width': 2,\n",
    "   'xtick.major.size': 8,\n",
    "   'xtick.minor.size': 5,\n",
    "   'xtick.direction': 'in',\n",
    "   'xtick.top': True,\n",
    "   'lines.linewidth':3,\n",
    "   'axes.linewidth':3,\n",
    "   'axes.labelweight':3,\n",
    "   'axes.titleweight':3,\n",
    "   'ytick.major.width':3,\n",
    "   'ytick.minor.width':2,\n",
    "   'ytick.major.size': 8,\n",
    "   'ytick.minor.size': 5,\n",
    "   'ytick.direction': 'in',\n",
    "   'ytick.right': True,\n",
    "#   'ytick.labelsize': 20,\n",
    "   'text.usetex': True,\n",
    "   'text.latex.preamble': r'\\boldmath',\n",
    "   'figure.figsize': [9, 7],\n",
    "   'figure.facecolor': 'White'\n",
    "    }\n",
    "\n",
    "plt.rcParams.update(params)\n",
    "\n",
    "plt.hist(bundle.metricValues.data, bins=np.arange(-8, 4, 0.2), log=True, histtype='step', color='Gray', label='masked',\n",
    "         linewidth=3, linestyle='--')\n",
    "plt.hist(bundle.metricValues.data[bundle.metricValues.mask == False], bins=np.arange(-8, 4, 0.2), log=True, histtype='step',\n",
    "         color='Blue', label='OK limit', linewidth=3)\n",
    "plt.vlines(-5.5, 0, 200, color='magenta', linestyle=':', linewidth=3)\n",
    "plt.arrow(-5.4, 60.0, 2, 0, color='magenta', width=1, length_includes_head=True, head_width=5, head_length=0.3)\n",
    "plt.text(-5.4, 45, str(np.sum(ok_mv))+' fainter than -5.5', color='magenta', fontsize='small')\n",
    "plt.ylim(0.7, 83)\n",
    "plt.xlim(-8.4, 1.3)\n",
    "plt.legend()\n",
    "plt.xlabel(r'$M_{\\rm V, limit}$')\n",
    "plt.ylabel('N')\n",
    "plt.minorticks_on()\n",
    "plt.show()"
   ]
  },
  {
   "cell_type": "markdown",
   "id": "caba38b2-df17-4211-9da0-957defd1276f",
   "metadata": {},
   "source": [
    "### Metric 2: total sky area within 4 Mpc that meets the required depth\n",
    "\n",
    "The second Local Volume dwarf satellites metric is total sky area at which the survey meets a given dwarf detection threshold at some distance. We choose a threshold of $M_V < -5.5$ (which corresponds to stellar mass of about $2\\times10^4 M_{\\rm Sun}$), and report the total sky area to which we reach this threshold."
   ]
  },
  {
   "cell_type": "code",
   "execution_count": 12,
   "id": "9b4f87c9-e42a-442a-9f69-279dfccd508f",
   "metadata": {},
   "outputs": [
    {
     "name": "stdout",
     "output_type": "stream",
     "text": [
      "Healpix slicer using NSIDE=16, approximate resolution 219.871130 arcminutes\n"
     ]
    }
   ],
   "source": [
    "mymetric2 = LVmetrics.LVDwarfsMetric(distlim=4.0*u.Mpc) # for a distance limit, healpix map\n",
    "healpix_slicer = maf.HealpixSlicer(nside=16)\n",
    "bundle2 = maf.MetricBundle(mymetric2, healpix_slicer, sqlconstraint, runName=runName)"
   ]
  },
  {
   "cell_type": "code",
   "execution_count": 13,
   "id": "d6b28d3c-1699-4544-b5ec-d1f1a41f03fc",
   "metadata": {},
   "outputs": [
    {
     "name": "stdout",
     "output_type": "stream",
     "text": [
      "Querying database observations with constraint (filter = \"r\" OR filter = \"i\" OR filter = \"g\") for columns ['fieldDec', 'rotSkyPos', 'fiveSigmaDepth', 'fieldRA', 'filter']\n",
      "Found 1156352 visits\n",
      "Running:  ['LVDwarfs_area_metric']\n"
     ]
    },
    {
     "name": "stderr",
     "output_type": "stream",
     "text": [
      "/data0/sw/lsst_stack-2021.10.13/rubin_sim/rubin_sim/maf/slicers/baseSpatialSlicer.py:103: UserWarning: Warning:  Loading maps but cache on.Should probably set useCache=False in slicer.\n",
      "  warnings.warn('Warning:  Loading maps but cache on.'\n",
      "/data0/sw/lsst_stack-2021.10.13/rubin_sim/rubin_sim/maf/maps/dustMap.py:25: UserWarning: Slicer value of nside 16 different from map value 128, using slicer value\n",
      "  warnings.warn(f\"Slicer value of nside {slicePoints['nside']} different \"\n",
      "/data0/sw/lsst_stack-2021.10.13/rubin_sim/rubin_sim/maf/metrics/simpleMetrics.py:42: RuntimeWarning: divide by zero encountered in log10\n",
      "  return 1.25 * np.log10(np.sum(10.**(.8*dataSlice[self.colname])))\n",
      "/dlusers/jcarlin/repos/forks/rubin_sim/rubin_sim/maf/mafContrib/LVDwarfs/LVDwarfsMetrics.py:113: RuntimeWarning: divide by zero encountered in log10\n",
      "  mtot = magref-2.5*np.log10(totlum)\n",
      "/dlusers/jcarlin/repos/forks/rubin_sim/rubin_sim/maf/mafContrib/LVDwarfs/LVDwarfsMetrics.py:329: RuntimeWarning: invalid value encountered in double_scalars\n",
      "  mv = mg_lim - 0.371 * (mg_lim - mi_lim) - 0.068\n"
     ]
    },
    {
     "name": "stdout",
     "output_type": "stream",
     "text": [
      "Completed metric generation.\n",
      "Running reduce methods.\n",
      "Running summary statistics.\n",
      "Completed.\n"
     ]
    }
   ],
   "source": [
    "g2 = maf.MetricBundleGroup({'LVDwarfs_area_metric': bundle2}, opsim_db, outDir='test', resultsDb=None)\n",
    "g2.runAll()"
   ]
  },
  {
   "cell_type": "code",
   "execution_count": 14,
   "id": "c326b6ba-59ab-4ec0-8fa0-906f850a330a",
   "metadata": {},
   "outputs": [
    {
     "data": {
      "image/png": "[encoded data removed]",
      "text/plain": [
       "<Figure size 648x504 with 1 Axes>"
      ]
     },
     "metadata": {},
     "output_type": "display_data"
    }
   ],
   "source": [
    "plt.hist(bundle2.metricValues.data, bins=np.arange(-8, 4, 0.2), log=True, histtype='step', color='Gray', label='masked',\n",
    "         linewidth=3, linestyle='--')\n",
    "plt.hist(bundle2.metricValues.data[bundle2.metricValues.mask == False], bins=np.arange(-8, 4, 0.2), log=True, histtype='step',\n",
    "         color='Blue', label='OK limit', linewidth=3)\n",
    "plt.vlines(-5.5, 0, 1000, color='magenta', linestyle=':', linewidth=3)\n",
    "plt.ylim(0.7, 830)\n",
    "#plt.xlim(-9.3, 1.8)\n",
    "plt.legend()\n",
    "plt.xlabel(r'$M_{\\rm V, limit}$')\n",
    "plt.ylabel('N')\n",
    "plt.minorticks_on()\n",
    "plt.show()"
   ]
  },
  {
   "cell_type": "code",
   "execution_count": 15,
   "id": "916a6be0-c871-4480-82d0-8929117c7dd9",
   "metadata": {},
   "outputs": [
    {
     "data": {
      "text/plain": [
       "{'AreaThreshold': 21539.632110699386}"
      ]
     },
     "execution_count": 15,
     "metadata": {},
     "output_type": "execute_result"
    }
   ],
   "source": [
    "summary_area = maf.AreaThresholdMetric(lower_threshold=-5.5)\n",
    "bundle2.setSummaryMetrics([summary_area])\n",
    "bundle2.computeSummaryStats()\n",
    "bundle2.summaryValues"
   ]
  },
  {
   "cell_type": "code",
   "execution_count": null,
   "id": "e1ebe8fe-8057-41d9-8102-132e6e243dbf",
   "metadata": {},
   "outputs": [],
   "source": []
  },
  {
   "cell_type": "markdown",
   "id": "7cc0fb45-ad8a-46b3-ac6a-12d6806cf575",
   "metadata": {},
   "source": [
    "### Metric 3: detection limits for Milky Way dwarfs in the south Galactic cap"
   ]
  },
  {
   "cell_type": "code",
   "execution_count": 16,
   "id": "48501edb-8317-48e8-9880-37999e876b85",
   "metadata": {},
   "outputs": [],
   "source": [
    "sql_scp = '(filter = \"r\" OR filter = \"i\" OR filter = \"g\") and fieldDec < -60'"
   ]
  },
  {
   "cell_type": "code",
   "execution_count": 17,
   "id": "0ce5ded4-17f8-43b3-bcd6-86e841b5df8f",
   "metadata": {},
   "outputs": [
    {
     "name": "stdout",
     "output_type": "stream",
     "text": [
      "Healpix slicer using NSIDE=32, approximate resolution 109.935565 arcminutes\n"
     ]
    }
   ],
   "source": [
    "mymetric3 = LVmetrics.LVDwarfsMetric(distlim=0.1*u.Mpc) # for a distance limit, healpix map\n",
    "healpix_slicer3 = maf.HealpixSlicer(nside=32)\n",
    "bundle3 = maf.MetricBundle(mymetric3, healpix_slicer3, sql_scp, runName=runName)"
   ]
  },
  {
   "cell_type": "code",
   "execution_count": 18,
   "id": "8dfc33a9-1899-49d6-91a0-b7346ce8203c",
   "metadata": {},
   "outputs": [
    {
     "name": "stdout",
     "output_type": "stream",
     "text": [
      "Querying database observations with constraint (filter = \"r\" OR filter = \"i\" OR filter = \"g\") and fieldDec < -60 for columns ['fieldDec', 'rotSkyPos', 'fiveSigmaDepth', 'fieldRA', 'filter']\n",
      "Found 85778 visits\n",
      "Running:  ['LVDwarfs_SCP_metric']\n"
     ]
    },
    {
     "name": "stderr",
     "output_type": "stream",
     "text": [
      "/data0/sw/lsst_stack-2021.10.13/rubin_sim/rubin_sim/maf/slicers/baseSpatialSlicer.py:103: UserWarning: Warning:  Loading maps but cache on.Should probably set useCache=False in slicer.\n",
      "  warnings.warn('Warning:  Loading maps but cache on.'\n",
      "/data0/sw/lsst_stack-2021.10.13/rubin_sim/rubin_sim/maf/maps/dustMap.py:25: UserWarning: Slicer value of nside 32 different from map value 128, using slicer value\n",
      "  warnings.warn(f\"Slicer value of nside {slicePoints['nside']} different \"\n"
     ]
    },
    {
     "name": "stdout",
     "output_type": "stream",
     "text": [
      "Completed metric generation.\n",
      "Running reduce methods.\n",
      "Running summary statistics.\n",
      "Completed.\n"
     ]
    }
   ],
   "source": [
    "g3 = maf.MetricBundleGroup({'LVDwarfs_SCP_metric': bundle3}, opsim_db, outDir='test', resultsDb=None)\n",
    "g3.runAll()"
   ]
  },
  {
   "cell_type": "code",
   "execution_count": 19,
   "id": "ca6435b5-2d2c-4433-a53a-6c24f5ed58bb",
   "metadata": {},
   "outputs": [
    {
     "data": {
      "image/png": "[encoded data removed]",
      "text/plain": [
       "<Figure size 648x504 with 1 Axes>"
      ]
     },
     "metadata": {},
     "output_type": "display_data"
    }
   ],
   "source": [
    "plt.hist(bundle3.metricValues.data, bins=np.arange(-8, 4, 0.2), log=True, histtype='step', color='Gray', label='masked',\n",
    "         linewidth=3, linestyle='--')\n",
    "plt.hist(bundle3.metricValues.data[bundle3.metricValues.mask == False], bins=np.arange(-8, 4, 0.2), log=True, histtype='step',\n",
    "         color='Blue', label='OK limit', linewidth=3)\n",
    "# plt.ylim(0.7, 830)\n",
    "plt.xlim(-5.3, 5.3)\n",
    "plt.legend()\n",
    "plt.xlabel(r'$M_{\\rm V, limit}$')\n",
    "plt.ylabel('N')\n",
    "plt.minorticks_on()\n",
    "plt.show()"
   ]
  },
  {
   "cell_type": "code",
   "execution_count": 20,
   "id": "5f63f927-89fd-4399-adac-fff28ada50dc",
   "metadata": {},
   "outputs": [],
   "source": [
    "### Do we want to maximize the area below some limiting M_V, or maximize the median, limiting M_V, etc?"
   ]
  },
  {
   "cell_type": "code",
   "execution_count": 21,
   "id": "3f68e69d-6514-4407-a786-31c89d5ec22b",
   "metadata": {},
   "outputs": [
    {
     "data": {
      "text/plain": [
       "{'AreaThreshold': 2427.237221950694, 'Median': 1.010430567516378}"
      ]
     },
     "execution_count": 21,
     "metadata": {},
     "output_type": "execute_result"
    }
   ],
   "source": [
    "summary_area = maf.AreaThresholdMetric(lower_threshold=0.0)\n",
    "summary_median = maf.MedianMetric()\n",
    "bundle3.setSummaryMetrics([summary_area, summary_median])\n",
    "bundle3.computeSummaryStats()\n",
    "bundle3.summaryValues"
   ]
  },
  {
   "cell_type": "code",
   "execution_count": null,
   "id": "c3910d46-4fd5-4652-8430-ee6eff62aa22",
   "metadata": {},
   "outputs": [],
   "source": []
  }
 ],
 "metadata": {
  "kernelspec": {
   "display_name": "LSST-2021.10.13 Py3",
   "language": "python",
   "name": "lsst_sims_maf-2021.10.13"
  },
  "language_info": {
   "codemirror_mode": {
    "name": "ipython",
    "version": 3
   },
   "file_extension": ".py",
   "mimetype": "text/x-python",
   "name": "python",
   "nbconvert_exporter": "python",
   "pygments_lexer": "ipython3",
   "version": "3.8.8"
  }
 },
 "nbformat": 4,
 "nbformat_minor": 5
}
