{
 "cells": [
  {
   "cell_type": "markdown",
   "id": "2815363e",
   "metadata": {},
   "source": [
    "## Visualize the visits overlapping a single point on the sky\n",
    "\n"
   ]
  },
  {
   "cell_type": "code",
   "execution_count": 1,
   "id": "9aabc3a2",
   "metadata": {},
   "outputs": [],
   "source": [
    "# Some modules you're likely to want .. add whatever is needed.\n",
    "import os\n",
    "import numpy as np\n",
    "import pandas as pd\n",
    "import matplotlib.pyplot as plt\n",
    "%matplotlib inline   \n",
    "# %matplotlib notebook"
   ]
  },
  {
   "cell_type": "code",
   "execution_count": 2,
   "id": "2e94e416",
   "metadata": {},
   "outputs": [
    {
     "name": "stderr",
     "output_type": "stream",
     "text": [
      "\n",
      "WARNING: version mismatch between CFITSIO header (v4.000999999999999) and linked library (v4.01).\n",
      "\n",
      "\n",
      "WARNING: version mismatch between CFITSIO header (v4.000999999999999) and linked library (v4.01).\n",
      "\n",
      "\n",
      "WARNING: version mismatch between CFITSIO header (v4.000999999999999) and linked library (v4.01).\n",
      "\n"
     ]
    }
   ],
   "source": [
    "# Import MAF\n",
    "import rubin_sim.maf as maf\n",
    "import rubin_sim.utils as rsUtils"
   ]
  },
  {
   "cell_type": "markdown",
   "id": "686c323d",
   "metadata": {},
   "source": [
    "Use the current baseline simulation included with $RUBIN_SIM_DATA_DIR"
   ]
  },
  {
   "cell_type": "code",
   "execution_count": 3,
   "id": "a5560945",
   "metadata": {},
   "outputs": [
    {
     "name": "stdout",
     "output_type": "stream",
     "text": [
      "/Users/lynnej/rubin_sim_data/sim_baseline/baseline_v2.1_10yrs.db\n",
      "baseline_v2.1_10yrs\n"
     ]
    }
   ],
   "source": [
    "from rubin_sim.data import get_baseline\n",
    "\n",
    "opsim_fname = get_baseline()\n",
    "print(opsim_fname)\n",
    "\n",
    "runName = os.path.split(opsim_fname)[-1].replace('.db', '')\n",
    "print(runName)"
   ]
  },
  {
   "cell_type": "markdown",
   "id": "cf5d4730",
   "metadata": {},
   "source": [
    "And let's set up a slicer that will give us the observations that overlap a single point on the sky."
   ]
  },
  {
   "cell_type": "code",
   "execution_count": 4,
   "id": "3415fe97",
   "metadata": {},
   "outputs": [],
   "source": [
    "# Specify ra / dec of the point we want to work with on the sky - in degrees. \n",
    "# (these can be lists, if you want to work on multiple, limited points on the sky)\n",
    "test_ra = 0.0\n",
    "test_dec = -20.0\n",
    "test_slicer = maf.UserPointsSlicer(test_ra, test_dec)"
   ]
  },
  {
   "cell_type": "markdown",
   "id": "e0e45fb8",
   "metadata": {},
   "source": [
    "Using the 'Pass' metric will just return these columns from the database. "
   ]
  },
  {
   "cell_type": "code",
   "execution_count": 78,
   "id": "ae9db759",
   "metadata": {},
   "outputs": [],
   "source": [
    "# Set up the metric\n",
    "cols = ['observationStartMJD', 'fieldRA', 'fieldDec', 'rotTelPos', 'rotSkyPos', 'filter', 'night']\n",
    "mymetric = maf.PassMetric(cols=cols)"
   ]
  },
  {
   "cell_type": "code",
   "execution_count": 79,
   "id": "e062b1bd",
   "metadata": {},
   "outputs": [],
   "source": [
    "# Define a sqlconstraint, if we need to just use a (large) subset of the opsim visits\n",
    "sqlconstraint = None   # no constraint, make all visits available\n",
    "\n",
    "# Examples of other potentially useful sqlconstraints:\n",
    "# sqlconstraint = 'filter = \"r\"'  # just select the visits in a particular filter\n",
    "# sqlconstraint = 'note not like \"%DD%\"'  # don't choose any of the DD field visits\n",
    "# sqlconstraint = 'night < 365'  # only use visits in the first year of the survey"
   ]
  },
  {
   "cell_type": "code",
   "execution_count": 80,
   "id": "8ef04ac8",
   "metadata": {},
   "outputs": [],
   "source": [
    "# We already defined the slicer - combine the metric, slicer and sqlconstraint in a MetricBundle:\n",
    "bundle = maf.MetricBundle(mymetric, test_slicer, sqlconstraint, runName=runName)"
   ]
  },
  {
   "cell_type": "code",
   "execution_count": 81,
   "id": "9ab39116",
   "metadata": {},
   "outputs": [
    {
     "name": "stdout",
     "output_type": "stream",
     "text": [
      "Querying table None with no constraint for columns ['night', 'fieldDec', 'rotSkyPos', 'rotTelPos', 'filter', 'observationStartMJD', 'fieldRA'].\n",
      "Found 2081749 visits\n",
      "Running:  ['test_metric']\n",
      "Completed metric generation.\n",
      "Running reduce methods.\n",
      "Running summary statistics.\n",
      "Completed.\n"
     ]
    }
   ],
   "source": [
    "# Pass the bundle (along with any other bundles to be run on this opsim) to a MetricBundleGroup in order to\n",
    "# calculate the metric bundle values.\n",
    "g = maf.MetricBundleGroup({'test_metric': bundle}, opsim_fname, outDir='test', resultsDb=None)\n",
    "# And calculate the metric\n",
    "g.runAll()"
   ]
  },
  {
   "cell_type": "markdown",
   "id": "876045a6",
   "metadata": {},
   "source": [
    "And then you can look at the `bundle.metricValues` to see what your metric calculated and how well things worked."
   ]
  },
  {
   "cell_type": "code",
   "execution_count": 89,
   "id": "205c3016",
   "metadata": {},
   "outputs": [
    {
     "data": {
      "text/plain": [
       "rec.array([(1869, -21.44760538, -64.14716119, 48.20257096, 'g', 62087.15764973, 358.93416218),\n",
       "           (1869, -21.44760538, -64.14716119, 50.138314  , 'u', 62087.13343296, 358.93416218)],\n",
       "          dtype=[('night', '<i8'), ('fieldDec', '<f8'), ('rotSkyPos', '<f8'), ('rotTelPos', '<f8'), ('filter', 'O'), ('observationStartMJD', '<f8'), ('fieldRA', '<f8')])"
      ]
     },
     "execution_count": 89,
     "metadata": {},
     "output_type": "execute_result"
    }
   ],
   "source": [
    "bundle.metricValues[0][0:2]"
   ]
  },
  {
   "cell_type": "code",
   "execution_count": 91,
   "id": "39e3dce5",
   "metadata": {},
   "outputs": [
    {
     "data": {
      "text/plain": [
       "rec.array([(0, -60.81292802, -297.24922531, 43.83296777, 'y', 60218.00180556, 310.0244801 ),\n",
       "           (0, -63.56142457, -297.70827792, 45.04043979, 'y', 60218.00225414, 310.60187065)],\n",
       "          dtype=[('night', '<i8'), ('fieldDec', '<f8'), ('rotSkyPos', '<f8'), ('rotTelPos', '<f8'), ('filter', 'O'), ('observationStartMJD', '<f8'), ('fieldRA', '<f8')])"
      ]
     },
     "execution_count": 91,
     "metadata": {},
     "output_type": "execute_result"
    }
   ],
   "source": [
    "# g.simData is the simulation visit data that the previous MetricBundleGroup queried from the database \n",
    "# -- so in this case, because of the \"Pass\" metric, it's just another way to access the same information as 'bundle.metricValues'\n",
    "g.simData[0:2]"
   ]
  },
  {
   "cell_type": "markdown",
   "id": "c3bd4cdd",
   "metadata": {},
   "source": [
    "So let's try to visualize the visits"
   ]
  },
  {
   "cell_type": "code",
   "execution_count": 92,
   "id": "185d6e8c",
   "metadata": {},
   "outputs": [],
   "source": [
    "visits = bundle.metricValues[0]"
   ]
  },
  {
   "cell_type": "code",
   "execution_count": 93,
   "id": "ffcd4c25",
   "metadata": {},
   "outputs": [
    {
     "data": {
      "text/plain": [
       "Text(0.5, 0, 'Distance from center of FOV (deg)')"
      ]
     },
     "execution_count": 93,
     "metadata": {},
     "output_type": "execute_result"
    },
    {
     "data": {
      "image/png": "[encoded data removed]",
      "text/plain": [
       "<Figure size 432x288 with 1 Axes>"
      ]
     },
     "metadata": {
      "needs_background": "light"
     },
     "output_type": "display_data"
    }
   ],
   "source": [
    "# How far is the center of each visit from the point on the sky? (radius is in degrees)\n",
    "radius = rsUtils.angularSeparation(visits['fieldRA'], visits['fieldDec'], test_ra, test_dec)\n",
    "n,b,p = plt.hist(radius, bins=50)\n",
    "plt.xlabel(\"Distance from center of FOV (deg)\")"
   ]
  },
  {
   "cell_type": "code",
   "execution_count": 94,
   "id": "6ce5f5ef",
   "metadata": {},
   "outputs": [
    {
     "data": {
      "image/png": "[encoded data removed]",
      "text/plain": [
       "<Figure size 432x288 with 1 Axes>"
      ]
     },
     "metadata": {
      "needs_background": "light"
     },
     "output_type": "display_data"
    }
   ],
   "source": [
    "# what is the camera rotation angle (should run -90 to +90 but scheduler outputs map into 0-360)\n",
    "rotAngle = visits['rotTelPos'] \n",
    "n,b,p = plt.hist(rotAngle, bins=np.arange(-100, 370, 10), alpha=0.4)\n",
    "rotAngle = np.where(visits['rotTelPos'] > 180, visits['rotTelPos']%180-180, visits['rotTelPos'])\n",
    "n,b,p = plt.hist(rotAngle, bins=b, alpha=0.4)"
   ]
  },
  {
   "cell_type": "code",
   "execution_count": 95,
   "id": "79b6be4e",
   "metadata": {},
   "outputs": [
    {
     "data": {
      "text/plain": [
       "Text(0.5, 0, 'Rotator angle (deg)')"
      ]
     },
     "execution_count": 95,
     "metadata": {},
     "output_type": "execute_result"
    },
    {
     "data": {
      "image/png": "[encoded data removed]",
      "text/plain": [
       "<Figure size 432x288 with 1 Axes>"
      ]
     },
     "metadata": {
      "needs_background": "light"
     },
     "output_type": "display_data"
    }
   ],
   "source": [
    "n,b,p = plt.hist(rotAngle, bins=50)\n",
    "plt.xlabel('Rotator angle (deg)')"
   ]
  },
  {
   "cell_type": "code",
   "execution_count": 96,
   "id": "7f68f275",
   "metadata": {},
   "outputs": [
    {
     "data": {
      "text/plain": [
       "Text(0.5, 0, 'Rot Sky Pos (deg)')"
      ]
     },
     "execution_count": 96,
     "metadata": {},
     "output_type": "execute_result"
    },
    {
     "data": {
      "image/png": "[encoded data removed]",
      "text/plain": [
       "<Figure size 432x288 with 1 Axes>"
      ]
     },
     "metadata": {
      "needs_background": "light"
     },
     "output_type": "display_data"
    }
   ],
   "source": [
    "# Angle between \"north\" and the top of the FOV\n",
    "n,b,p = plt.hist(visits['rotSkyPos'], bins=50)\n",
    "plt.xlabel(\"Rot Sky Pos (deg)\")"
   ]
  },
  {
   "cell_type": "code",
   "execution_count": 97,
   "id": "665ec0e4",
   "metadata": {},
   "outputs": [
    {
     "data": {
      "image/png": "[encoded data removed]",
      "text/plain": [
       "<Figure size 432x288 with 1 Axes>"
      ]
     },
     "metadata": {
      "needs_background": "light"
     },
     "output_type": "display_data"
    }
   ],
   "source": [
    "x, y = rsUtils.gnomonic_project_toxy(np.radians(visits['fieldRA']), \n",
    "                                      np.radians(visits['fieldDec']), \n",
    "                                      np.radians(test_ra), \n",
    "                                      np.radians(test_dec))\n",
    "x = np.degrees(x)\n",
    "y = np.degrees(y)\n",
    "rad = np.sqrt(x**x + y**y)\n",
    "n,b,p = plt.hist(rad, bins=50, alpha=0.3)\n",
    "n,b,p = plt.hist(radius, bins=50, alpha=0.3)\n",
    "# I don't quite understand this, but the plot of x/y looks ok next?"
   ]
  },
  {
   "cell_type": "code",
   "execution_count": 109,
   "id": "722ef13a",
   "metadata": {},
   "outputs": [
    {
     "name": "stdout",
     "output_type": "stream",
     "text": [
      "14\n"
     ]
    },
    {
     "data": {
      "text/plain": [
       "(-5.0, 5.0)"
      ]
     },
     "execution_count": 109,
     "metadata": {},
     "output_type": "execute_result"
    },
    {
     "data": {
      "image/png": "[encoded data removed]",
      "text/plain": [
       "<Figure size 432x288 with 1 Axes>"
      ]
     },
     "metadata": {
      "needs_background": "light"
     },
     "output_type": "display_data"
    }
   ],
   "source": [
    "show = np.where((visits['filter'] == 'r') & (visits['night'] < 367))\n",
    "print(len(show[0]))\n",
    "\n",
    "fig,ax = plt.subplots()\n",
    "ax.axis('equal')\n",
    "# These are just the center of the pointings - replace with patches\n",
    "#plt.plot(x, y, 'k.')\n",
    "# Might be able to do a hack?\n",
    "#plt.scatter([0], [0], s=10000, \n",
    "#            #marker='o', markersize=100, linestyle=''\n",
    "#            edgecolor='black', facecolor='red', alpha=0.2)\n",
    "plt.scatter(x[show], y[show], s=17000, \n",
    "            #marker='o', markersize=100, linestyle=''\n",
    "            edgecolor='black', facecolor='green', alpha=0.1)\n",
    "plt.plot(x[show], y[show], marker='.', markersize=6, linestyle='', color='r')\n",
    "plt.plot([0], [0], marker='x', linestyle='', color='k')\n",
    "plt.xlim(-5, 5)\n",
    "plt.ylim(-5, 5)"
   ]
  },
  {
   "cell_type": "code",
   "execution_count": null,
   "id": "9c54b6fc",
   "metadata": {},
   "outputs": [],
   "source": []
  }
 ],
 "metadata": {
  "kernelspec": {
   "display_name": "Python 3 (ipykernel)",
   "language": "python",
   "name": "python3"
  },
  "language_info": {
   "codemirror_mode": {
    "name": "ipython",
    "version": 3
   },
   "file_extension": ".py",
   "mimetype": "text/x-python",
   "name": "python",
   "nbconvert_exporter": "python",
   "pygments_lexer": "ipython3",
   "version": "3.9.13"
  }
 },
 "nbformat": 4,
 "nbformat_minor": 5
}
