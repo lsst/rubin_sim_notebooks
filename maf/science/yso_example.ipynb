{
 "cells": [
  {
   "cell_type": "markdown",
   "id": "7fa78c35",
   "metadata": {},
   "source": [
    "Example notebook for the Young Stellar Objects metric. \n",
    "Please contact Loredo Prisidano for more information about the details of the metric. \n",
    "\n",
    "The basic premise is to count how many young stellar objects above a SNR cut in g,r, and i bands are available in the coadded images. Dust extinction and distance modulus are taken into account, when searching for stars above a given absolute magnitude. "
   ]
  },
  {
   "cell_type": "code",
   "execution_count": 1,
   "id": "57930940",
   "metadata": {},
   "outputs": [],
   "source": [
    "import os\n",
    "import numpy as np\n",
    "import pandas as pd\n",
    "import matplotlib.pyplot as plt\n",
    "%matplotlib inline\n",
    "\n",
    "import rubin_sim.maf as maf\n",
    "from rubin_sim.data import get_baseline\n"
   ]
  },
  {
   "cell_type": "code",
   "execution_count": 2,
   "id": "eb547b7b",
   "metadata": {},
   "outputs": [],
   "source": [
    "baseline_file = get_baseline()\n",
    "run_name = os.path.basename(baseline_file).replace('.db','')\n",
    "outDir = \"temp\"\n",
    "resultsDb = maf.db.ResultsDb(out_dir=outDir)"
   ]
  },
  {
   "cell_type": "code",
   "execution_count": 4,
   "id": "0226fd8d",
   "metadata": {},
   "outputs": [
    {
     "name": "stdout",
     "output_type": "stream",
     "text": [
      "Metric is looking for YSO with the following absolute magnitudes {'g': 10.32, 'r': 9.28, 'i': 7.97}\n",
      "Healpix slicer using NSIDE=64, approximate resolution 54.967783 arcminutes\n"
     ]
    }
   ],
   "source": [
    "# Set up YSO metric - which counts the number of expected young stellar objects detectable with Rubin\n",
    "\n",
    "nside = 64\n",
    "bundleList = []\n",
    "sql = \"\"\n",
    "# Let's plug in the magnitudes for one type\n",
    "metric = maf.maf_contrib.NYoungStarsMetric()\n",
    "\n",
    "print(\"Metric is looking for YSO with the following absolute magnitudes\", metric.mags)\n",
    "\n",
    "slicer = maf.slicers.HealpixSlicer(nside=nside, use_cache=False)\n",
    "\n",
    "summaryStats = [maf.metrics.SumMetric(), maf.metrics.MaxMetric()]\n",
    "plot_dict = {\"log_scale\": True, 'figsize': (8, 6), \n",
    "             \"color_min\": 1, \"colorMax\":1e5, \"extend\": \"both\",\n",
    "            \"cbar_format\":'%.0e'}\n",
    "bundleList.append(\n",
    "    maf.metricBundles.MetricBundle(\n",
    "        metric, slicer, sql, plot_dict=plot_dict, summary_metrics=summaryStats, run_name=run_name\n",
    "    )\n",
    ")"
   ]
  },
  {
   "cell_type": "code",
   "execution_count": 5,
   "id": "7ca03a47",
   "metadata": {},
   "outputs": [
    {
     "name": "stdout",
     "output_type": "stream",
     "text": [
      "Querying table None with no constraint for columns ['fieldDec', 'seeingFwhmGeom', 'rotSkyPos', 'filter', 'fieldRA', 'fiveSigmaDepth'].\n",
      "Found 2130908 visits\n",
      "Running:  ['baseline_v3_3_10yrs_young_stars_HEAL']\n",
      "Read map /Users/lynnej/rubin_sim_data/maps/DustMaps3D/merged_ebv3d_nside64_defaults.fits from disk\n",
      "Processing slices: 100%|████████████████| 49152/49152 [00:51<00:00, 957.87it/s]\n",
      "Completed metric generation.\n",
      "Running reduce methods.\n",
      "Running summary statistics.\n",
      "Completed.\n"
     ]
    }
   ],
   "source": [
    "bd = maf.metricBundles.make_bundles_dict_from_list(bundleList)\n",
    "bg = maf.metricBundles.MetricBundleGroup(bd, baseline_file, out_dir=outDir, results_db=resultsDb, verbose=True)\n",
    "bg.run_all()"
   ]
  },
  {
   "cell_type": "code",
   "execution_count": 6,
   "id": "85e7cf9c-0ef5-4c9b-a10c-1b73b012af7c",
   "metadata": {},
   "outputs": [
    {
     "name": "stdout",
     "output_type": "stream",
     "text": [
      "Plotting figures with \"\" constraint now.\n"
     ]
    },
    {
     "name": "stderr",
     "output_type": "stream",
     "text": [
      "/Users/lynnej/lsst_repos/rubin_sim/rubin_sim/maf/utils/maf_utils.py:143: UserWarning: Optimal bin calculation tried to make 846 bins, returning 200\n",
      "  warnings.warn(\n"
     ]
    },
    {
     "name": "stdout",
     "output_type": "stream",
     "text": [
      "Plotting complete.\n"
     ]
    }
   ],
   "source": [
    "bg.plot_all()"
   ]
  },
  {
   "cell_type": "code",
   "execution_count": 7,
   "id": "3b0c872b",
   "metadata": {},
   "outputs": [
    {
     "data": {
      "text/html": [
       "<div>\n",
       "<style scoped>\n",
       "    .dataframe tbody tr th:only-of-type {\n",
       "        vertical-align: middle;\n",
       "    }\n",
       "\n",
       "    .dataframe tbody tr th {\n",
       "        vertical-align: top;\n",
       "    }\n",
       "\n",
       "    .dataframe thead th {\n",
       "        text-align: right;\n",
       "    }\n",
       "</style>\n",
       "<table border=\"1\" class=\"dataframe\">\n",
       "  <thead>\n",
       "    <tr style=\"text-align: right;\">\n",
       "      <th></th>\n",
       "      <th>Sum</th>\n",
       "      <th>Max</th>\n",
       "    </tr>\n",
       "  </thead>\n",
       "  <tbody>\n",
       "    <tr>\n",
       "      <th>baseline_v3_3_10yrs_young_stars_HEAL</th>\n",
       "      <td>4.846930e+06</td>\n",
       "      <td>4188.335665</td>\n",
       "    </tr>\n",
       "  </tbody>\n",
       "</table>\n",
       "</div>"
      ],
      "text/plain": [
       "                                               Sum          Max\n",
       "baseline_v3_3_10yrs_young_stars_HEAL  4.846930e+06  4188.335665"
      ]
     },
     "execution_count": 7,
     "metadata": {},
     "output_type": "execute_result"
    }
   ],
   "source": [
    "pd.DataFrame([bd[k].summary_values for k in bd], index=list(bd.keys()))"
   ]
  },
  {
   "cell_type": "code",
   "execution_count": 8,
   "id": "24454c29",
   "metadata": {},
   "outputs": [
    {
     "name": "stdout",
     "output_type": "stream",
     "text": [
      "4846929.655863882 13.96021222185475 144.33117907997982 4188.335665093386 1.4377116280912537e-09 371.4889197232655\n"
     ]
    }
   ],
   "source": [
    "b = bundleList[0]\n",
    "print(np.sum(b.metric_values.compressed()), \n",
    "      np.median(b.metric_values.compressed()), np.mean(b.metric_values.compressed()), \n",
    "      np.max(b.metric_values.compressed()), np.min(b.metric_values.compressed()), \n",
    "      np.std(b.metric_values.compressed()))"
   ]
  },
  {
   "cell_type": "code",
   "execution_count": null,
   "id": "43cd6a94",
   "metadata": {},
   "outputs": [],
   "source": []
  }
 ],
 "metadata": {
  "kernelspec": {
   "display_name": "Python 3 (ipykernel)",
   "language": "python",
   "name": "python3"
  },
  "language_info": {
   "codemirror_mode": {
    "name": "ipython",
    "version": 3
   },
   "file_extension": ".py",
   "mimetype": "text/x-python",
   "name": "python",
   "nbconvert_exporter": "python",
   "pygments_lexer": "ipython3",
   "version": "3.11.6"
  }
 },
 "nbformat": 4,
 "nbformat_minor": 5
}
