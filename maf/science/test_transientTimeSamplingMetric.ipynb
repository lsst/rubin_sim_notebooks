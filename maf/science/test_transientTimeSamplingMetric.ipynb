{
 "cells": [
  {
   "cell_type": "markdown",
   "id": "b93d6e91",
   "metadata": {},
   "source": [
    "# Test Code for the Transient Time Sampling Metric"
   ]
  },
  {
   "cell_type": "markdown",
   "id": "4b40e411",
   "metadata": {},
   "source": [
    "Code adapted from an example by Lynne Jones"
   ]
  },
  {
   "cell_type": "code",
   "execution_count": 1,
   "id": "c3edb260",
   "metadata": {},
   "outputs": [],
   "source": [
    "import os\n",
    "import numpy as np\n",
    "import pandas as pd\n",
    "import matplotlib.pyplot as plt\n",
    "%matplotlib inline\n",
    "import rubin_sim.maf as maf"
   ]
  },
  {
   "cell_type": "markdown",
   "id": "f12d65d9",
   "metadata": {},
   "source": [
    "Load the baseline v2.0 as a test case OpSim:"
   ]
  },
  {
   "cell_type": "code",
   "execution_count": 2,
   "id": "6b83ef7d",
   "metadata": {},
   "outputs": [
    {
     "name": "stdout",
     "output_type": "stream",
     "text": [
      "/Users/rstreet1/rubin_sim_data/sim_baseline/baseline_v2.0_10yrs.db\n",
      "baseline_v2.0_10yrs\n"
     ]
    }
   ],
   "source": [
    "from rubin_sim.data import get_baseline\n",
    "\n",
    "opsim_fname = get_baseline()\n",
    "print(opsim_fname)\n",
    "\n",
    "runName = os.path.split(opsim_fname)[-1].replace('.db', '')\n",
    "print(runName)\n",
    "opsim_db = maf.OpsimDatabase(opsim_fname)"
   ]
  },
  {
   "cell_type": "markdown",
   "id": "1e5976e0",
   "metadata": {},
   "source": [
    "Taking an example sky location within the Galactic Bulge:"
   ]
  },
  {
   "cell_type": "code",
   "execution_count": 3,
   "id": "40043a62",
   "metadata": {},
   "outputs": [],
   "source": [
    "test_ra = (17.0 + 57.0/60.0 + 34.0/3600.0)*15.0\n",
    "test_dec = (29.0 + 13.0/60.0 + 15.0/3600.0)*-1.0\n",
    "test_slicer = maf.UserPointsSlicer(test_ra, test_dec)"
   ]
  },
  {
   "cell_type": "code",
   "execution_count": 4,
   "id": "cddc61f7",
   "metadata": {},
   "outputs": [],
   "source": [
    "import numpy as np\n",
    "import healpy as hp\n",
    "\n",
    "class calcVisitIntervalMetric(maf.BaseMetric):\n",
    "    \"\"\"Metric to evaluate the intervals between sequential observations in a\n",
    "    lightcurve relative to the scientifically desired sampling interval.\n",
    "\n",
    "    Parameters\n",
    "    ----------\n",
    "    observationStartMJD : float, MJD timestamp of the start of a given observation\n",
    "    \"\"\"\n",
    "\n",
    "    def __init__(\n",
    "        self,\n",
    "        cols=[\"observationStartMJD\", \"fiveSigmaDepth\"],\n",
    "        metricName=\"calcVisitIntervalMetric\",\n",
    "        **kwargs\n",
    "    ):\n",
    "        \"\"\"tau_obs is an array of minimum-required observation intervals for four categories\n",
    "        of time variability\"\"\"\n",
    "\n",
    "        self.mjdCol = \"observationStartMJD\"\n",
    "        self.m5Col = \"fiveSigmaDepth\"\n",
    "        self.tau_obs = np.array([2.0, 20.0, 73.0, 365.0])\n",
    "        self.magLimit = 22.0\n",
    "\n",
    "        super().__init__(col=cols, metricName=metricName, metricDtype=\"object\")\n",
    "\n",
    "    def run(self, dataSlice, slicePoint=None):\n",
    "\n",
    "        metric_data = {}\n",
    "\n",
    "        # Select observations in the time sequence that fulfill the S/N requirements:\n",
    "        match = np.where(dataSlice[self.m5Col] >= self.magLimit)[0]\n",
    "\n",
    "        # Calculate the median time interval from the observation\n",
    "        # sequence in the dataSlice\n",
    "        tobs_ordered = dataSlice[self.mjdCol][match]\n",
    "        tobs_ordered.sort()\n",
    "        delta_tobs = tobs_ordered[1:] - tobs_ordered[0:-1]\n",
    "\n",
    "        for i, tau in enumerate(self.tau_obs):\n",
    "            metric_data[tau] = self.calc_interval_metric(delta_tobs, tau)\n",
    "\n",
    "            # Normalize by the number of intervals in the lightcurve\n",
    "            metric_data[tau] /= len(delta_tobs)\n",
    "\n",
    "        return metric_data\n",
    "\n",
    "    def calc_interval_metric(self, delta_tobs, tau):\n",
    "        # Decay constant for metric value relationship as a function of\n",
    "        # observation interval\n",
    "        K = 1.0 / tau\n",
    "        m = np.zeros(len(delta_tobs))\n",
    "        idx = np.where(delta_tobs <= tau)[0]\n",
    "        m[idx] = 1.0\n",
    "        idx = np.where(delta_tobs > tau)[0]\n",
    "        m[idx] = np.exp(-K * (delta_tobs[idx] - tau))\n",
    "        return m.sum()\n"
   ]
  },
  {
   "cell_type": "code",
   "execution_count": 5,
   "id": "1f72fb98",
   "metadata": {},
   "outputs": [
    {
     "name": "stdout",
     "output_type": "stream",
     "text": [
      "Querying database None with no constraint for columns ['fieldDec', 'rotSkyPos', 'fieldRA', 'fiveSigmaDepth', 'observationStartMJD'].\n",
      "Found 2086980 visits\n",
      "Running:  ['test_metric']\n",
      "Completed metric generation.\n",
      "Running reduce methods.\n",
      "Running summary statistics.\n",
      "Completed.\n"
     ]
    }
   ],
   "source": [
    "#mymetric = transientTimeSamplingMetric()\n",
    "mymetric = calcVisitIntervalMetric()\n",
    "sqlconstraint = None\n",
    "bundle = maf.MetricBundle(mymetric, test_slicer, sqlconstraint, runName=runName)\n",
    "g = maf.MetricBundleGroup({'test_metric': bundle}, opsim_db, outDir='test', resultsDb=None)\n",
    "g.runAll()"
   ]
  },
  {
   "cell_type": "code",
   "execution_count": 6,
   "id": "7c4df12b",
   "metadata": {},
   "outputs": [
    {
     "data": {
      "text/plain": [
       "{2.0: 0.7673376025611989,\n",
       " 20.0: 0.9837255461299563,\n",
       " 73.0: 0.9920723583650523,\n",
       " 365.0: 1.0}"
      ]
     },
     "execution_count": 6,
     "metadata": {},
     "output_type": "execute_result"
    }
   ],
   "source": [
    "bundle.metricValues.data[0]"
   ]
  },
  {
   "cell_type": "code",
   "execution_count": 7,
   "id": "750b862d",
   "metadata": {},
   "outputs": [],
   "source": [
    "import numpy as np\n",
    "import healpy as hp\n",
    "\n",
    "class calcSeasonVisibilityGapsMetric(maf.BaseMetric):\n",
    "    \"\"\"Metric to evaluate the gap between sequential seasonal gaps in\n",
    "    observations in a lightcurve relative to the scientifically desired\n",
    "    sampling interval.\n",
    "\n",
    "    Parameters\n",
    "    ----------\n",
    "    fieldRA : float, RA in degrees of a given pointing\n",
    "    observationStartMJD : float, MJD timestamp of the start of a given observation\n",
    "    \"\"\"\n",
    "\n",
    "    def __init__(\n",
    "        self,\n",
    "        cols=[\n",
    "            \"fieldRA\",\n",
    "            \"observationStartMJD\",\n",
    "        ],\n",
    "        metricName=\"calcSeasonVisibilityGapsMetric\",\n",
    "        **kwargs\n",
    "    ):\n",
    "\n",
    "        \"\"\"tau_obs is an array of minimum-required observation intervals for\n",
    "        four categories of time variability\"\"\"\n",
    "\n",
    "        self.tau_obs = np.array([2.0, 20.0, 73.0, 365.0])\n",
    "        self.ra_col = \"fieldRA\"\n",
    "        self.mjdCol = \"observationStartMJD\"\n",
    "\n",
    "        super().__init__(col=cols, metricName=metricName, metricDtype=\"object\")\n",
    "\n",
    "    def calcSeasonGaps(self, dataSlice):\n",
    "        \"\"\"Given the RA of a field pointing, and time of observation, calculate\n",
    "        the length of the gaps between observing seasons.\n",
    "\n",
    "        Parameters\n",
    "        ----------\n",
    "        ra : float\n",
    "            The RA (in degrees) of the point on the sky\n",
    "        time : np.ndarray\n",
    "            The times of the observations, in MJD\n",
    "        Returns\n",
    "        -------\n",
    "        np.ndarray\n",
    "            Time gaps in days between sequential observing seasons\n",
    "        \"\"\"\n",
    "\n",
    "        seasons = maf.seasonMetrics.calcSeason(\n",
    "            dataSlice[self.ra_col], dataSlice[self.mjdCol]\n",
    "        )\n",
    "        firstOfSeason, lastOfSeason = maf.seasonMetrics.findSeasonEdges(seasons)\n",
    "        ngaps = len(firstOfSeason) - 1\n",
    "        season_gaps = (\n",
    "            dataSlice[self.mjdCol][lastOfSeason[0 : ngaps - 1]]\n",
    "            - dataSlice[self.mjdCol][firstOfSeason[1:ngaps]]\n",
    "        )\n",
    "\n",
    "        return season_gaps\n",
    "\n",
    "    def run(self, dataSlice, slicePoint=None):\n",
    "        season_gaps = self.calcSeasonGaps(dataSlice)\n",
    "\n",
    "        # To avoid the intensive calculation of the exact visibility of every pointing\n",
    "        # for 365d a year, we adopt the pre-calculated values for an example field in\n",
    "        # the Galactic Bulge, which receives good, but not circumpolar, annual visibility.\n",
    "        total_time_visible_days = 1975.1256 / 24.0\n",
    "        expected_gap = 365.24 - total_time_visible_days\n",
    "\n",
    "        metric_data = {}\n",
    "        interval_metric = calcVisitIntervalMetric()\n",
    "        for i, tau in enumerate(self.tau_obs):\n",
    "            if tau >= expected_gap:\n",
    "                metric_data[tau] = 0.0\n",
    "                for t in season_gaps:\n",
    "                    metric_data[\n",
    "                    tau\n",
    "                    ] += interval_metric.calc_interval_metric(np.array([t]), tau)\n",
    "                metric_data[tau] /= 10.0\n",
    "\n",
    "            else:\n",
    "                metric_data[tau] = 1.0\n",
    "\n",
    "        return metric_data"
   ]
  },
  {
   "cell_type": "code",
   "execution_count": 8,
   "id": "f84643a8",
   "metadata": {},
   "outputs": [
    {
     "name": "stdout",
     "output_type": "stream",
     "text": [
      "Querying database None with no constraint for columns ['fieldDec', 'fieldRA', 'observationStartMJD', 'rotSkyPos'].\n",
      "Found 2086980 visits\n",
      "Running:  ['test_metric']\n",
      "Completed metric generation.\n",
      "Running reduce methods.\n",
      "Running summary statistics.\n",
      "Completed.\n"
     ]
    }
   ],
   "source": [
    "mymetric2 = calcSeasonVisibilityGapsMetric()\n",
    "sqlconstraint = None\n",
    "bundle = maf.MetricBundle(mymetric2, test_slicer, sqlconstraint, runName=runName)\n",
    "g = maf.MetricBundleGroup({'test_metric': bundle}, opsim_db, outDir='test', resultsDb=None)\n",
    "g.runAll()"
   ]
  },
  {
   "cell_type": "code",
   "execution_count": 9,
   "id": "1f4997b8",
   "metadata": {},
   "outputs": [
    {
     "data": {
      "text/plain": [
       "{2.0: 1.0, 20.0: 1.0, 73.0: 1.0, 365.0: 0.8}"
      ]
     },
     "execution_count": 9,
     "metadata": {},
     "output_type": "execute_result"
    }
   ],
   "source": [
    "bundle.metricValues.data[0]"
   ]
  },
  {
   "cell_type": "code",
   "execution_count": 19,
   "id": "85cd6bfd",
   "metadata": {},
   "outputs": [],
   "source": [
    "import numpy as np\n",
    "import healpy as hp\n",
    "\n",
    "class transientTimeSamplingMetric(maf.BaseMetric):\n",
    "    \"\"\"Metric to evaluate how well a survey strategy will sample lightcurves,\n",
    "    using a metric geared towards transient phenomena, to evaluate both the\n",
    "    intervals between sequential observations and also the impact of gaps between\n",
    "    observing seasons.\n",
    "\n",
    "    Parameters\n",
    "    ----------\n",
    "    observationStartMJD : float, MJD timestamp of the start of a given observation\n",
    "    \"\"\"\n",
    "\n",
    "    def __init__(\n",
    "        self,\n",
    "        cols=[\n",
    "            \"observationStartMJD\",\n",
    "            \"fiveSigmaDepth\",\n",
    "        ],\n",
    "        metricName=\"calcVisitIntervalMetric\",\n",
    "        **kwargs\n",
    "    ):\n",
    "        \"\"\"tau_obs is an array of minimum-required observation intervals for\n",
    "        four categories of time variability\"\"\"\n",
    "\n",
    "        self.mjdCol = \"observationStartMJD\"\n",
    "        self.m5Col = \"fiveSigmaDepth\"\n",
    "        self.tau_obs = np.array([2.0, 20.0, 73.0, 365.0])\n",
    "\n",
    "        super().__init__(col=cols, metricName=metricName, metricDtype=\"object\")\n",
    "\n",
    "    def run(self, dataSlice, slicePoint=None):\n",
    "\n",
    "        metric1 = calcVisitIntervalMetric()\n",
    "        m1 = metric1.run(dataSlice, slicePoint)\n",
    "        metric2 = calcSeasonVisibilityGapsMetric()\n",
    "        m2 = metric2.run(dataSlice, slicePoint)\n",
    "\n",
    "        metric_data = {}\n",
    "        for i, tau in enumerate(self.tau_obs):\n",
    "            metric_data[tau] = m1[tau] * m2[tau]\n",
    "\n",
    "        return metric_data\n"
   ]
  },
  {
   "cell_type": "code",
   "execution_count": 20,
   "id": "fcc0c03d",
   "metadata": {},
   "outputs": [
    {
     "name": "stdout",
     "output_type": "stream",
     "text": [
      "Querying database observations with no constraint for columns ['fieldDec', 'fiveSigmaDepth', 'fieldRA', 'rotSkyPos', 'observationStartMJD'].\n",
      "Found 2086980 visits\n",
      "Running:  ['test_metric']\n",
      "Completed metric generation.\n",
      "Running reduce methods.\n",
      "Running summary statistics.\n",
      "Completed.\n"
     ]
    }
   ],
   "source": [
    "mymetric = transientTimeSamplingMetric()\n",
    "sqlconstraint = None\n",
    "bundle = maf.MetricBundle(mymetric, test_slicer, sqlconstraint, runName=runName)\n",
    "g = maf.MetricBundleGroup({'test_metric': bundle}, opsim_db, outDir='test', resultsDb=None)\n",
    "g.runAll()"
   ]
  },
  {
   "cell_type": "code",
   "execution_count": 21,
   "id": "6988e2a1",
   "metadata": {},
   "outputs": [
    {
     "data": {
      "text/plain": [
       "{2.0: 0.7673376025611989,\n",
       " 20.0: 0.9837255461299563,\n",
       " 73.0: 0.9920723583650523,\n",
       " 365.0: 0.8}"
      ]
     },
     "execution_count": 21,
     "metadata": {},
     "output_type": "execute_result"
    }
   ],
   "source": [
    "bundle.metricValues.data[0]"
   ]
  },
  {
   "cell_type": "code",
   "execution_count": null,
   "id": "c87b27e0",
   "metadata": {},
   "outputs": [],
   "source": []
  }
 ],
 "metadata": {
  "kernelspec": {
   "display_name": "Python 3 (ipykernel)",
   "language": "python",
   "name": "python3"
  },
  "language_info": {
   "codemirror_mode": {
    "name": "ipython",
    "version": 3
   },
   "file_extension": ".py",
   "mimetype": "text/x-python",
   "name": "python",
   "nbconvert_exporter": "python",
   "pygments_lexer": "ipython3",
   "version": "3.9.7"
  }
 },
 "nbformat": 4,
 "nbformat_minor": 5
}
