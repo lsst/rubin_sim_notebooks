{
 "cells": [
  {
   "cell_type": "code",
   "execution_count": 1,
   "id": "808b6713",
   "metadata": {},
   "outputs": [],
   "source": [
    "import os\n",
    "import numpy as np\n",
    "import pandas as pd\n",
    "import matplotlib.pyplot as plt\n",
    "import astropy.units as u\n",
    "from astropy.coordinates import get_sun\n",
    "from astropy.time import Time, TimeDelta\n",
    "\n",
    "from rubin_scheduler.utils import Site\n",
    "from rubin_scheduler.utils import approx_ra_dec2_alt_az\n",
    "import rubin_sim.maf as maf"
   ]
  },
  {
   "cell_type": "code",
   "execution_count": 2,
   "id": "012e804a",
   "metadata": {},
   "outputs": [],
   "source": [
    "start_time = Time('2025-01-02', format='iso', scale='utc')\n",
    "end_time = Time('2025-05-02', format='iso', scale='utc')\n",
    "ra = 30.0\n",
    "dec = -20.0"
   ]
  },
  {
   "cell_type": "code",
   "execution_count": 5,
   "id": "86ab5565",
   "metadata": {},
   "outputs": [
    {
     "name": "stderr",
     "output_type": "stream",
     "text": [
      "WARNING: TimeDeltaMissingUnitWarning: Numerical value without unit or explicit format passed to TimeDelta, assuming days [astropy.time.core]\n",
      "WARNING: Tried to get polar motions for times after IERS data is valid. Defaulting to polar motion from the 50-yr mean for those. This may affect precision at the arcsec level. Please check your astropy.utils.iers.conf.iers_auto_url and point it to a newer version if necessary. [astropy.coordinates.builtin_frames.utils]\n"
     ]
    },
    {
     "name": "stdout",
     "output_type": "stream",
     "text": [
      "CPU times: user 30.7 s, sys: 239 ms, total: 30.9 s\n",
      "Wall time: 31 s\n"
     ]
    }
   ],
   "source": [
    "%%time\n",
    "hours, hours_vis = maf.maf_contrib.calculate_lsst_field_visibility(ra, dec, start_time, end_time)"
   ]
  },
  {
   "cell_type": "code",
   "execution_count": 3,
   "id": "1839144b-a095-4b67-8217-b5ba89a7b4f6",
   "metadata": {},
   "outputs": [
    {
     "name": "stdout",
     "output_type": "stream",
     "text": [
      "CPU times: user 1.93 s, sys: 27.2 ms, total: 1.95 s\n",
      "Wall time: 1.96 s\n"
     ]
    }
   ],
   "source": [
    "%%time\n",
    "tvis, dates = maf.maf_contrib.calculate_lsst_field_visibility_fast(ra, dec, start_time, end_time)"
   ]
  },
  {
   "cell_type": "code",
   "execution_count": 6,
   "id": "80662123-52a3-48d5-b606-274445f061b1",
   "metadata": {},
   "outputs": [
    {
     "data": {
      "text/plain": [
       "(14.2093, array(14.2198))"
      ]
     },
     "execution_count": 6,
     "metadata": {},
     "output_type": "execute_result"
    }
   ],
   "source": [
    "tvis, hours"
   ]
  },
  {
   "cell_type": "code",
   "execution_count": 13,
   "id": "6d64802d-f8e3-4ced-8d28-bad2e0a3f898",
   "metadata": {},
   "outputs": [
    {
     "data": {
      "text/plain": [
       "array([60677.1799    , 60678.17739999, 60679.17419999, 60680.17169999,\n",
       "       60681.16919998, 60682.16599998, 60683.16349997, 60684.16099997,\n",
       "       60685.15779996, 60686.15529996, 60687.15279995, 60688.14959995,\n",
       "       60689.14709995, 60690.14459994, 60691.14139994, 60692.13889993,\n",
       "       60693.13639993, 60694.13319992, 60695.13069992, 60696.12819991,\n",
       "       60697.12499991, 60698.12249991, 60699.1199999 , 60700.1167999 ,\n",
       "       60701.11429989, 60702.11179989, 60703.10859988, 60704.10609988,\n",
       "       60705.10359987, 60706.10039987, 60707.09789987, 60708.09539986,\n",
       "       60709.09219986, 60710.08969985, 60711.08719985, 60712.08399984,\n",
       "       60713.08149984, 60714.07899983, 60715.07579983, 60716.07329983,\n",
       "       60717.07079982, 60718.06759982, 60719.06509981, 60720.06259981,\n",
       "       60721.0593998 , 60722.0568998 , 60723.05439979, 60724.05119979,\n",
       "       60725.04869979, 60726.04619978, 60727.04299978, 60728.04049977,\n",
       "       60729.03799977, 60730.03479976, 60731.03229976, 60732.02979975,\n",
       "       60733.02729975, 60734.02409974, 60735.02159974, 60736.01909974,\n",
       "       60737.01589973, 60738.01339973, 60739.01089972, 60740.00769972,\n",
       "       60741.00519971, 60742.00269971, 60742.9994997 , 60743.9969997 ,\n",
       "       60744.9944997 , 60745.99129969, 60746.98879969, 60747.98629968,\n",
       "       60748.98309968, 60749.98059967, 60750.97809967, 60751.97489966,\n",
       "       60752.97239966, 60753.96989966, 60754.96669965, 60755.96419965,\n",
       "       60756.96169964, 60757.95849964, 60758.95599963, 60759.95349963,\n",
       "       60760.95029962, 60761.94779962, 60762.94529962, 60763.94209961,\n",
       "       60764.93959961, 60765.9370996 , 60766.9338996 , 60767.93139959,\n",
       "       60768.92889959, 60769.92569958, 60770.92319958, 60771.92069958,\n",
       "       60772.91749957, 60773.91499957, 60774.91249956, 60775.90929956,\n",
       "       60776.90679955, 60777.90429955, 60778.90109954, 60779.89859954,\n",
       "       60780.89609954, 60781.89289953, 60782.89039953, 60783.88789952,\n",
       "       60784.88469952, 60785.88219951, 60786.87969951, 60787.8764995 ,\n",
       "       60788.8739995 , 60789.8714995 , 60790.86829949, 60791.86579949,\n",
       "       60792.86329948, 60793.86009948, 60794.85759947, 60795.53099947])"
      ]
     },
     "execution_count": 13,
     "metadata": {},
     "output_type": "execute_result"
    }
   ],
   "source": [
    "dates[np.where(np.diff(dates) > 0.5)]"
   ]
  },
  {
   "cell_type": "code",
   "execution_count": 15,
   "id": "eeffc3ca-d335-4abe-ac7f-21cc50a9922e",
   "metadata": {},
   "outputs": [
    {
     "data": {
      "text/plain": [
       "3000.0"
      ]
     },
     "execution_count": 15,
     "metadata": {},
     "output_type": "execute_result"
    }
   ],
   "source": [
    "2*0.015*1000000/10"
   ]
  },
  {
   "cell_type": "code",
   "execution_count": null,
   "id": "3b813d5d-4124-4831-a4b9-0f38c9f3d5d7",
   "metadata": {},
   "outputs": [],
   "source": []
  }
 ],
 "metadata": {
  "kernelspec": {
   "display_name": "Python 3 (ipykernel)",
   "language": "python",
   "name": "python3"
  },
  "language_info": {
   "codemirror_mode": {
    "name": "ipython",
    "version": 3
   },
   "file_extension": ".py",
   "mimetype": "text/x-python",
   "name": "python",
   "nbconvert_exporter": "python",
   "pygments_lexer": "ipython3",
   "version": "3.11.6"
  }
 },
 "nbformat": 4,
 "nbformat_minor": 5
}
