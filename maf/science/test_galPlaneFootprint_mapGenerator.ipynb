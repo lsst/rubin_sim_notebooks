{
 "cells": [
  {
   "cell_type": "code",
   "execution_count": 17,
   "id": "edde34e1",
   "metadata": {},
   "outputs": [],
   "source": [
    "import os\n",
    "from rubin_sim.scheduler.utils import Sky_area_generator\n",
    "import healpy as hp\n",
    "import numpy as np\n",
    "from rubin_sim.data import get_data_dir\n",
    "from astropy.io import fits"
   ]
  },
  {
   "cell_type": "code",
   "execution_count": 93,
   "id": "7ee1cb6c",
   "metadata": {},
   "outputs": [],
   "source": [
    "class gal_plane_footprint_generator(Sky_area_generator):\n",
    "\n",
    "    def add_gal_plane_region(self, filter_ratios, label='gal_plane',\n",
    "                            priority_threshold=0.3, pencilbeams='small'):\n",
    "        \"\"\"Method to create a map region from pre-calculated maps of desired\n",
    "        survey regions in the Galactic Plane.\n",
    "\n",
    "        The maps indicate the relative priority of each HEALpix across the sky.\n",
    "        This can be used to vary the selected survey region by decreasing the\n",
    "        priority_threshold parameter (thereby selecting a larger region) or\n",
    "        conversely by increasing it (limiting the survey to a smaller region).\n",
    "        priority_threshold values between 0.3 - map.max() (~1.5) are recommended.\n",
    "\n",
    "        Two alternative maps are available.  The default ('small' pencilbeams)\n",
    "        includes 20 single-pointing pencilbeam fields distributed across the\n",
    "        Galactic Plane.  The alternative ('alt' pencilbeams) map includes 4 larger pencilbeam\n",
    "        fields at selected locations towards the galactic arms.\n",
    "        \"\"\"\n",
    "\n",
    "        # Since this method is designed to outline the survey region footprint,\n",
    "        # and labels pixels according to survey region in a filter-agnostic way,\n",
    "        # we use the i-band priority map to define the survey region.\n",
    "        self.MAP_DIR = get_data_dir()\n",
    "        if pencilbeams == 'small':\n",
    "            self.MAP_FILE_ROOT_NAME = \"priority_GalPlane_footprint_map_data_i.fits\"\n",
    "        else:\n",
    "            self.MAP_FILE_ROOT_NAME = \"priority_GalPlane_footprint_alt_map_data_i.fits\"\n",
    "\n",
    "        file_path = os.path.join(\n",
    "            self.MAP_DIR,\n",
    "            \"maf\",\n",
    "            self.MAP_FILE_ROOT_NAME\n",
    "            )\n",
    "        map_data_table = self.load_map_data(file_path)\n",
    "\n",
    "        # The priority threshold corresponds to a threshold in stellar density,\n",
    "        # which is used to identify the HEALpixels of interest for the survey\n",
    "        # region.\n",
    "        temp_map = np.zeros(len(map_data_table['combined_map']))\n",
    "        survey_region_pixels = np.where(map_data_table['combined_map'] >= priority_threshold)[0]\n",
    "        temp_map[survey_region_pixels] = 1.0\n",
    "\n",
    "        # Resample temp_map to ensure that it matches the NSIDE parameter\n",
    "        # being used for the current simulation:\n",
    "        resampled_map = hp.ud_grade(temp_map, self.nside)\n",
    "\n",
    "        # Ensure designated pixels are not overriden\n",
    "        # NOTE: Labeling pixels independently of the filter selection\n",
    "        # implicitly assumes that the survey footprint is the same in all\n",
    "        # filters.  This does not necessarily hold true for all regions in\n",
    "        # the Galactic Plane\n",
    "        indx = np.where((resampled_map > 0) & (self.pix_labels == \"\"))\n",
    "        self.pix_labels[indx] = label\n",
    "\n",
    "        for filtername in filter_ratios.keys():\n",
    "            self.healmaps[filtername][indx] = filter_ratios[filtername]\n",
    "\n",
    "    def load_map_data(self,file_path):\n",
    "\n",
    "        with fits.open(file_path) as hdul:\n",
    "            map_data_table = hdul[1].data\n",
    "\n",
    "        return map_data_table\n",
    "\n",
    "    def return_maps(\n",
    "        self,\n",
    "        magellenic_clouds_ratios={\"u\": 0.32,\"g\": 0.4,\"r\": 1.0,\"i\": 1.0,\"z\": 0.9,\"y\": 0.9,},\n",
    "        scp_ratios={\"u\": 0.1, \"g\": 0.1, \"r\": 0.1, \"i\": 0.1, \"z\": 0.1, \"y\": 0.1},\n",
    "        nes_ratios={\"g\": 0.28, \"r\": 0.4, \"i\": 0.4, \"z\": 0.28},\n",
    "        dusty_plane_ratios={\"u\": 0.1,\"g\": 0.28, \"r\": 0.28,\"i\": 0.28,\"z\": 0.28,\"y\": 0.1,},\n",
    "        low_dust_ratios={\"u\": 0.32, \"g\": 0.4, \"r\": 1.0, \"i\": 1.0, \"z\": 0.9, \"y\": 0.9},\n",
    "        bulge_ratios={\"u\": 0.18, \"g\": 1.0, \"r\": 1.05, \"i\": 1.05, \"z\": 1.0, \"y\": 0.23},\n",
    "        virgo_ratios={\"u\": 0.32, \"g\": 0.4, \"r\": 1.0, \"i\": 1.0, \"z\": 0.9, \"y\": 0.9},\n",
    "\n",
    "        gal_plane_ratios = {\"u\": 0.18, \"g\": 1.0, \"r\": 1.05, \"i\": 1.05, \"z\": 1.0, \"y\": 0.23},\n",
    "        ):\n",
    "        # Array to hold the labels for each pixel\n",
    "        self.pix_labels = np.zeros(hp.nside2npix(self.nside), dtype=\"U20\")\n",
    "        self.healmaps = np.zeros(\n",
    "            hp.nside2npix(self.nside),\n",
    "            dtype=list(zip([\"u\", \"g\", \"r\", \"i\", \"z\", \"y\"], [float] * 7)),\n",
    "        )\n",
    "\n",
    "        # Note, order here matters. Once a HEALpix is set and labled, subsequent add_ methods\n",
    "        # will not override that pixel.\n",
    "        self.add_gal_plane_region(gal_plane_ratios)\n",
    "\n",
    "        self.add_magellanic_clouds(magellenic_clouds_ratios)\n",
    "        self.add_lowdust_wfd(low_dust_ratios)\n",
    "        self.add_virgo_cluster(virgo_ratios)\n",
    "        self.add_bulge(bulge_ratios)\n",
    "        self.add_nes(nes_ratios)\n",
    "        self.add_dusty_plane(dusty_plane_ratios)\n",
    "        self.add_scp(scp_ratios)\n",
    "\n",
    "        return self.healmaps, self.pix_labels\n",
    "\n"
   ]
  },
  {
   "cell_type": "code",
   "execution_count": 94,
   "id": "9c59d0d5",
   "metadata": {},
   "outputs": [
    {
     "data": {
      "image/png": "[encoded data removed]",
      "text/plain": [
       "<Figure size 612x388.8 with 2 Axes>"
      ]
     },
     "metadata": {
      "needs_background": "light"
     },
     "output_type": "display_data"
    }
   ],
   "source": [
    "sag = gal_plane_footprint_generator()\n",
    "sky_maps, labels = sag.return_maps()\n",
    "hp.mollview(sky_maps['r'], title='updated')"
   ]
  },
  {
   "cell_type": "code",
   "execution_count": null,
   "id": "787d8e00",
   "metadata": {},
   "outputs": [],
   "source": []
  },
  {
   "cell_type": "code",
   "execution_count": null,
   "id": "24a38749",
   "metadata": {},
   "outputs": [],
   "source": []
  }
 ],
 "metadata": {
  "kernelspec": {
   "display_name": "Python 3 (ipykernel)",
   "language": "python",
   "name": "python3"
  },
  "language_info": {
   "codemirror_mode": {
    "name": "ipython",
    "version": 3
   },
   "file_extension": ".py",
   "mimetype": "text/x-python",
   "name": "python",
   "nbconvert_exporter": "python",
   "pygments_lexer": "ipython3",
   "version": "3.9.7"
  }
 },
 "nbformat": 4,
 "nbformat_minor": 5
}
