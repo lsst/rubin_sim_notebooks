{
 "cells": [
  {
   "cell_type": "markdown",
   "id": "da71daa6",
   "metadata": {},
   "source": [
    "## Pulsating Star Recovery metric ##\n",
    "\n",
    "Metric Authors: Marcella Di Criscienzo, Silvio Leccia & Vittorio Braga"
   ]
  },
  {
   "cell_type": "code",
   "execution_count": 30,
   "id": "aa9ee4fa",
   "metadata": {},
   "outputs": [],
   "source": [
    "import os\n",
    "import numpy as np\n",
    "import pandas as pd\n",
    "import matplotlib.pyplot as plt\n",
    "\n",
    "import rubin_sim.maf as maf\n",
    "from rubin_sim.data import get_baseline, get_data_dir"
   ]
  },
  {
   "cell_type": "code",
   "execution_count": 6,
   "id": "fe65b694",
   "metadata": {},
   "outputs": [
    {
     "name": "stdout",
     "output_type": "stream",
     "text": [
      "baseline_v2.1_10yrs\n"
     ]
    }
   ],
   "source": [
    "opsdb = get_baseline()\n",
    "runName = os.path.split(opsdb)[-1].replace('.db', '')\n",
    "print(runName)"
   ]
  },
  {
   "cell_type": "markdown",
   "id": "2bfeeddf",
   "metadata": {},
   "source": [
    "The PulsatingStarRecovery metric takes an input lightcurve of a variable star, creates observations as would be achieved from opsim, adds noise, and then uses gatspy multi-band fitting to try to fit the lightcurve. \n",
    "If a stellar catalog is provided, the lightcurve will be evaluated in the presence of blending with the background sources. \n",
    "\n",
    "The metric is currently only run at a few spots on the sky and for a limited amount of time. "
   ]
  },
  {
   "cell_type": "code",
   "execution_count": 28,
   "id": "f6860545",
   "metadata": {},
   "outputs": [],
   "source": [
    "test_ra = 270.8839167\n",
    "test_dec = -30.0352667"
   ]
  },
  {
   "cell_type": "code",
   "execution_count": 25,
   "id": "e41341bf",
   "metadata": {},
   "outputs": [
    {
     "name": "stdout",
     "output_type": "stream",
     "text": [
      "4\n"
     ]
    }
   ],
   "source": [
    "# Build the background catalog from TRILEGAL.\n",
    "# We'll store this in rubin_sim_data. \n",
    "\n",
    "import dl.queryClient as qc\n",
    "\n",
    "table = 'lsst_sim.simdr2'\n",
    "\n",
    "radius = 0.0002\n",
    "query = (\"select ra,dec,umag,gmag, rmag, imag, zmag, ymag, mu0, gc, mass from {} \"\\\n",
    "         \"where q3c_radial_query(ra, dec, {}, {}, {})\".format(table, test_ra, test_dec, radius))\n",
    "df = qc.query(sql=query ,timeout=1000, fmt='pandas') \n",
    "print(len(df))\n",
    "df.to_hdf(f'simdr2_{test_ra:.1f}_{test_dec:.1f}.hdf', 'simdr2')"
   ]
  },
  {
   "cell_type": "code",
   "execution_count": 26,
   "id": "818bba2e",
   "metadata": {},
   "outputs": [
    {
     "data": {
      "text/html": [
       "<div>\n",
       "<style scoped>\n",
       "    .dataframe tbody tr th:only-of-type {\n",
       "        vertical-align: middle;\n",
       "    }\n",
       "\n",
       "    .dataframe tbody tr th {\n",
       "        vertical-align: top;\n",
       "    }\n",
       "\n",
       "    .dataframe thead th {\n",
       "        text-align: right;\n",
       "    }\n",
       "</style>\n",
       "<table border=\"1\" class=\"dataframe\">\n",
       "  <thead>\n",
       "    <tr style=\"text-align: right;\">\n",
       "      <th></th>\n",
       "      <th>ra</th>\n",
       "      <th>dec</th>\n",
       "      <th>umag</th>\n",
       "      <th>gmag</th>\n",
       "      <th>rmag</th>\n",
       "      <th>imag</th>\n",
       "      <th>zmag</th>\n",
       "      <th>ymag</th>\n",
       "      <th>mu0</th>\n",
       "      <th>gc</th>\n",
       "      <th>mass</th>\n",
       "    </tr>\n",
       "  </thead>\n",
       "  <tbody>\n",
       "    <tr>\n",
       "      <th>0</th>\n",
       "      <td>270.883756</td>\n",
       "      <td>-30.035409</td>\n",
       "      <td>29.475</td>\n",
       "      <td>26.248</td>\n",
       "      <td>24.683</td>\n",
       "      <td>23.300</td>\n",
       "      <td>22.587</td>\n",
       "      <td>22.217</td>\n",
       "      <td>14.35</td>\n",
       "      <td>4</td>\n",
       "      <td>0.607</td>\n",
       "    </tr>\n",
       "    <tr>\n",
       "      <th>1</th>\n",
       "      <td>270.883803</td>\n",
       "      <td>-30.035364</td>\n",
       "      <td>28.944</td>\n",
       "      <td>25.712</td>\n",
       "      <td>24.158</td>\n",
       "      <td>22.791</td>\n",
       "      <td>22.088</td>\n",
       "      <td>21.724</td>\n",
       "      <td>13.90</td>\n",
       "      <td>4</td>\n",
       "      <td>0.611</td>\n",
       "    </tr>\n",
       "    <tr>\n",
       "      <th>2</th>\n",
       "      <td>270.883866</td>\n",
       "      <td>-30.035426</td>\n",
       "      <td>24.411</td>\n",
       "      <td>21.688</td>\n",
       "      <td>20.454</td>\n",
       "      <td>19.935</td>\n",
       "      <td>19.599</td>\n",
       "      <td>19.417</td>\n",
       "      <td>15.05</td>\n",
       "      <td>4</td>\n",
       "      <td>1.042</td>\n",
       "    </tr>\n",
       "    <tr>\n",
       "      <th>3</th>\n",
       "      <td>270.884056</td>\n",
       "      <td>-30.035187</td>\n",
       "      <td>31.878</td>\n",
       "      <td>28.551</td>\n",
       "      <td>26.807</td>\n",
       "      <td>25.606</td>\n",
       "      <td>24.941</td>\n",
       "      <td>24.603</td>\n",
       "      <td>16.00</td>\n",
       "      <td>1</td>\n",
       "      <td>0.466</td>\n",
       "    </tr>\n",
       "  </tbody>\n",
       "</table>\n",
       "</div>"
      ],
      "text/plain": [
       "           ra        dec    umag    gmag    rmag    imag    zmag    ymag  \\\n",
       "0  270.883756 -30.035409  29.475  26.248  24.683  23.300  22.587  22.217   \n",
       "1  270.883803 -30.035364  28.944  25.712  24.158  22.791  22.088  21.724   \n",
       "2  270.883866 -30.035426  24.411  21.688  20.454  19.935  19.599  19.417   \n",
       "3  270.884056 -30.035187  31.878  28.551  26.807  25.606  24.941  24.603   \n",
       "\n",
       "     mu0  gc   mass  \n",
       "0  14.35   4  0.607  \n",
       "1  13.90   4  0.611  \n",
       "2  15.05   4  1.042  \n",
       "3  16.00   1  0.466  "
      ]
     },
     "execution_count": 26,
     "metadata": {},
     "output_type": "execute_result"
    }
   ],
   "source": [
    "pd.read_hdf(f'simdr2_{test_ra:.1f}_{test_dec:.1f}.hdf')"
   ]
  },
  {
   "cell_type": "markdown",
   "id": "9921ed32",
   "metadata": {},
   "source": [
    "Potentially, you could run this metric at a series of points over the sky, and download additional versions of the data file (or if you run with a live connection, connect and query at each point). OR you could run the metric with 'deblend' off, so you don't need the stellar catalog information.\n",
    "We currently have the test catalog created above in `$RUBIN_SIM_DATA_DIR/maf/pulsatingStars/simdr2_270.9_-30.0.hdf`, and it will be used as the default is `do_deblend` is set in the metric."
   ]
  },
  {
   "cell_type": "code",
   "execution_count": 29,
   "id": "be2f8b88",
   "metadata": {},
   "outputs": [],
   "source": [
    "slicer = maf.UserPointsSlicer(test_ra, test_dec)\n",
    "\n",
    "# While we're here, let's get the opsim data and set up this slicer \n",
    "# .. that way we have the visit info available to play with and show sampled lightcurve\n",
    "\n",
    "simData = maf.getMetricData()"
   ]
  },
  {
   "cell_type": "code",
   "execution_count": 115,
   "id": "338f5a43",
   "metadata": {},
   "outputs": [
    {
     "data": {
      "text/plain": [
       "(array([0, 1]),)"
      ]
     },
     "execution_count": 115,
     "metadata": {},
     "output_type": "execute_result"
    }
   ],
   "source": [
    "tt = np.array([1, 3, np.nan])\n",
    "mm = np.array([0, 2, 3])\n",
    "np.where(mm < tt)"
   ]
  },
  {
   "cell_type": "markdown",
   "id": "d023e540",
   "metadata": {},
   "source": [
    "The metric also needs a variable star light curve template. There are currently several available in `$RUBIN_SIM_DATA_DIR/maf/pulsatingStars`. "
   ]
  },
  {
   "cell_type": "code",
   "execution_count": 75,
   "id": "a7c3c7b4",
   "metadata": {},
   "outputs": [
    {
     "name": "stdout",
     "output_type": "stream",
     "text": [
      "['CEF1.csv', 'CEF2.csv', 'LPV1.csv', 'LPV2.csv', 'README.md', 'RRab.csv', 'RRc.csv', 'simdr2_270.9_-30.0.hdf']\n"
     ]
    },
    {
     "data": {
      "text/plain": [
       "Text(0, 0.5, 'magnitudes')"
      ]
     },
     "execution_count": 75,
     "metadata": {},
     "output_type": "execute_result"
    },
    {
     "data": {
      "image/png": "[encoded data removed]",
      "text/plain": [
       "<Figure size 576x360 with 1 Axes>"
      ]
     },
     "metadata": {
      "needs_background": "light"
     },
     "output_type": "display_data"
    }
   ],
   "source": [
    "# See what's available and show an example (of the default)\n",
    "print(sorted(os.listdir(os.path.join(get_data_dir(), 'maf/pulsatingStars'))))\n",
    "\n",
    "variable_lc = os.path.join(get_data_dir(), 'maf/pulsatingStars', 'RRc.csv')\n",
    "\n",
    "lc = pd.read_csv(variable_lc)\n",
    "# Modify period to seconds\n",
    "lc['period']  = lc['P'] * 24*60*60\n",
    "lc = lc.drop('P', axis=1)\n",
    "# Add a phased version of the time\n",
    "lc['phase'] = (lc['time'] - lc['time'][0]) / lc['period'] % 1\n",
    "# Rename the columns\n",
    "name_mapper = {f'{f}_lsst': f'{f}' for f in 'ugrizy'}\n",
    "lc.rename(columns=name_mapper, inplace=True)\n",
    "\n",
    "fig = plt.figure(figsize=(8,5))\n",
    "for k in 'ugrizy':\n",
    "    plt.plot(lc['time'], lc[k], label=k)\n",
    "plt.legend(loc=(0.9, 0.3))\n",
    "plt.xlabel('Time')\n",
    "plt.ylabel('magnitudes')"
   ]
  },
  {
   "cell_type": "code",
   "execution_count": null,
   "id": "dc43f314",
   "metadata": {},
   "outputs": [],
   "source": []
  },
  {
   "cell_type": "code",
   "execution_count": 23,
   "id": "71b28633",
   "metadata": {},
   "outputs": [
    {
     "ename": "AttributeError",
     "evalue": "'UserPointsSlicer' object has no attribute 'pixarea'",
     "output_type": "error",
     "traceback": [
      "\u001b[0;31m---------------------------------------------------------------------------\u001b[0m",
      "\u001b[0;31mAttributeError\u001b[0m                            Traceback (most recent call last)",
      "Input \u001b[0;32mIn [23]\u001b[0m, in \u001b[0;36m<cell line: 1>\u001b[0;34m()\u001b[0m\n\u001b[0;32m----> 1\u001b[0m \u001b[43mslicer\u001b[49m\u001b[38;5;241;43m.\u001b[39;49m\u001b[43mpixarea\u001b[49m\n",
      "\u001b[0;31mAttributeError\u001b[0m: 'UserPointsSlicer' object has no attribute 'pixarea'"
     ]
    }
   ],
   "source": [
    "metric = #parameters that must be inserted to run the metric PulsatingStarRecovery.py.Possible filenames are (https://github.com/MARCELLADC/PulsatingStarRecovery):\n",
    "#filename='./RRab.csv'\n",
    "#filename='./RRc.csv'\n",
    "#filename='./CEF1.csv'\n",
    "#filename='./CEF2.csv'\n",
    "#filename='./LPV1.csv'\n",
    "#filename='./LPV2.csv'\n",
    "filename='./RRc.csv'   #ascii file with the template of pulsating star\n",
    "dmod=14.5    #distance modulus\n",
    "sigmaFORnoise=1   # sigma for the computation of the error on the magnitude\n",
    "do_remove_saturated=True    #Remove from temporal series saurated visits  \n",
    "factorForDimensionGap=0.5  #parameter used in LcSampling \n",
    "numberOfHarmonics=3         #parameter used in LcFitting--suggested value for a RRC\n",
    "\n",
    "\n",
    "\n",
    "\n",
    "\n",
    "mymetric = maf.PulsatingStarRecovery(filename,dmod,sigmaFORnoise,do_remove_saturated,numberOfHarmonics,factorForDimensionGap)"
   ]
  },
  {
   "cell_type": "code",
   "execution_count": null,
   "id": "1c5e47d0",
   "metadata": {},
   "outputs": [],
   "source": []
  }
 ],
 "metadata": {
  "kernelspec": {
   "display_name": "Python 3 (ipykernel)",
   "language": "python",
   "name": "python3"
  },
  "language_info": {
   "codemirror_mode": {
    "name": "ipython",
    "version": 3
   },
   "file_extension": ".py",
   "mimetype": "text/x-python",
   "name": "python",
   "nbconvert_exporter": "python",
   "pygments_lexer": "ipython3",
   "version": "3.9.13"
  }
 },
 "nbformat": 4,
 "nbformat_minor": 5
}
