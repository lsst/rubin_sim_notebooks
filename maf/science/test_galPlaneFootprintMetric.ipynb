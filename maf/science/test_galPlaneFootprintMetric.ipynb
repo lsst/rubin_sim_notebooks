{
 "cells": [
  {
   "cell_type": "markdown",
   "id": "df6e8bc5",
   "metadata": {},
   "source": [
    "# Test Code for the Galactic Plane Footprint Metric"
   ]
  },
  {
   "cell_type": "markdown",
   "id": "8c27fc6e",
   "metadata": {},
   "source": [
    "Code adapted from an example by Lynne Jones"
   ]
  },
  {
   "cell_type": "code",
   "execution_count": 1,
   "id": "39c082d0",
   "metadata": {},
   "outputs": [],
   "source": [
    "import os\n",
    "import numpy as np\n",
    "import pandas as pd\n",
    "import matplotlib.pyplot as plt\n",
    "%matplotlib inline\n",
    "import rubin_sim.maf as maf\n",
    "from rubin_sim.data import get_data_dir\n",
    "import healpy as hp\n",
    "from astropy.io import fits"
   ]
  },
  {
   "cell_type": "markdown",
   "id": "f0cc4ce3",
   "metadata": {},
   "source": [
    "Load the baseline v2.0 as a test case OpSim:"
   ]
  },
  {
   "cell_type": "code",
   "execution_count": 2,
   "id": "b928dc29",
   "metadata": {},
   "outputs": [
    {
     "name": "stdout",
     "output_type": "stream",
     "text": [
      "/Users/rstreet1/rubin_sim_data/sim_baseline/baseline_v2.0_10yrs.db\n",
      "baseline_v2.0_10yrs\n"
     ]
    }
   ],
   "source": [
    "from rubin_sim.data import get_baseline\n",
    "\n",
    "opsim_fname = get_baseline()\n",
    "print(opsim_fname)\n",
    "\n",
    "runName = os.path.split(opsim_fname)[-1].replace('.db', '')\n",
    "print(runName)\n",
    "opsim_db = maf.OpsimDatabase(opsim_fname)"
   ]
  },
  {
   "cell_type": "markdown",
   "id": "fc4c48d5",
   "metadata": {},
   "source": [
    "Taking an example sky location within the Galactic Bulge:"
   ]
  },
  {
   "cell_type": "code",
   "execution_count": 3,
   "id": "5df2fba0",
   "metadata": {},
   "outputs": [],
   "source": [
    "test_ra = (17.0 + 57.0/60.0 + 34.0/3600.0)*15.0\n",
    "test_dec = (29.0 + 13.0/60.0 + 15.0/3600.0)*-1.0\n",
    "test_slicer = maf.UserPointsSlicer(test_ra, test_dec)"
   ]
  },
  {
   "cell_type": "code",
   "execution_count": 4,
   "id": "d6ffbd83",
   "metadata": {},
   "outputs": [],
   "source": [
    "class galPlaneFootprintMetric(maf.BaseMetric):\n",
    "    \"\"\"Metric to evaluate the survey overlap with desired regions in the Galactic Plane\n",
    "    and Magellanic Clouds, by referencing the pre-computed priority maps provided.\n",
    "\n",
    "    Parameters\n",
    "    ----------\n",
    "    fieldRA : float, RA in degrees of a given pointing\n",
    "    fieldDec : float, Dec in degrees of a given pointing\n",
    "    filter : str, filter bandpass used for a given observation\n",
    "    \"\"\"\n",
    "\n",
    "    def __init__(\n",
    "        self,\n",
    "        cols=[\"fieldRA\", \"fieldDec\", \"filter\", \"fiveSigmaDepth\"],\n",
    "        metricName=\"GalPlaneFootprintMetric\",\n",
    "        **kwargs\n",
    "    ):\n",
    "        \"\"\"Kwargs must contain:\n",
    "        science_map   string  Name of the priority footprint map to use from\n",
    "                                the column headers contained in the\n",
    "                                priority_GalPlane_footprint_map_data tables\n",
    "        \"\"\"\n",
    "\n",
    "        self.ra_col = \"fieldRA\"\n",
    "        self.dec_col = \"fieldDec\"\n",
    "        self.filterCol = \"filter\"\n",
    "        self.m5Col = \"fiveSigmaDepth\"\n",
    "        self.filters = [\"u\", \"g\", \"r\", \"i\", \"z\", \"y\"]\n",
    "        self.science_map = kwargs['science_map']\n",
    "        self.magCuts = {\n",
    "            \"u\": 22.7,\n",
    "            \"g\": 24.1,\n",
    "            \"r\": 23.7,\n",
    "            \"i\": 23.1,\n",
    "            \"z\": 22.2,\n",
    "            \"y\": 21.4,\n",
    "        }\n",
    "        cwd = os.getcwd()\n",
    "        self.MAP_DIR = get_data_dir()\n",
    "        self.MAP_FILE_NAME = \"priority_GalPlane_footprint_map_data_sum.fits\"\n",
    "        self.load_maps()\n",
    "\n",
    "        super().__init__(col=cols, metricName=metricName, metricDtype=\"object\")\n",
    "\n",
    "    def load_maps(self):\n",
    "        self.NSIDE = 64\n",
    "        self.NPIX = hp.nside2npix(self.NSIDE)\n",
    "        file_path = os.path.join(\n",
    "            self.MAP_DIR,\n",
    "            \"maf\",\n",
    "            self.MAP_FILE_NAME,\n",
    "            )\n",
    "        with fits.open(file_path) as hdul:\n",
    "            self.map_data_table = hdul[1].data\n",
    "\n",
    "    def run(self, dataSlice, slicePoint):\n",
    "        \"\"\"Metric extracts the scientific priority of the given HEALpixel from\n",
    "        the prepared maps of the desired survey footprint for galactic science.\n",
    "        The priority map used has been summed over all filters for the\n",
    "        science case indicated by the kwargs.  This is normalized using the\n",
    "        summed priority for the map combining the priorities of all science\n",
    "        cases.\"\"\"\n",
    "\n",
    "        metric_data = {}\n",
    "\n",
    "        pixPriority = self.map_data_table[self.science_map][slicePoint['sid']]\n",
    "\n",
    "        iObservations = []\n",
    "        for f in self.filters:\n",
    "            idx = list(np.where(dataSlice[self.m5Col] >= self.magCuts[f])[0])\n",
    "            if len(idx) > 0:\n",
    "                iObservations += idx\n",
    "\n",
    "        metric_data['nObservations'] = len(iObservations)\n",
    "        metric_data['priority'] = pixPriority\n",
    "\n",
    "        return metric_data"
   ]
  },
  {
   "cell_type": "code",
   "execution_count": 5,
   "id": "bde11d39",
   "metadata": {},
   "outputs": [],
   "source": [
    "mymetric = galPlaneFootprintMetric(science_map='combined_map')"
   ]
  },
  {
   "cell_type": "markdown",
   "id": "ff9a5be1",
   "metadata": {},
   "source": [
    "Constraints, if any:"
   ]
  },
  {
   "cell_type": "code",
   "execution_count": 6,
   "id": "ecd74bf7",
   "metadata": {},
   "outputs": [],
   "source": [
    "sqlconstraint = None"
   ]
  },
  {
   "cell_type": "markdown",
   "id": "42fac7d7",
   "metadata": {},
   "source": [
    "Construct the metric bundle from the metric, the slicer and the constraints, and add it to a bundle group:"
   ]
  },
  {
   "cell_type": "code",
   "execution_count": 7,
   "id": "58a74fe1",
   "metadata": {},
   "outputs": [],
   "source": [
    "bundle = maf.MetricBundle(mymetric, test_slicer, sqlconstraint, runName=runName)\n",
    "g = maf.MetricBundleGroup({'test_metric': bundle}, opsim_db, outDir='test', resultsDb=None)"
   ]
  },
  {
   "cell_type": "markdown",
   "id": "6608ab3d",
   "metadata": {},
   "source": [
    "Calculate the metric:"
   ]
  },
  {
   "cell_type": "code",
   "execution_count": 8,
   "id": "43aa7605",
   "metadata": {},
   "outputs": [
    {
     "name": "stdout",
     "output_type": "stream",
     "text": [
      "Querying table None with no constraint for columns ['filter', 'fieldRA', 'rotSkyPos', 'fieldDec', 'fiveSigmaDepth'].\n",
      "Found 2086980 visits\n",
      "Running:  ['test_metric']\n",
      "Completed metric generation.\n",
      "Running reduce methods.\n",
      "Running summary statistics.\n",
      "Completed.\n"
     ]
    }
   ],
   "source": [
    "g.runAll()"
   ]
  },
  {
   "cell_type": "code",
   "execution_count": 9,
   "id": "f7c73e90",
   "metadata": {},
   "outputs": [
    {
     "data": {
      "text/plain": [
       "masked_array(data=[{'nObservations': 3293, 'priority': 6.418181e-07}],\n",
       "             mask=[False],\n",
       "       fill_value=-666,\n",
       "            dtype=object)"
      ]
     },
     "execution_count": 9,
     "metadata": {},
     "output_type": "execute_result"
    }
   ],
   "source": [
    "bundle.metricValues"
   ]
  },
  {
   "cell_type": "code",
   "execution_count": null,
   "id": "d59c5065",
   "metadata": {},
   "outputs": [],
   "source": []
  }
 ],
 "metadata": {
  "kernelspec": {
   "display_name": "Python 3 (ipykernel)",
   "language": "python",
   "name": "python3"
  },
  "language_info": {
   "codemirror_mode": {
    "name": "ipython",
    "version": 3
   },
   "file_extension": ".py",
   "mimetype": "text/x-python",
   "name": "python",
   "nbconvert_exporter": "python",
   "pygments_lexer": "ipython3",
   "version": "3.9.7"
  }
 },
 "nbformat": 4,
 "nbformat_minor": 5
}
