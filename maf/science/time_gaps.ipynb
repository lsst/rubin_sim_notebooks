{
 "cells": [
  {
   "cell_type": "markdown",
   "id": "5001eb1b",
   "metadata": {},
   "source": [
    "There are a few different ways to check how well we sample a timescale in MAF. Let's compare `TgapsPercentMetric` and `GapsMetric`"
   ]
  },
  {
   "cell_type": "code",
   "execution_count": 1,
   "id": "73b1a1a5",
   "metadata": {},
   "outputs": [],
   "source": [
    "import numpy as np\n",
    "from rubin_sim.maf import GapsMetric, TgapsPercentMetric\n",
    "import matplotlib.pylab as plt\n",
    "%matplotlib inline"
   ]
  },
  {
   "cell_type": "code",
   "execution_count": 15,
   "id": "359ead57",
   "metadata": {},
   "outputs": [],
   "source": [
    "# get the dtype as expected\n",
    "data = np.zeros(10, dtype=[('observationStartMJD', float)])\n",
    "\n",
    "# Define a set of times\n",
    "data['observationStartMJD'] += np.arange(10)"
   ]
  },
  {
   "cell_type": "code",
   "execution_count": 16,
   "id": "e477809c",
   "metadata": {},
   "outputs": [
    {
     "data": {
      "text/plain": [
       "array([(0.,), (1.,), (2.,), (3.,), (4.,), (5.,), (6.,), (7.,), (8.,),\n",
       "       (9.,)], dtype=[('observationStartMJD', '<f8')])"
      ]
     },
     "execution_count": 16,
     "metadata": {},
     "output_type": "execute_result"
    }
   ],
   "source": [
    "data"
   ]
  },
  {
   "cell_type": "code",
   "execution_count": 17,
   "id": "2eb34c2f",
   "metadata": {},
   "outputs": [],
   "source": [
    "tgp = TgapsPercentMetric(min_time=0.5, max_time=1.)\n",
    "gaps = GapsMetric(time_scale=24.0)"
   ]
  },
  {
   "cell_type": "code",
   "execution_count": 18,
   "id": "83ef58d4",
   "metadata": {},
   "outputs": [
    {
     "data": {
      "text/plain": [
       "100.0"
      ]
     },
     "execution_count": 18,
     "metadata": {},
     "output_type": "execute_result"
    }
   ],
   "source": [
    "tgp.run(data)"
   ]
  },
  {
   "cell_type": "code",
   "execution_count": 19,
   "id": "0682fb4b",
   "metadata": {},
   "outputs": [
    {
     "data": {
      "text/plain": [
       "8"
      ]
     },
     "execution_count": 19,
     "metadata": {},
     "output_type": "execute_result"
    }
   ],
   "source": [
    "gaps.run(data)"
   ]
  },
  {
   "cell_type": "code",
   "execution_count": 20,
   "id": "abf0c21c",
   "metadata": {},
   "outputs": [],
   "source": [
    "# what this is telling us--we are 100% optimized for observing at the 1-day timescale. \n",
    "# And we have observed that timescale 8 times"
   ]
  },
  {
   "cell_type": "code",
   "execution_count": 21,
   "id": "6b1d4bc9",
   "metadata": {},
   "outputs": [],
   "source": [
    "# what happens if we double the number of observations\n",
    "# get the dtype as expected\n",
    "data = np.zeros(20, dtype=[('observationStartMJD', float)])\n",
    "\n",
    "# Define a set of times\n",
    "data['observationStartMJD'] += np.arange(0, 10, 0.5)\n"
   ]
  },
  {
   "cell_type": "code",
   "execution_count": 22,
   "id": "774af744",
   "metadata": {},
   "outputs": [
    {
     "data": {
      "text/plain": [
       "array([(0. ,), (0.5,), (1. ,), (1.5,), (2. ,), (2.5,), (3. ,), (3.5,),\n",
       "       (4. ,), (4.5,), (5. ,), (5.5,), (6. ,), (6.5,), (7. ,), (7.5,),\n",
       "       (8. ,), (8.5,), (9. ,), (9.5,)],\n",
       "      dtype=[('observationStartMJD', '<f8')])"
      ]
     },
     "execution_count": 22,
     "metadata": {},
     "output_type": "execute_result"
    }
   ],
   "source": [
    "data"
   ]
  },
  {
   "cell_type": "code",
   "execution_count": 23,
   "id": "ab37095b",
   "metadata": {},
   "outputs": [
    {
     "data": {
      "text/plain": [
       "100.0"
      ]
     },
     "execution_count": 23,
     "metadata": {},
     "output_type": "execute_result"
    }
   ],
   "source": [
    "tgp.run(data)"
   ]
  },
  {
   "cell_type": "code",
   "execution_count": 24,
   "id": "67816d51",
   "metadata": {},
   "outputs": [
    {
     "data": {
      "text/plain": [
       "17"
      ]
     },
     "execution_count": 24,
     "metadata": {},
     "output_type": "execute_result"
    }
   ],
   "source": [
    "gaps.run(data)"
   ]
  },
  {
   "cell_type": "code",
   "execution_count": 25,
   "id": "81c3ab35",
   "metadata": {},
   "outputs": [],
   "source": [
    "# and again\n",
    "# what happens if we double the number of observations\n",
    "# get the dtype as expected\n",
    "data = np.zeros(40, dtype=[('observationStartMJD', float)])\n",
    "\n",
    "# Define a set of times\n",
    "data['observationStartMJD'] += np.arange(0, 10, 0.25)\n"
   ]
  },
  {
   "cell_type": "code",
   "execution_count": 26,
   "id": "c4dc9d3c",
   "metadata": {},
   "outputs": [
    {
     "data": {
      "text/plain": [
       "0.0"
      ]
     },
     "execution_count": 26,
     "metadata": {},
     "output_type": "execute_result"
    }
   ],
   "source": [
    "tgp.run(data)"
   ]
  },
  {
   "cell_type": "code",
   "execution_count": 27,
   "id": "f9327709",
   "metadata": {},
   "outputs": [
    {
     "data": {
      "text/plain": [
       "18"
      ]
     },
     "execution_count": 27,
     "metadata": {},
     "output_type": "execute_result"
    }
   ],
   "source": [
    "gaps.run(data)"
   ]
  },
  {
   "cell_type": "code",
   "execution_count": 72,
   "id": "cc4182bf",
   "metadata": {},
   "outputs": [],
   "source": [
    "# Let's do 10 days at 1-day cadence, 10 days at 0.5-day cadence\n",
    "\n",
    "# what happens if we double the number of observations\n",
    "# get the dtype as expected\n",
    "data = np.zeros(30, dtype=[('observationStartMJD', float)])\n",
    "\n",
    "# Define a set of times\n",
    "data['observationStartMJD'] += np.concatenate( (np.arange(0, 10, 1), np.arange(10, 20, 0.5)))"
   ]
  },
  {
   "cell_type": "code",
   "execution_count": 73,
   "id": "ede6007f",
   "metadata": {},
   "outputs": [
    {
     "data": {
      "text/plain": [
       "array([( 0. ,), ( 1. ,), ( 2. ,), ( 3. ,), ( 4. ,), ( 5. ,), ( 6. ,),\n",
       "       ( 7. ,), ( 8. ,), ( 9. ,), (10. ,), (10.5,), (11. ,), (11.5,),\n",
       "       (12. ,), (12.5,), (13. ,), (13.5,), (14. ,), (14.5,), (15. ,),\n",
       "       (15.5,), (16. ,), (16.5,), (17. ,), (17.5,), (18. ,), (18.5,),\n",
       "       (19. ,), (19.5,)], dtype=[('observationStartMJD', '<f8')])"
      ]
     },
     "execution_count": 73,
     "metadata": {},
     "output_type": "execute_result"
    }
   ],
   "source": [
    "data"
   ]
  },
  {
   "cell_type": "code",
   "execution_count": 74,
   "id": "f09e00a0",
   "metadata": {},
   "outputs": [
    {
     "data": {
      "text/plain": [
       "100.0"
      ]
     },
     "execution_count": 74,
     "metadata": {},
     "output_type": "execute_result"
    }
   ],
   "source": [
    "tgp.run(data)"
   ]
  },
  {
   "cell_type": "code",
   "execution_count": 75,
   "id": "bcfc7100",
   "metadata": {},
   "outputs": [
    {
     "data": {
      "text/plain": [
       "27"
      ]
     },
     "execution_count": 75,
     "metadata": {},
     "output_type": "execute_result"
    }
   ],
   "source": [
    "gaps.run(data)"
   ]
  },
  {
   "cell_type": "code",
   "execution_count": 78,
   "id": "2f7b90a4",
   "metadata": {},
   "outputs": [],
   "source": [
    "# Let's do 10 days at 1-day cadence, 10 days at 0.25-day cadence\n",
    "\n",
    "# what happens if we double the number of observations\n",
    "# get the dtype as expected\n",
    "data = np.zeros(50, dtype=[('observationStartMJD', float)])\n",
    "\n",
    "# Define a set of times\n",
    "data['observationStartMJD'] += np.concatenate( (np.arange(0, 10, 1), np.arange(10, 20, 0.25)))"
   ]
  },
  {
   "cell_type": "code",
   "execution_count": 79,
   "id": "7f01074f",
   "metadata": {},
   "outputs": [
    {
     "data": {
      "text/plain": [
       "array([( 0.  ,), ( 1.  ,), ( 2.  ,), ( 3.  ,), ( 4.  ,), ( 5.  ,),\n",
       "       ( 6.  ,), ( 7.  ,), ( 8.  ,), ( 9.  ,), (10.  ,), (10.25,),\n",
       "       (10.5 ,), (10.75,), (11.  ,), (11.25,), (11.5 ,), (11.75,),\n",
       "       (12.  ,), (12.25,), (12.5 ,), (12.75,), (13.  ,), (13.25,),\n",
       "       (13.5 ,), (13.75,), (14.  ,), (14.25,), (14.5 ,), (14.75,),\n",
       "       (15.  ,), (15.25,), (15.5 ,), (15.75,), (16.  ,), (16.25,),\n",
       "       (16.5 ,), (16.75,), (17.  ,), (17.25,), (17.5 ,), (17.75,),\n",
       "       (18.  ,), (18.25,), (18.5 ,), (18.75,), (19.  ,), (19.25,),\n",
       "       (19.5 ,), (19.75,)], dtype=[('observationStartMJD', '<f8')])"
      ]
     },
     "execution_count": 79,
     "metadata": {},
     "output_type": "execute_result"
    }
   ],
   "source": [
    "data"
   ]
  },
  {
   "cell_type": "code",
   "execution_count": 80,
   "id": "5073bd1b",
   "metadata": {},
   "outputs": [
    {
     "data": {
      "text/plain": [
       "20.408163265306122"
      ]
     },
     "execution_count": 80,
     "metadata": {},
     "output_type": "execute_result"
    }
   ],
   "source": [
    "tgp.run(data)"
   ]
  },
  {
   "cell_type": "code",
   "execution_count": 81,
   "id": "64a056e5",
   "metadata": {},
   "outputs": [
    {
     "data": {
      "text/plain": [
       "28"
      ]
     },
     "execution_count": 81,
     "metadata": {},
     "output_type": "execute_result"
    }
   ],
   "source": [
    "gaps.run(data)"
   ]
  },
  {
   "cell_type": "code",
   "execution_count": null,
   "id": "8e186545",
   "metadata": {},
   "outputs": [],
   "source": []
  }
 ],
 "metadata": {
  "kernelspec": {
   "display_name": "Python 3 (ipykernel)",
   "language": "python",
   "name": "python3"
  },
  "language_info": {
   "codemirror_mode": {
    "name": "ipython",
    "version": 3
   },
   "file_extension": ".py",
   "mimetype": "text/x-python",
   "name": "python",
   "nbconvert_exporter": "python",
   "pygments_lexer": "ipython3",
   "version": "3.11.3"
  }
 },
 "nbformat": 4,
 "nbformat_minor": 5
}
