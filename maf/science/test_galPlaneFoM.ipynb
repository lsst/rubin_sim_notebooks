{
 "cells": [
  {
   "cell_type": "markdown",
   "id": "df6e8bc5",
   "metadata": {},
   "source": [
    "# Test Code for the Galactic Plane Figure of Merit"
   ]
  },
  {
   "cell_type": "markdown",
   "id": "8c27fc6e",
   "metadata": {},
   "source": [
    "Code adapted from an example by Lynne Jones"
   ]
  },
  {
   "cell_type": "code",
   "execution_count": 1,
   "id": "39c082d0",
   "metadata": {},
   "outputs": [],
   "source": [
    "import os\n",
    "import numpy as np\n",
    "import pandas as pd\n",
    "import matplotlib.pyplot as plt\n",
    "%matplotlib inline\n",
    "import rubin_sim.maf as maf\n",
    "\n",
    "import galPlaneFootprintMetric, galPlaneTimePerFilterMetric, transientTimeSamplingMetric"
   ]
  },
  {
   "cell_type": "markdown",
   "id": "f0cc4ce3",
   "metadata": {},
   "source": [
    "Load the baseline v2.0 as a test case OpSim:"
   ]
  },
  {
   "cell_type": "code",
   "execution_count": 2,
   "id": "b928dc29",
   "metadata": {},
   "outputs": [
    {
     "name": "stdout",
     "output_type": "stream",
     "text": [
      "/Users/rstreet1/rubin_sim_data/sim_baseline/baseline_v2.0_10yrs.db\n",
      "baseline_v2.0_10yrs\n"
     ]
    }
   ],
   "source": [
    "from rubin_sim.data import get_baseline\n",
    "\n",
    "opsim_fname = get_baseline()\n",
    "print(opsim_fname)\n",
    "\n",
    "runName = os.path.split(opsim_fname)[-1].replace('.db', '')\n",
    "print(runName)\n",
    "opsim_db = maf.OpsimDatabase(opsim_fname)"
   ]
  },
  {
   "cell_type": "markdown",
   "id": "fc4c48d5",
   "metadata": {},
   "source": [
    "Taking an example sky location within the Galactic Bulge:"
   ]
  },
  {
   "cell_type": "code",
   "execution_count": 3,
   "id": "5df2fba0",
   "metadata": {},
   "outputs": [],
   "source": [
    "test_ra = (17.0 + 57.0/60.0 + 34.0/3600.0)*15.0\n",
    "test_dec = (29.0 + 13.0/60.0 + 15.0/3600.0)*-1.0\n",
    "test_slicer = maf.UserPointsSlicer(test_ra, test_dec)"
   ]
  },
  {
   "cell_type": "code",
   "execution_count": 8,
   "id": "b398ceac",
   "metadata": {},
   "outputs": [],
   "source": [
    "class galPlaneFoM(maf.BaseMetric):\n",
    "    \"\"\"Figure of Merit to evaluate the combination of survey footprint, cadence and filter selection for suitability \n",
    "    for Galactic Plane science\"\"\"\n",
    "    \n",
    "    def __init__(self, cols=['fieldRA','fieldDec','filter',\n",
    "                             'observationStartMJD','visitExposureTime','fiveSigmaDepth'],\n",
    "                       metricName='galPlaneFoM',\n",
    "                       **kwargs):\n",
    "        \n",
    "        self.ra_col = 'fieldRA'\n",
    "        self.dec_col = 'fieldDec'\n",
    "        self.m5Col = 'fiveSigmaDepth'\n",
    "        self.filters = ['u','g', 'r', 'i', 'z', 'y']\n",
    "        self.magCuts = {'u': 22.7, 'g': 24.1, 'r': 23.7, 'i': 23.1, 'z': 22.2, 'y': 21.4}\n",
    "        self.mjdCol = 'observationStartMJD'\n",
    "        self.exptCol = 'visitExposureTime'\n",
    "        \n",
    "        super().__init__(col=cols, metricName=metricName)\n",
    "\n",
    "\n",
    "    def run(self, dataSlice, slicePoint=None):\n",
    "\n",
    "        # Survey footprint metric produces a single value\n",
    "        footprint_metric = galPlaneFootprintMetric.galPlaneFootprintMetric()\n",
    "        footprint_metric_data = footprint_metric.run(dataSlice, slicePoint)\n",
    "        \n",
    "        # Cadence metric produces a set of four values for four time categories\n",
    "        cadence_metric = transientTimeSamplingMetric.transientTimeSamplingMetric()\n",
    "        cadence_metric_data = cadence_metric.run(dataSlice, slicePoint)\n",
    "        \n",
    "        # Filter selection metric produces a single value\n",
    "        filters_metric = galPlaneTimePerFilterMetric.galPlaneTimePerFilter()\n",
    "        filters_metric_data = filters_metric.run(dataSlice, slicePoint)\n",
    "        \n",
    "        # Note: Consider summing cadence_metric_values over all variability categories\n",
    "        # to produce a single FoM value?\n",
    "        fom = 0.0\n",
    "        for t_metric in cadence_metric_data.metric_values:\n",
    "            fom += footprint_metric_data.data * t_metric * filters_metric_data.data\n",
    "\n",
    "        return fom\n"
   ]
  },
  {
   "cell_type": "code",
   "execution_count": 9,
   "id": "bde11d39",
   "metadata": {},
   "outputs": [
    {
     "name": "stdout",
     "output_type": "stream",
     "text": [
      "Querying database observations with no constraint for columns ['rotSkyPos', 'observationStartMJD', 'fiveSigmaDepth', 'fieldRA', 'fieldDec', 'visitExposureTime', 'filter'].\n",
      "Found 2086980 visits\n",
      "Running:  ['test_metric']\n",
      "Completed metric generation.\n",
      "Running reduce methods.\n",
      "Running summary statistics.\n",
      "Completed.\n"
     ]
    }
   ],
   "source": [
    "mymetric = galPlaneFoM()\n",
    "sqlconstraint = None\n",
    "bundle = maf.MetricBundle(mymetric, test_slicer, sqlconstraint, runName=runName)\n",
    "g = maf.MetricBundleGroup({'test_metric': bundle}, opsim_db, outDir='test', resultsDb=None)\n",
    "g.runAll()"
   ]
  },
  {
   "cell_type": "code",
   "execution_count": 10,
   "id": "f7c73e90",
   "metadata": {},
   "outputs": [
    {
     "data": {
      "text/plain": [
       "masked_array(data=[0.0635873456554306],\n",
       "             mask=[False],\n",
       "       fill_value=-666.0)"
      ]
     },
     "execution_count": 10,
     "metadata": {},
     "output_type": "execute_result"
    }
   ],
   "source": [
    "bundle.metricValues"
   ]
  },
  {
   "cell_type": "code",
   "execution_count": null,
   "id": "25c2071c",
   "metadata": {},
   "outputs": [],
   "source": []
  },
  {
   "cell_type": "code",
   "execution_count": null,
   "id": "849b1fb1",
   "metadata": {},
   "outputs": [],
   "source": []
  }
 ],
 "metadata": {
  "kernelspec": {
   "display_name": "Python 3 (ipykernel)",
   "language": "python",
   "name": "python3"
  },
  "language_info": {
   "codemirror_mode": {
    "name": "ipython",
    "version": 3
   },
   "file_extension": ".py",
   "mimetype": "text/x-python",
   "name": "python",
   "nbconvert_exporter": "python",
   "pygments_lexer": "ipython3",
   "version": "3.9.7"
  }
 },
 "nbformat": 4,
 "nbformat_minor": 5
}
